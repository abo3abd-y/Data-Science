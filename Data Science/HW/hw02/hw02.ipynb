{
 "cells": [
  {
   "cell_type": "code",
   "execution_count": 2,
   "id": "e7930ada",
   "metadata": {
    "deletable": false,
    "editable": false
   },
   "outputs": [],
   "source": [
    "# Initialize Otter\n",
    "import otter\n",
    "grader = otter.Notebook(\"hw02.ipynb\")"
   ]
  },
  {
   "cell_type": "markdown",
   "id": "a552e640",
   "metadata": {},
   "source": [
    "### Importing Libraries and Magic Commands\n",
    "\n",
    "In CSCI 3022, we will be using common Python libraries to help us process data. By convention, we import all libraries at the very top of the notebook. There are also a set of standard aliases that are used to shorten the library names. Below are some of the libraries that you may encounter throughout this assignment, along with their respective aliases."
   ]
  },
  {
   "cell_type": "code",
   "execution_count": 3,
   "id": "721febdf",
   "metadata": {},
   "outputs": [],
   "source": [
    "import numpy as np\n",
    "import pandas as pd\n",
    "import matplotlib.pyplot as plt\n",
    "import plotly.express as px\n",
    "from csci3022_utils import *\n"
   ]
  },
  {
   "cell_type": "markdown",
   "id": "380021a2",
   "metadata": {},
   "source": [
    "<a id='verytop'></a>\n",
    "\n",
    "# Homework 2: Prerequisite Review Part 2 & Exploratory Data Analysis\n",
    "\n",
    "## Due Date: ~~Thursday, Jan 25th,~~ Friday, Jan 26th 11:59 PM on Gradescope\n",
    "\n",
    "\n",
    "### Detailed Submission Instructions Are Provided at the end of this Notebook\n",
    "\n",
    "\n",
    "\n",
    "\n",
    "\n",
    "\n",
    "\n",
    "## Collaboration Policy\n",
    "\n",
    "Data science is a collaborative activity.  However a key step in learning and retention is **creating solutions on your own.**  \n",
    "\n",
    "Below are examples of acceptable vs unacceptable use of resources and collaboration when doing HW assignments in CSCI 3022.\n",
    "\n",
    "\n",
    "The following would be some **examples of cheating** when working on HW assignments in CSCI 3022.  Any of these constitute a **violation of the course's collaboration policy and will result in an F in the course and a trip to the honor council**.   \n",
    "\n",
    "\n",
    " - Consulting web pages that may have a solution to a given homework problem or one similar is cheating.  However, consulting the class notes, and web pages that explain the material taught in class but do NOT show a solution to the homework problem in question are permissible to view.  Clearly, there's a fuzzy line here between a valid use of resources and cheating. To avoid this line, one should merely consult the course notes, the course textbook, and references that contain syntax and/or formulas.\n",
    " - Copying a segment of code or math solution of three lines or more from another student from a printout, handwritten copy, or by looking at their computer screen \n",
    " - Allowing another student to copy a segment of your code or math solution of three lines or more\n",
    " - Taking a copy of another student's work (or a solution found online) and then editing that copy\n",
    " - Reading someone else’s solution to a problem on the HW before writing your own.\n",
    " - Asking someone to write all or part of a program or solution for you.\n",
    " - Asking someone else for the code necessary to fix the error for you, other than for simple syntactical errors\n",
    " \n",
    "\n",
    "\n",
    "On the other hand, the following are some **examples of things which would NOT usually be\n",
    "considered to be cheating**:\n",
    " - Working on a HW problem on your own first and then discussing with a classmate a particular part in the problem solution where you are stuck.  After clarifying any questions you should then continue to write your solution independently.\n",
    " - Asking someone (or searching online) how a particular construct in the language works.\n",
    " - Asking someone (or searching online) how to formulate a particular construct in the language.\n",
    " - Asking someone for help in finding an error in your program.  \n",
    " - Asking someone why a particular construct does not work as you expected in a given program.\n",
    "   \n",
    "\n",
    "To test whether you are truly doing your own work and retaining what you've learned you should be able to easily reproduce from scratch and explain a HW solution that was your own when asked in office hours by a TA/Instructor or on a quiz/exam.   \n",
    "\n",
    "\n",
    "If you have difficulty in formulating the general solution to a problem on your own, or\n",
    "you have difficulty in translating that general solution into a program, it is advisable to see\n",
    "your instructor or teaching assistant rather than another student as this situation can easily\n",
    "lead to a, possibly inadvertent, cheating situation.\n",
    "\n",
    "We are here to help!  Visit HW Hours and/or post questions on Piazza!\n",
    "\n"
   ]
  },
  {
   "cell_type": "markdown",
   "id": "24b45ac0",
   "metadata": {},
   "source": [
    "## Grading\n",
    "Grading is broken down into autograded answers and manually graded answers. \n",
    "\n",
    "For autograded answers, the results of your code are compared to provided and/or hidden tests.\n",
    "\n",
    "For manually graded answers you must show and explain all steps.  Graders will evaluate how well you answered the question and/or fulfilled the requirements of the question.\n",
    "\n",
    "\n",
    "### Score breakdown\n",
    "\n",
    "\n",
    "\n",
    "Question | Points | Grading Type\n",
    "--- | --- | ---\n",
    "Question 1a | 3 | autograded\n",
    "Question 1b | 4 | manual\n",
    "Question 1c | 3 | manual\n",
    "Question 2a | 4 | manual\n",
    "Question 2b | 6 | manual\n",
    "Question 3a | 3 | auto\n",
    "Question 3b | 3 | manual\n",
    "Question 3c | 1 | autograded\n",
    "Question 3d| 4 | manual\n",
    "Question 4a | 8 | autograded and manual\n",
    "Question 4b | 4 | autograded\n",
    "Question 4c | 4 | autograded\n",
    "Question 4d | 3 | manual\n",
    "|Total | 50"
   ]
  },
  {
   "cell_type": "markdown",
   "id": "cc428220-4554-48fc-9039-eefdba21a16c",
   "metadata": {},
   "source": [
    "## Recommended Readings for this HW:\n",
    "\n",
    " - [Prerequisite Review Resources posted on the  Modules in Canvas](https://canvas.colorado.edu/courses/101142/pages/prerequisite-review-calculus-and-discrete-structures?module_item_id=5144193) \n",
    " - [Learning Data Science Chapter 6 - All (Subsetting, Aggregating, Joining, Transforming)](https://learningds.org/ch/06/pandas_intro.html)\n",
    " - [Learning Data Science Section 8.6 (Table Shape and Granularity)](https://learningds.org/ch/08/files_granularity.html#table-shape-and-granularity)\n",
    " \n"
   ]
  },
  {
   "cell_type": "markdown",
   "id": "51fc4ee3",
   "metadata": {},
   "source": [
    "<a id='top'></a>\n",
    "---\n",
    "**Shortcuts:**   [Question 2](#p2) | [Question 3](#p3) | [Question 4](#p4) | \n",
    "---"
   ]
  },
  {
   "cell_type": "markdown",
   "id": "c0eec3bc",
   "metadata": {},
   "source": [
    "<hr style=\"border: 5px solid #003262;\" />\n",
    "<hr style=\"border: 1px solid #fdb515;\" />\n",
    "\n"
   ]
  },
  {
   "cell_type": "markdown",
   "id": "2e476e17",
   "metadata": {},
   "source": [
    "\n",
    "## <span style='color:Red'>  Question 1: Prerequisites:  Discrete Structures Review ##\n",
    "\n",
    "You will need a solid understanding of the following probability concepts from Discrete Structures to succeed in this course. \n",
    "\n",
    "See the [Prerequisite Review Resources](https://canvas.colorado.edu/courses/101142/pages/prerequisite-review-calculus-and-discrete-structures?module_item_id=5144193) posted on Canvas if you need to review any of these key concepts.\n"
   ]
  },
  {
   "cell_type": "markdown",
   "id": "d4fa1cca",
   "metadata": {
    "deletable": false,
    "editable": false
   },
   "source": [
    "### Question 1a) ####  \n",
    "\n",
    "A coin is flipped 10 times.  How many possible outcomes have exactly 3 heads?  \n",
    "\n",
    "Use code to enter your answer in the cell below.  "
   ]
  },
  {
   "cell_type": "code",
   "execution_count": 4,
   "id": "d1feefa4",
   "metadata": {
    "tags": []
   },
   "outputs": [
    {
     "data": {
      "text/plain": [
       "120"
      ]
     },
     "execution_count": 4,
     "metadata": {},
     "output_type": "execute_result"
    }
   ],
   "source": [
    "q1a_answer = 120 #combination with repition not allowed because we are basically saying that order does not really matter here in this question and repitiion is not allowed either\n",
    "\n",
    "#since it is a coin flip and we are \"picking\" anything and putting it back\n",
    "q1a_answer"
   ]
  },
  {
   "cell_type": "code",
   "execution_count": 5,
   "id": "6232f220",
   "metadata": {
    "deletable": false,
    "editable": false
   },
   "outputs": [
    {
     "data": {
      "text/html": [
       "<p><strong><pre style='display: inline;'>q1a</pre></strong> passed! 🎉</p>"
      ],
      "text/plain": [
       "q1a results: All test cases passed!"
      ]
     },
     "execution_count": 5,
     "metadata": {},
     "output_type": "execute_result"
    }
   ],
   "source": [
    "grader.check(\"q1a\")"
   ]
  },
  {
   "cell_type": "markdown",
   "id": "1ab22f02",
   "metadata": {
    "deletable": false,
    "editable": false
   },
   "source": [
    "<!-- BEGIN QUESTION -->\n",
    "\n",
    "#### Question 1b) ####  \n",
    "\n",
    "What is the probability that if I roll two 6-sided dice they add up to **at most** $9$? Use LaTeX (not code) in the cell directly below to show all of your steps and fully justify your answer.\n"
   ]
  },
  {
   "cell_type": "markdown",
   "id": "22862a47",
   "metadata": {},
   "source": [
    "## Answer\n",
    "\n",
    "\n",
    "\n",
    "### **Part 1: finding how many ways we can combine two results from the dice**\n",
    "\n",
    "First of all, we need to understand how many ways we can combine those two rolls. Since ordering matters here since, for example, rolling 4 as the first dice and 2 on the second dice is different than rolling 2 on the first dice and 4 on the second dice. Thus, we are dealing with **permutations**.\n",
    "\n",
    "Next, we need to know whether repitition is allowed or not. Since we can pick, for example, 2 on the first dice and 2 on the second dice as allowed, then **repitition is allowed**.\n",
    "\n",
    "Therefore, we can say that we are dealing with permutations with repitition allowed. Thus, there are **$6^2 = 36$** ways to roll the two dices.\n",
    "\n",
    "\n",
    "### **Part 2: finding how many ways we can get the dices' sum equal to at most 9**\n",
    "\n",
    "Here, we can count those values individually. In the code below, when I write $(x_1,x_2)$, this just means that $x_1$ is the outcome of the first dice while $x_2$ is the outcome of the second dice. Thus, these are the ways we can roll the two dices where the sum of their values are less than or equal to 9:\n",
    "\n",
    "(1,1), (1,2), (1,3), (1,4), (1,5), (1,6)\n",
    "\n",
    "(2,1), (2,2), (2,3), (2,4), (2,5), (2,6)\n",
    "\n",
    "(3,1), (3,2), (3,3), (3,4), (3,5), (3,6)\n",
    "\n",
    "(4,1), (4,2), (4,3), (4,4), (4,5)\n",
    "\n",
    "(5,1), (5,2), (5,3), (5,4)\n",
    "\n",
    "(6,1), (6,2), (6,3)\n",
    "\n",
    "Thus, from the above list, there are $30$ ways we can arrange the dices so that we can add them up to $9$.\n",
    "\n",
    "\n",
    "\n",
    "### **Part 3: Dividing the above two values together**\n",
    "\n",
    "Now, we just divide 30 over 36 to get the probability that if I roll two 6-sided dice they add up to **at most** $9$ : $$\\frac{30}{36}$$\n",
    "\n"
   ]
  },
  {
   "cell_type": "markdown",
   "id": "a0d38f42-6d27-4efa-9a08-5e417d264935",
   "metadata": {
    "deletable": false,
    "editable": false
   },
   "source": [
    "<!-- END QUESTION -->\n",
    "\n",
    "1b Answer Check).  To check your final answer to 1b, enter the answer you came up with (just the number) in the cell below. Note that this is just a built-in public test so you can check your work and determine if you are on the right track.  To receive credit on this problem you must show all steps in part 1b above using LaTeX and fully justifying your answer using correct mathematical notation.  "
   ]
  },
  {
   "cell_type": "code",
   "execution_count": 6,
   "id": "6009357b",
   "metadata": {
    "tags": []
   },
   "outputs": [
    {
     "name": "stdout",
     "output_type": "stream",
     "text": [
      "0.8333333333333334\n"
     ]
    }
   ],
   "source": [
    "q1b_answer = 30/ 36 \n",
    "\n",
    "#6 6 6 5 4 3\n",
    "\n",
    "print(q1b_answer)"
   ]
  },
  {
   "cell_type": "code",
   "execution_count": 7,
   "id": "43ee17fa",
   "metadata": {
    "deletable": false,
    "editable": false
   },
   "outputs": [
    {
     "data": {
      "text/html": [
       "<p><strong><pre style='display: inline;'>q1bcheck</pre></strong> passed! 🌈</p>"
      ],
      "text/plain": [
       "q1bcheck results: All test cases passed!"
      ]
     },
     "execution_count": 7,
     "metadata": {},
     "output_type": "execute_result"
    }
   ],
   "source": [
    "grader.check(\"q1bcheck\")"
   ]
  },
  {
   "cell_type": "markdown",
   "id": "5d9cc266",
   "metadata": {
    "deletable": false,
    "editable": false
   },
   "source": [
    "<!-- BEGIN QUESTION -->\n",
    "\n",
    "#### Question 1c) #### \n",
    "\n",
    "Suppose you uncharacteristically show up to a quiz completely unprepared.  The quiz has 10 questions, each with 5 multiple choice options. You decide to guess each answer in a completely random way.  What is the probability that you get exactly 3 questions correct?  Use Markdown and LaTeX (not code) in the cell directly below to show all of your steps and fully justify your answer. \n"
   ]
  },
  {
   "cell_type": "markdown",
   "id": "b0030834",
   "metadata": {},
   "source": [
    "### **Part 1: Finding what method we can use to solve this problem**\n",
    "\n",
    "Since we are dealing with only two values: either you get the answer correct or you do not, we will be using the Bernoulli distribution equation in order to calculate this probability.\n",
    "\n",
    "### **Part 2: Using the Bernoulli distribution equation**\n",
    "\n",
    "Now, we start our calculations. First, we need to find our $p$ value which could be found easily. Since there is four incorrect answers out of the 5 multiple choice questions, the probability that you will answer a question incorrectly  is $p = \\frac{4}{5}$, which means that the probability that you will get the answer correctly (if you guess ofcourse) is: $1 -p = \\frac{1}{5}.$\n",
    "\n",
    "Now that we have our $p$ value, and since we know our $k$ in this case ($k = 7$ since we are getting 7 incorrect questions and 3 correct answers), we can do the following:\n",
    "$$\n",
    "\\begin{align*}\n",
    "    P(x)  &= \\binom{n}{x} \\cdot p^x (1-p)^{n - x} && \\text{Initial equation} \\\\\n",
    "    &= \\binom{10}{7} \\cdot (\\frac{4}{5}) ^{7} \\cdot (\\frac{1}{5})^{3} && \\text{Plugging in the values with $x = 7$ and $p = \\frac{4}{5}$ and $n = 10$ (total number of questions)} \\\\\n",
    "    &= \\frac{10!}{7! \\cdot (3!)} \\cdot (\\frac{4}{5}) ^{7} \\cdot (\\frac{1}{5})^{3} && \\text{simplify} \\\\\n",
    "    &= \\frac{8 \\cdot 9 \\cdot 10}{3!} \\cdot (\\frac{4}{5}) ^{7} \\cdot (\\frac{1}{5})^{3} && \\text{simplify} \\\\\n",
    "    &= 0.2013265900 ... && \\text{Final Answer}\n",
    "\\end{align*}\n",
    "$$\n",
    "\n",
    "Therefore, the probability that you will get 3 correct answers out of the 10 multiple-choice questions with 5 options each is $0.2013265900 ...$\n",
    "\n",
    "\n"
   ]
  },
  {
   "cell_type": "markdown",
   "id": "1cad4881",
   "metadata": {
    "deletable": false,
    "editable": false
   },
   "source": [
    "<!-- END QUESTION -->\n",
    "\n",
    "1c Final Answer Check).  To check your final answer to 1c, enter the final answer you came up with in the cell below. Do not round your answer. Note that this is just a built-in public test so you can check your work and determine if you are on the right track.  To receive credit on this problem you must show all steps in part 1c above using LaTeX and fully justifying your answer using correct mathematical notation.  "
   ]
  },
  {
   "cell_type": "code",
   "execution_count": 8,
   "id": "e60c132f",
   "metadata": {
    "tags": []
   },
   "outputs": [
    {
     "name": "stdout",
     "output_type": "stream",
     "text": [
      "0.2013265920000001\n"
     ]
    }
   ],
   "source": [
    "q1c_answer = ((4/5)**(7)) * ((1/5)**(3)) * ((8 * 9 * 10)/6)  #ways of getting 3 correct answers / ways of answering the questions\n",
    "\n",
    "#i think the 120 is correct but i also  think that the denominator is not correct because i have to do a summation of all values\n",
    "print (q1c_answer)"
   ]
  },
  {
   "cell_type": "code",
   "execution_count": 9,
   "id": "147122e0",
   "metadata": {
    "deletable": false,
    "editable": false
   },
   "outputs": [
    {
     "data": {
      "text/html": [
       "<p><strong><pre style='display: inline;'>q1ccheck</pre></strong> passed! 🌟</p>"
      ],
      "text/plain": [
       "q1ccheck results: All test cases passed!"
      ]
     },
     "execution_count": 9,
     "metadata": {},
     "output_type": "execute_result"
    }
   ],
   "source": [
    "grader.check(\"q1ccheck\")"
   ]
  },
  {
   "cell_type": "markdown",
   "id": "151d4cdc",
   "metadata": {},
   "source": [
    "[Back to top](#top)\n",
    "\n",
    "<a id='p2'></a>\n",
    "\n",
    "## <span style='color:Red'>  Question 2: Prerequisites: Calculus Review ##\n",
    "\n",
    "You will need a solid understanding of the following concepts from Calculus 1 and 2 to succeed in this course. See the [Prerequisite Review Resources](https://canvas.colorado.edu/courses/101142/pages/prerequisite-review-calculus-and-discrete-structures?module_item_id=5144193) posted on Canvas if you need to review any of these key concepts.\n",
    "\n",
    "\n",
    "### Preliminary: Sums ###\n",
    "\n",
    "Here's a recap of some basic algebra written in sigma notation. The facts are all just applications of the ordinary associative and distributive properties of addition and multiplication, written compactly and without the possibly ambiguous \"...\". But if you are ever unsure of whether you're working correctly with a sum, you can always try writing $\\sum_{i=1}^n a_i$ as $a_1 + a_2 + \\cdots + a_n$ and see if that helps.\n",
    "\n",
    "- You can use any reasonable notation for the index over which you are summing, just as in Python you can use any reasonable name in `for name in list`. Thus $\\sum_{i=1}^n a_i = \\sum_{k=1}^n a_k$.\n",
    "- $\\sum_{i=1}^n (a_i + b_i) = \\sum_{i=1}^n a_i + \\sum_{i=1}^n b_i$\n",
    "- $\\sum_{i=1}^n d = nd$\n",
    "- $\\sum_{i=1}^n (ca_i + d) = c\\sum_{i=1}^n a_i + nd$\n"
   ]
  },
  {
   "cell_type": "markdown",
   "id": "0b918cef",
   "metadata": {
    "deletable": false,
    "editable": false
   },
   "source": [
    "<!-- BEGIN QUESTION -->\n",
    "\n",
    "### Question 2a) #### \n",
    "\n",
    "We commonly use sigma notation to compactly write the definition of the arithmetic mean (commonly known as the average):\n",
    "\n",
    "$$\\bar{x} = \\frac{1}{n}\\left(x_1+x_2+ ... + x_n \\right) = \\frac{1}{n}\\sum_{i=1}^n x_i$$\n",
    "\n",
    "\n",
    "\n",
    "The $i$th *deviation from average* is the difference $x_i - \\bar{x}$. Prove that the sum of all these deviations is 0 that is, prove that $\\sum_{i=1}^n (x_i - \\bar{x}) = 0$ (write your full solution in the box directly below showing all steps and using LaTeX).\n"
   ]
  },
  {
   "cell_type": "markdown",
   "id": "0d4d1bc8",
   "metadata": {},
   "source": [
    "First, we will start with the equation written above and then we will move on from there:\n",
    "\n",
    "$$\n",
    "\\begin{align*}\n",
    "    \\sum_{i=1}^n (x_i - \\bar{x})  &=  \\sum_{i=1}^n (x_i) - \\sum_{i=1}^n (\\bar{x}) && \\text{Expanding the summation} \\\\\n",
    "    &= n\\bar{x} - n\\bar{x} && \\text{Since $\\bar{x} = \\frac{1}{n}\\sum_{i=1}^n x_i$ or $n\\bar{x} = \\sum_{i=1}^n x_i$ and for the second part: $\\sum_{i=1}^n d = nd$ for any constant $d$ } \\\\\n",
    "    &= 0 && \\text{simplify} \n",
    "\\end{align*}\n",
    "$$\n",
    "\n",
    "Thus, we have shown that $\\sum_{i=1}^n (x_i - \\bar{x}) = 0$."
   ]
  },
  {
   "cell_type": "markdown",
   "id": "06fe4dcc",
   "metadata": {
    "deletable": false,
    "editable": false
   },
   "source": [
    "<!-- END QUESTION -->\n",
    "\n",
    "<!-- BEGIN QUESTION -->\n",
    "\n",
    "### Question 2b) ####  \n",
    "\n",
    "Let $x_1, x_2, \\ldots, x_n$ be a list of numbers. You can think of each index $i$ as the label of a household, and the entry $x_i$ as the annual income of Household $i$. \n",
    "\n",
    "Consider the function  $$f(c) = \\frac{1}{n} \\sum_{i=1}^n (x_i-c)^2$$\n",
    "\n",
    "\n",
    "In this scenario, suppose that our data points $x_1, x_2, \\ldots, x_n$ are fixed and that $c$ is the only variable.\n",
    "\n",
    "Using calculus, determine the value of $c$ that minimizes $f(c)$.  You must use calculus to justify that this is indeed a minimum, and not a maximum.\n"
   ]
  },
  {
   "cell_type": "markdown",
   "id": "2c724987",
   "metadata": {},
   "source": [
    "## **First step: What this means**\n",
    "\n",
    "First, we need to realize that in order to find value $c$ that will minimize $f(c)$, we need to realize that the derivative of $f(c)$ and setting it to zero will give us the maximum/minimum point of the graph: $$f'(c) = 0$$\n",
    "\n",
    "## **Second step: Solving for $c$ in $f'(c) = 0$:**\n",
    "\n",
    "First, we need to find the derivative of $f(c)$ and setting it to zero:\n",
    "\n",
    "$$\n",
    "\\begin{align*}\n",
    "    f(c)' &= \\frac{dy}{dc}(\\frac{1}{n} \\sum_{i=1}^n (x_i-c)^2) && \\text{Initialization} \\\\\n",
    "    &= \\frac{dy}{dc}(\\frac{1}{n} \\sum_{i=1}^n (x_i^2 - 2x_ic + c^2)) && \\text{Expanding} \\\\\n",
    "    &=  \\frac{- 2}{n}\\sum_{i=1}^n x_ic + \\frac{1}{n}\\sum_{i=1}^n 2c && \\text{Finding the derivative} \\\\\n",
    "    &=  \\frac{- 2}{n}\\sum_{i=1}^n x_i + \\frac{1}{n} \\cdot 2cn && \\text{Continuing finding the derivative and evaluating the second summation} \\\\\n",
    "    &=  -2\\bar{x} + \\frac{1}{n} \\cdot 2cn && \\text{Evaluating the first summation. Note: $\\bar{x} = \\frac{1}{n}\\left(x_1+x_2+ ... + x_n \\right) = \\frac{1}{n}\\sum_{i=1}^n x_i$ where $\\bar{x}$ is the average} \\\\\n",
    "     &=  -2\\bar{x} + 2c = 0 && \\text{Simplifying and setting the derivative to zero} \\\\\n",
    "\\end{align*}\n",
    "$$\n",
    "\n",
    "Now, let's solve for $c$:\n",
    "\n",
    "$$\n",
    "-2\\bar{x} + 2c = 0\n",
    "$$\n",
    "\n",
    "$$\n",
    "2c = 2\\bar{x}\n",
    "$$\n",
    "\n",
    "$$\n",
    "c = \\bar{x}\n",
    "$$\n",
    "\n",
    "This means that the value that minimizes $c$ is the average of the household income. We need to verify that this point is indeed the minimum point and not the maximum.\n",
    "\n",
    "$$f'(c) = -2\\bar{x} + 2c$$\n",
    "\n",
    "To prove that this is indeed a minimum, we need to verify that the derivative before $c = \\bar{x}$ is negative and the derivative after $c = \\bar{x}$ is positive. This is because that a minimum point always have the derivative right before the point being negative derivative and the derivative right being after the point is positive. Assuming that $\\bar{x}$ is positive, let's pick a number that is less than that, say $c = -1$:\n",
    "\n",
    "$$f'(-1) = -2\\bar{x} -2$$\n",
    "\n",
    "Thus, we have shown that the derivative before $c = \\bar{x}$. Let's show that the derivative after $c = \\bar{x}$ is positive. Let's pick $c = \\bar{x} + 1$ since it is bigger than $c = \\bar{x}$:\n",
    "\n",
    "$$f'(\\bar{x} + 1) = -2\\bar{x} +2(\\bar{x} + 1)$$\n",
    "\n",
    "$$f'(\\bar{x} + 1) = -2\\bar{x} + 2\\bar{x} + 2$$\n",
    "\n",
    "$$f'(\\bar{x} + 1) =  2$$\n",
    "\n",
    "Thus, we have shown that the derivative after $c = \\bar{x}$ is positive. Since the derivative before $c = \\bar{x}$ is negative and after it being positive, then it is verified that $c = \\bar{x}$ is the value that minimizes $f(c)$ (it is the minimum point)."
   ]
  },
  {
   "cell_type": "markdown",
   "id": "8721ade4",
   "metadata": {
    "deletable": false,
    "editable": false
   },
   "source": [
    "<!-- END QUESTION -->\n",
    "\n",
    "[Back to top](#top)\n",
    "\n",
    "<a id='p3'></a>\n",
    "\n",
    "## <span style='color:Red'>  Question 3).  Applying Those Prereqs:  A Maximum Likelihood Estimate ##"
   ]
  },
  {
   "cell_type": "markdown",
   "id": "62bc076a",
   "metadata": {
    "deletable": false,
    "editable": false
   },
   "source": [
    "In this problem we're going to apply your calculus and discrete math prerequisite knowledge to introduce a data science concept called a maximum likelihood estimate.\n",
    "\n",
    "Data scientists use coin tossing as a visual image for sampling at random with replacement from a binary population.\n",
    "\n",
    "### Question 3a) ####\n",
    "A coin that lands heads with chance 0.7 is tossed six times. What is the chance of the sequence HHHTHT? Assign your answer to the variable `p_HHHTHT`."
   ]
  },
  {
   "cell_type": "code",
   "execution_count": 10,
   "id": "18663714",
   "metadata": {
    "tags": []
   },
   "outputs": [
    {
     "data": {
      "text/plain": [
       "0.021608999999999996"
      ]
     },
     "execution_count": 10,
     "metadata": {},
     "output_type": "execute_result"
    }
   ],
   "source": [
    "p_HHHTHT = ((0.7)**(4)) * ((0.3)**(2))\n",
    "p_HHHTHT"
   ]
  },
  {
   "cell_type": "code",
   "execution_count": 11,
   "id": "710378d8",
   "metadata": {
    "deletable": false,
    "editable": false
   },
   "outputs": [
    {
     "data": {
      "text/html": [
       "<p><strong><pre style='display: inline;'>3a</pre></strong> passed! 🚀</p>"
      ],
      "text/plain": [
       "3a results: All test cases passed!"
      ]
     },
     "execution_count": 11,
     "metadata": {},
     "output_type": "execute_result"
    }
   ],
   "source": [
    "grader.check(\"3a\")"
   ]
  },
  {
   "cell_type": "markdown",
   "id": "6405e77f",
   "metadata": {},
   "source": [
    "### Question 3b) ####\n",
    "I have a coin that lands heads with an unknown probability $p$. \n",
    "\n",
    "Suppose I toss it 10 times and get the sequence TTTHTHHTTH.\n",
    "\n",
    "If you toss this coin 10 times, the chance that you get the sequence above is a function of $p$. That function is called the *likelihood* of the sequence TTTHTHHTTH, so we will call it $L(p)$.\n",
    "\n"
   ]
  },
  {
   "cell_type": "markdown",
   "id": "9387df81",
   "metadata": {
    "deletable": false,
    "editable": false
   },
   "source": [
    "<!-- BEGIN QUESTION -->\n",
    "\n",
    "What is $L(p)$ (i.e. the likelihood) for the sequence TTTHTHHTTH?\n",
    "\n",
    "Enter your answer below by setting the `likelihood` variable equal to the correct function.\n",
    "\n",
    "(For example `likelihood = sin(p)+2p`, althought that is definitely an incorrect answer!)\n",
    "\n",
    "Then run the code below to plot the likelihood function.\n",
    "\n"
   ]
  },
  {
   "cell_type": "code",
   "execution_count": 12,
   "id": "cdcec98f",
   "metadata": {
    "tags": []
   },
   "outputs": [
    {
     "data": {
      "image/png": "[encoded data removed]",
      "text/plain": [
       "<Figure size 640x480 with 1 Axes>"
      ]
     },
     "metadata": {},
     "output_type": "display_data"
    }
   ],
   "source": [
    "#At the top of the notebook we already imported a useful plotting module, matplotlib with alias plt\n",
    "\n",
    "p = np.linspace(0, 1, 100) \n",
    "#This creates an array of 100 p-values equally spaced between 0 and 1\n",
    "\n",
    "likelihood = (p**4) * ((1-p) ** 6)\n",
    "#Define the likelihood function above\n",
    "\n",
    "plt.plot(p, likelihood, lw=2, color='darkblue') \n",
    "#This plots the likelihood function  \n",
    "\n",
    "plt.xlabel('$p$')\n",
    "#This labels the x axis\n",
    "\n",
    "plt.ylabel('$L(p)$')\n",
    "#This labels the y-axis\n",
    "\n",
    "plt.title('Likelihood of TTTHTHHTTH');\n",
    "#This titles the plot"
   ]
  },
  {
   "cell_type": "markdown",
   "id": "75cb7c2f",
   "metadata": {
    "deletable": false,
    "editable": false
   },
   "source": [
    "<!-- END QUESTION -->\n",
    "\n",
    "### Question 3c) ####\n",
    "\n",
    "The value $\\hat{p}$ at which the likelihood function attains its maximum is called the *maximum likelihood estimate* (MLE) of $p$. Among all values of $p$, it is the one that makes the observed data most likely.\n",
    "\n",
    "Using only your plot above, what is the value of $\\hat{p}$?   \n"
   ]
  },
  {
   "cell_type": "code",
   "execution_count": 13,
   "id": "a3b88584",
   "metadata": {
    "tags": []
   },
   "outputs": [],
   "source": [
    "p_hat = 0.4"
   ]
  },
  {
   "cell_type": "code",
   "execution_count": 14,
   "id": "d01db96b",
   "metadata": {
    "deletable": false,
    "editable": false
   },
   "outputs": [
    {
     "data": {
      "text/html": [
       "<p><strong><pre style='display: inline;'>3c</pre></strong> passed! 🚀</p>"
      ],
      "text/plain": [
       "3c results: All test cases passed!"
      ]
     },
     "execution_count": 14,
     "metadata": {},
     "output_type": "execute_result"
    }
   ],
   "source": [
    "grader.check(\"3c\")"
   ]
  },
  {
   "cell_type": "markdown",
   "id": "d9516a5d",
   "metadata": {
    "deletable": false,
    "editable": false
   },
   "source": [
    "<!-- BEGIN QUESTION -->\n",
    "\n",
    "### Question 3d) ####\n",
    "\n",
    "Notice the value you found graphically for $\\hat{p}$ above also intuitively makes sense because it is also the observed proportion of heads in the given sequence TTTHTHHTTH.\n",
    "\n",
    "\n",
    "Let's prove what you observed graphically above.  That is, let's use calculus to find $\\hat{p}$.  \n",
    "\n",
    "But **wait before you start trying to find the value $p$ where $L'(p)=0$ (trust us, the algebra is not pretty...)**\n",
    "\n",
    "USEFUL TIP: \n",
    "The value $\\hat{p}$ at which the function $L(p)$ attains its maximum is the same as the value at which the function $\\ln(L(p))$ attains its maximum. \n",
    "\n",
    "This tip is hugely important in data science because many probabilities are products and the natural log function `ln` function turns products into sums.  It's **much simpler to take derivatives of a sum** than a product.\n",
    "\n",
    "\n",
    "Thus, to find the value $p$ where $L'(p)=0$: \n",
    " - Take the natural log `ln` of L(p)\n",
    " - Use properties of logs to rewrite products in `ln(L(p))` as sums\n",
    " - Take the derivative of this rewritten version of `ln(L(p))`\n",
    " - Solve `ln(L(p))=0` for p\n",
    " - You should get the same answer that you found graphically above.\n",
    "\n",
    "You don't have to check that the value you've found produces a max and not a min – we'll spare you that step.\n",
    "\n",
    "Show all steps in the cell below using Markdown and LaTeX\n",
    "\n",
    "\n",
    "\n"
   ]
  },
  {
   "cell_type": "markdown",
   "id": "27cf9e8f",
   "metadata": {},
   "source": [
    "## **Solution:** \n",
    "\n",
    "From the above information, it is said that $L'(p) = \\frac{dy}{dp} ln(L(P)) = 0$\n",
    "\n",
    "Thus, let's begin by taking the natural log of the function:\n",
    "\n",
    "$$\n",
    "\\begin{align*}\n",
    "    ln(L(p))  &=  ln((p^4) \\cdot (1-p) ^ 6) && \\text{Expanding} \\\\\n",
    "    &= ln(p^4) + ln((1-p) ^ 6) && \\text{since $\\log(ab) = \\log(a) + \\log(b)$} \\\\\n",
    "    &= 4\\cdot ln(p) + 6\\cdot ln(1-p) && \\text{simplify} \n",
    "\\end{align*}\n",
    "$$\n",
    "\n",
    "Now that we took the natural log of the function, we can find the derivative of this function and set it to zero:\n",
    "\n",
    "\n",
    "$$\n",
    "\\begin{align*}\n",
    "    \\frac{dy}{dp}(4\\cdot ln(p) + 6\\cdot ln(1-p))  &=  \\frac{4}{p} - \\frac{6}{1-p} && \\text{Finding the derivative. Note that we used $u = 1 - p$ for the second part when deriving} \n",
    "\\end{align*}\n",
    "$$\n",
    "\n",
    "Set it to zero and solve for $p$:\n",
    "\n",
    "$$\n",
    "\\frac{4}{p} - \\frac{6}{1-p} = 0\n",
    "$$\n",
    "\n",
    "$$\n",
    "\\frac{4}{p} = \\frac{6}{1-p}\n",
    "$$\n",
    "\n",
    "$$\n",
    "6p = 4 \\cdot (1- p)\n",
    "$$\n",
    "\n",
    "$$\n",
    "6p = 4 - 4p\n",
    "$$\n",
    "\n",
    "$$\n",
    "10p = 4\n",
    "$$\n",
    "\n",
    "$$\n",
    "p = \\frac{4}{10} = 0.4\n",
    "$$\n",
    "\n",
    "Thus, we have verified that $\\hat{p} = 0.4$."
   ]
  },
  {
   "cell_type": "markdown",
   "id": "8c6aeac6",
   "metadata": {
    "deletable": false,
    "editable": false,
    "tags": []
   },
   "source": [
    "<!-- END QUESTION -->\n",
    "\n",
    "[Back to top](#top)\n",
    "\n",
    "<a id='p4'></a>\n",
    "\n",
    "## <span style='color:Red'>  QUESTION 4: Evidence for Money Ball\n",
    "\n",
    "In the book [MoneyBall](https://en.wikipedia.org/wiki/Moneyball), Michael Lewis documented the introduction of statistics and data science in selecting players for the Oakland A's. in this problem, we're going to use two datasets from the [Sean Lahman's Baseball Database](http://seanlahman.com/) which contains the \"complete batting and pitching statistics from 1871 to 2022, plus fielding statistics, standings, team stats, managerial records, post-season data, and more.\"   \n",
    "\n",
    "For more details about this data, see documentation.txt in the `data` folder.  \n",
    "\n",
    "\n"
   ]
  },
  {
   "cell_type": "markdown",
   "id": "aca0f24f",
   "metadata": {},
   "source": [
    "## Exploratory Data Analysis\n",
    "\n",
    "Throughout this question you will be asked to explore the dataset.  \n",
    "You will need familiarity with all the methods and attributes introduced in  Chapter 6 of the assigned reading (and Lessons 2 and 3 of Lecture):  [Learning Data Science Chapter 6 - All (Subsetting, Aggregating, Joining, Transforming)](https://learningds.org/ch/06/pandas_intro.html).  \n",
    "\n",
    "There is frequently more than one way to answer question in Pandas, so we encourage you to dive in and play around with different approaches.  Unless otherwise indicated, you are welcome to use whatever methods/attributes/approach that you choose."
   ]
  },
  {
   "cell_type": "markdown",
   "id": "94497ea4",
   "metadata": {},
   "source": [
    "There are two .csv files in the `data` folder of this HW assignment:  `teams.csv` and `salaries.csv`\n",
    "\n",
    "Import the `Teams.csv` data into a DataFrame called `teams_df` and take a look at the data. \n",
    "\n",
    "Import the `Salaries.csv` data into a DataFrame called `salaries_df` and take a look at the data.\n"
   ]
  },
  {
   "cell_type": "code",
   "execution_count": 15,
   "id": "94c346e8",
   "metadata": {},
   "outputs": [
    {
     "data": {
      "text/html": [
       "<div>\n",
       "<style scoped>\n",
       "    .dataframe tbody tr th:only-of-type {\n",
       "        vertical-align: middle;\n",
       "    }\n",
       "\n",
       "    .dataframe tbody tr th {\n",
       "        vertical-align: top;\n",
       "    }\n",
       "\n",
       "    .dataframe thead th {\n",
       "        text-align: right;\n",
       "    }\n",
       "</style>\n",
       "<table border=\"1\" class=\"dataframe\">\n",
       "  <thead>\n",
       "    <tr style=\"text-align: right;\">\n",
       "      <th></th>\n",
       "      <th>yearID</th>\n",
       "      <th>lgID</th>\n",
       "      <th>teamID</th>\n",
       "      <th>franchID</th>\n",
       "      <th>divID</th>\n",
       "      <th>Rank</th>\n",
       "      <th>G</th>\n",
       "      <th>Ghome</th>\n",
       "      <th>W</th>\n",
       "      <th>L</th>\n",
       "      <th>...</th>\n",
       "      <th>DP</th>\n",
       "      <th>FP</th>\n",
       "      <th>name</th>\n",
       "      <th>park</th>\n",
       "      <th>attendance</th>\n",
       "      <th>BPF</th>\n",
       "      <th>PPF</th>\n",
       "      <th>teamIDBR</th>\n",
       "      <th>teamIDlahman45</th>\n",
       "      <th>teamIDretro</th>\n",
       "    </tr>\n",
       "  </thead>\n",
       "  <tbody>\n",
       "    <tr>\n",
       "      <th>0</th>\n",
       "      <td>1871</td>\n",
       "      <td>NaN</td>\n",
       "      <td>BS1</td>\n",
       "      <td>BNA</td>\n",
       "      <td>NaN</td>\n",
       "      <td>3</td>\n",
       "      <td>31</td>\n",
       "      <td>NaN</td>\n",
       "      <td>20</td>\n",
       "      <td>10</td>\n",
       "      <td>...</td>\n",
       "      <td>24</td>\n",
       "      <td>0.834</td>\n",
       "      <td>Boston Red Stockings</td>\n",
       "      <td>South End Grounds I</td>\n",
       "      <td>NaN</td>\n",
       "      <td>103</td>\n",
       "      <td>98</td>\n",
       "      <td>BOS</td>\n",
       "      <td>BS1</td>\n",
       "      <td>BS1</td>\n",
       "    </tr>\n",
       "    <tr>\n",
       "      <th>1</th>\n",
       "      <td>1871</td>\n",
       "      <td>NaN</td>\n",
       "      <td>CH1</td>\n",
       "      <td>CNA</td>\n",
       "      <td>NaN</td>\n",
       "      <td>2</td>\n",
       "      <td>28</td>\n",
       "      <td>NaN</td>\n",
       "      <td>19</td>\n",
       "      <td>9</td>\n",
       "      <td>...</td>\n",
       "      <td>16</td>\n",
       "      <td>0.829</td>\n",
       "      <td>Chicago White Stockings</td>\n",
       "      <td>Union Base-Ball Grounds</td>\n",
       "      <td>NaN</td>\n",
       "      <td>104</td>\n",
       "      <td>102</td>\n",
       "      <td>CHI</td>\n",
       "      <td>CH1</td>\n",
       "      <td>CH1</td>\n",
       "    </tr>\n",
       "    <tr>\n",
       "      <th>2</th>\n",
       "      <td>1871</td>\n",
       "      <td>NaN</td>\n",
       "      <td>CL1</td>\n",
       "      <td>CFC</td>\n",
       "      <td>NaN</td>\n",
       "      <td>8</td>\n",
       "      <td>29</td>\n",
       "      <td>NaN</td>\n",
       "      <td>10</td>\n",
       "      <td>19</td>\n",
       "      <td>...</td>\n",
       "      <td>15</td>\n",
       "      <td>0.818</td>\n",
       "      <td>Cleveland Forest Citys</td>\n",
       "      <td>National Association Grounds</td>\n",
       "      <td>NaN</td>\n",
       "      <td>96</td>\n",
       "      <td>100</td>\n",
       "      <td>CLE</td>\n",
       "      <td>CL1</td>\n",
       "      <td>CL1</td>\n",
       "    </tr>\n",
       "    <tr>\n",
       "      <th>3</th>\n",
       "      <td>1871</td>\n",
       "      <td>NaN</td>\n",
       "      <td>FW1</td>\n",
       "      <td>KEK</td>\n",
       "      <td>NaN</td>\n",
       "      <td>7</td>\n",
       "      <td>19</td>\n",
       "      <td>NaN</td>\n",
       "      <td>7</td>\n",
       "      <td>12</td>\n",
       "      <td>...</td>\n",
       "      <td>8</td>\n",
       "      <td>0.803</td>\n",
       "      <td>Fort Wayne Kekiongas</td>\n",
       "      <td>Hamilton Field</td>\n",
       "      <td>NaN</td>\n",
       "      <td>101</td>\n",
       "      <td>107</td>\n",
       "      <td>KEK</td>\n",
       "      <td>FW1</td>\n",
       "      <td>FW1</td>\n",
       "    </tr>\n",
       "    <tr>\n",
       "      <th>4</th>\n",
       "      <td>1871</td>\n",
       "      <td>NaN</td>\n",
       "      <td>NY2</td>\n",
       "      <td>NNA</td>\n",
       "      <td>NaN</td>\n",
       "      <td>5</td>\n",
       "      <td>33</td>\n",
       "      <td>NaN</td>\n",
       "      <td>16</td>\n",
       "      <td>17</td>\n",
       "      <td>...</td>\n",
       "      <td>14</td>\n",
       "      <td>0.840</td>\n",
       "      <td>New York Mutuals</td>\n",
       "      <td>Union Grounds (Brooklyn)</td>\n",
       "      <td>NaN</td>\n",
       "      <td>90</td>\n",
       "      <td>88</td>\n",
       "      <td>NYU</td>\n",
       "      <td>NY2</td>\n",
       "      <td>NY2</td>\n",
       "    </tr>\n",
       "    <tr>\n",
       "      <th>...</th>\n",
       "      <td>...</td>\n",
       "      <td>...</td>\n",
       "      <td>...</td>\n",
       "      <td>...</td>\n",
       "      <td>...</td>\n",
       "      <td>...</td>\n",
       "      <td>...</td>\n",
       "      <td>...</td>\n",
       "      <td>...</td>\n",
       "      <td>...</td>\n",
       "      <td>...</td>\n",
       "      <td>...</td>\n",
       "      <td>...</td>\n",
       "      <td>...</td>\n",
       "      <td>...</td>\n",
       "      <td>...</td>\n",
       "      <td>...</td>\n",
       "      <td>...</td>\n",
       "      <td>...</td>\n",
       "      <td>...</td>\n",
       "      <td>...</td>\n",
       "    </tr>\n",
       "    <tr>\n",
       "      <th>3010</th>\n",
       "      <td>2022</td>\n",
       "      <td>NL</td>\n",
       "      <td>SLN</td>\n",
       "      <td>STL</td>\n",
       "      <td>C</td>\n",
       "      <td>1</td>\n",
       "      <td>162</td>\n",
       "      <td>81.0</td>\n",
       "      <td>93</td>\n",
       "      <td>69</td>\n",
       "      <td>...</td>\n",
       "      <td>181</td>\n",
       "      <td>0.989</td>\n",
       "      <td>St. Louis Cardinals</td>\n",
       "      <td>Busch Stadium III</td>\n",
       "      <td>3320551.0</td>\n",
       "      <td>94</td>\n",
       "      <td>94</td>\n",
       "      <td>STL</td>\n",
       "      <td>SLN</td>\n",
       "      <td>SLN</td>\n",
       "    </tr>\n",
       "    <tr>\n",
       "      <th>3011</th>\n",
       "      <td>2022</td>\n",
       "      <td>AL</td>\n",
       "      <td>TBA</td>\n",
       "      <td>TBD</td>\n",
       "      <td>E</td>\n",
       "      <td>1</td>\n",
       "      <td>162</td>\n",
       "      <td>81.0</td>\n",
       "      <td>86</td>\n",
       "      <td>76</td>\n",
       "      <td>...</td>\n",
       "      <td>110</td>\n",
       "      <td>0.985</td>\n",
       "      <td>Tampa Bay Rays</td>\n",
       "      <td>Tropicana Field</td>\n",
       "      <td>1128127.0</td>\n",
       "      <td>95</td>\n",
       "      <td>93</td>\n",
       "      <td>TBR</td>\n",
       "      <td>TBA</td>\n",
       "      <td>TBA</td>\n",
       "    </tr>\n",
       "    <tr>\n",
       "      <th>3012</th>\n",
       "      <td>2022</td>\n",
       "      <td>AL</td>\n",
       "      <td>TEX</td>\n",
       "      <td>TEX</td>\n",
       "      <td>W</td>\n",
       "      <td>4</td>\n",
       "      <td>162</td>\n",
       "      <td>81.0</td>\n",
       "      <td>68</td>\n",
       "      <td>94</td>\n",
       "      <td>...</td>\n",
       "      <td>143</td>\n",
       "      <td>0.984</td>\n",
       "      <td>Texas Rangers</td>\n",
       "      <td>Globe Life Field</td>\n",
       "      <td>2011361.0</td>\n",
       "      <td>100</td>\n",
       "      <td>101</td>\n",
       "      <td>TEX</td>\n",
       "      <td>TEX</td>\n",
       "      <td>TEX</td>\n",
       "    </tr>\n",
       "    <tr>\n",
       "      <th>3013</th>\n",
       "      <td>2022</td>\n",
       "      <td>AL</td>\n",
       "      <td>TOR</td>\n",
       "      <td>TOR</td>\n",
       "      <td>E</td>\n",
       "      <td>2</td>\n",
       "      <td>162</td>\n",
       "      <td>81.0</td>\n",
       "      <td>92</td>\n",
       "      <td>70</td>\n",
       "      <td>...</td>\n",
       "      <td>120</td>\n",
       "      <td>0.986</td>\n",
       "      <td>Toronto Blue Jays</td>\n",
       "      <td>Rogers Centre</td>\n",
       "      <td>2653830.0</td>\n",
       "      <td>100</td>\n",
       "      <td>100</td>\n",
       "      <td>TOR</td>\n",
       "      <td>TOR</td>\n",
       "      <td>TOR</td>\n",
       "    </tr>\n",
       "    <tr>\n",
       "      <th>3014</th>\n",
       "      <td>2022</td>\n",
       "      <td>NL</td>\n",
       "      <td>WAS</td>\n",
       "      <td>WSN</td>\n",
       "      <td>E</td>\n",
       "      <td>5</td>\n",
       "      <td>162</td>\n",
       "      <td>81.0</td>\n",
       "      <td>55</td>\n",
       "      <td>107</td>\n",
       "      <td>...</td>\n",
       "      <td>126</td>\n",
       "      <td>0.982</td>\n",
       "      <td>Washington Nationals</td>\n",
       "      <td>Nationals Park</td>\n",
       "      <td>2026401.0</td>\n",
       "      <td>94</td>\n",
       "      <td>96</td>\n",
       "      <td>WSN</td>\n",
       "      <td>MON</td>\n",
       "      <td>WAS</td>\n",
       "    </tr>\n",
       "  </tbody>\n",
       "</table>\n",
       "<p>3015 rows × 48 columns</p>\n",
       "</div>"
      ],
      "text/plain": [
       "      yearID lgID teamID franchID divID  Rank    G  Ghome   W    L  ...   DP  \\\n",
       "0       1871  NaN    BS1      BNA   NaN     3   31    NaN  20   10  ...   24   \n",
       "1       1871  NaN    CH1      CNA   NaN     2   28    NaN  19    9  ...   16   \n",
       "2       1871  NaN    CL1      CFC   NaN     8   29    NaN  10   19  ...   15   \n",
       "3       1871  NaN    FW1      KEK   NaN     7   19    NaN   7   12  ...    8   \n",
       "4       1871  NaN    NY2      NNA   NaN     5   33    NaN  16   17  ...   14   \n",
       "...      ...  ...    ...      ...   ...   ...  ...    ...  ..  ...  ...  ...   \n",
       "3010    2022   NL    SLN      STL     C     1  162   81.0  93   69  ...  181   \n",
       "3011    2022   AL    TBA      TBD     E     1  162   81.0  86   76  ...  110   \n",
       "3012    2022   AL    TEX      TEX     W     4  162   81.0  68   94  ...  143   \n",
       "3013    2022   AL    TOR      TOR     E     2  162   81.0  92   70  ...  120   \n",
       "3014    2022   NL    WAS      WSN     E     5  162   81.0  55  107  ...  126   \n",
       "\n",
       "         FP                     name                          park  \\\n",
       "0     0.834     Boston Red Stockings           South End Grounds I   \n",
       "1     0.829  Chicago White Stockings       Union Base-Ball Grounds   \n",
       "2     0.818   Cleveland Forest Citys  National Association Grounds   \n",
       "3     0.803     Fort Wayne Kekiongas                Hamilton Field   \n",
       "4     0.840         New York Mutuals      Union Grounds (Brooklyn)   \n",
       "...     ...                      ...                           ...   \n",
       "3010  0.989      St. Louis Cardinals             Busch Stadium III   \n",
       "3011  0.985           Tampa Bay Rays               Tropicana Field   \n",
       "3012  0.984            Texas Rangers              Globe Life Field   \n",
       "3013  0.986        Toronto Blue Jays                 Rogers Centre   \n",
       "3014  0.982     Washington Nationals                Nationals Park   \n",
       "\n",
       "      attendance  BPF  PPF  teamIDBR  teamIDlahman45  teamIDretro  \n",
       "0            NaN  103   98       BOS             BS1          BS1  \n",
       "1            NaN  104  102       CHI             CH1          CH1  \n",
       "2            NaN   96  100       CLE             CL1          CL1  \n",
       "3            NaN  101  107       KEK             FW1          FW1  \n",
       "4            NaN   90   88       NYU             NY2          NY2  \n",
       "...          ...  ...  ...       ...             ...          ...  \n",
       "3010   3320551.0   94   94       STL             SLN          SLN  \n",
       "3011   1128127.0   95   93       TBR             TBA          TBA  \n",
       "3012   2011361.0  100  101       TEX             TEX          TEX  \n",
       "3013   2653830.0  100  100       TOR             TOR          TOR  \n",
       "3014   2026401.0   94   96       WSN             MON          WAS  \n",
       "\n",
       "[3015 rows x 48 columns]"
      ]
     },
     "execution_count": 15,
     "metadata": {},
     "output_type": "execute_result"
    }
   ],
   "source": [
    "teams_df= pd.read_csv(\"data/Teams.csv\")\n",
    "teams_df"
   ]
  },
  {
   "cell_type": "code",
   "execution_count": 16,
   "id": "78de2f79",
   "metadata": {},
   "outputs": [
    {
     "data": {
      "text/html": [
       "<div>\n",
       "<style scoped>\n",
       "    .dataframe tbody tr th:only-of-type {\n",
       "        vertical-align: middle;\n",
       "    }\n",
       "\n",
       "    .dataframe tbody tr th {\n",
       "        vertical-align: top;\n",
       "    }\n",
       "\n",
       "    .dataframe thead th {\n",
       "        text-align: right;\n",
       "    }\n",
       "</style>\n",
       "<table border=\"1\" class=\"dataframe\">\n",
       "  <thead>\n",
       "    <tr style=\"text-align: right;\">\n",
       "      <th></th>\n",
       "      <th>yearID</th>\n",
       "      <th>teamID</th>\n",
       "      <th>lgID</th>\n",
       "      <th>playerID</th>\n",
       "      <th>salary</th>\n",
       "    </tr>\n",
       "  </thead>\n",
       "  <tbody>\n",
       "    <tr>\n",
       "      <th>0</th>\n",
       "      <td>1985</td>\n",
       "      <td>ATL</td>\n",
       "      <td>NL</td>\n",
       "      <td>barkele01</td>\n",
       "      <td>870000</td>\n",
       "    </tr>\n",
       "    <tr>\n",
       "      <th>1</th>\n",
       "      <td>1985</td>\n",
       "      <td>ATL</td>\n",
       "      <td>NL</td>\n",
       "      <td>bedrost01</td>\n",
       "      <td>550000</td>\n",
       "    </tr>\n",
       "    <tr>\n",
       "      <th>2</th>\n",
       "      <td>1985</td>\n",
       "      <td>ATL</td>\n",
       "      <td>NL</td>\n",
       "      <td>benedbr01</td>\n",
       "      <td>545000</td>\n",
       "    </tr>\n",
       "    <tr>\n",
       "      <th>3</th>\n",
       "      <td>1985</td>\n",
       "      <td>ATL</td>\n",
       "      <td>NL</td>\n",
       "      <td>campri01</td>\n",
       "      <td>633333</td>\n",
       "    </tr>\n",
       "    <tr>\n",
       "      <th>4</th>\n",
       "      <td>1985</td>\n",
       "      <td>ATL</td>\n",
       "      <td>NL</td>\n",
       "      <td>ceronri01</td>\n",
       "      <td>625000</td>\n",
       "    </tr>\n",
       "    <tr>\n",
       "      <th>...</th>\n",
       "      <td>...</td>\n",
       "      <td>...</td>\n",
       "      <td>...</td>\n",
       "      <td>...</td>\n",
       "      <td>...</td>\n",
       "    </tr>\n",
       "    <tr>\n",
       "      <th>26423</th>\n",
       "      <td>2016</td>\n",
       "      <td>WAS</td>\n",
       "      <td>NL</td>\n",
       "      <td>strasst01</td>\n",
       "      <td>10400000</td>\n",
       "    </tr>\n",
       "    <tr>\n",
       "      <th>26424</th>\n",
       "      <td>2016</td>\n",
       "      <td>WAS</td>\n",
       "      <td>NL</td>\n",
       "      <td>taylomi02</td>\n",
       "      <td>524000</td>\n",
       "    </tr>\n",
       "    <tr>\n",
       "      <th>26425</th>\n",
       "      <td>2016</td>\n",
       "      <td>WAS</td>\n",
       "      <td>NL</td>\n",
       "      <td>treinbl01</td>\n",
       "      <td>524900</td>\n",
       "    </tr>\n",
       "    <tr>\n",
       "      <th>26426</th>\n",
       "      <td>2016</td>\n",
       "      <td>WAS</td>\n",
       "      <td>NL</td>\n",
       "      <td>werthja01</td>\n",
       "      <td>21733615</td>\n",
       "    </tr>\n",
       "    <tr>\n",
       "      <th>26427</th>\n",
       "      <td>2016</td>\n",
       "      <td>WAS</td>\n",
       "      <td>NL</td>\n",
       "      <td>zimmery01</td>\n",
       "      <td>14000000</td>\n",
       "    </tr>\n",
       "  </tbody>\n",
       "</table>\n",
       "<p>26428 rows × 5 columns</p>\n",
       "</div>"
      ],
      "text/plain": [
       "       yearID teamID lgID   playerID    salary\n",
       "0        1985    ATL   NL  barkele01    870000\n",
       "1        1985    ATL   NL  bedrost01    550000\n",
       "2        1985    ATL   NL  benedbr01    545000\n",
       "3        1985    ATL   NL   campri01    633333\n",
       "4        1985    ATL   NL  ceronri01    625000\n",
       "...       ...    ...  ...        ...       ...\n",
       "26423    2016    WAS   NL  strasst01  10400000\n",
       "26424    2016    WAS   NL  taylomi02    524000\n",
       "26425    2016    WAS   NL  treinbl01    524900\n",
       "26426    2016    WAS   NL  werthja01  21733615\n",
       "26427    2016    WAS   NL  zimmery01  14000000\n",
       "\n",
       "[26428 rows x 5 columns]"
      ]
     },
     "execution_count": 16,
     "metadata": {},
     "output_type": "execute_result"
    }
   ],
   "source": [
    "salaries_df= pd.read_csv(\"data/Salaries.csv\")\n",
    "salaries_df"
   ]
  },
  {
   "cell_type": "markdown",
   "id": "10cd45be",
   "metadata": {
    "deletable": false,
    "editable": false
   },
   "source": [
    "<!-- BEGIN QUESTION -->\n",
    "\n",
    "### Question 4a). EDA:  Structure, Granularity and Faithfulness\n",
    "\n",
    "Examine the structure, granularity and faithfulness of the datasets.   (Hint: The common utility functions we covered in lecture will be useful here).  \n",
    "\n",
    "Then answer the following questions:\n",
    "\n",
    " - i).  What does the column `G` represent in the teams dataset?  (For a description of the columns, see the documentation in the `data` folder).  \n",
    "\n",
    " - ii).  What is the granularity of the `teams.csv` file?  \n",
    "\n",
    " - iii).  What is the granularity of the `salary.csv` file?\n",
    " \n",
    " - iv).  How many rows and columns are in the teams dataset?    Assign your answer to the variables `team_rows` and `team_col` below.  \n",
    "\n",
    " - v).  How many rows and columns are in the salary dataset? Assign your answer to the variables `salary_rows` and `salary_col` below.\n",
    "\n",
    " - vi).  How many entries in the `teams.csv` file are missing Attendance Data?  Assign your answer to the variable `missing_attendance` below."
   ]
  },
  {
   "cell_type": "markdown",
   "id": "eb888340-fe11-4098-b545-4efc968553eb",
   "metadata": {},
   "source": [
    "### Answer Cell for Questions 4a(i)(ii)(iii) \n",
    "In this cell, answer questions 4a(i) - (iii) using Markdown (not code).  \n",
    "\n",
    "**4a(i) Answer:**\n",
    "\n",
    "According to the documentation, \"G\" represents the games played by that team during that year.\n",
    "\n",
    "**4a(ii) Answer**:\n",
    "\n",
    "Basically, each row represents the relevant data every year for each team in the baseball league since 1871 until 2022, and this data includes the wins, games played, earned run average, and so much more.\n",
    "\n",
    "**4a(iii) Answer**:\n",
    "\n",
    "In here, the salary data shows the salaries of each player for every team in the baseball league for every year from 1985 till 2016\n",
    "\n",
    "In the code cells below justify your answers to part (ii) and (iii) and then answer parts iv through vi"
   ]
  },
  {
   "cell_type": "code",
   "execution_count": 17,
   "id": "71fe30e7",
   "metadata": {
    "tags": []
   },
   "outputs": [
    {
     "data": {
      "text/html": [
       "<div>\n",
       "<style scoped>\n",
       "    .dataframe tbody tr th:only-of-type {\n",
       "        vertical-align: middle;\n",
       "    }\n",
       "\n",
       "    .dataframe tbody tr th {\n",
       "        vertical-align: top;\n",
       "    }\n",
       "\n",
       "    .dataframe thead th {\n",
       "        text-align: right;\n",
       "    }\n",
       "</style>\n",
       "<table border=\"1\" class=\"dataframe\">\n",
       "  <thead>\n",
       "    <tr style=\"text-align: right;\">\n",
       "      <th></th>\n",
       "      <th>lgID</th>\n",
       "      <th>teamID</th>\n",
       "      <th>franchID</th>\n",
       "      <th>divID</th>\n",
       "      <th>Rank</th>\n",
       "      <th>G</th>\n",
       "      <th>Ghome</th>\n",
       "      <th>W</th>\n",
       "      <th>L</th>\n",
       "      <th>DivWin</th>\n",
       "      <th>...</th>\n",
       "      <th>DP</th>\n",
       "      <th>FP</th>\n",
       "      <th>name</th>\n",
       "      <th>park</th>\n",
       "      <th>attendance</th>\n",
       "      <th>BPF</th>\n",
       "      <th>PPF</th>\n",
       "      <th>teamIDBR</th>\n",
       "      <th>teamIDlahman45</th>\n",
       "      <th>teamIDretro</th>\n",
       "    </tr>\n",
       "    <tr>\n",
       "      <th>yearID</th>\n",
       "      <th></th>\n",
       "      <th></th>\n",
       "      <th></th>\n",
       "      <th></th>\n",
       "      <th></th>\n",
       "      <th></th>\n",
       "      <th></th>\n",
       "      <th></th>\n",
       "      <th></th>\n",
       "      <th></th>\n",
       "      <th></th>\n",
       "      <th></th>\n",
       "      <th></th>\n",
       "      <th></th>\n",
       "      <th></th>\n",
       "      <th></th>\n",
       "      <th></th>\n",
       "      <th></th>\n",
       "      <th></th>\n",
       "      <th></th>\n",
       "      <th></th>\n",
       "    </tr>\n",
       "  </thead>\n",
       "  <tbody>\n",
       "    <tr>\n",
       "      <th>1871</th>\n",
       "      <td>None</td>\n",
       "      <td>PH1</td>\n",
       "      <td>PNA</td>\n",
       "      <td>None</td>\n",
       "      <td>1</td>\n",
       "      <td>28</td>\n",
       "      <td>NaN</td>\n",
       "      <td>21</td>\n",
       "      <td>7</td>\n",
       "      <td>None</td>\n",
       "      <td>...</td>\n",
       "      <td>13</td>\n",
       "      <td>0.845</td>\n",
       "      <td>Philadelphia Athletics</td>\n",
       "      <td>Jefferson Street Grounds</td>\n",
       "      <td>NaN</td>\n",
       "      <td>102</td>\n",
       "      <td>98</td>\n",
       "      <td>ATH</td>\n",
       "      <td>PH1</td>\n",
       "      <td>PH1</td>\n",
       "    </tr>\n",
       "    <tr>\n",
       "      <th>1872</th>\n",
       "      <td>None</td>\n",
       "      <td>BS1</td>\n",
       "      <td>BNA</td>\n",
       "      <td>None</td>\n",
       "      <td>1</td>\n",
       "      <td>48</td>\n",
       "      <td>NaN</td>\n",
       "      <td>39</td>\n",
       "      <td>8</td>\n",
       "      <td>None</td>\n",
       "      <td>...</td>\n",
       "      <td>44</td>\n",
       "      <td>0.875</td>\n",
       "      <td>Boston Red Stockings</td>\n",
       "      <td>South End Grounds I</td>\n",
       "      <td>NaN</td>\n",
       "      <td>105</td>\n",
       "      <td>100</td>\n",
       "      <td>BOS</td>\n",
       "      <td>BS1</td>\n",
       "      <td>BS1</td>\n",
       "    </tr>\n",
       "    <tr>\n",
       "      <th>1873</th>\n",
       "      <td>None</td>\n",
       "      <td>BS1</td>\n",
       "      <td>BNA</td>\n",
       "      <td>None</td>\n",
       "      <td>1</td>\n",
       "      <td>60</td>\n",
       "      <td>NaN</td>\n",
       "      <td>43</td>\n",
       "      <td>16</td>\n",
       "      <td>None</td>\n",
       "      <td>...</td>\n",
       "      <td>54</td>\n",
       "      <td>0.836</td>\n",
       "      <td>Boston Red Stockings</td>\n",
       "      <td>South End Grounds I</td>\n",
       "      <td>NaN</td>\n",
       "      <td>106</td>\n",
       "      <td>100</td>\n",
       "      <td>BOS</td>\n",
       "      <td>BS1</td>\n",
       "      <td>BS1</td>\n",
       "    </tr>\n",
       "    <tr>\n",
       "      <th>1874</th>\n",
       "      <td>None</td>\n",
       "      <td>BS1</td>\n",
       "      <td>BNA</td>\n",
       "      <td>None</td>\n",
       "      <td>1</td>\n",
       "      <td>71</td>\n",
       "      <td>NaN</td>\n",
       "      <td>52</td>\n",
       "      <td>18</td>\n",
       "      <td>None</td>\n",
       "      <td>...</td>\n",
       "      <td>53</td>\n",
       "      <td>0.850</td>\n",
       "      <td>Boston Red Stockings</td>\n",
       "      <td>South End Grounds I</td>\n",
       "      <td>NaN</td>\n",
       "      <td>105</td>\n",
       "      <td>98</td>\n",
       "      <td>BOS</td>\n",
       "      <td>BS1</td>\n",
       "      <td>BS1</td>\n",
       "    </tr>\n",
       "    <tr>\n",
       "      <th>1875</th>\n",
       "      <td>None</td>\n",
       "      <td>BS1</td>\n",
       "      <td>BNA</td>\n",
       "      <td>None</td>\n",
       "      <td>1</td>\n",
       "      <td>82</td>\n",
       "      <td>NaN</td>\n",
       "      <td>71</td>\n",
       "      <td>8</td>\n",
       "      <td>None</td>\n",
       "      <td>...</td>\n",
       "      <td>56</td>\n",
       "      <td>0.870</td>\n",
       "      <td>Boston Red Stockings</td>\n",
       "      <td>South End Grounds I</td>\n",
       "      <td>NaN</td>\n",
       "      <td>103</td>\n",
       "      <td>96</td>\n",
       "      <td>BOS</td>\n",
       "      <td>BS1</td>\n",
       "      <td>BS1</td>\n",
       "    </tr>\n",
       "    <tr>\n",
       "      <th>...</th>\n",
       "      <td>...</td>\n",
       "      <td>...</td>\n",
       "      <td>...</td>\n",
       "      <td>...</td>\n",
       "      <td>...</td>\n",
       "      <td>...</td>\n",
       "      <td>...</td>\n",
       "      <td>...</td>\n",
       "      <td>...</td>\n",
       "      <td>...</td>\n",
       "      <td>...</td>\n",
       "      <td>...</td>\n",
       "      <td>...</td>\n",
       "      <td>...</td>\n",
       "      <td>...</td>\n",
       "      <td>...</td>\n",
       "      <td>...</td>\n",
       "      <td>...</td>\n",
       "      <td>...</td>\n",
       "      <td>...</td>\n",
       "      <td>...</td>\n",
       "    </tr>\n",
       "    <tr>\n",
       "      <th>2018</th>\n",
       "      <td>NL</td>\n",
       "      <td>MIL</td>\n",
       "      <td>MIL</td>\n",
       "      <td>C</td>\n",
       "      <td>1</td>\n",
       "      <td>163</td>\n",
       "      <td>81.0</td>\n",
       "      <td>96</td>\n",
       "      <td>67</td>\n",
       "      <td>Y</td>\n",
       "      <td>...</td>\n",
       "      <td>141</td>\n",
       "      <td>0.982</td>\n",
       "      <td>Milwaukee Brewers</td>\n",
       "      <td>Miller Park</td>\n",
       "      <td>2850875.0</td>\n",
       "      <td>102</td>\n",
       "      <td>101</td>\n",
       "      <td>MIL</td>\n",
       "      <td>ML4</td>\n",
       "      <td>MIL</td>\n",
       "    </tr>\n",
       "    <tr>\n",
       "      <th>2019</th>\n",
       "      <td>NL</td>\n",
       "      <td>SLN</td>\n",
       "      <td>STL</td>\n",
       "      <td>C</td>\n",
       "      <td>1</td>\n",
       "      <td>162</td>\n",
       "      <td>81.0</td>\n",
       "      <td>91</td>\n",
       "      <td>71</td>\n",
       "      <td>Y</td>\n",
       "      <td>...</td>\n",
       "      <td>168</td>\n",
       "      <td>0.989</td>\n",
       "      <td>St. Louis Cardinals</td>\n",
       "      <td>Busch Stadium III</td>\n",
       "      <td>3480393.0</td>\n",
       "      <td>98</td>\n",
       "      <td>97</td>\n",
       "      <td>STL</td>\n",
       "      <td>SLN</td>\n",
       "      <td>SLN</td>\n",
       "    </tr>\n",
       "    <tr>\n",
       "      <th>2020</th>\n",
       "      <td>AL</td>\n",
       "      <td>TBA</td>\n",
       "      <td>TBD</td>\n",
       "      <td>E</td>\n",
       "      <td>1</td>\n",
       "      <td>60</td>\n",
       "      <td>29.0</td>\n",
       "      <td>40</td>\n",
       "      <td>20</td>\n",
       "      <td>Y</td>\n",
       "      <td>...</td>\n",
       "      <td>52</td>\n",
       "      <td>0.985</td>\n",
       "      <td>Tampa Bay Rays</td>\n",
       "      <td>Tropicana Field</td>\n",
       "      <td>0.0</td>\n",
       "      <td>96</td>\n",
       "      <td>95</td>\n",
       "      <td>TBR</td>\n",
       "      <td>TBA</td>\n",
       "      <td>TBA</td>\n",
       "    </tr>\n",
       "    <tr>\n",
       "      <th>2021</th>\n",
       "      <td>AL</td>\n",
       "      <td>TBA</td>\n",
       "      <td>TBD</td>\n",
       "      <td>E</td>\n",
       "      <td>1</td>\n",
       "      <td>162</td>\n",
       "      <td>81.0</td>\n",
       "      <td>100</td>\n",
       "      <td>62</td>\n",
       "      <td>Y</td>\n",
       "      <td>...</td>\n",
       "      <td>130</td>\n",
       "      <td>0.986</td>\n",
       "      <td>Tampa Bay Rays</td>\n",
       "      <td>Tropicana Field</td>\n",
       "      <td>761072.0</td>\n",
       "      <td>92</td>\n",
       "      <td>91</td>\n",
       "      <td>TBR</td>\n",
       "      <td>TBA</td>\n",
       "      <td>TBA</td>\n",
       "    </tr>\n",
       "    <tr>\n",
       "      <th>2022</th>\n",
       "      <td>NL</td>\n",
       "      <td>ATL</td>\n",
       "      <td>ATL</td>\n",
       "      <td>E</td>\n",
       "      <td>1</td>\n",
       "      <td>162</td>\n",
       "      <td>81.0</td>\n",
       "      <td>101</td>\n",
       "      <td>61</td>\n",
       "      <td>Y</td>\n",
       "      <td>...</td>\n",
       "      <td>110</td>\n",
       "      <td>0.987</td>\n",
       "      <td>Atlanta Braves</td>\n",
       "      <td>SunTrust Park</td>\n",
       "      <td>3129931.0</td>\n",
       "      <td>102</td>\n",
       "      <td>100</td>\n",
       "      <td>ATL</td>\n",
       "      <td>ATL</td>\n",
       "      <td>ATL</td>\n",
       "    </tr>\n",
       "  </tbody>\n",
       "</table>\n",
       "<p>152 rows × 47 columns</p>\n",
       "</div>"
      ],
      "text/plain": [
       "        lgID teamID franchID divID  Rank    G  Ghome    W   L DivWin  ...  \\\n",
       "yearID                                                                ...   \n",
       "1871    None    PH1      PNA  None     1   28    NaN   21   7   None  ...   \n",
       "1872    None    BS1      BNA  None     1   48    NaN   39   8   None  ...   \n",
       "1873    None    BS1      BNA  None     1   60    NaN   43  16   None  ...   \n",
       "1874    None    BS1      BNA  None     1   71    NaN   52  18   None  ...   \n",
       "1875    None    BS1      BNA  None     1   82    NaN   71   8   None  ...   \n",
       "...      ...    ...      ...   ...   ...  ...    ...  ...  ..    ...  ...   \n",
       "2018      NL    MIL      MIL     C     1  163   81.0   96  67      Y  ...   \n",
       "2019      NL    SLN      STL     C     1  162   81.0   91  71      Y  ...   \n",
       "2020      AL    TBA      TBD     E     1   60   29.0   40  20      Y  ...   \n",
       "2021      AL    TBA      TBD     E     1  162   81.0  100  62      Y  ...   \n",
       "2022      NL    ATL      ATL     E     1  162   81.0  101  61      Y  ...   \n",
       "\n",
       "         DP     FP                    name                      park  \\\n",
       "yearID                                                                 \n",
       "1871     13  0.845  Philadelphia Athletics  Jefferson Street Grounds   \n",
       "1872     44  0.875    Boston Red Stockings       South End Grounds I   \n",
       "1873     54  0.836    Boston Red Stockings       South End Grounds I   \n",
       "1874     53  0.850    Boston Red Stockings       South End Grounds I   \n",
       "1875     56  0.870    Boston Red Stockings       South End Grounds I   \n",
       "...     ...    ...                     ...                       ...   \n",
       "2018    141  0.982       Milwaukee Brewers               Miller Park   \n",
       "2019    168  0.989     St. Louis Cardinals         Busch Stadium III   \n",
       "2020     52  0.985          Tampa Bay Rays           Tropicana Field   \n",
       "2021    130  0.986          Tampa Bay Rays           Tropicana Field   \n",
       "2022    110  0.987          Atlanta Braves             SunTrust Park   \n",
       "\n",
       "        attendance  BPF  PPF  teamIDBR  teamIDlahman45  teamIDretro  \n",
       "yearID                                                               \n",
       "1871           NaN  102   98       ATH             PH1          PH1  \n",
       "1872           NaN  105  100       BOS             BS1          BS1  \n",
       "1873           NaN  106  100       BOS             BS1          BS1  \n",
       "1874           NaN  105   98       BOS             BS1          BS1  \n",
       "1875           NaN  103   96       BOS             BS1          BS1  \n",
       "...            ...  ...  ...       ...             ...          ...  \n",
       "2018     2850875.0  102  101       MIL             ML4          MIL  \n",
       "2019     3480393.0   98   97       STL             SLN          SLN  \n",
       "2020           0.0   96   95       TBR             TBA          TBA  \n",
       "2021      761072.0   92   91       TBR             TBA          TBA  \n",
       "2022     3129931.0  102  100       ATL             ATL          ATL  \n",
       "\n",
       "[152 rows x 47 columns]"
      ]
     },
     "execution_count": 17,
     "metadata": {},
     "output_type": "execute_result"
    }
   ],
   "source": [
    "teams_df.sort_values(\"Rank\").groupby(\"yearID\").first()\n",
    "\n",
    "# as you can see, we have shown the number one team in the league since 1871 till 2022 using sort value and groupby\n",
    "\n",
    "# Show work in this cell justifying your answer to part 4a(ii) (hint: either use .value_counts() or .groupby)"
   ]
  },
  {
   "cell_type": "code",
   "execution_count": 18,
   "id": "8c221397",
   "metadata": {
    "tags": []
   },
   "outputs": [
    {
     "data": {
      "text/html": [
       "<div>\n",
       "<style scoped>\n",
       "    .dataframe tbody tr th:only-of-type {\n",
       "        vertical-align: middle;\n",
       "    }\n",
       "\n",
       "    .dataframe tbody tr th {\n",
       "        vertical-align: top;\n",
       "    }\n",
       "\n",
       "    .dataframe thead th {\n",
       "        text-align: right;\n",
       "    }\n",
       "</style>\n",
       "<table border=\"1\" class=\"dataframe\">\n",
       "  <thead>\n",
       "    <tr style=\"text-align: right;\">\n",
       "      <th></th>\n",
       "      <th>teamID</th>\n",
       "      <th>lgID</th>\n",
       "      <th>playerID</th>\n",
       "      <th>salary</th>\n",
       "    </tr>\n",
       "    <tr>\n",
       "      <th>yearID</th>\n",
       "      <th></th>\n",
       "      <th></th>\n",
       "      <th></th>\n",
       "      <th></th>\n",
       "    </tr>\n",
       "  </thead>\n",
       "  <tbody>\n",
       "    <tr>\n",
       "      <th>1985</th>\n",
       "      <td>PHI</td>\n",
       "      <td>NL</td>\n",
       "      <td>schmimi01</td>\n",
       "      <td>2130300</td>\n",
       "    </tr>\n",
       "    <tr>\n",
       "      <th>1986</th>\n",
       "      <td>NYN</td>\n",
       "      <td>NL</td>\n",
       "      <td>fostege01</td>\n",
       "      <td>2800000</td>\n",
       "    </tr>\n",
       "    <tr>\n",
       "      <th>1987</th>\n",
       "      <td>PHI</td>\n",
       "      <td>NL</td>\n",
       "      <td>schmimi01</td>\n",
       "      <td>2127333</td>\n",
       "    </tr>\n",
       "    <tr>\n",
       "      <th>1988</th>\n",
       "      <td>SLN</td>\n",
       "      <td>NL</td>\n",
       "      <td>smithoz01</td>\n",
       "      <td>2340000</td>\n",
       "    </tr>\n",
       "    <tr>\n",
       "      <th>1989</th>\n",
       "      <td>LAN</td>\n",
       "      <td>NL</td>\n",
       "      <td>hershor01</td>\n",
       "      <td>2766667</td>\n",
       "    </tr>\n",
       "    <tr>\n",
       "      <th>1990</th>\n",
       "      <td>ML4</td>\n",
       "      <td>AL</td>\n",
       "      <td>yountro01</td>\n",
       "      <td>3200000</td>\n",
       "    </tr>\n",
       "    <tr>\n",
       "      <th>1991</th>\n",
       "      <td>LAN</td>\n",
       "      <td>NL</td>\n",
       "      <td>strawda01</td>\n",
       "      <td>3800000</td>\n",
       "    </tr>\n",
       "    <tr>\n",
       "      <th>1992</th>\n",
       "      <td>NYN</td>\n",
       "      <td>NL</td>\n",
       "      <td>bonilbo01</td>\n",
       "      <td>6100000</td>\n",
       "    </tr>\n",
       "    <tr>\n",
       "      <th>1993</th>\n",
       "      <td>NYN</td>\n",
       "      <td>NL</td>\n",
       "      <td>bonilbo01</td>\n",
       "      <td>6200000</td>\n",
       "    </tr>\n",
       "    <tr>\n",
       "      <th>1994</th>\n",
       "      <td>NYN</td>\n",
       "      <td>NL</td>\n",
       "      <td>bonilbo01</td>\n",
       "      <td>6300000</td>\n",
       "    </tr>\n",
       "    <tr>\n",
       "      <th>1995</th>\n",
       "      <td>DET</td>\n",
       "      <td>AL</td>\n",
       "      <td>fieldce01</td>\n",
       "      <td>9237500</td>\n",
       "    </tr>\n",
       "    <tr>\n",
       "      <th>1996</th>\n",
       "      <td>DET</td>\n",
       "      <td>AL</td>\n",
       "      <td>fieldce01</td>\n",
       "      <td>9237500</td>\n",
       "    </tr>\n",
       "    <tr>\n",
       "      <th>1997</th>\n",
       "      <td>CHA</td>\n",
       "      <td>AL</td>\n",
       "      <td>belleal01</td>\n",
       "      <td>10000000</td>\n",
       "    </tr>\n",
       "    <tr>\n",
       "      <th>1998</th>\n",
       "      <td>FLO</td>\n",
       "      <td>NL</td>\n",
       "      <td>sheffga01</td>\n",
       "      <td>14936667</td>\n",
       "    </tr>\n",
       "    <tr>\n",
       "      <th>1999</th>\n",
       "      <td>BAL</td>\n",
       "      <td>AL</td>\n",
       "      <td>belleal01</td>\n",
       "      <td>11949794</td>\n",
       "    </tr>\n",
       "    <tr>\n",
       "      <th>2000</th>\n",
       "      <td>LAN</td>\n",
       "      <td>NL</td>\n",
       "      <td>brownke01</td>\n",
       "      <td>15714286</td>\n",
       "    </tr>\n",
       "    <tr>\n",
       "      <th>2001</th>\n",
       "      <td>TEX</td>\n",
       "      <td>AL</td>\n",
       "      <td>rodrial01</td>\n",
       "      <td>22000000</td>\n",
       "    </tr>\n",
       "    <tr>\n",
       "      <th>2002</th>\n",
       "      <td>TEX</td>\n",
       "      <td>AL</td>\n",
       "      <td>rodrial01</td>\n",
       "      <td>22000000</td>\n",
       "    </tr>\n",
       "    <tr>\n",
       "      <th>2003</th>\n",
       "      <td>TEX</td>\n",
       "      <td>AL</td>\n",
       "      <td>rodrial01</td>\n",
       "      <td>22000000</td>\n",
       "    </tr>\n",
       "    <tr>\n",
       "      <th>2004</th>\n",
       "      <td>BOS</td>\n",
       "      <td>AL</td>\n",
       "      <td>ramirma02</td>\n",
       "      <td>22500000</td>\n",
       "    </tr>\n",
       "    <tr>\n",
       "      <th>2005</th>\n",
       "      <td>NYA</td>\n",
       "      <td>AL</td>\n",
       "      <td>rodrial01</td>\n",
       "      <td>26000000</td>\n",
       "    </tr>\n",
       "    <tr>\n",
       "      <th>2006</th>\n",
       "      <td>NYA</td>\n",
       "      <td>AL</td>\n",
       "      <td>rodrial01</td>\n",
       "      <td>21680727</td>\n",
       "    </tr>\n",
       "    <tr>\n",
       "      <th>2007</th>\n",
       "      <td>NYA</td>\n",
       "      <td>AL</td>\n",
       "      <td>giambja01</td>\n",
       "      <td>23428571</td>\n",
       "    </tr>\n",
       "    <tr>\n",
       "      <th>2008</th>\n",
       "      <td>NYA</td>\n",
       "      <td>AL</td>\n",
       "      <td>rodrial01</td>\n",
       "      <td>28000000</td>\n",
       "    </tr>\n",
       "    <tr>\n",
       "      <th>2009</th>\n",
       "      <td>NYA</td>\n",
       "      <td>AL</td>\n",
       "      <td>rodrial01</td>\n",
       "      <td>33000000</td>\n",
       "    </tr>\n",
       "    <tr>\n",
       "      <th>2010</th>\n",
       "      <td>NYA</td>\n",
       "      <td>AL</td>\n",
       "      <td>rodrial01</td>\n",
       "      <td>33000000</td>\n",
       "    </tr>\n",
       "    <tr>\n",
       "      <th>2011</th>\n",
       "      <td>NYA</td>\n",
       "      <td>AL</td>\n",
       "      <td>rodrial01</td>\n",
       "      <td>32000000</td>\n",
       "    </tr>\n",
       "    <tr>\n",
       "      <th>2012</th>\n",
       "      <td>NYA</td>\n",
       "      <td>AL</td>\n",
       "      <td>rodrial01</td>\n",
       "      <td>30000000</td>\n",
       "    </tr>\n",
       "    <tr>\n",
       "      <th>2013</th>\n",
       "      <td>NYA</td>\n",
       "      <td>AL</td>\n",
       "      <td>rodrial01</td>\n",
       "      <td>29000000</td>\n",
       "    </tr>\n",
       "    <tr>\n",
       "      <th>2014</th>\n",
       "      <td>LAN</td>\n",
       "      <td>NL</td>\n",
       "      <td>greinza01</td>\n",
       "      <td>26000000</td>\n",
       "    </tr>\n",
       "    <tr>\n",
       "      <th>2015</th>\n",
       "      <td>LAN</td>\n",
       "      <td>NL</td>\n",
       "      <td>kershcl01</td>\n",
       "      <td>32571000</td>\n",
       "    </tr>\n",
       "    <tr>\n",
       "      <th>2016</th>\n",
       "      <td>LAN</td>\n",
       "      <td>NL</td>\n",
       "      <td>kershcl01</td>\n",
       "      <td>33000000</td>\n",
       "    </tr>\n",
       "  </tbody>\n",
       "</table>\n",
       "</div>"
      ],
      "text/plain": [
       "       teamID lgID   playerID    salary\n",
       "yearID                                 \n",
       "1985      PHI   NL  schmimi01   2130300\n",
       "1986      NYN   NL  fostege01   2800000\n",
       "1987      PHI   NL  schmimi01   2127333\n",
       "1988      SLN   NL  smithoz01   2340000\n",
       "1989      LAN   NL  hershor01   2766667\n",
       "1990      ML4   AL  yountro01   3200000\n",
       "1991      LAN   NL  strawda01   3800000\n",
       "1992      NYN   NL  bonilbo01   6100000\n",
       "1993      NYN   NL  bonilbo01   6200000\n",
       "1994      NYN   NL  bonilbo01   6300000\n",
       "1995      DET   AL  fieldce01   9237500\n",
       "1996      DET   AL  fieldce01   9237500\n",
       "1997      CHA   AL  belleal01  10000000\n",
       "1998      FLO   NL  sheffga01  14936667\n",
       "1999      BAL   AL  belleal01  11949794\n",
       "2000      LAN   NL  brownke01  15714286\n",
       "2001      TEX   AL  rodrial01  22000000\n",
       "2002      TEX   AL  rodrial01  22000000\n",
       "2003      TEX   AL  rodrial01  22000000\n",
       "2004      BOS   AL  ramirma02  22500000\n",
       "2005      NYA   AL  rodrial01  26000000\n",
       "2006      NYA   AL  rodrial01  21680727\n",
       "2007      NYA   AL  giambja01  23428571\n",
       "2008      NYA   AL  rodrial01  28000000\n",
       "2009      NYA   AL  rodrial01  33000000\n",
       "2010      NYA   AL  rodrial01  33000000\n",
       "2011      NYA   AL  rodrial01  32000000\n",
       "2012      NYA   AL  rodrial01  30000000\n",
       "2013      NYA   AL  rodrial01  29000000\n",
       "2014      LAN   NL  greinza01  26000000\n",
       "2015      LAN   NL  kershcl01  32571000\n",
       "2016      LAN   NL  kershcl01  33000000"
      ]
     },
     "execution_count": 18,
     "metadata": {},
     "output_type": "execute_result"
    }
   ],
   "source": [
    "salaries_df.sort_values(\"salary\", ascending = False).groupby(\"yearID\").first() \n",
    "\n",
    "#as you can see, for example, we have shown the highest paid baseball player in the league for each year since 1985 till 2016\n",
    "\n",
    "# Show work in this cell justifying your answer to part 4a(iii) (hint: either use .value_counts() or .groupby)"
   ]
  },
  {
   "cell_type": "code",
   "execution_count": 19,
   "id": "4b04c04e-a63d-42fd-96a6-6ebe7ac2e5ea",
   "metadata": {
    "tags": []
   },
   "outputs": [],
   "source": [
    "# Solution Cell for 4a(iv) and 4a(v)\n",
    "#Use code to find the number of rows and columns in the teams data.  Do not enter any values by hand.\n",
    "\n",
    "team_rows= teams_df.shape[0]\n",
    "\n",
    "team_col = teams_df.shape[1]\n",
    "\n",
    "salary_rows = salaries_df.shape[0]\n",
    "\n",
    "salary_col = salaries_df.shape[1]\n",
    "\n"
   ]
  },
  {
   "cell_type": "code",
   "execution_count": 20,
   "id": "5650c246",
   "metadata": {
    "tags": []
   },
   "outputs": [],
   "source": [
    "# Solution Cell for 4a(vi)\n",
    "# Use code to find the number of rows in the Teams data that are missing attendance data\n",
    "\n",
    "missing_attendance = teams_df[(np.isnan(teams_df[\"attendance\"]))].shape[0]\n"
   ]
  },
  {
   "cell_type": "code",
   "execution_count": 21,
   "id": "cd45268a",
   "metadata": {
    "deletable": false,
    "editable": false
   },
   "outputs": [
    {
     "data": {
      "text/html": [
       "<p><strong><pre style='display: inline;'>q4a</pre></strong> passed! 🌟</p>"
      ],
      "text/plain": [
       "q4a results: All test cases passed!"
      ]
     },
     "execution_count": 21,
     "metadata": {},
     "output_type": "execute_result"
    }
   ],
   "source": [
    "grader.check(\"q4a\")"
   ]
  },
  {
   "cell_type": "markdown",
   "id": "fdf4ed5d",
   "metadata": {
    "deletable": false,
    "editable": false
   },
   "source": [
    "<!-- END QUESTION -->\n",
    "\n",
    "### Question 4b) EDA:  Examining Scope and Temporality of the Data\n",
    " Use code to explore the datasets and answer the questions below:\n",
    " \n",
    " i).  How many unique teams are represented in the `teams_df` DataFrame?  Write code to calculate this and assign the answer to the variable `unique_teams`   \n",
    " \n",
    " ii). How many unique teams are represented in the `salaries_df` DataFrame? Write code to calculate this and assign the answer to `unique_teams_salary`\n",
    " \n",
    " iii).  What years does the `teams_df` data span?  \n",
    " Write code to calculate this and assign the answers to `teams_startyear` and `teams_endyear`\n",
    "\n",
    " \n",
    " iv).  What years does the `salaries_df` data span?   \n",
    " Write code to calculate this and assign the answers to `salaries_startyear` and `salaries_endyear`\n",
    " "
   ]
  },
  {
   "cell_type": "code",
   "execution_count": 21,
   "id": "5b633b72",
   "metadata": {
    "tags": []
   },
   "outputs": [
    {
     "data": {
      "text/plain": [
       "149"
      ]
     },
     "execution_count": 21,
     "metadata": {},
     "output_type": "execute_result"
    }
   ],
   "source": [
    "unique_teams = teams_df[\"teamID\"].unique().size\n",
    "\n",
    "#print out result\n",
    "unique_teams\n"
   ]
  },
  {
   "cell_type": "code",
   "execution_count": 22,
   "id": "157fc1a2",
   "metadata": {
    "tags": []
   },
   "outputs": [
    {
     "data": {
      "text/plain": [
       "35"
      ]
     },
     "execution_count": 22,
     "metadata": {},
     "output_type": "execute_result"
    }
   ],
   "source": [
    "unique_teams_salary= salaries_df[\"teamID\"].unique().size\n",
    "\n",
    "#print out result\n",
    "unique_teams_salary"
   ]
  },
  {
   "cell_type": "code",
   "execution_count": 23,
   "id": "211f804e",
   "metadata": {
    "tags": []
   },
   "outputs": [
    {
     "data": {
      "text/plain": [
       "[1871, 2022]"
      ]
     },
     "execution_count": 23,
     "metadata": {},
     "output_type": "execute_result"
    }
   ],
   "source": [
    "teams_startyear = np.min(teams_df[\"yearID\"])\n",
    "\n",
    "teams_endyear = np.max(teams_df[\"yearID\"])\n",
    "\n",
    "#print out result\n",
    "[teams_startyear, teams_endyear]"
   ]
  },
  {
   "cell_type": "code",
   "execution_count": 24,
   "id": "26331603-0d3b-4af6-bb27-56db0499cd78",
   "metadata": {
    "tags": []
   },
   "outputs": [
    {
     "data": {
      "text/plain": [
       "[1985, 2016]"
      ]
     },
     "execution_count": 24,
     "metadata": {},
     "output_type": "execute_result"
    }
   ],
   "source": [
    "salaries_startyear = np.min(salaries_df[\"yearID\"])\n",
    "\n",
    "salaries_endyear = np.max(salaries_df[\"yearID\"])\n",
    "\n",
    "#print out result\n",
    "[salaries_startyear, salaries_endyear]"
   ]
  },
  {
   "cell_type": "code",
   "execution_count": 25,
   "id": "2e84107f",
   "metadata": {
    "deletable": false,
    "editable": false
   },
   "outputs": [
    {
     "data": {
      "text/html": [
       "<p><strong><pre style='display: inline;'>q4b</pre></strong> passed! 🎉</p>"
      ],
      "text/plain": [
       "q4b results: All test cases passed!"
      ]
     },
     "execution_count": 25,
     "metadata": {},
     "output_type": "execute_result"
    }
   ],
   "source": [
    "grader.check(\"q4b\")"
   ]
  },
  {
   "cell_type": "markdown",
   "id": "d324df29",
   "metadata": {
    "deletable": false,
    "editable": false
   },
   "source": [
    "### Question 4c: \n",
    "\n",
    "If you haven't already, **read the assigned textbook readings** [on Filtering](https://learningds.org/ch/06/pandas_subsetting.html#filtering-rows)  [on Extracting Data](https://learningds.org/ch/06/pandas_subsetting.html) and [on Transforming Data](https://learningds.org/ch/06/pandas_transforming.html)\n",
    "\n",
    " - i ). For the data science approach used by the Oakland A's team in 2002, they used historical baseball data starting in 1998.    Filter the `teams_df` to create a new dataframe `teams_df_moneyball` with index `teamID` and columns `teamID`, `yearID`, `name`, `G`, `W`.  The new dataframe should only include records where the year is greater than or equal to 1998.\n",
    " \n",
    " - ii).  Add a new column called `winFrac` to the dataframe `teams_df_moneyball` that calculates the number of Wins divided by the number of Games for a given team in a given year, **rounded to the nearest hundredth**.  (Hint: Don't use any for loops).  \n",
    "\n",
    "\n",
    " - iii).  Use an appropriate extraction operator to determine the Oakland A's (\"OAK\") fraction of wins in the year 1998 (i.e. write code below  that selects this value from the `teams_df_moneyball` table) and assign it to the variable `winFrac_OAK_98`.   \n",
    "  \n",
    " \n"
   ]
  },
  {
   "cell_type": "code",
   "execution_count": 26,
   "id": "141faa0c",
   "metadata": {
    "tags": []
   },
   "outputs": [
    {
     "data": {
      "text/html": [
       "<div>\n",
       "<style scoped>\n",
       "    .dataframe tbody tr th:only-of-type {\n",
       "        vertical-align: middle;\n",
       "    }\n",
       "\n",
       "    .dataframe tbody tr th {\n",
       "        vertical-align: top;\n",
       "    }\n",
       "\n",
       "    .dataframe thead th {\n",
       "        text-align: right;\n",
       "    }\n",
       "</style>\n",
       "<table border=\"1\" class=\"dataframe\">\n",
       "  <thead>\n",
       "    <tr style=\"text-align: right;\">\n",
       "      <th></th>\n",
       "      <th>yearID</th>\n",
       "      <th>name</th>\n",
       "      <th>G</th>\n",
       "      <th>W</th>\n",
       "    </tr>\n",
       "    <tr>\n",
       "      <th>teamID</th>\n",
       "      <th></th>\n",
       "      <th></th>\n",
       "      <th></th>\n",
       "      <th></th>\n",
       "    </tr>\n",
       "  </thead>\n",
       "  <tbody>\n",
       "    <tr>\n",
       "      <th>ANA</th>\n",
       "      <td>1998</td>\n",
       "      <td>Anaheim Angels</td>\n",
       "      <td>162</td>\n",
       "      <td>85</td>\n",
       "    </tr>\n",
       "    <tr>\n",
       "      <th>ARI</th>\n",
       "      <td>1998</td>\n",
       "      <td>Arizona Diamondbacks</td>\n",
       "      <td>162</td>\n",
       "      <td>65</td>\n",
       "    </tr>\n",
       "    <tr>\n",
       "      <th>ATL</th>\n",
       "      <td>1998</td>\n",
       "      <td>Atlanta Braves</td>\n",
       "      <td>162</td>\n",
       "      <td>106</td>\n",
       "    </tr>\n",
       "    <tr>\n",
       "      <th>BAL</th>\n",
       "      <td>1998</td>\n",
       "      <td>Baltimore Orioles</td>\n",
       "      <td>162</td>\n",
       "      <td>79</td>\n",
       "    </tr>\n",
       "    <tr>\n",
       "      <th>BOS</th>\n",
       "      <td>1998</td>\n",
       "      <td>Boston Red Sox</td>\n",
       "      <td>162</td>\n",
       "      <td>92</td>\n",
       "    </tr>\n",
       "    <tr>\n",
       "      <th>...</th>\n",
       "      <td>...</td>\n",
       "      <td>...</td>\n",
       "      <td>...</td>\n",
       "      <td>...</td>\n",
       "    </tr>\n",
       "    <tr>\n",
       "      <th>SLN</th>\n",
       "      <td>2022</td>\n",
       "      <td>St. Louis Cardinals</td>\n",
       "      <td>162</td>\n",
       "      <td>93</td>\n",
       "    </tr>\n",
       "    <tr>\n",
       "      <th>TBA</th>\n",
       "      <td>2022</td>\n",
       "      <td>Tampa Bay Rays</td>\n",
       "      <td>162</td>\n",
       "      <td>86</td>\n",
       "    </tr>\n",
       "    <tr>\n",
       "      <th>TEX</th>\n",
       "      <td>2022</td>\n",
       "      <td>Texas Rangers</td>\n",
       "      <td>162</td>\n",
       "      <td>68</td>\n",
       "    </tr>\n",
       "    <tr>\n",
       "      <th>TOR</th>\n",
       "      <td>2022</td>\n",
       "      <td>Toronto Blue Jays</td>\n",
       "      <td>162</td>\n",
       "      <td>92</td>\n",
       "    </tr>\n",
       "    <tr>\n",
       "      <th>WAS</th>\n",
       "      <td>2022</td>\n",
       "      <td>Washington Nationals</td>\n",
       "      <td>162</td>\n",
       "      <td>55</td>\n",
       "    </tr>\n",
       "  </tbody>\n",
       "</table>\n",
       "<p>750 rows × 4 columns</p>\n",
       "</div>"
      ],
      "text/plain": [
       "        yearID                  name    G    W\n",
       "teamID                                        \n",
       "ANA       1998        Anaheim Angels  162   85\n",
       "ARI       1998  Arizona Diamondbacks  162   65\n",
       "ATL       1998        Atlanta Braves  162  106\n",
       "BAL       1998     Baltimore Orioles  162   79\n",
       "BOS       1998        Boston Red Sox  162   92\n",
       "...        ...                   ...  ...  ...\n",
       "SLN       2022   St. Louis Cardinals  162   93\n",
       "TBA       2022        Tampa Bay Rays  162   86\n",
       "TEX       2022         Texas Rangers  162   68\n",
       "TOR       2022     Toronto Blue Jays  162   92\n",
       "WAS       2022  Washington Nationals  162   55\n",
       "\n",
       "[750 rows x 4 columns]"
      ]
     },
     "execution_count": 26,
     "metadata": {},
     "output_type": "execute_result"
    }
   ],
   "source": [
    "# Create teams_df_moneyball dataframe\n",
    "\n",
    "\n",
    "teams_df_moneyball = teams_df[(teams_df[\"yearID\"] >= 1998)].loc[:, [\"teamID\", \"yearID\", \"name\", \"G\", \"W\"]].set_index(\"teamID\")\n",
    "\n",
    "teams_df_moneyball\n",
    "\n"
   ]
  },
  {
   "cell_type": "code",
   "execution_count": 27,
   "id": "71601c69-830d-4227-bde0-271f678d1c26",
   "metadata": {
    "tags": []
   },
   "outputs": [
    {
     "data": {
      "text/html": [
       "<div>\n",
       "<style scoped>\n",
       "    .dataframe tbody tr th:only-of-type {\n",
       "        vertical-align: middle;\n",
       "    }\n",
       "\n",
       "    .dataframe tbody tr th {\n",
       "        vertical-align: top;\n",
       "    }\n",
       "\n",
       "    .dataframe thead th {\n",
       "        text-align: right;\n",
       "    }\n",
       "</style>\n",
       "<table border=\"1\" class=\"dataframe\">\n",
       "  <thead>\n",
       "    <tr style=\"text-align: right;\">\n",
       "      <th></th>\n",
       "      <th>yearID</th>\n",
       "      <th>name</th>\n",
       "      <th>G</th>\n",
       "      <th>W</th>\n",
       "      <th>winFrac</th>\n",
       "    </tr>\n",
       "    <tr>\n",
       "      <th>teamID</th>\n",
       "      <th></th>\n",
       "      <th></th>\n",
       "      <th></th>\n",
       "      <th></th>\n",
       "      <th></th>\n",
       "    </tr>\n",
       "  </thead>\n",
       "  <tbody>\n",
       "    <tr>\n",
       "      <th>ANA</th>\n",
       "      <td>1998</td>\n",
       "      <td>Anaheim Angels</td>\n",
       "      <td>162</td>\n",
       "      <td>85</td>\n",
       "      <td>0.52</td>\n",
       "    </tr>\n",
       "    <tr>\n",
       "      <th>ARI</th>\n",
       "      <td>1998</td>\n",
       "      <td>Arizona Diamondbacks</td>\n",
       "      <td>162</td>\n",
       "      <td>65</td>\n",
       "      <td>0.40</td>\n",
       "    </tr>\n",
       "    <tr>\n",
       "      <th>ATL</th>\n",
       "      <td>1998</td>\n",
       "      <td>Atlanta Braves</td>\n",
       "      <td>162</td>\n",
       "      <td>106</td>\n",
       "      <td>0.65</td>\n",
       "    </tr>\n",
       "    <tr>\n",
       "      <th>BAL</th>\n",
       "      <td>1998</td>\n",
       "      <td>Baltimore Orioles</td>\n",
       "      <td>162</td>\n",
       "      <td>79</td>\n",
       "      <td>0.49</td>\n",
       "    </tr>\n",
       "    <tr>\n",
       "      <th>BOS</th>\n",
       "      <td>1998</td>\n",
       "      <td>Boston Red Sox</td>\n",
       "      <td>162</td>\n",
       "      <td>92</td>\n",
       "      <td>0.57</td>\n",
       "    </tr>\n",
       "  </tbody>\n",
       "</table>\n",
       "</div>"
      ],
      "text/plain": [
       "        yearID                  name    G    W  winFrac\n",
       "teamID                                                 \n",
       "ANA       1998        Anaheim Angels  162   85     0.52\n",
       "ARI       1998  Arizona Diamondbacks  162   65     0.40\n",
       "ATL       1998        Atlanta Braves  162  106     0.65\n",
       "BAL       1998     Baltimore Orioles  162   79     0.49\n",
       "BOS       1998        Boston Red Sox  162   92     0.57"
      ]
     },
     "execution_count": 27,
     "metadata": {},
     "output_type": "execute_result"
    }
   ],
   "source": [
    "# Add column called winFrac to the dataframe\n",
    "\n",
    "\n",
    "teams_df_moneyball = teams_df_moneyball.assign(winFrac = round(teams_df_moneyball[\"W\"]/teams_df_moneyball[\"G\"], 2))\n",
    "\n",
    "\n",
    "\n",
    "# Print out resulting DataFrame\n",
    "teams_df_moneyball.head()\n"
   ]
  },
  {
   "cell_type": "code",
   "execution_count": 28,
   "id": "8a30b84a-3495-430a-9a99-c6babfb8d016",
   "metadata": {
    "tags": []
   },
   "outputs": [
    {
     "data": {
      "text/plain": [
       "0.46"
      ]
     },
     "execution_count": 28,
     "metadata": {},
     "output_type": "execute_result"
    }
   ],
   "source": [
    "# Answer to part 4ci:\n",
    "\n",
    "winFrac_OAK_98= teams_df_moneyball[(teams_df_moneyball[\"yearID\"] == 1998)].loc[\"OAK\", :][\"winFrac\"]\n",
    "\n",
    "winFrac_OAK_98"
   ]
  },
  {
   "cell_type": "code",
   "execution_count": 29,
   "id": "b554ccf0",
   "metadata": {
    "deletable": false,
    "editable": false
   },
   "outputs": [
    {
     "data": {
      "text/html": [
       "<p><strong><pre style='display: inline;'>q4c</pre></strong> passed! 🙌</p>"
      ],
      "text/plain": [
       "q4c results: All test cases passed!"
      ]
     },
     "execution_count": 29,
     "metadata": {},
     "output_type": "execute_result"
    }
   ],
   "source": [
    "grader.check(\"q4c\")"
   ]
  },
  {
   "cell_type": "markdown",
   "id": "7f7664c0-aef2-4ea9-b493-26f24286d1c9",
   "metadata": {},
   "source": [
    "### EDA:  Visualizing Data \n",
    "\n",
    "Let's examine how winFrac has varied over time for the Oakland A's."
   ]
  },
  {
   "cell_type": "code",
   "execution_count": 30,
   "id": "6a5451a9-b87a-44da-8ce8-d707773618c5",
   "metadata": {},
   "outputs": [
    {
     "data": {
      "application/vnd.plotly.v1+json": {
       "config": {
        "plotlyServerURL": "https://plot.ly"
       },
       "data": [
        {
         "hovertemplate": "yearID=%{x}<br>winFrac=%{y}<extra></extra>",
         "legendgroup": "",
         "marker": {
          "color": "#636efa",
          "symbol": "circle"
         },
         "mode": "markers",
         "name": "",
         "orientation": "v",
         "showlegend": false,
         "type": "scatter",
         "x": [
          1998,
          1999,
          2000,
          2001,
          2002,
          2003,
          2004,
          2005,
          2006,
          2007,
          2008,
          2009,
          2010,
          2011,
          2012,
          2013,
          2014,
          2015,
          2016,
          2017,
          2018,
          2019,
          2020,
          2021,
          2022
         ],
         "xaxis": "x",
         "y": [
          0.46,
          0.54,
          0.57,
          0.63,
          0.64,
          0.59,
          0.56,
          0.54,
          0.57,
          0.47,
          0.47,
          0.46,
          0.5,
          0.46,
          0.58,
          0.59,
          0.54,
          0.42,
          0.43,
          0.46,
          0.6,
          0.6,
          0.6,
          0.53,
          0.37
         ],
         "yaxis": "y"
        }
       ],
       "layout": {
        "legend": {
         "tracegroupgap": 0
        },
        "margin": {
         "t": 60
        },
        "template": {
         "data": {
          "bar": [
           {
            "error_x": {
             "color": "#2a3f5f"
            },
            "error_y": {
             "color": "#2a3f5f"
            },
            "marker": {
             "line": {
              "color": "#E5ECF6",
              "width": 0.5
             },
             "pattern": {
              "fillmode": "overlay",
              "size": 10,
              "solidity": 0.2
             }
            },
            "type": "bar"
           }
          ],
          "barpolar": [
           {
            "marker": {
             "line": {
              "color": "#E5ECF6",
              "width": 0.5
             },
             "pattern": {
              "fillmode": "overlay",
              "size": 10,
              "solidity": 0.2
             }
            },
            "type": "barpolar"
           }
          ],
          "carpet": [
           {
            "aaxis": {
             "endlinecolor": "#2a3f5f",
             "gridcolor": "white",
             "linecolor": "white",
             "minorgridcolor": "white",
             "startlinecolor": "#2a3f5f"
            },
            "baxis": {
             "endlinecolor": "#2a3f5f",
             "gridcolor": "white",
             "linecolor": "white",
             "minorgridcolor": "white",
             "startlinecolor": "#2a3f5f"
            },
            "type": "carpet"
           }
          ],
          "choropleth": [
           {
            "colorbar": {
             "outlinewidth": 0,
             "ticks": ""
            },
            "type": "choropleth"
           }
          ],
          "contour": [
           {
            "colorbar": {
             "outlinewidth": 0,
             "ticks": ""
            },
            "colorscale": [
             [
              0,
              "#0d0887"
             ],
             [
              0.1111111111111111,
              "#46039f"
             ],
             [
              0.2222222222222222,
              "#7201a8"
             ],
             [
              0.3333333333333333,
              "#9c179e"
             ],
             [
              0.4444444444444444,
              "#bd3786"
             ],
             [
              0.5555555555555556,
              "#d8576b"
             ],
             [
              0.6666666666666666,
              "#ed7953"
             ],
             [
              0.7777777777777778,
              "#fb9f3a"
             ],
             [
              0.8888888888888888,
              "#fdca26"
             ],
             [
              1,
              "#f0f921"
             ]
            ],
            "type": "contour"
           }
          ],
          "contourcarpet": [
           {
            "colorbar": {
             "outlinewidth": 0,
             "ticks": ""
            },
            "type": "contourcarpet"
           }
          ],
          "heatmap": [
           {
            "colorbar": {
             "outlinewidth": 0,
             "ticks": ""
            },
            "colorscale": [
             [
              0,
              "#0d0887"
             ],
             [
              0.1111111111111111,
              "#46039f"
             ],
             [
              0.2222222222222222,
              "#7201a8"
             ],
             [
              0.3333333333333333,
              "#9c179e"
             ],
             [
              0.4444444444444444,
              "#bd3786"
             ],
             [
              0.5555555555555556,
              "#d8576b"
             ],
             [
              0.6666666666666666,
              "#ed7953"
             ],
             [
              0.7777777777777778,
              "#fb9f3a"
             ],
             [
              0.8888888888888888,
              "#fdca26"
             ],
             [
              1,
              "#f0f921"
             ]
            ],
            "type": "heatmap"
           }
          ],
          "heatmapgl": [
           {
            "colorbar": {
             "outlinewidth": 0,
             "ticks": ""
            },
            "colorscale": [
             [
              0,
              "#0d0887"
             ],
             [
              0.1111111111111111,
              "#46039f"
             ],
             [
              0.2222222222222222,
              "#7201a8"
             ],
             [
              0.3333333333333333,
              "#9c179e"
             ],
             [
              0.4444444444444444,
              "#bd3786"
             ],
             [
              0.5555555555555556,
              "#d8576b"
             ],
             [
              0.6666666666666666,
              "#ed7953"
             ],
             [
              0.7777777777777778,
              "#fb9f3a"
             ],
             [
              0.8888888888888888,
              "#fdca26"
             ],
             [
              1,
              "#f0f921"
             ]
            ],
            "type": "heatmapgl"
           }
          ],
          "histogram": [
           {
            "marker": {
             "pattern": {
              "fillmode": "overlay",
              "size": 10,
              "solidity": 0.2
             }
            },
            "type": "histogram"
           }
          ],
          "histogram2d": [
           {
            "colorbar": {
             "outlinewidth": 0,
             "ticks": ""
            },
            "colorscale": [
             [
              0,
              "#0d0887"
             ],
             [
              0.1111111111111111,
              "#46039f"
             ],
             [
              0.2222222222222222,
              "#7201a8"
             ],
             [
              0.3333333333333333,
              "#9c179e"
             ],
             [
              0.4444444444444444,
              "#bd3786"
             ],
             [
              0.5555555555555556,
              "#d8576b"
             ],
             [
              0.6666666666666666,
              "#ed7953"
             ],
             [
              0.7777777777777778,
              "#fb9f3a"
             ],
             [
              0.8888888888888888,
              "#fdca26"
             ],
             [
              1,
              "#f0f921"
             ]
            ],
            "type": "histogram2d"
           }
          ],
          "histogram2dcontour": [
           {
            "colorbar": {
             "outlinewidth": 0,
             "ticks": ""
            },
            "colorscale": [
             [
              0,
              "#0d0887"
             ],
             [
              0.1111111111111111,
              "#46039f"
             ],
             [
              0.2222222222222222,
              "#7201a8"
             ],
             [
              0.3333333333333333,
              "#9c179e"
             ],
             [
              0.4444444444444444,
              "#bd3786"
             ],
             [
              0.5555555555555556,
              "#d8576b"
             ],
             [
              0.6666666666666666,
              "#ed7953"
             ],
             [
              0.7777777777777778,
              "#fb9f3a"
             ],
             [
              0.8888888888888888,
              "#fdca26"
             ],
             [
              1,
              "#f0f921"
             ]
            ],
            "type": "histogram2dcontour"
           }
          ],
          "mesh3d": [
           {
            "colorbar": {
             "outlinewidth": 0,
             "ticks": ""
            },
            "type": "mesh3d"
           }
          ],
          "parcoords": [
           {
            "line": {
             "colorbar": {
              "outlinewidth": 0,
              "ticks": ""
             }
            },
            "type": "parcoords"
           }
          ],
          "pie": [
           {
            "automargin": true,
            "type": "pie"
           }
          ],
          "scatter": [
           {
            "fillpattern": {
             "fillmode": "overlay",
             "size": 10,
             "solidity": 0.2
            },
            "type": "scatter"
           }
          ],
          "scatter3d": [
           {
            "line": {
             "colorbar": {
              "outlinewidth": 0,
              "ticks": ""
             }
            },
            "marker": {
             "colorbar": {
              "outlinewidth": 0,
              "ticks": ""
             }
            },
            "type": "scatter3d"
           }
          ],
          "scattercarpet": [
           {
            "marker": {
             "colorbar": {
              "outlinewidth": 0,
              "ticks": ""
             }
            },
            "type": "scattercarpet"
           }
          ],
          "scattergeo": [
           {
            "marker": {
             "colorbar": {
              "outlinewidth": 0,
              "ticks": ""
             }
            },
            "type": "scattergeo"
           }
          ],
          "scattergl": [
           {
            "marker": {
             "colorbar": {
              "outlinewidth": 0,
              "ticks": ""
             }
            },
            "type": "scattergl"
           }
          ],
          "scattermapbox": [
           {
            "marker": {
             "colorbar": {
              "outlinewidth": 0,
              "ticks": ""
             }
            },
            "type": "scattermapbox"
           }
          ],
          "scatterpolar": [
           {
            "marker": {
             "colorbar": {
              "outlinewidth": 0,
              "ticks": ""
             }
            },
            "type": "scatterpolar"
           }
          ],
          "scatterpolargl": [
           {
            "marker": {
             "colorbar": {
              "outlinewidth": 0,
              "ticks": ""
             }
            },
            "type": "scatterpolargl"
           }
          ],
          "scatterternary": [
           {
            "marker": {
             "colorbar": {
              "outlinewidth": 0,
              "ticks": ""
             }
            },
            "type": "scatterternary"
           }
          ],
          "surface": [
           {
            "colorbar": {
             "outlinewidth": 0,
             "ticks": ""
            },
            "colorscale": [
             [
              0,
              "#0d0887"
             ],
             [
              0.1111111111111111,
              "#46039f"
             ],
             [
              0.2222222222222222,
              "#7201a8"
             ],
             [
              0.3333333333333333,
              "#9c179e"
             ],
             [
              0.4444444444444444,
              "#bd3786"
             ],
             [
              0.5555555555555556,
              "#d8576b"
             ],
             [
              0.6666666666666666,
              "#ed7953"
             ],
             [
              0.7777777777777778,
              "#fb9f3a"
             ],
             [
              0.8888888888888888,
              "#fdca26"
             ],
             [
              1,
              "#f0f921"
             ]
            ],
            "type": "surface"
           }
          ],
          "table": [
           {
            "cells": {
             "fill": {
              "color": "#EBF0F8"
             },
             "line": {
              "color": "white"
             }
            },
            "header": {
             "fill": {
              "color": "#C8D4E3"
             },
             "line": {
              "color": "white"
             }
            },
            "type": "table"
           }
          ]
         },
         "layout": {
          "annotationdefaults": {
           "arrowcolor": "#2a3f5f",
           "arrowhead": 0,
           "arrowwidth": 1
          },
          "autotypenumbers": "strict",
          "coloraxis": {
           "colorbar": {
            "outlinewidth": 0,
            "ticks": ""
           }
          },
          "colorscale": {
           "diverging": [
            [
             0,
             "#8e0152"
            ],
            [
             0.1,
             "#c51b7d"
            ],
            [
             0.2,
             "#de77ae"
            ],
            [
             0.3,
             "#f1b6da"
            ],
            [
             0.4,
             "#fde0ef"
            ],
            [
             0.5,
             "#f7f7f7"
            ],
            [
             0.6,
             "#e6f5d0"
            ],
            [
             0.7,
             "#b8e186"
            ],
            [
             0.8,
             "#7fbc41"
            ],
            [
             0.9,
             "#4d9221"
            ],
            [
             1,
             "#276419"
            ]
           ],
           "sequential": [
            [
             0,
             "#0d0887"
            ],
            [
             0.1111111111111111,
             "#46039f"
            ],
            [
             0.2222222222222222,
             "#7201a8"
            ],
            [
             0.3333333333333333,
             "#9c179e"
            ],
            [
             0.4444444444444444,
             "#bd3786"
            ],
            [
             0.5555555555555556,
             "#d8576b"
            ],
            [
             0.6666666666666666,
             "#ed7953"
            ],
            [
             0.7777777777777778,
             "#fb9f3a"
            ],
            [
             0.8888888888888888,
             "#fdca26"
            ],
            [
             1,
             "#f0f921"
            ]
           ],
           "sequentialminus": [
            [
             0,
             "#0d0887"
            ],
            [
             0.1111111111111111,
             "#46039f"
            ],
            [
             0.2222222222222222,
             "#7201a8"
            ],
            [
             0.3333333333333333,
             "#9c179e"
            ],
            [
             0.4444444444444444,
             "#bd3786"
            ],
            [
             0.5555555555555556,
             "#d8576b"
            ],
            [
             0.6666666666666666,
             "#ed7953"
            ],
            [
             0.7777777777777778,
             "#fb9f3a"
            ],
            [
             0.8888888888888888,
             "#fdca26"
            ],
            [
             1,
             "#f0f921"
            ]
           ]
          },
          "colorway": [
           "#636efa",
           "#EF553B",
           "#00cc96",
           "#ab63fa",
           "#FFA15A",
           "#19d3f3",
           "#FF6692",
           "#B6E880",
           "#FF97FF",
           "#FECB52"
          ],
          "font": {
           "color": "#2a3f5f"
          },
          "geo": {
           "bgcolor": "white",
           "lakecolor": "white",
           "landcolor": "#E5ECF6",
           "showlakes": true,
           "showland": true,
           "subunitcolor": "white"
          },
          "hoverlabel": {
           "align": "left"
          },
          "hovermode": "closest",
          "mapbox": {
           "style": "light"
          },
          "paper_bgcolor": "white",
          "plot_bgcolor": "#E5ECF6",
          "polar": {
           "angularaxis": {
            "gridcolor": "white",
            "linecolor": "white",
            "ticks": ""
           },
           "bgcolor": "#E5ECF6",
           "radialaxis": {
            "gridcolor": "white",
            "linecolor": "white",
            "ticks": ""
           }
          },
          "scene": {
           "xaxis": {
            "backgroundcolor": "#E5ECF6",
            "gridcolor": "white",
            "gridwidth": 2,
            "linecolor": "white",
            "showbackground": true,
            "ticks": "",
            "zerolinecolor": "white"
           },
           "yaxis": {
            "backgroundcolor": "#E5ECF6",
            "gridcolor": "white",
            "gridwidth": 2,
            "linecolor": "white",
            "showbackground": true,
            "ticks": "",
            "zerolinecolor": "white"
           },
           "zaxis": {
            "backgroundcolor": "#E5ECF6",
            "gridcolor": "white",
            "gridwidth": 2,
            "linecolor": "white",
            "showbackground": true,
            "ticks": "",
            "zerolinecolor": "white"
           }
          },
          "shapedefaults": {
           "line": {
            "color": "#2a3f5f"
           }
          },
          "ternary": {
           "aaxis": {
            "gridcolor": "white",
            "linecolor": "white",
            "ticks": ""
           },
           "baxis": {
            "gridcolor": "white",
            "linecolor": "white",
            "ticks": ""
           },
           "bgcolor": "#E5ECF6",
           "caxis": {
            "gridcolor": "white",
            "linecolor": "white",
            "ticks": ""
           }
          },
          "title": {
           "x": 0.05
          },
          "xaxis": {
           "automargin": true,
           "gridcolor": "white",
           "linecolor": "white",
           "ticks": "",
           "title": {
            "standoff": 15
           },
           "zerolinecolor": "white",
           "zerolinewidth": 2
          },
          "yaxis": {
           "automargin": true,
           "gridcolor": "white",
           "linecolor": "white",
           "ticks": "",
           "title": {
            "standoff": 15
           },
           "zerolinecolor": "white",
           "zerolinewidth": 2
          }
         }
        },
        "xaxis": {
         "anchor": "y",
         "domain": [
          0,
          1
         ],
         "title": {
          "text": "yearID"
         }
        },
        "yaxis": {
         "anchor": "x",
         "domain": [
          0,
          1
         ],
         "title": {
          "text": "winFrac"
         }
        }
       }
      }
     },
     "metadata": {},
     "output_type": "display_data"
    }
   ],
   "source": [
    "#The code below uses the module plotlyexpress, which we imported at the top of the notebook using alias px\n",
    "#Read the code below to see how to use this function, then run this cell\n",
    "\n",
    "px.scatter(teams_df_moneyball.loc[\"OAK\"],x=\"yearID\", y=\"winFrac\")"
   ]
  },
  {
   "cell_type": "markdown",
   "id": "eec1dec3",
   "metadata": {
    "deletable": false,
    "editable": false
   },
   "source": [
    "<!-- BEGIN QUESTION -->\n",
    "\n"
   ]
  },
  {
   "cell_type": "raw",
   "id": "f36602a9-6261-4798-9668-8913379f8b8f",
   "metadata": {
    "deletable": false,
    "editable": false
   },
   "source": [
    "Let's compare Oakland's winFrac to 2 other teams:  Boston Red Sox and the New York Yankees:"
   ]
  },
  {
   "cell_type": "code",
   "execution_count": 31,
   "id": "9519ae06-0522-494e-abe8-5cf18d15581c",
   "metadata": {
    "deletable": false,
    "editable": false
   },
   "outputs": [
    {
     "name": "stderr",
     "output_type": "stream",
     "text": [
      "/Users/abdullah/Library/Python/3.9/lib/python/site-packages/plotly/express/_core.py:2065: FutureWarning:\n",
      "\n",
      "When grouping with a length-1 list-like, you will need to pass a length-1 tuple to get_group in a future version of pandas. Pass `(name,)` instead of `name` to silence this warning.\n",
      "\n"
     ]
    },
    {
     "data": {
      "application/vnd.plotly.v1+json": {
       "config": {
        "plotlyServerURL": "https://plot.ly"
       },
       "data": [
        {
         "hovertemplate": "name=Oakland Athletics<br>yearID=%{x}<br>winFrac=%{y}<extra></extra>",
         "legendgroup": "",
         "marker": {
          "color": "#636efa",
          "symbol": "circle"
         },
         "mode": "markers",
         "name": "",
         "orientation": "v",
         "showlegend": false,
         "type": "scatter",
         "x": [
          1998,
          1999,
          2000,
          2001,
          2002,
          2003,
          2004,
          2005,
          2006,
          2007,
          2008,
          2009,
          2010,
          2011,
          2012,
          2013,
          2014,
          2015,
          2016,
          2017,
          2018,
          2019,
          2020,
          2021,
          2022
         ],
         "xaxis": "x",
         "y": [
          0.46,
          0.54,
          0.57,
          0.63,
          0.64,
          0.59,
          0.56,
          0.54,
          0.57,
          0.47,
          0.47,
          0.46,
          0.5,
          0.46,
          0.58,
          0.59,
          0.54,
          0.42,
          0.43,
          0.46,
          0.6,
          0.6,
          0.6,
          0.53,
          0.37
         ],
         "yaxis": "y"
        },
        {
         "hovertemplate": "name=New York Yankees<br>yearID=%{x}<br>winFrac=%{y}<extra></extra>",
         "legendgroup": "",
         "marker": {
          "color": "#636efa",
          "symbol": "circle"
         },
         "mode": "markers",
         "name": "",
         "orientation": "v",
         "showlegend": false,
         "type": "scatter",
         "x": [
          1998,
          1999,
          2000,
          2001,
          2002,
          2003,
          2004,
          2005,
          2006,
          2007,
          2008,
          2009,
          2010,
          2011,
          2012,
          2013,
          2014,
          2015,
          2016,
          2017,
          2018,
          2019,
          2020,
          2021,
          2022
         ],
         "xaxis": "x2",
         "y": [
          0.7,
          0.6,
          0.54,
          0.59,
          0.64,
          0.62,
          0.62,
          0.59,
          0.6,
          0.58,
          0.55,
          0.64,
          0.59,
          0.6,
          0.59,
          0.52,
          0.52,
          0.54,
          0.52,
          0.56,
          0.62,
          0.64,
          0.55,
          0.57,
          0.61
         ],
         "yaxis": "y2"
        },
        {
         "hovertemplate": "name=Boston Red Sox<br>yearID=%{x}<br>winFrac=%{y}<extra></extra>",
         "legendgroup": "",
         "marker": {
          "color": "#636efa",
          "symbol": "circle"
         },
         "mode": "markers",
         "name": "",
         "orientation": "v",
         "showlegend": false,
         "type": "scatter",
         "x": [
          1998,
          1999,
          2000,
          2001,
          2002,
          2003,
          2004,
          2005,
          2006,
          2007,
          2008,
          2009,
          2010,
          2011,
          2012,
          2013,
          2014,
          2015,
          2016,
          2017,
          2018,
          2019,
          2020,
          2021,
          2022
         ],
         "xaxis": "x3",
         "y": [
          0.57,
          0.58,
          0.52,
          0.51,
          0.57,
          0.59,
          0.6,
          0.59,
          0.53,
          0.59,
          0.59,
          0.59,
          0.55,
          0.56,
          0.43,
          0.6,
          0.44,
          0.48,
          0.57,
          0.57,
          0.67,
          0.52,
          0.4,
          0.57,
          0.48
         ],
         "yaxis": "y3"
        }
       ],
       "layout": {
        "annotations": [
         {
          "font": {},
          "showarrow": false,
          "text": "name=Oakland Athletics",
          "x": 0.15999999999999998,
          "xanchor": "center",
          "xref": "paper",
          "y": 1,
          "yanchor": "bottom",
          "yref": "paper"
         },
         {
          "font": {},
          "showarrow": false,
          "text": "name=New York Yankees",
          "x": 0.49999999999999994,
          "xanchor": "center",
          "xref": "paper",
          "y": 1,
          "yanchor": "bottom",
          "yref": "paper"
         },
         {
          "font": {},
          "showarrow": false,
          "text": "name=Boston Red Sox",
          "x": 0.8399999999999999,
          "xanchor": "center",
          "xref": "paper",
          "y": 1,
          "yanchor": "bottom",
          "yref": "paper"
         }
        ],
        "legend": {
         "tracegroupgap": 0
        },
        "margin": {
         "t": 60
        },
        "template": {
         "data": {
          "bar": [
           {
            "error_x": {
             "color": "#2a3f5f"
            },
            "error_y": {
             "color": "#2a3f5f"
            },
            "marker": {
             "line": {
              "color": "#E5ECF6",
              "width": 0.5
             },
             "pattern": {
              "fillmode": "overlay",
              "size": 10,
              "solidity": 0.2
             }
            },
            "type": "bar"
           }
          ],
          "barpolar": [
           {
            "marker": {
             "line": {
              "color": "#E5ECF6",
              "width": 0.5
             },
             "pattern": {
              "fillmode": "overlay",
              "size": 10,
              "solidity": 0.2
             }
            },
            "type": "barpolar"
           }
          ],
          "carpet": [
           {
            "aaxis": {
             "endlinecolor": "#2a3f5f",
             "gridcolor": "white",
             "linecolor": "white",
             "minorgridcolor": "white",
             "startlinecolor": "#2a3f5f"
            },
            "baxis": {
             "endlinecolor": "#2a3f5f",
             "gridcolor": "white",
             "linecolor": "white",
             "minorgridcolor": "white",
             "startlinecolor": "#2a3f5f"
            },
            "type": "carpet"
           }
          ],
          "choropleth": [
           {
            "colorbar": {
             "outlinewidth": 0,
             "ticks": ""
            },
            "type": "choropleth"
           }
          ],
          "contour": [
           {
            "colorbar": {
             "outlinewidth": 0,
             "ticks": ""
            },
            "colorscale": [
             [
              0,
              "#0d0887"
             ],
             [
              0.1111111111111111,
              "#46039f"
             ],
             [
              0.2222222222222222,
              "#7201a8"
             ],
             [
              0.3333333333333333,
              "#9c179e"
             ],
             [
              0.4444444444444444,
              "#bd3786"
             ],
             [
              0.5555555555555556,
              "#d8576b"
             ],
             [
              0.6666666666666666,
              "#ed7953"
             ],
             [
              0.7777777777777778,
              "#fb9f3a"
             ],
             [
              0.8888888888888888,
              "#fdca26"
             ],
             [
              1,
              "#f0f921"
             ]
            ],
            "type": "contour"
           }
          ],
          "contourcarpet": [
           {
            "colorbar": {
             "outlinewidth": 0,
             "ticks": ""
            },
            "type": "contourcarpet"
           }
          ],
          "heatmap": [
           {
            "colorbar": {
             "outlinewidth": 0,
             "ticks": ""
            },
            "colorscale": [
             [
              0,
              "#0d0887"
             ],
             [
              0.1111111111111111,
              "#46039f"
             ],
             [
              0.2222222222222222,
              "#7201a8"
             ],
             [
              0.3333333333333333,
              "#9c179e"
             ],
             [
              0.4444444444444444,
              "#bd3786"
             ],
             [
              0.5555555555555556,
              "#d8576b"
             ],
             [
              0.6666666666666666,
              "#ed7953"
             ],
             [
              0.7777777777777778,
              "#fb9f3a"
             ],
             [
              0.8888888888888888,
              "#fdca26"
             ],
             [
              1,
              "#f0f921"
             ]
            ],
            "type": "heatmap"
           }
          ],
          "heatmapgl": [
           {
            "colorbar": {
             "outlinewidth": 0,
             "ticks": ""
            },
            "colorscale": [
             [
              0,
              "#0d0887"
             ],
             [
              0.1111111111111111,
              "#46039f"
             ],
             [
              0.2222222222222222,
              "#7201a8"
             ],
             [
              0.3333333333333333,
              "#9c179e"
             ],
             [
              0.4444444444444444,
              "#bd3786"
             ],
             [
              0.5555555555555556,
              "#d8576b"
             ],
             [
              0.6666666666666666,
              "#ed7953"
             ],
             [
              0.7777777777777778,
              "#fb9f3a"
             ],
             [
              0.8888888888888888,
              "#fdca26"
             ],
             [
              1,
              "#f0f921"
             ]
            ],
            "type": "heatmapgl"
           }
          ],
          "histogram": [
           {
            "marker": {
             "pattern": {
              "fillmode": "overlay",
              "size": 10,
              "solidity": 0.2
             }
            },
            "type": "histogram"
           }
          ],
          "histogram2d": [
           {
            "colorbar": {
             "outlinewidth": 0,
             "ticks": ""
            },
            "colorscale": [
             [
              0,
              "#0d0887"
             ],
             [
              0.1111111111111111,
              "#46039f"
             ],
             [
              0.2222222222222222,
              "#7201a8"
             ],
             [
              0.3333333333333333,
              "#9c179e"
             ],
             [
              0.4444444444444444,
              "#bd3786"
             ],
             [
              0.5555555555555556,
              "#d8576b"
             ],
             [
              0.6666666666666666,
              "#ed7953"
             ],
             [
              0.7777777777777778,
              "#fb9f3a"
             ],
             [
              0.8888888888888888,
              "#fdca26"
             ],
             [
              1,
              "#f0f921"
             ]
            ],
            "type": "histogram2d"
           }
          ],
          "histogram2dcontour": [
           {
            "colorbar": {
             "outlinewidth": 0,
             "ticks": ""
            },
            "colorscale": [
             [
              0,
              "#0d0887"
             ],
             [
              0.1111111111111111,
              "#46039f"
             ],
             [
              0.2222222222222222,
              "#7201a8"
             ],
             [
              0.3333333333333333,
              "#9c179e"
             ],
             [
              0.4444444444444444,
              "#bd3786"
             ],
             [
              0.5555555555555556,
              "#d8576b"
             ],
             [
              0.6666666666666666,
              "#ed7953"
             ],
             [
              0.7777777777777778,
              "#fb9f3a"
             ],
             [
              0.8888888888888888,
              "#fdca26"
             ],
             [
              1,
              "#f0f921"
             ]
            ],
            "type": "histogram2dcontour"
           }
          ],
          "mesh3d": [
           {
            "colorbar": {
             "outlinewidth": 0,
             "ticks": ""
            },
            "type": "mesh3d"
           }
          ],
          "parcoords": [
           {
            "line": {
             "colorbar": {
              "outlinewidth": 0,
              "ticks": ""
             }
            },
            "type": "parcoords"
           }
          ],
          "pie": [
           {
            "automargin": true,
            "type": "pie"
           }
          ],
          "scatter": [
           {
            "fillpattern": {
             "fillmode": "overlay",
             "size": 10,
             "solidity": 0.2
            },
            "type": "scatter"
           }
          ],
          "scatter3d": [
           {
            "line": {
             "colorbar": {
              "outlinewidth": 0,
              "ticks": ""
             }
            },
            "marker": {
             "colorbar": {
              "outlinewidth": 0,
              "ticks": ""
             }
            },
            "type": "scatter3d"
           }
          ],
          "scattercarpet": [
           {
            "marker": {
             "colorbar": {
              "outlinewidth": 0,
              "ticks": ""
             }
            },
            "type": "scattercarpet"
           }
          ],
          "scattergeo": [
           {
            "marker": {
             "colorbar": {
              "outlinewidth": 0,
              "ticks": ""
             }
            },
            "type": "scattergeo"
           }
          ],
          "scattergl": [
           {
            "marker": {
             "colorbar": {
              "outlinewidth": 0,
              "ticks": ""
             }
            },
            "type": "scattergl"
           }
          ],
          "scattermapbox": [
           {
            "marker": {
             "colorbar": {
              "outlinewidth": 0,
              "ticks": ""
             }
            },
            "type": "scattermapbox"
           }
          ],
          "scatterpolar": [
           {
            "marker": {
             "colorbar": {
              "outlinewidth": 0,
              "ticks": ""
             }
            },
            "type": "scatterpolar"
           }
          ],
          "scatterpolargl": [
           {
            "marker": {
             "colorbar": {
              "outlinewidth": 0,
              "ticks": ""
             }
            },
            "type": "scatterpolargl"
           }
          ],
          "scatterternary": [
           {
            "marker": {
             "colorbar": {
              "outlinewidth": 0,
              "ticks": ""
             }
            },
            "type": "scatterternary"
           }
          ],
          "surface": [
           {
            "colorbar": {
             "outlinewidth": 0,
             "ticks": ""
            },
            "colorscale": [
             [
              0,
              "#0d0887"
             ],
             [
              0.1111111111111111,
              "#46039f"
             ],
             [
              0.2222222222222222,
              "#7201a8"
             ],
             [
              0.3333333333333333,
              "#9c179e"
             ],
             [
              0.4444444444444444,
              "#bd3786"
             ],
             [
              0.5555555555555556,
              "#d8576b"
             ],
             [
              0.6666666666666666,
              "#ed7953"
             ],
             [
              0.7777777777777778,
              "#fb9f3a"
             ],
             [
              0.8888888888888888,
              "#fdca26"
             ],
             [
              1,
              "#f0f921"
             ]
            ],
            "type": "surface"
           }
          ],
          "table": [
           {
            "cells": {
             "fill": {
              "color": "#EBF0F8"
             },
             "line": {
              "color": "white"
             }
            },
            "header": {
             "fill": {
              "color": "#C8D4E3"
             },
             "line": {
              "color": "white"
             }
            },
            "type": "table"
           }
          ]
         },
         "layout": {
          "annotationdefaults": {
           "arrowcolor": "#2a3f5f",
           "arrowhead": 0,
           "arrowwidth": 1
          },
          "autotypenumbers": "strict",
          "coloraxis": {
           "colorbar": {
            "outlinewidth": 0,
            "ticks": ""
           }
          },
          "colorscale": {
           "diverging": [
            [
             0,
             "#8e0152"
            ],
            [
             0.1,
             "#c51b7d"
            ],
            [
             0.2,
             "#de77ae"
            ],
            [
             0.3,
             "#f1b6da"
            ],
            [
             0.4,
             "#fde0ef"
            ],
            [
             0.5,
             "#f7f7f7"
            ],
            [
             0.6,
             "#e6f5d0"
            ],
            [
             0.7,
             "#b8e186"
            ],
            [
             0.8,
             "#7fbc41"
            ],
            [
             0.9,
             "#4d9221"
            ],
            [
             1,
             "#276419"
            ]
           ],
           "sequential": [
            [
             0,
             "#0d0887"
            ],
            [
             0.1111111111111111,
             "#46039f"
            ],
            [
             0.2222222222222222,
             "#7201a8"
            ],
            [
             0.3333333333333333,
             "#9c179e"
            ],
            [
             0.4444444444444444,
             "#bd3786"
            ],
            [
             0.5555555555555556,
             "#d8576b"
            ],
            [
             0.6666666666666666,
             "#ed7953"
            ],
            [
             0.7777777777777778,
             "#fb9f3a"
            ],
            [
             0.8888888888888888,
             "#fdca26"
            ],
            [
             1,
             "#f0f921"
            ]
           ],
           "sequentialminus": [
            [
             0,
             "#0d0887"
            ],
            [
             0.1111111111111111,
             "#46039f"
            ],
            [
             0.2222222222222222,
             "#7201a8"
            ],
            [
             0.3333333333333333,
             "#9c179e"
            ],
            [
             0.4444444444444444,
             "#bd3786"
            ],
            [
             0.5555555555555556,
             "#d8576b"
            ],
            [
             0.6666666666666666,
             "#ed7953"
            ],
            [
             0.7777777777777778,
             "#fb9f3a"
            ],
            [
             0.8888888888888888,
             "#fdca26"
            ],
            [
             1,
             "#f0f921"
            ]
           ]
          },
          "colorway": [
           "#636efa",
           "#EF553B",
           "#00cc96",
           "#ab63fa",
           "#FFA15A",
           "#19d3f3",
           "#FF6692",
           "#B6E880",
           "#FF97FF",
           "#FECB52"
          ],
          "font": {
           "color": "#2a3f5f"
          },
          "geo": {
           "bgcolor": "white",
           "lakecolor": "white",
           "landcolor": "#E5ECF6",
           "showlakes": true,
           "showland": true,
           "subunitcolor": "white"
          },
          "hoverlabel": {
           "align": "left"
          },
          "hovermode": "closest",
          "mapbox": {
           "style": "light"
          },
          "paper_bgcolor": "white",
          "plot_bgcolor": "#E5ECF6",
          "polar": {
           "angularaxis": {
            "gridcolor": "white",
            "linecolor": "white",
            "ticks": ""
           },
           "bgcolor": "#E5ECF6",
           "radialaxis": {
            "gridcolor": "white",
            "linecolor": "white",
            "ticks": ""
           }
          },
          "scene": {
           "xaxis": {
            "backgroundcolor": "#E5ECF6",
            "gridcolor": "white",
            "gridwidth": 2,
            "linecolor": "white",
            "showbackground": true,
            "ticks": "",
            "zerolinecolor": "white"
           },
           "yaxis": {
            "backgroundcolor": "#E5ECF6",
            "gridcolor": "white",
            "gridwidth": 2,
            "linecolor": "white",
            "showbackground": true,
            "ticks": "",
            "zerolinecolor": "white"
           },
           "zaxis": {
            "backgroundcolor": "#E5ECF6",
            "gridcolor": "white",
            "gridwidth": 2,
            "linecolor": "white",
            "showbackground": true,
            "ticks": "",
            "zerolinecolor": "white"
           }
          },
          "shapedefaults": {
           "line": {
            "color": "#2a3f5f"
           }
          },
          "ternary": {
           "aaxis": {
            "gridcolor": "white",
            "linecolor": "white",
            "ticks": ""
           },
           "baxis": {
            "gridcolor": "white",
            "linecolor": "white",
            "ticks": ""
           },
           "bgcolor": "#E5ECF6",
           "caxis": {
            "gridcolor": "white",
            "linecolor": "white",
            "ticks": ""
           }
          },
          "title": {
           "x": 0.05
          },
          "xaxis": {
           "automargin": true,
           "gridcolor": "white",
           "linecolor": "white",
           "ticks": "",
           "title": {
            "standoff": 15
           },
           "zerolinecolor": "white",
           "zerolinewidth": 2
          },
          "yaxis": {
           "automargin": true,
           "gridcolor": "white",
           "linecolor": "white",
           "ticks": "",
           "title": {
            "standoff": 15
           },
           "zerolinecolor": "white",
           "zerolinewidth": 2
          }
         }
        },
        "xaxis": {
         "anchor": "y",
         "domain": [
          0,
          0.31999999999999995
         ],
         "title": {
          "text": "yearID"
         }
        },
        "xaxis2": {
         "anchor": "y2",
         "domain": [
          0.33999999999999997,
          0.6599999999999999
         ],
         "matches": "x",
         "title": {
          "text": "yearID"
         }
        },
        "xaxis3": {
         "anchor": "y3",
         "domain": [
          0.6799999999999999,
          0.9999999999999999
         ],
         "matches": "x",
         "title": {
          "text": "yearID"
         }
        },
        "yaxis": {
         "anchor": "x",
         "domain": [
          0,
          1
         ],
         "title": {
          "text": "winFrac"
         }
        },
        "yaxis2": {
         "anchor": "x2",
         "domain": [
          0,
          1
         ],
         "matches": "y",
         "showticklabels": false
        },
        "yaxis3": {
         "anchor": "x3",
         "domain": [
          0,
          1
         ],
         "matches": "y",
         "showticklabels": false
        }
       }
      }
     },
     "metadata": {},
     "output_type": "display_data"
    }
   ],
   "source": [
    "#Read the entries below to see how to create this plot:\n",
    "#Then run this cell\n",
    "\n",
    "px.scatter(teams_df_moneyball.loc[[\"OAK\",\"NYA\", \"BOS\"]],x=\"yearID\", y=\"winFrac\",facet_col = 'name')"
   ]
  },
  {
   "cell_type": "markdown",
   "id": "c8e55bef-a49a-4ae3-8e82-8a030d44998d",
   "metadata": {
    "deletable": false,
    "editable": false
   },
   "source": [
    "**Observations:**\n",
    "In the cell below write down at least 3 observations you can make from these plots.\n"
   ]
  },
  {
   "cell_type": "markdown",
   "id": "35d895a8",
   "metadata": {},
   "source": [
    "First, I noticed that OAK peaked in terms of win fraction around 2022 but since then it has been decreasing generally.\n",
    "\n",
    "Also, I noticed that New York Yankess preserved their win fraction throughout the time period shown which means that its performance has been stable.\n",
    "\n",
    "Lastly, we have Boston Red Sox that also preserved its win frac although, very slowly, its win frac began to decrease in the last few years."
   ]
  },
  {
   "cell_type": "markdown",
   "id": "4393757a-614a-4d11-8bac-4fbad6363016",
   "metadata": {
    "deletable": false,
    "editable": false
   },
   "source": [
    "<!-- END QUESTION -->\n",
    "\n",
    "\n",
    "\n",
    "**Payrolls Per Team**  An interesting part of this story also takes into account the salary differences between players on these teams.   We'll examine this further in lecture and in our TA-led discussion!\n",
    "\n"
   ]
  },
  {
   "cell_type": "markdown",
   "id": "4f74f72e",
   "metadata": {},
   "source": [
    "<br/><br/>\n",
    "<hr style=\"border: 5px solid #003262;\" />\n",
    "<hr style=\"border: 1px solid #fdb515;\" />\n",
    "\n",
    "## Congratulations! You have finished Homework 2!"
   ]
  },
  {
   "cell_type": "markdown",
   "id": "4a3ea147",
   "metadata": {},
   "source": [
    "If you discussed this assignment with any other students in the class (in a manner that is acceptable as described by the Collaboration policy above) please **include their names** here:\n",
    "\n",
    "**Collaborators**: *list collaborators here*"
   ]
  },
  {
   "cell_type": "markdown",
   "id": "43b5c907-e11b-4d99-a368-2335a0042d7c",
   "metadata": {},
   "source": [
    "If while completing this assignment you reference any websites other than those linked in this assignment or provided on Canvas please list those references here:\n",
    "\n",
    "**External references**:  *list any websites you referenced*"
   ]
  },
  {
   "cell_type": "markdown",
   "id": "d65478fe",
   "metadata": {},
   "source": [
    "### Submission Instructions\n",
    "\n",
    "Before proceeding any further, **save this notebook.**\n",
    "\n",
    "After running the `grader.export()` cell provided below, **2 files will be created**: a zip file and pdf file.  You can download them using the links provided below OR by finding them in the same folder where this juptyer notebook resides in your JuptyerHub.\n",
    "\n",
    "To receive credit on this assignment, **you must submit BOTH of these files\n",
    "to their respective Gradescope portals:** \n",
    "\n",
    "\n",
    "* **Homework 2 Autograded**: Submit the zip file that is output by the `grader.export()` cell below to the HW2 Autograded assignment in Gradescope.\n",
    "\n",
    "* **Homework 2 Manually Graded**: Submit your hw02.PDF to the HW2 Manually Graded assignment in Gradescope.  **It is your responsibility to fully review your PDF file before submitting and make sure that all your lines of code are visible and any LaTeX has correctly compiled and is fully viewable.**  **YOU MUST SELECT THE PAGES CORRESPONDING TO EACH QUESTION WHEN YOU UPLOAD TO GRADESCOPE.** If not, you will lose points.    \n",
    "\n",
    "**TROUBLESHOOTING TIPS**  If you are having any issues compiling your assignment, please [read through these troubleshooting tips first](https://docs.google.com/document/d/1ndr3Wj1PSF5qzlLMaBJznwh6QGeEXjd5TAJ6nf9EJvo/edit?usp=sharing), then post any questions on Piazza.  \n",
    "\n",
    "**You are responsible for ensuring your submission follows our requirements. We will not be granting regrade requests nor extensions to submissions that don't follow instructions.** If you encounter any difficulties with submission, please don't hesitate to reach out to staff prior to the deadline."
   ]
  },
  {
   "cell_type": "markdown",
   "id": "1d812df6",
   "metadata": {
    "deletable": false,
    "editable": false
   },
   "source": [
    "## Submission\n",
    "\n",
    "Make sure you have run all cells in your notebook in order before running the cell below, so that all images/graphs appear in the output. The cell below will generate a zip file for you to submit. **Please save before exporting!**\n",
    "\n",
    "AFTER running the cell below, click on <a href='hw02.pdf' download>this link to download the PDF </a> to upload to Gradescope.  There will be a separate link that appears after running the cell below with a link to download the zip file to upload to Gradescope."
   ]
  },
  {
   "cell_type": "code",
   "execution_count": 38,
   "id": "6b9aacb8",
   "metadata": {
    "deletable": false,
    "editable": false
   },
   "outputs": [
    {
     "name": "stderr",
     "output_type": "stream",
     "text": [
      "/Users/abdullah/Library/Python/3.9/share/jupyter/nbconvert/templates/latex/display_priority.j2:32: UserWarning:\n",
      "\n",
      "Your element with mimetype(s) dict_keys(['application/vnd.plotly.v1+json']) is not able to be represented.\n",
      "\n",
      "/Users/abdullah/Library/Python/3.9/lib/python/site-packages/otter/check/notebook.py:470: UserWarning:\n",
      "\n",
      "Could not locate a PDF to include\n",
      "\n"
     ]
    },
    {
     "ename": "AttributeError",
     "evalue": "module 'nbconvert' has no attribute 'pdf'",
     "output_type": "error",
     "traceback": [
      "\u001b[0;31m---------------------------------------------------------------------------\u001b[0m",
      "\u001b[0;31mLatexFailed\u001b[0m                               Traceback (most recent call last)",
      "File \u001b[0;32m~/Library/Python/3.9/lib/python/site-packages/otter/export/exporters/via_latex.py:66\u001b[0m, in \u001b[0;36mPDFViaLatexExporter.convert_notebook\u001b[0;34m(cls, nb_path, dest, xecjk, **kwargs)\u001b[0m\n\u001b[1;32m     64\u001b[0m         output_file\u001b[38;5;241m.\u001b[39mwrite(latex_output[\u001b[38;5;241m0\u001b[39m])\n\u001b[0;32m---> 66\u001b[0m pdf_output \u001b[38;5;241m=\u001b[39m \u001b[43mnbconvert\u001b[49m\u001b[38;5;241;43m.\u001b[39;49m\u001b[43mexport\u001b[49m\u001b[43m(\u001b[49m\u001b[43mpdf_exporter\u001b[49m\u001b[43m,\u001b[49m\u001b[43m \u001b[49m\u001b[43mnb\u001b[49m\u001b[43m)\u001b[49m\n\u001b[1;32m     67\u001b[0m \u001b[38;5;28;01mwith\u001b[39;00m \u001b[38;5;28mopen\u001b[39m(dest, \u001b[38;5;124m\"\u001b[39m\u001b[38;5;124mwb\u001b[39m\u001b[38;5;124m\"\u001b[39m) \u001b[38;5;28;01mas\u001b[39;00m output_file:\n",
      "File \u001b[0;32m~/Library/Python/3.9/lib/python/site-packages/nbconvert/exporters/base.py:86\u001b[0m, in \u001b[0;36mexport\u001b[0;34m(exporter, nb, **kw)\u001b[0m\n\u001b[1;32m     85\u001b[0m \u001b[38;5;28;01mif\u001b[39;00m \u001b[38;5;28misinstance\u001b[39m(nb, NotebookNode):\n\u001b[0;32m---> 86\u001b[0m     output, resources \u001b[38;5;241m=\u001b[39m \u001b[43mexporter_instance\u001b[49m\u001b[38;5;241;43m.\u001b[39;49m\u001b[43mfrom_notebook_node\u001b[49m\u001b[43m(\u001b[49m\u001b[43mnb\u001b[49m\u001b[43m,\u001b[49m\u001b[43m \u001b[49m\u001b[43mresources\u001b[49m\u001b[43m)\u001b[49m\n\u001b[1;32m     87\u001b[0m \u001b[38;5;28;01melif\u001b[39;00m \u001b[38;5;28misinstance\u001b[39m(nb, (\u001b[38;5;28mstr\u001b[39m,)):\n",
      "File \u001b[0;32m~/Library/Python/3.9/lib/python/site-packages/nbconvert/exporters/pdf.py:197\u001b[0m, in \u001b[0;36mPDFExporter.from_notebook_node\u001b[0;34m(self, nb, resources, **kw)\u001b[0m\n\u001b[1;32m    196\u001b[0m \u001b[38;5;28mself\u001b[39m\u001b[38;5;241m.\u001b[39mlog\u001b[38;5;241m.\u001b[39minfo(\u001b[38;5;124m\"\u001b[39m\u001b[38;5;124mBuilding PDF\u001b[39m\u001b[38;5;124m\"\u001b[39m)\n\u001b[0;32m--> 197\u001b[0m \u001b[38;5;28;43mself\u001b[39;49m\u001b[38;5;241;43m.\u001b[39;49m\u001b[43mrun_latex\u001b[49m\u001b[43m(\u001b[49m\u001b[43mtex_file\u001b[49m\u001b[43m)\u001b[49m\n\u001b[1;32m    198\u001b[0m \u001b[38;5;28;01mif\u001b[39;00m \u001b[38;5;28mself\u001b[39m\u001b[38;5;241m.\u001b[39mrun_bib(tex_file):\n",
      "File \u001b[0;32m~/Library/Python/3.9/lib/python/site-packages/nbconvert/exporters/pdf.py:166\u001b[0m, in \u001b[0;36mPDFExporter.run_latex\u001b[0;34m(self, filename, raise_on_failure)\u001b[0m\n\u001b[1;32m    164\u001b[0m     \u001b[38;5;28mself\u001b[39m\u001b[38;5;241m.\u001b[39mlog\u001b[38;5;241m.\u001b[39mcritical(\u001b[38;5;124m\"\u001b[39m\u001b[38;5;132;01m%s\u001b[39;00m\u001b[38;5;124m failed: \u001b[39m\u001b[38;5;132;01m%s\u001b[39;00m\u001b[38;5;130;01m\\n\u001b[39;00m\u001b[38;5;132;01m%s\u001b[39;00m\u001b[38;5;124m\"\u001b[39m, command[\u001b[38;5;241m0\u001b[39m], command, out)\n\u001b[0;32m--> 166\u001b[0m \u001b[38;5;28;01mreturn\u001b[39;00m \u001b[38;5;28;43mself\u001b[39;49m\u001b[38;5;241;43m.\u001b[39;49m\u001b[43mrun_command\u001b[49m\u001b[43m(\u001b[49m\n\u001b[1;32m    167\u001b[0m \u001b[43m    \u001b[49m\u001b[38;5;28;43mself\u001b[39;49m\u001b[38;5;241;43m.\u001b[39;49m\u001b[43mlatex_command\u001b[49m\u001b[43m,\u001b[49m\u001b[43m \u001b[49m\u001b[43mfilename\u001b[49m\u001b[43m,\u001b[49m\u001b[43m \u001b[49m\u001b[38;5;28;43mself\u001b[39;49m\u001b[38;5;241;43m.\u001b[39;49m\u001b[43mlatex_count\u001b[49m\u001b[43m,\u001b[49m\u001b[43m \u001b[49m\u001b[43mlog_error\u001b[49m\u001b[43m,\u001b[49m\u001b[43m \u001b[49m\u001b[43mraise_on_failure\u001b[49m\n\u001b[1;32m    168\u001b[0m \u001b[43m\u001b[49m\u001b[43m)\u001b[49m\n",
      "File \u001b[0;32m~/Library/Python/3.9/lib/python/site-packages/nbconvert/exporters/pdf.py:156\u001b[0m, in \u001b[0;36mPDFExporter.run_command\u001b[0;34m(self, command_list, filename, count, log_function, raise_on_failure)\u001b[0m\n\u001b[1;32m    155\u001b[0m     msg \u001b[38;5;241m=\u001b[39m \u001b[38;5;124mf\u001b[39m\u001b[38;5;124m'\u001b[39m\u001b[38;5;124mFailed to run \u001b[39m\u001b[38;5;124m\"\u001b[39m\u001b[38;5;132;01m{\u001b[39;00mcommand\u001b[38;5;132;01m}\u001b[39;00m\u001b[38;5;124m\"\u001b[39m\u001b[38;5;124m command:\u001b[39m\u001b[38;5;130;01m\\n\u001b[39;00m\u001b[38;5;132;01m{\u001b[39;00mout_str\u001b[38;5;132;01m}\u001b[39;00m\u001b[38;5;124m'\u001b[39m\n\u001b[0;32m--> 156\u001b[0m     \u001b[38;5;28;01mraise\u001b[39;00m raise_on_failure(msg)\n\u001b[1;32m    157\u001b[0m \u001b[38;5;28;01mreturn\u001b[39;00m \u001b[38;5;28;01mFalse\u001b[39;00m  \u001b[38;5;66;03m# failure\u001b[39;00m\n",
      "\u001b[0;31mLatexFailed\u001b[0m: PDF creating failed, captured latex output:\nFailed to run \"['xelatex', 'notebook.tex', '-quiet']\" command:\nThis is XeTeX, Version 3.141592653-2.6-0.999995 (TeX Live 2023) (preloaded format=xelatex)\n restricted \\write18 enabled.\nentering extended mode\n(./notebook.tex\nLaTeX2e <2023-11-01> patch level 1\nL3 programming layer <2024-01-22>\n(/usr/local/texlive/2023basic/texmf-dist/tex/latex/base/article.cls\nDocument Class: article 2023/05/17 v1.4n Standard LaTeX document class\n(/usr/local/texlive/2023basic/texmf-dist/tex/latex/base/size10.clo))\n(/usr/local/texlive/2023basic/texmf-dist/tex/latex/graphics/graphicx.sty\n(/usr/local/texlive/2023basic/texmf-dist/tex/latex/graphics/keyval.sty)\n(/usr/local/texlive/2023basic/texmf-dist/tex/latex/graphics/graphics.sty\n(/usr/local/texlive/2023basic/texmf-dist/tex/latex/graphics/trig.sty)\n(/usr/local/texlive/2023basic/texmf-dist/tex/latex/graphics-cfg/graphics.cfg)\n(/usr/local/texlive/2023basic/texmf-dist/tex/latex/graphics-def/xetex.def)))\n(/usr/local/texlive/2023basic/texmf-dist/tex/latex/caption/caption.sty\n(/usr/local/texlive/2023basic/texmf-dist/tex/latex/caption/caption3.sty))\n(/usr/local/texlive/2023basic/texmf-dist/tex/latex/float/float.sty)\n(/usr/local/texlive/2023basic/texmf-dist/tex/latex/xcolor/xcolor.sty\n(/usr/local/texlive/2023basic/texmf-dist/tex/latex/graphics-cfg/color.cfg)\n(/usr/local/texlive/2023basic/texmf-dist/tex/latex/graphics/mathcolor.ltx))\n(/usr/local/texlive/2023basic/texmf-dist/tex/latex/tools/enumerate.sty)\n(/usr/local/texlive/2023basic/texmf-dist/tex/latex/geometry/geometry.sty\n(/usr/local/texlive/2023basic/texmf-dist/tex/generic/iftex/ifvtex.sty\n(/usr/local/texlive/2023basic/texmf-dist/tex/generic/iftex/iftex.sty)))\n(/usr/local/texlive/2023basic/texmf-dist/tex/latex/amsmath/amsmath.sty\nFor additional information on amsmath, use the `?' option.\n(/usr/local/texlive/2023basic/texmf-dist/tex/latex/amsmath/amstext.sty\n(/usr/local/texlive/2023basic/texmf-dist/tex/latex/amsmath/amsgen.sty))\n(/usr/local/texlive/2023basic/texmf-dist/tex/latex/amsmath/amsbsy.sty)\n(/usr/local/texlive/2023basic/texmf-dist/tex/latex/amsmath/amsopn.sty))\n(/usr/local/texlive/2023basic/texmf-dist/tex/latex/amsfonts/amssymb.sty\n(/usr/local/texlive/2023basic/texmf-dist/tex/latex/amsfonts/amsfonts.sty))\n(/usr/local/texlive/2023basic/texmf-dist/tex/latex/base/textcomp.sty)\n(/usr/local/texlive/2023basic/texmf-dist/tex/latex/upquote/upquote.sty)\n(/usr/local/texlive/2023basic/texmf-dist/tex/latex/eurosym/eurosym.sty)\n(/usr/local/texlive/2023basic/texmf-dist/tex/latex/fontspec/fontspec.sty\n(/usr/local/texlive/2023basic/texmf-dist/tex/latex/l3packages/xparse/xparse.sty\n(/usr/local/texlive/2023basic/texmf-dist/tex/latex/l3kernel/expl3.sty\n(/usr/local/texlive/2023basic/texmf-dist/tex/latex/l3backend/l3backend-xetex.de\nf)))\n(/usr/local/texlive/2023basic/texmf-dist/tex/latex/fontspec/fontspec-xetex.sty\n(/usr/local/texlive/2023basic/texmf-dist/tex/latex/base/fontenc.sty)\n(/usr/local/texlive/2023basic/texmf-dist/tex/latex/fontspec/fontspec.cfg)))\n(/usr/local/texlive/2023basic/texmf-dist/tex/latex/unicode-math/unicode-math.st\ny\n(/usr/local/texlive/2023basic/texmf-dist/tex/latex/unicode-math/unicode-math-xe\ntex.sty\n(/usr/local/texlive/2023basic/texmf-dist/tex/latex/l3packages/l3keys2e/l3keys2e\n.sty) (/usr/local/texlive/2023basic/texmf-dist/tex/latex/base/fix-cm.sty\n(/usr/local/texlive/2023basic/texmf-dist/tex/latex/base/ts1enc.def))\n(/usr/local/texlive/2023basic/texmf-dist/tex/latex/unicode-math/unicode-math-ta\nble.tex)))\n(/usr/local/texlive/2023basic/texmf-dist/tex/latex/fancyvrb/fancyvrb.sty)\n(/usr/local/texlive/2023basic/texmf-dist/tex/latex/grffile/grffile.sty)\n\n! LaTeX Error: File `adjustbox.sty' not found.\n\nType X to quit or <RETURN> to proceed,\nor enter new name. (Default extension: sty)\n\nEnter file name: \n! Emergency stop.\n<read *> \n         \nl.80     \\adjustboxset\n                      {max size={0.9\\linewidth}{0.9\\paperheight}}^^M\nNo pages of output.\nTranscript written on notebook.log.\n",
      "\nDuring handling of the above exception, another exception occurred:\n",
      "\u001b[0;31mAttributeError\u001b[0m                            Traceback (most recent call last)",
      "Cell \u001b[0;32mIn[38], line 2\u001b[0m\n\u001b[1;32m      1\u001b[0m \u001b[38;5;66;03m# Save your notebook first, then run this cell to export your submission.\u001b[39;00m\n\u001b[0;32m----> 2\u001b[0m \u001b[43mgrader\u001b[49m\u001b[38;5;241;43m.\u001b[39;49m\u001b[43mexport\u001b[49m\u001b[43m(\u001b[49m\u001b[43mrun_tests\u001b[49m\u001b[38;5;241;43m=\u001b[39;49m\u001b[38;5;28;43;01mTrue\u001b[39;49;00m\u001b[43m)\u001b[49m\n",
      "File \u001b[0;32m~/Library/Python/3.9/lib/python/site-packages/otter/check/utils.py:184\u001b[0m, in \u001b[0;36mgrading_mode_disabled\u001b[0;34m(wrapped, self, args, kwargs)\u001b[0m\n\u001b[1;32m    182\u001b[0m \u001b[38;5;28;01mif\u001b[39;00m \u001b[38;5;28mtype\u001b[39m(\u001b[38;5;28mself\u001b[39m)\u001b[38;5;241m.\u001b[39m_grading_mode:\n\u001b[1;32m    183\u001b[0m     \u001b[38;5;28;01mreturn\u001b[39;00m\n\u001b[0;32m--> 184\u001b[0m \u001b[38;5;28;01mreturn\u001b[39;00m \u001b[43mwrapped\u001b[49m\u001b[43m(\u001b[49m\u001b[38;5;241;43m*\u001b[39;49m\u001b[43margs\u001b[49m\u001b[43m,\u001b[49m\u001b[43m \u001b[49m\u001b[38;5;241;43m*\u001b[39;49m\u001b[38;5;241;43m*\u001b[39;49m\u001b[43mkwargs\u001b[49m\u001b[43m)\u001b[49m\n",
      "File \u001b[0;32m~/Library/Python/3.9/lib/python/site-packages/otter/check/utils.py:166\u001b[0m, in \u001b[0;36mincompatible_with.<locals>.incompatible\u001b[0;34m(wrapped, self, args, kwargs)\u001b[0m\n\u001b[1;32m    164\u001b[0m     \u001b[38;5;28;01melse\u001b[39;00m:\n\u001b[1;32m    165\u001b[0m         \u001b[38;5;28;01mreturn\u001b[39;00m\n\u001b[0;32m--> 166\u001b[0m \u001b[38;5;28;01mreturn\u001b[39;00m \u001b[43mwrapped\u001b[49m\u001b[43m(\u001b[49m\u001b[38;5;241;43m*\u001b[39;49m\u001b[43margs\u001b[49m\u001b[43m,\u001b[49m\u001b[43m \u001b[49m\u001b[38;5;241;43m*\u001b[39;49m\u001b[38;5;241;43m*\u001b[39;49m\u001b[43mkwargs\u001b[49m\u001b[43m)\u001b[49m\n",
      "File \u001b[0;32m~/Library/Python/3.9/lib/python/site-packages/otter/check/utils.py:217\u001b[0m, in \u001b[0;36mlogs_event.<locals>.event_logger\u001b[0;34m(wrapped, self, args, kwargs)\u001b[0m\n\u001b[1;32m    215\u001b[0m \u001b[38;5;28;01mexcept\u001b[39;00m \u001b[38;5;167;01mException\u001b[39;00m \u001b[38;5;28;01mas\u001b[39;00m e:\n\u001b[1;32m    216\u001b[0m     \u001b[38;5;28mself\u001b[39m\u001b[38;5;241m.\u001b[39m_log_event(event_type, success\u001b[38;5;241m=\u001b[39m\u001b[38;5;28;01mFalse\u001b[39;00m, error\u001b[38;5;241m=\u001b[39me)\n\u001b[0;32m--> 217\u001b[0m     \u001b[38;5;28;01mraise\u001b[39;00m e\n\u001b[1;32m    219\u001b[0m \u001b[38;5;28;01mif\u001b[39;00m ret \u001b[38;5;129;01mis\u001b[39;00m \u001b[38;5;28;01mNone\u001b[39;00m:\n\u001b[1;32m    220\u001b[0m     ret \u001b[38;5;241m=\u001b[39m LoggedEventReturnValue(\u001b[38;5;28;01mNone\u001b[39;00m)\n",
      "File \u001b[0;32m~/Library/Python/3.9/lib/python/site-packages/otter/check/utils.py:213\u001b[0m, in \u001b[0;36mlogs_event.<locals>.event_logger\u001b[0;34m(wrapped, self, args, kwargs)\u001b[0m\n\u001b[1;32m    208\u001b[0m \u001b[38;5;250m\u001b[39m\u001b[38;5;124;03m\"\"\"\u001b[39;00m\n\u001b[1;32m    209\u001b[0m \u001b[38;5;124;03mRuns a method, catching any errors and logging the call. Returns the unwrapped return value\u001b[39;00m\n\u001b[1;32m    210\u001b[0m \u001b[38;5;124;03mof the wrapped function.\u001b[39;00m\n\u001b[1;32m    211\u001b[0m \u001b[38;5;124;03m\"\"\"\u001b[39;00m\n\u001b[1;32m    212\u001b[0m \u001b[38;5;28;01mtry\u001b[39;00m:\n\u001b[0;32m--> 213\u001b[0m     ret: Optional[LoggedEventReturnValue[T]] \u001b[38;5;241m=\u001b[39m \u001b[43mwrapped\u001b[49m\u001b[43m(\u001b[49m\u001b[38;5;241;43m*\u001b[39;49m\u001b[43margs\u001b[49m\u001b[43m,\u001b[49m\u001b[43m \u001b[49m\u001b[38;5;241;43m*\u001b[39;49m\u001b[38;5;241;43m*\u001b[39;49m\u001b[43mkwargs\u001b[49m\u001b[43m)\u001b[49m\n\u001b[1;32m    215\u001b[0m \u001b[38;5;28;01mexcept\u001b[39;00m \u001b[38;5;167;01mException\u001b[39;00m \u001b[38;5;28;01mas\u001b[39;00m e:\n\u001b[1;32m    216\u001b[0m     \u001b[38;5;28mself\u001b[39m\u001b[38;5;241m.\u001b[39m_log_event(event_type, success\u001b[38;5;241m=\u001b[39m\u001b[38;5;28;01mFalse\u001b[39;00m, error\u001b[38;5;241m=\u001b[39me)\n",
      "File \u001b[0;32m~/Library/Python/3.9/lib/python/site-packages/otter/check/notebook.py:525\u001b[0m, in \u001b[0;36mNotebook.export\u001b[0;34m(self, nb_path, export_path, pdf, filtering, pagebreaks, files, display_link, force_save, run_tests)\u001b[0m\n\u001b[1;32m    523\u001b[0m \u001b[38;5;28;01mif\u001b[39;00m pdf_created \u001b[38;5;129;01mor\u001b[39;00m \u001b[38;5;129;01mnot\u001b[39;00m \u001b[38;5;28mself\u001b[39m\u001b[38;5;241m.\u001b[39m_nbmeta_config\u001b[38;5;241m.\u001b[39mrequire_no_pdf_confirmation:\n\u001b[1;32m    524\u001b[0m     \u001b[38;5;28;01mif\u001b[39;00m pdf_error \u001b[38;5;129;01mis\u001b[39;00m \u001b[38;5;129;01mnot\u001b[39;00m \u001b[38;5;28;01mNone\u001b[39;00m:\n\u001b[0;32m--> 525\u001b[0m         \u001b[38;5;28;01mraise\u001b[39;00m pdf_error\n\u001b[1;32m    526\u001b[0m     continue_export()\n\u001b[1;32m    527\u001b[0m \u001b[38;5;28;01melse\u001b[39;00m:\n",
      "File \u001b[0;32m~/Library/Python/3.9/lib/python/site-packages/otter/check/notebook.py:462\u001b[0m, in \u001b[0;36mNotebook.export\u001b[0;34m(self, nb_path, export_path, pdf, filtering, pagebreaks, files, display_link, force_save, run_tests)\u001b[0m\n\u001b[1;32m    460\u001b[0m pdf_path, pdf_created, pdf_error \u001b[38;5;241m=\u001b[39m \u001b[38;5;28;01mNone\u001b[39;00m, \u001b[38;5;28;01mTrue\u001b[39;00m, \u001b[38;5;28;01mNone\u001b[39;00m\n\u001b[1;32m    461\u001b[0m \u001b[38;5;28;01mif\u001b[39;00m pdf:\n\u001b[0;32m--> 462\u001b[0m     \u001b[38;5;28;01mtry\u001b[39;00m: pdf_path \u001b[38;5;241m=\u001b[39m \u001b[43mexport_notebook\u001b[49m\u001b[43m(\u001b[49m\u001b[43mnb_path\u001b[49m\u001b[43m,\u001b[49m\u001b[43m \u001b[49m\u001b[43mfiltering\u001b[49m\u001b[38;5;241;43m=\u001b[39;49m\u001b[43mfiltering\u001b[49m\u001b[43m,\u001b[49m\u001b[43m \u001b[49m\u001b[43mpagebreaks\u001b[49m\u001b[38;5;241;43m=\u001b[39;49m\u001b[43mpagebreaks\u001b[49m\u001b[43m)\u001b[49m\n\u001b[1;32m    463\u001b[0m     \u001b[38;5;28;01mexcept\u001b[39;00m \u001b[38;5;167;01mException\u001b[39;00m \u001b[38;5;28;01mas\u001b[39;00m e: pdf_error \u001b[38;5;241m=\u001b[39m e\n\u001b[1;32m    464\u001b[0m     \u001b[38;5;28;01mif\u001b[39;00m pdf_path \u001b[38;5;129;01mand\u001b[39;00m os\u001b[38;5;241m.\u001b[39mpath\u001b[38;5;241m.\u001b[39misfile(pdf_path):\n",
      "File \u001b[0;32m~/Library/Python/3.9/lib/python/site-packages/otter/export/__init__.py:36\u001b[0m, in \u001b[0;36mexport_notebook\u001b[0;34m(nb_path, dest, exporter_type, **kwargs)\u001b[0m\n\u001b[1;32m     33\u001b[0m     pdf_name \u001b[38;5;241m=\u001b[39m os\u001b[38;5;241m.\u001b[39mpath\u001b[38;5;241m.\u001b[39msplitext(nb_path)[\u001b[38;5;241m0\u001b[39m] \u001b[38;5;241m+\u001b[39m \u001b[38;5;124m\"\u001b[39m\u001b[38;5;124m.pdf\u001b[39m\u001b[38;5;124m\"\u001b[39m\n\u001b[1;32m     35\u001b[0m Exporter \u001b[38;5;241m=\u001b[39m get_exporter(exporter_type\u001b[38;5;241m=\u001b[39mexporter_type)\n\u001b[0;32m---> 36\u001b[0m \u001b[43mExporter\u001b[49m\u001b[38;5;241;43m.\u001b[39;49m\u001b[43mconvert_notebook\u001b[49m\u001b[43m(\u001b[49m\u001b[43mnb_path\u001b[49m\u001b[43m,\u001b[49m\u001b[43m \u001b[49m\u001b[43mpdf_name\u001b[49m\u001b[43m,\u001b[49m\u001b[43m \u001b[49m\u001b[38;5;241;43m*\u001b[39;49m\u001b[38;5;241;43m*\u001b[39;49m\u001b[43mkwargs\u001b[49m\u001b[43m)\u001b[49m\n\u001b[1;32m     38\u001b[0m \u001b[38;5;28;01mreturn\u001b[39;00m pdf_name\n",
      "File \u001b[0;32m~/Library/Python/3.9/lib/python/site-packages/otter/export/exporters/via_latex.py:70\u001b[0m, in \u001b[0;36mPDFViaLatexExporter.convert_notebook\u001b[0;34m(cls, nb_path, dest, xecjk, **kwargs)\u001b[0m\n\u001b[1;32m     67\u001b[0m     \u001b[38;5;28;01mwith\u001b[39;00m \u001b[38;5;28mopen\u001b[39m(dest, \u001b[38;5;124m\"\u001b[39m\u001b[38;5;124mwb\u001b[39m\u001b[38;5;124m\"\u001b[39m) \u001b[38;5;28;01mas\u001b[39;00m output_file:\n\u001b[1;32m     68\u001b[0m         output_file\u001b[38;5;241m.\u001b[39mwrite(pdf_output[\u001b[38;5;241m0\u001b[39m])\n\u001b[0;32m---> 70\u001b[0m \u001b[38;5;28;01mexcept\u001b[39;00m \u001b[43mnbconvert\u001b[49m\u001b[38;5;241;43m.\u001b[39;49m\u001b[43mpdf\u001b[49m\u001b[38;5;241m.\u001b[39mLatexFailed \u001b[38;5;28;01mas\u001b[39;00m error:\n\u001b[1;32m     71\u001b[0m     message \u001b[38;5;241m=\u001b[39m \u001b[38;5;124m\"\u001b[39m\u001b[38;5;124mThere was an error generating your LaTeX; showing full error message:\u001b[39m\u001b[38;5;130;01m\\n\u001b[39;00m\u001b[38;5;124m\"\u001b[39m\n\u001b[1;32m     72\u001b[0m     message \u001b[38;5;241m+\u001b[39m\u001b[38;5;241m=\u001b[39m indent(error\u001b[38;5;241m.\u001b[39moutput, \u001b[38;5;124m\"\u001b[39m\u001b[38;5;124m    \u001b[39m\u001b[38;5;124m\"\u001b[39m)\n",
      "\u001b[0;31mAttributeError\u001b[0m: module 'nbconvert' has no attribute 'pdf'"
     ]
    }
   ],
   "source": [
    "# Save your notebook first, then run this cell to export your submission.\n",
    "grader.export(run_tests=True)"
   ]
  },
  {
   "cell_type": "markdown",
   "id": "9c88cc4d",
   "metadata": {},
   "source": [
    " "
   ]
  }
 ],
 "metadata": {
  "kernelspec": {
   "display_name": "Python 3 (ipykernel)",
   "language": "python",
   "name": "python3"
  },
  "language_info": {
   "codemirror_mode": {
    "name": "ipython",
    "version": 3
   },
   "file_extension": ".py",
   "mimetype": "text/x-python",
   "name": "python",
   "nbconvert_exporter": "python",
   "pygments_lexer": "ipython3",
   "version": "3.9.6"
  },
  "otter": {
   "OK_FORMAT": true,
   "tests": {
    "3a": {
     "name": "3a",
     "points": 3,
     "suites": [
      {
       "cases": [
        {
         "code": ">>> assert get_hash(round(p_HHHTHT,6)) == '8621a84afb6956533591c0832ff1ba09'\n",
         "hidden": false,
         "locked": false
        }
       ],
       "scored": true,
       "setup": "",
       "teardown": "",
       "type": "doctest"
      }
     ]
    },
    "3c": {
     "name": "3c",
     "points": 1,
     "suites": [
      {
       "cases": [
        {
         "code": ">>> assert get_hash(p_hat)=='54fbf38cf649866815e0fefc46a1f6c7'\n",
         "hidden": false,
         "locked": false
        }
       ],
       "scored": true,
       "setup": "",
       "teardown": "",
       "type": "doctest"
      }
     ]
    },
    "q1a": {
     "name": "q1a",
     "points": 3,
     "suites": [
      {
       "cases": [
        {
         "code": ">>> assert get_hash(int(q1a_answer))=='da4fb5c6e93e74d3df8527599fa62642'\n>>> \n",
         "hidden": false,
         "locked": false
        }
       ],
       "scored": true,
       "setup": "",
       "teardown": "",
       "type": "doctest"
      }
     ]
    },
    "q1bcheck": {
     "name": "q1bcheck",
     "points": 0,
     "suites": [
      {
       "cases": [
        {
         "code": ">>> assert get_hash(round(q1b_answer,6)) == '0f7087f36d3e157843feb7566cb4d407'\n",
         "hidden": false,
         "locked": false
        }
       ],
       "scored": true,
       "setup": "",
       "teardown": "",
       "type": "doctest"
      }
     ]
    },
    "q1ccheck": {
     "name": "q1ccheck",
     "points": 0,
     "suites": [
      {
       "cases": [
        {
         "code": ">>> assert get_hash(round(q1c_answer,6))== 'caed457b2e3a7d5fa3ede3de63e1fe34'\n",
         "hidden": false,
         "locked": false
        }
       ],
       "scored": true,
       "setup": "",
       "teardown": "",
       "type": "doctest"
      }
     ]
    },
    "q4a": {
     "name": "q4a",
     "points": 5,
     "suites": [
      {
       "cases": [
        {
         "code": ">>> # TEST\n>>> assert get_hash(team_rows)== '51be2fed6c55f5aa0c16ff14c140b187'\n",
         "hidden": false,
         "locked": false
        },
        {
         "code": ">>> # TEST\n>>> \n>>> assert get_hash(team_col)== '642e92efb79421734881b53e1e1b18b6'\n",
         "hidden": false,
         "locked": false
        },
        {
         "code": ">>> # TEST\n>>> assert get_hash(salary_rows) == '398a516d8fbfdd9158eec76b283dd9ce'\n",
         "hidden": false,
         "locked": false
        },
        {
         "code": ">>> # TEST\n>>> assert get_hash(salary_col) == 'e4da3b7fbbce2345d7772b0674a318d5'\n",
         "hidden": false,
         "locked": false
        },
        {
         "code": ">>> # TEST\n>>> assert get_hash(missing_attendance) == 'd395771085aab05244a4fb8fd91bf4ee'\n>>> \n",
         "hidden": false,
         "locked": false
        }
       ],
       "scored": true,
       "setup": "",
       "teardown": "",
       "type": "doctest"
      }
     ]
    },
    "q4b": {
     "name": "q4b",
     "points": 4,
     "suites": [
      {
       "cases": [
        {
         "code": ">>> # TEST\n>>> assert get_hash(unique_teams) == 'f2217062e9a397a1dca429e7d70bc6ca'\n",
         "hidden": false,
         "locked": false
        },
        {
         "code": ">>> # TEST\n>>> assert get_hash(unique_teams_salary) == '1c383cd30b7c298ab50293adfecb7b18'\n",
         "hidden": false,
         "locked": false
        },
        {
         "code": ">>> # TEST\n>>> \n>>> assert get_hash(teams_startyear) ==  'fb8feff253bb6c834deb61ec76baa893'\n",
         "hidden": false,
         "locked": false
        },
        {
         "code": ">>> # TEST\n>>> \n>>> assert get_hash(teams_endyear) == '3a824154b16ed7dab899bf000b80eeee'\n",
         "hidden": false,
         "locked": false
        },
        {
         "code": ">>> # TEST\n>>> assert get_hash(salaries_startyear) == '1f36c15d6a3d18d52e8d493bc8187cb9'\n",
         "hidden": false,
         "locked": false
        },
        {
         "code": ">>> assert get_hash(salaries_endyear) == '95192c98732387165bf8e396c0f2dad2'\n",
         "hidden": false,
         "locked": false
        }
       ],
       "scored": true,
       "setup": "",
       "teardown": "",
       "type": "doctest"
      }
     ]
    },
    "q4c": {
     "name": "q4c",
     "points": 4,
     "suites": [
      {
       "cases": [
        {
         "code": ">>> # TEST\n>>> assert get_hash(winFrac_OAK_98)== '3b97a72e9bc7f5c5e225aec9b0bf548c'\n",
         "hidden": false,
         "locked": false
        },
        {
         "code": ">>> # TEST\n>>> assert get_hash(teams_df_moneyball.shape[1]) == 'e4da3b7fbbce2345d7772b0674a318d5'\n",
         "hidden": false,
         "locked": false
        },
        {
         "code": ">>> # TEST\n>>> assert get_hash(teams_df_moneyball.shape[0]) == 'b137fdd1f79d56c7edf3365fea7520f2'\n",
         "hidden": false,
         "locked": false
        },
        {
         "code": ">>> # TEST \n>>> assert get_hash(teams_df_moneyball.query(\"yearID==2010\").loc[\"BOS\",\"winFrac\"]) == '10efc2614821dcf1b1ebc941ebd6ce1f'\n",
         "hidden": false,
         "locked": false
        }
       ],
       "scored": true,
       "setup": "",
       "teardown": "",
       "type": "doctest"
      }
     ]
    }
   }
  }
 },
 "nbformat": 4,
 "nbformat_minor": 5
}
