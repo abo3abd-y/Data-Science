{
 "cells": [
  {
   "cell_type": "code",
   "execution_count": 2,
   "id": "20e68e4c",
   "metadata": {
    "deletable": false,
    "editable": false
   },
   "outputs": [],
   "source": [
    "# Initialize Otter\n",
    "import otter\n",
    "grader = otter.Notebook(\"hw041.ipynb\")"
   ]
  },
  {
   "cell_type": "markdown",
   "id": "0a41ef94",
   "metadata": {},
   "source": [
    "# Homework 4\n",
    "\n",
    "## Due Date: Thursday, Feb 8 by 11:59 PM MT on Gradescope\n",
    "\n",
    "\n",
    "## Collaboration Policy\n",
    "\n",
    "Data science is a collaborative activity.  However a key step in learning and retention is **creating solutions on your own.**  \n",
    "\n",
    "Below are examples of acceptable vs unacceptable use of resources and collaboration when doing HW assignments in CSCI 3022.\n",
    "\n",
    "\n",
    "The following would be some **examples of cheating** when working on HW assignments in CSCI 3022.  Any of these constitute a **violation of the course's collaboration policy and will result in an F in the course and a trip to the honor council**.   \n",
    "\n",
    "\n",
    " - Consulting web pages that may have a solution to a given homework problem or one similar is cheating.  However, consulting the class notes, and web pages that explain the material taught in class but do NOT show a solution to the homework problem in question are permissible to view.  Clearly, there's a fuzzy line here between a valid use of resources and cheating. To avoid this line, one should merely consult the course notes, the course textbook, and references that contain syntax and/or formulas.\n",
    " - Copying a segment of code or math solution of three lines or more from another student from a printout, handwritten copy, or by looking at their computer screen \n",
    " - Allowing another student to copy a segment of your code or math solution of three lines or more\n",
    " - Taking a copy of another student's work (or a solution found online) and then editing that copy\n",
    " - Reading someone else’s solution to a problem on the HW before writing your own.\n",
    " - Asking someone to write all or part of a program or solution for you.\n",
    " - Asking someone else for the code necessary to fix the error for you, other than for simple syntactical errors\n",
    " \n",
    "\n",
    "\n",
    "On the other hand, the following are some **examples of things which would NOT usually be\n",
    "considered to be cheating**:\n",
    " - Working on a HW problem on your own first and then discussing with a classmate a particular part in the problem solution where you are stuck.  After clarifying any questions you should then continue to write your solution independently.\n",
    " - Asking someone (or searching online) how a particular construct in the language works.\n",
    " - Asking someone (or searching online) how to formulate a particular construct in the language.\n",
    " - Asking someone for help in finding an error in your program.  \n",
    " - Asking someone why a particular construct does not work as you expected in a given program.\n",
    "   \n",
    "\n",
    "To test whether you are truly doing your own work and retaining what you've learned you should be able to easily reproduce from scratch and explain a HW solution that was your own when asked in office hours by a TA/Instructor or on a quiz/exam.   \n",
    "\n",
    "\n",
    "If you have difficulty in formulating the general solution to a problem on your own, or\n",
    "you have difficulty in translating that general solution into a program, it is advisable to see\n",
    "your instructor or teaching assistant rather than another student as this situation can easily\n",
    "lead to a, possibly inadvertent, cheating situation.\n",
    "\n",
    "We are here to help!  Visit HW Hours and/or post questions on Piazza!\n"
   ]
  },
  {
   "cell_type": "markdown",
   "id": "e4d8a09d",
   "metadata": {},
   "source": [
    "If while completing this assignment you reference any websites other than those linked in this assignment or provided on Canvas please list those references here:\n",
    "\n",
    "**External references**:  *list any websites you referenced"
   ]
  },
  {
   "cell_type": "markdown",
   "id": "24b45ac0",
   "metadata": {},
   "source": [
    "#### Grading\n",
    "Grading is broken down into autograded answers and manually graded answers. \n",
    "\n",
    "For autograded answers, the results of your code are compared to provided and/or hidden tests.\n",
    "\n",
    "For manually graded answers you must show and explain all steps.  Graders will evaluate how well you answered the question and/or fulfilled the requirements of the question.\n",
    "\n",
    "\n",
    "### Score breakdown\n",
    "\n",
    "\n",
    "\n",
    "Question | Points | Grading Type\n",
    "--- | --- | ---\n",
    "Question 1 | 5 | autograded\n",
    "Question 2 | 4 | manual\n",
    "Question 3 | 7 | manual\n",
    "Question 4a | 4 | manual\n",
    "Question 4bi-iii | 6 | autograded\n",
    "Question 4biii | 4 | manual\n",
    "Question 5 | 9 | manual\n",
    "Question 6 | 11 | manual\n",
    "|Total | 50\n",
    "\n",
    "## Recommended Readings for this HW:\n",
    "\n",
    "- [Probability of Equally Likely Outcomes](https://chrispiech.github.io/probabilityForComputerScientists/en/part1/equally_likely/)\n",
    "- [Law of Total Probability](https://chrispiech.github.io/probabilityForComputerScientists/en/part1/law_total/)\n",
    "- [Bayes Theorem](https://chrispiech.github.io/probabilityForComputerScientists/en/part1/bayes_theorem/)\n",
    "\n",
    "- [Computational and Inferential Thinking: Section 9.5 - Finding Probabilities](https://inferentialthinking.com/chapters/09/5/Finding_Probabilities.html)\n",
    "- [Computational and Inferential Thinking: Chapter 18: Updating Predictions](https://inferentialthinking.com/chapters/18/Updating_Predictions.html)\n",
    "- [Computational and Inferential Thinking: Section 9.3 - Simulation](https://learningds.org/ch/10/eda_intro.html)\n",
    "- [Theory Meets Data: Chapters 1, 2 and Sections 3.1 and 3.2](http://stat88.org/textbook/content/Chapter_01/00_The_Basics.html) \n",
    "\n",
    "\n"
   ]
  },
  {
   "cell_type": "markdown",
   "id": "c0eec3bc",
   "metadata": {},
   "source": [
    "<a id='top'></a>\n",
    "---\n",
    "**Shortcuts:**  [Problem 2](#p2) | [Problem 3](#p3) | [Problem 4](#p4) | [Problem 5](#p5) |  [Problem 6](#p6) \n",
    "---\n",
    "<hr style=\"border: 5px solid #003262;\" />\n",
    "<hr style=\"border: 1px solid #fdb515;\" />\n",
    "\n"
   ]
  },
  {
   "cell_type": "markdown",
   "id": "20206110",
   "metadata": {},
   "source": [
    "In this homework you'll investigate probability. You'll also use probability simulations to estimate probabilities, gain intuition about random processes and to check your pencil and paper work.   \n"
   ]
  },
  {
   "cell_type": "code",
   "execution_count": 3,
   "id": "931c6bb1",
   "metadata": {
    "scrolled": true
   },
   "outputs": [],
   "source": [
    "import pandas as pd\n",
    "import numpy as np\n",
    "import hashlib\n",
    "import matplotlib.pylab as plt\n",
    "%matplotlib inline\n",
    "\n",
    "\n",
    "def get_hash(num):\n",
    "    \"\"\"Helper function for assessing correctness\"\"\"\n",
    "    return hashlib.md5(str(num).encode()).hexdigest()"
   ]
  },
  {
   "cell_type": "markdown",
   "id": "638ea3bb",
   "metadata": {},
   "source": [
    "### Problem 1: Roulette!\n",
    "\n",
    "\n",
    "A Nevada roulette wheel has 38 pockets and a small ball that rests on the wheel. When the wheel is spun, the ball comes to rest in one of the 38 pockets. That pocket is declared the winner. \n",
    "\n",
    "The pockets are labeled 0, 00, 1, 2, 3, 4, ... , 36. Pockets 0 and 00 are green, and the other pockets are alternately red and black. Below is an example of a roulette wheel!"
   ]
  },
  {
   "cell_type": "markdown",
   "id": "141c584c",
   "metadata": {},
   "source": [
    "<img src=\"img/roulette_wheel.jpeg\" width=\"330px\">"
   ]
  },
  {
   "cell_type": "markdown",
   "id": "ffd92b12",
   "metadata": {},
   "source": [
    "\n",
    "\n",
    "\n"
   ]
  },
  {
   "cell_type": "markdown",
   "id": "a2774291",
   "metadata": {},
   "source": [
    "\n",
    "On each spin of a roulette wheel, all 38 pockets are equally likely to be the winner regardless of the results of other spins. Among the 38 pockets, 18 are red, 18 black, and 2 green. "
   ]
  },
  {
   "cell_type": "markdown",
   "id": "ccb712bb",
   "metadata": {
    "deletable": false,
    "editable": false
   },
   "source": [
    "**In each part below, write code that evaluates to the chance of the event described.**\n",
    "\n",
    "**Part 1A (1 pt).**  What is the probability the winning pocket is black on all of the first three spins?\n"
   ]
  },
  {
   "cell_type": "code",
   "execution_count": 4,
   "id": "21341f68",
   "metadata": {
    "execution": {
     "iopub.execute_input": "2022-02-27T07:01:20.937159Z",
     "iopub.status.busy": "2022-02-27T07:01:20.936576Z",
     "iopub.status.idle": "2022-02-27T07:01:20.938631Z",
     "shell.execute_reply": "2022-02-27T07:01:20.939061Z"
    },
    "tags": []
   },
   "outputs": [
    {
     "data": {
      "text/plain": [
       "0.10628371482723427"
      ]
     },
     "execution_count": 4,
     "metadata": {},
     "output_type": "execute_result"
    }
   ],
   "source": [
    "first_three_black = (18/38)**3 #ways of getting black in 3 groups / ways of grouping 3 sockets from 38 items\n",
    "first_three_black"
   ]
  },
  {
   "cell_type": "code",
   "execution_count": 5,
   "id": "035b78f1",
   "metadata": {
    "deletable": false,
    "editable": false
   },
   "outputs": [
    {
     "data": {
      "text/html": [
       "<p><strong><pre style='display: inline;'>q1a</pre></strong> passed! 🌟</p>"
      ],
      "text/plain": [
       "q1a results: All test cases passed!"
      ]
     },
     "execution_count": 5,
     "metadata": {},
     "output_type": "execute_result"
    }
   ],
   "source": [
    "grader.check(\"q1a\")"
   ]
  },
  {
   "cell_type": "markdown",
   "id": "7c7ee8be",
   "metadata": {
    "deletable": false,
    "editable": false
   },
   "source": [
    "**Part 1B (1 pt)**  What is the probability the color green never wins in the first 10 spins?"
   ]
  },
  {
   "cell_type": "code",
   "execution_count": 6,
   "id": "4fdbbb20",
   "metadata": {
    "execution": {
     "iopub.execute_input": "2022-02-27T07:01:20.989412Z",
     "iopub.status.busy": "2022-02-27T07:01:20.988918Z",
     "iopub.status.idle": "2022-02-27T07:01:20.991252Z",
     "shell.execute_reply": "2022-02-27T07:01:20.990857Z"
    },
    "tags": []
   },
   "outputs": [
    {
     "data": {
      "text/plain": [
       "0.5823566532299392"
      ]
     },
     "execution_count": 6,
     "metadata": {},
     "output_type": "execute_result"
    }
   ],
   "source": [
    "no_green = ((36/38)**10)\n",
    "no_green"
   ]
  },
  {
   "cell_type": "code",
   "execution_count": 7,
   "id": "9e4f162c",
   "metadata": {
    "deletable": false,
    "editable": false
   },
   "outputs": [
    {
     "data": {
      "text/html": [
       "<p><strong><pre style='display: inline;'>q1b</pre></strong> passed! 💯</p>"
      ],
      "text/plain": [
       "q1b results: All test cases passed!"
      ]
     },
     "execution_count": 7,
     "metadata": {},
     "output_type": "execute_result"
    }
   ],
   "source": [
    "grader.check(\"q1b\")"
   ]
  },
  {
   "cell_type": "markdown",
   "id": "1f4a6e57",
   "metadata": {
    "deletable": false,
    "editable": false
   },
   "source": [
    "**Part 1C (1 pt)** What is the probability the color green wins at least once on the first 10 spins?\n"
   ]
  },
  {
   "cell_type": "code",
   "execution_count": 8,
   "id": "de76de56",
   "metadata": {
    "execution": {
     "iopub.execute_input": "2022-02-27T07:01:21.010085Z",
     "iopub.status.busy": "2022-02-27T07:01:21.009592Z",
     "iopub.status.idle": "2022-02-27T07:01:21.012033Z",
     "shell.execute_reply": "2022-02-27T07:01:21.011548Z"
    },
    "tags": []
   },
   "outputs": [],
   "source": [
    "at_least_one_green = 1 - (36/38)**10"
   ]
  },
  {
   "cell_type": "code",
   "execution_count": 9,
   "id": "4b659289",
   "metadata": {
    "deletable": false,
    "editable": false
   },
   "outputs": [
    {
     "data": {
      "text/html": [
       "<p><strong><pre style='display: inline;'>q1c</pre></strong> passed! ✨</p>"
      ],
      "text/plain": [
       "q1c results: All test cases passed!"
      ]
     },
     "execution_count": 9,
     "metadata": {},
     "output_type": "execute_result"
    }
   ],
   "source": [
    "grader.check(\"q1c\")"
   ]
  },
  {
   "cell_type": "markdown",
   "id": "d4001160",
   "metadata": {
    "deletable": false,
    "editable": false
   },
   "source": [
    "**Part 1D (2 pts).** What is the probability two of the three colors never win in the first 10 spins?\n",
    "\n"
   ]
  },
  {
   "cell_type": "code",
   "execution_count": 10,
   "id": "2932ea73",
   "metadata": {
    "execution": {
     "iopub.execute_input": "2022-02-27T07:01:21.032040Z",
     "iopub.status.busy": "2022-02-27T07:01:21.031350Z",
     "iopub.status.idle": "2022-02-27T07:01:21.034478Z",
     "shell.execute_reply": "2022-02-27T07:01:21.033937Z"
    },
    "tags": []
   },
   "outputs": [],
   "source": [
    "lone_winners = (18/38)**10 + (18/38)**10 + (2/38)**10# prob. that green and black never wins, green and red never wins, and black and red never wins"
   ]
  },
  {
   "cell_type": "code",
   "execution_count": 11,
   "id": "51cb1f90",
   "metadata": {
    "deletable": false,
    "editable": false
   },
   "outputs": [
    {
     "data": {
      "text/html": [
       "<p><strong><pre style='display: inline;'>q14</pre></strong> passed! 🍀</p>"
      ],
      "text/plain": [
       "q14 results: All test cases passed!"
      ]
     },
     "execution_count": 11,
     "metadata": {},
     "output_type": "execute_result"
    }
   ],
   "source": [
    "grader.check(\"q14\")"
   ]
  },
  {
   "cell_type": "markdown",
   "id": "cdeb51fe",
   "metadata": {
    "deletable": false,
    "editable": false
   },
   "source": [
    "<!-- BEGIN QUESTION -->\n",
    "\n",
    "***\n",
    "\n",
    "[Back to top](#top)\n",
    "\n",
    "<a id='p2'></a>\n",
    "\n",
    "### Problem 2\n",
    "\n",
    "Let $A$ and $B$ be events in a sample space $\\Omega$.  \n",
    "\n",
    "Suppose that the probability that $A$ occurs is $0.2$, the probability that $B$ occurs is $0.6$, and the probability that neither $A$ nor $B$ occur is $0.3$ (that is, the joint probability that $A$ doesn't occur AND $B$ doesn't occur is  $0.3$). \n",
    "\n",
    "**Determine if you have enough informatin to answer the following questions.  If so, write your solution showing all steps.  If not, explain what additional information you would need.**\n",
    "\n",
    "\n",
    "**2a) (2 pts)**  What is $P(A, B)$?\n",
    "\n",
    "**2b) (2 pts)**  What is $P(B\\mid A')$?\n",
    "\n",
    "**Hint:  Use the information provided to create a joint probability table for $A$ and $B$.**\n",
    "\n",
    "Write up your full solution to both questions in the SAME box below using LaTeX (not code).  Show all steps fully justifying your answers.  \n"
   ]
  },
  {
   "cell_type": "markdown",
   "id": "0312fbc2",
   "metadata": {},
   "source": [
    "## A)\n",
    "\n",
    "In here, we can use conditional probability to try to determine how to find the answer:\n",
    "\n",
    "$$P(A,B) = P(B) \\cdot P(A | B) = P(A) \\cdot (B | A)$$\n",
    "\n",
    "But, we do not know those conditional probabilities. However, there is also another formula for the intersection probability:\n",
    "\n",
    "$$P(A or B) = P(A) + P(B) - P(A,B)$$\n",
    "\n",
    "Which means:\n",
    "\n",
    "$$P(A , B) = P(A) + P(B) - P(A or B)$$\n",
    "\n",
    "Notice that according to the complement rule:\n",
    "\n",
    "$$P(A',B') = 1 - P(A or B) = 0.3$$\n",
    "\n",
    "Which means: \n",
    "\n",
    "$$P(A or B) = 0.7$$\n",
    "\n",
    "Therefore,\n",
    "\n",
    "$$P(A , B) = P(A) + P(B) - P(A or B) = 0.2 + 0.6 - 0.7 = 0.8 - 0.7 = 0.1$$\n",
    "\n",
    "## B)\n",
    "\n",
    "Now, to solve this, we use conditional probability:\n",
    "\n",
    "$$P(B | A') = \\frac{P(B,A')}{P(A')}$$\n",
    "\n",
    "However, we do not know what $P(B, A')$ is, but we can visualize this in a venn diagram. This basically says that we want to know B as long as it does not have the elements of A. So, the union of A and B must not be in this probability. Thus, very clearly, this can be simplified in many ways (I'll list two ways here):\n",
    "\n",
    "$$P(B, A') = P(B) - P(A,B) = P(A or B) - P(A)$$\n",
    "\n",
    "We will choose the first part to solve for $P(B, A')$:\n",
    "\n",
    "$$P(B, A') = P(B) - P(A,B) = 0.6 - 0.1 = 0.5$$\n",
    "\n",
    "Now, for $P(A')$, we use the complement rule $P(A') = 1 - P(A) = 1 - 0.2 = 0.8$\n",
    "\n",
    "Thus,\n",
    "\n",
    "$$P(B | A') = \\frac{0.5}{0.8} = \\frac{5}{8}$$"
   ]
  },
  {
   "cell_type": "markdown",
   "id": "0e170d08",
   "metadata": {
    "deletable": false,
    "editable": false
   },
   "source": [
    "<!-- END QUESTION -->\n",
    "\n",
    "To check your answer for Problem 2a, enter the answer (just the probability) you came up with in the cell below.  If you said you didn't have enough information, enter the number 0.  Note that this is just a public test. Full credit requires that you show all your work written in LaTeX fully justifying your answer in the cell above.  "
   ]
  },
  {
   "cell_type": "code",
   "execution_count": 12,
   "id": "73372c9e",
   "metadata": {
    "tags": []
   },
   "outputs": [],
   "source": [
    "q2a_answer = 0.1"
   ]
  },
  {
   "cell_type": "code",
   "execution_count": 13,
   "id": "3d59d159",
   "metadata": {
    "deletable": false,
    "editable": false
   },
   "outputs": [
    {
     "data": {
      "text/html": [
       "<p><strong><pre style='display: inline;'>q2acheck</pre></strong> passed! 🍀</p>"
      ],
      "text/plain": [
       "q2acheck results: All test cases passed!"
      ]
     },
     "execution_count": 13,
     "metadata": {},
     "output_type": "execute_result"
    }
   ],
   "source": [
    "grader.check(\"q2acheck\")"
   ]
  },
  {
   "cell_type": "markdown",
   "id": "f4fdf61c",
   "metadata": {
    "deletable": false,
    "editable": false
   },
   "source": [
    "To check your answer for Problem 2b, enter the answer you came up with (just the probability) in the cell below. If you said you didn't have enough information, enter the number 0. Note that this is just a public test. Full credit requires that you show all your work written in LaTeX fully justifying your answer in the Markdown cell provided above.  "
   ]
  },
  {
   "cell_type": "code",
   "execution_count": 14,
   "id": "b454f3d3",
   "metadata": {
    "tags": []
   },
   "outputs": [],
   "source": [
    "q2b_answer = 5/8 # p(b and not a) = p(a or b) - p(a)"
   ]
  },
  {
   "cell_type": "code",
   "execution_count": 15,
   "id": "629fcf7f",
   "metadata": {
    "deletable": false,
    "editable": false
   },
   "outputs": [
    {
     "data": {
      "text/html": [
       "<p><strong><pre style='display: inline;'>q2bcheck</pre></strong> passed! ✨</p>"
      ],
      "text/plain": [
       "q2bcheck results: All test cases passed!"
      ]
     },
     "execution_count": 15,
     "metadata": {},
     "output_type": "execute_result"
    }
   ],
   "source": [
    "grader.check(\"q2bcheck\")"
   ]
  },
  {
   "cell_type": "markdown",
   "id": "2ba3c6c2",
   "metadata": {
    "deletable": false,
    "editable": false
   },
   "source": [
    "<!-- BEGIN QUESTION -->\n",
    "\n",
    "[Back to top](#top)\n",
    "\n",
    "<a id='p3'></a>\n",
    "\n",
    "### Problem 3\n",
    "\n",
    "The accuracy of a diagnostic test is often described using the following terms:\n",
    "\n",
    " - Test Sensitivity: Ability to detect a positive case (i.e. probability that the test is positive given that the person actually has the virus).\n",
    "\n",
    " - Test Specificity:  Ability to determine a negative case (i.e. the probability that a person tests negative given that they don't have the virus)).\n",
    "\n",
    "\n",
    "Suppose a  diagnostic test for a virus is reported to have $90\\%$ sensitivity and $92\\%$ specificity.\n",
    "\n",
    "Suppose $2\\%$ of the population has the virus in question.  \n",
    "\n",
    "Answer the following questions all in ONE cell below using LaTeX.  Show all steps.\n",
    "\n",
    "**3a) (6 pts)**.  If a person is chosen at random from the population and the diagnostic test indicates that they have the virus, what is the conditional probability that they do, in fact, have the virus?    Write up your full solution using LaTeX.\n",
    "\n",
    "**3b) (1 pt)**.  Terminology: What is the **prior** and what is the **likelihood** in this scenario?\n"
   ]
  },
  {
   "cell_type": "markdown",
   "id": "8df366ed",
   "metadata": {},
   "source": [
    "### A)\n",
    "\n",
    "Assuming that $A = \\text{You test positive}$ and $B = \\text{Have disease}$, thus we can rewrite the question as $P(B | A)$, which can, according to conditional probability, be simplified to:\n",
    "\n",
    "$$P(B | A) = \\frac{P(A,B)}{P(A)}$$\n",
    "\n",
    "We do not know either of those directly, so let's analyze them even futher: $$P(A,B) = P(B) \\cdot P(A | B) = P(A) \\cdot P(B|A).$$\n",
    "\n",
    "Obviously, we will pick the first option because the second option is the thing that we are trying to solve. Notice that $P(A|B)$ is already given (0.9) as well as P(B) = 0.02. Thus:\n",
    "\n",
    "$$P(A | B) = 0.9 * 0.02 = 0.018$$\n",
    "\n",
    "Now, for $P(A)$, this can be expanded to the following: Probability that I test positive and that I have the diease plus the probability that I test positive but I do not have the disease, or:\n",
    "\n",
    "$$P(A) = P(A , B)  + P(A , B') = P(B) \\cdot P(A | B) + P(A | B') \\cdot P(B')$$\n",
    "\n",
    "Now, $P(A|B)$ is given as mentioned before as well as $P(B)$. We can find $P(B')$ and $P(A | B')$ with the complement rule:\n",
    "\n",
    "$$P(B') = 1 - P(B) = 1 - 0.02 = 0.98$$\n",
    "\n",
    "$$P(A | B') = P(\\text{You test positive} | You do not get the disease) = 1 - P(\\text{You test negative | You do not get the disease}) = 1 - 0.92 = 0.08$$\n",
    "\n",
    "Thus:\n",
    "\n",
    "$$P(A) = (0.02 \\cdot 0.9) + (0.98 \\cdot 0.08) = 0.018 + 0.0784 = 0.0964$$\n",
    "\n",
    "Therefore: \n",
    "\n",
    "$$P(B | A) = \\frac{P(A,B)}{P(A)} = \\frac{0.018}{0.0964} = 0.18672$$\n",
    "\n",
    "### B)\n",
    "\n",
    "So, by definition, prior is what we know beforehand. Likelihood is the thing that we are trying to find. Prior, in this scenario, is the \"given\" assumption that we know which is that we tested positive. Likelihood, which is what we are trying to find given the prior, is that we have the disease."
   ]
  },
  {
   "cell_type": "markdown",
   "id": "2e62757b",
   "metadata": {
    "deletable": false,
    "editable": false
   },
   "source": [
    "<!-- END QUESTION -->\n",
    "\n",
    "To check your answer for Problem 3a, enter the answer you came up with (just the probability) in the cell below. Note that this is just a public test. Full credit requires that you show all your work written in LaTeX and fully justifying your answer above."
   ]
  },
  {
   "cell_type": "code",
   "execution_count": 16,
   "id": "dc7d990f",
   "metadata": {
    "tags": []
   },
   "outputs": [
    {
     "data": {
      "text/plain": [
       "0.18672199170124482"
      ]
     },
     "execution_count": 16,
     "metadata": {},
     "output_type": "execute_result"
    }
   ],
   "source": [
    "q3a_answer = 45/241 #p(have the virus | positive test) = p(have virus & tested pos)/p(tested pos)= (0.9/(0.9) + )\n",
    "q3a_answer"
   ]
  },
  {
   "cell_type": "code",
   "execution_count": 17,
   "id": "26c40be4",
   "metadata": {
    "deletable": false,
    "editable": false
   },
   "outputs": [
    {
     "data": {
      "text/html": [
       "<p><strong><pre style='display: inline;'>q3check</pre></strong> passed! 🌈</p>"
      ],
      "text/plain": [
       "q3check results: All test cases passed!"
      ]
     },
     "execution_count": 17,
     "metadata": {},
     "output_type": "execute_result"
    }
   ],
   "source": [
    "grader.check(\"q3check\")"
   ]
  },
  {
   "cell_type": "markdown",
   "id": "7357582c",
   "metadata": {
    "deletable": false,
    "editable": false
   },
   "source": [
    "<!-- BEGIN QUESTION -->\n",
    "\n",
    "***\n",
    "[Back to top](#top)\n",
    "\n",
    "<a id='p4'></a>\n",
    "\n",
    "### Problem 4: Poker!\n",
    "\n",
    "A common example for discrete counting and probability questions are poker hands.  Consider using a standard 52-card playing deck, with card ranks `[A,2,3,4,5,6,7,8,9,10,J,Q,K]` across the standard 4 suits: `[C,D,H,S]`.\n",
    "\n",
    "**Part 4A (4 pts)** \n",
    "\n",
    "Suppose we draw 5 cards at random from the deck without replacement.  \n",
    "\n",
    "In Poker, **\"Three of a Kind\"** is defined as a hand that contains **three cards of one rank and two cards of two other ranks.**  Notice that in this definition, a **Full House** (a hand that contains three cards of one rank and two cards of another rank) is **NOT classified as \"three of a kind\".** https://en.wikipedia.org/wiki/List_of_poker_hands#Three_of_a_kind\n",
    "\n",
    "\n",
    "<img src=\"img/three.png\" width=\"330px\">\n",
    "\n",
    "**What is the probability of drawing 5 cards (without replacement) that are \"three of a kind?\"**\n",
    "   \n",
    "\n",
    "Typeset your work using LaTeX below.  Show work justifying all steps.  You may leave your answer in terms of a ratio of products, but you should simplify away any combinatoric notation such as ${n \\choose k}$ or $P(n,k)$.\n"
   ]
  },
  {
   "cell_type": "markdown",
   "id": "e65ca0a0",
   "metadata": {},
   "source": [
    "_Type your answer here, replacing this text._"
   ]
  },
  {
   "cell_type": "markdown",
   "id": "95b8f59d",
   "metadata": {
    "deletable": false,
    "editable": false
   },
   "source": [
    "<!-- END QUESTION -->\n",
    "\n",
    "To check your answer for 4a, enter the answer you came up with (just the probability) in the cell below. Note that this is just a public test. Full credit requires that you show all your work written in LaTeX and fully justifying your answer in the cell above."
   ]
  },
  {
   "cell_type": "code",
   "execution_count": 18,
   "id": "4928731e",
   "metadata": {
    "tags": []
   },
   "outputs": [
    {
     "data": {
      "text/plain": [
       "0.02112845138055222"
      ]
     },
     "execution_count": 18,
     "metadata": {},
     "output_type": "execute_result"
    }
   ],
   "source": [
    "a = (13 *4)/2598960\n",
    "q4a_answer = ((13 *4)/2598960) * ( ((13 * 4 * 66 * 4 * 4)/2598960)/a)  #(p (a) * p(b | a))\n",
    "q4a_answer"
   ]
  },
  {
   "cell_type": "code",
   "execution_count": 19,
   "id": "5752b51e",
   "metadata": {
    "deletable": false,
    "editable": false
   },
   "outputs": [
    {
     "data": {
      "text/html": [
       "<p><strong><pre style='display: inline;'>q4acheck</pre></strong> passed! 💯</p>"
      ],
      "text/plain": [
       "q4acheck results: All test cases passed!"
      ]
     },
     "execution_count": 19,
     "metadata": {},
     "output_type": "execute_result"
    }
   ],
   "source": [
    "grader.check(\"q4acheck\")"
   ]
  },
  {
   "cell_type": "markdown",
   "id": "c93830f5",
   "metadata": {
    "deletable": false,
    "editable": false
   },
   "source": [
    "\n",
    "\n",
    "\n",
    "\n",
    "One of the big payoffs of simulation is that it can let us answer some probability questions that are otherwise quite difficult.  We can instead just simulate the process and get approximate results based on simulation.\n",
    "\n",
    "\n",
    "\n",
    "There are several ways to draw random samples using Python:\n",
    "\n",
    "\n",
    "- `np.random.choice(a)` (https://numpy.org/doc/stable/reference/random/generated/numpy.random.choice.html) draws a random sample from a population whose elements are in an array `a`. The output is an array consisting of the sampled elements.\n",
    "\n",
    "- `df.sample(n)` (https://pandas.pydata.org/docs/reference/api/pandas.DataFrame.sample.html) draws a random sample of `n` rows from the DataFrame `df`. The output is a DataFrame consisting of the sampled rows. \n",
    "\n",
    "**Part 4B**  Poker with computers!\n",
    "\n",
    "To simulate the scenario you calculated theoretically in part 4a, you will use the steps below to write code to simulate draws of a hand of 5 cards from a standard 52-card deck.  You'll repeat the simulation 10000 times, and report how many \"three of a kind\" hands were observed.  If your simulation code is correct, your answer should be very close to your theoretical answer from part 4a. \n",
    "\n",
    "**4bi)(2 pts)**.  \n",
    "Use the Python lists `suits` and `ranks` provided below to create a Python `list` called `cards` with 52 strings that represnt a full deck of cards. \n",
    "\n",
    "In the string describing the card give the suit first and the rank second.  For example to represent the 3 of hearts use the string 'H3'. To represent the queen of diamonds use the string 'DQ'.   \n",
    "\n",
    "Use loops and/or list comprehensions to create the `card` list - **do not enter in the values manually.** \n",
    "Your deck should have 52 distinct cards.  \n"
   ]
  },
  {
   "cell_type": "code",
   "execution_count": 20,
   "id": "32c936c2",
   "metadata": {},
   "outputs": [
    {
     "ename": "ValueError",
     "evalue": "invalid literal for int() with base 10: 'Q'",
     "output_type": "error",
     "traceback": [
      "\u001b[0;31m---------------------------------------------------------------------------\u001b[0m",
      "\u001b[0;31mValueError\u001b[0m                                Traceback (most recent call last)",
      "Cell \u001b[0;32mIn[20], line 1\u001b[0m\n\u001b[0;32m----> 1\u001b[0m \u001b[38;5;28;43mint\u001b[39;49m\u001b[43m(\u001b[49m\u001b[38;5;124;43m'\u001b[39;49m\u001b[38;5;124;43mQ\u001b[39;49m\u001b[38;5;124;43m'\u001b[39;49m\u001b[43m)\u001b[49m\n",
      "\u001b[0;31mValueError\u001b[0m: invalid literal for int() with base 10: 'Q'"
     ]
    }
   ],
   "source": [
    "int('Q')"
   ]
  },
  {
   "cell_type": "code",
   "execution_count": 21,
   "id": "3a290aa1",
   "metadata": {
    "tags": []
   },
   "outputs": [
    {
     "data": {
      "text/plain": [
       "['DA',\n",
       " 'D2',\n",
       " 'D3',\n",
       " 'D4',\n",
       " 'D5',\n",
       " 'D6',\n",
       " 'D7',\n",
       " 'D8',\n",
       " 'D9',\n",
       " 'D10',\n",
       " 'DJ',\n",
       " 'DQ',\n",
       " 'DK',\n",
       " 'HA',\n",
       " 'H2',\n",
       " 'H3',\n",
       " 'H4',\n",
       " 'H5',\n",
       " 'H6',\n",
       " 'H7',\n",
       " 'H8',\n",
       " 'H9',\n",
       " 'H10',\n",
       " 'HJ',\n",
       " 'HQ',\n",
       " 'HK',\n",
       " 'CA',\n",
       " 'C2',\n",
       " 'C3',\n",
       " 'C4',\n",
       " 'C5',\n",
       " 'C6',\n",
       " 'C7',\n",
       " 'C8',\n",
       " 'C9',\n",
       " 'C10',\n",
       " 'CJ',\n",
       " 'CQ',\n",
       " 'CK',\n",
       " 'SA',\n",
       " 'S2',\n",
       " 'S3',\n",
       " 'S4',\n",
       " 'S5',\n",
       " 'S6',\n",
       " 'S7',\n",
       " 'S8',\n",
       " 'S9',\n",
       " 'S10',\n",
       " 'SJ',\n",
       " 'SQ',\n",
       " 'SK']"
      ]
     },
     "execution_count": 21,
     "metadata": {},
     "output_type": "execute_result"
    }
   ],
   "source": [
    "suits=['D','H','C','S']\n",
    "\n",
    "ranks = ['A', '2', '3', '4', '5', '6', '7', '8', '9', '10', 'J', 'Q', 'K']\n",
    "\n",
    "cards = [suit + rank for suit in suits for rank in ranks]\n",
    "# 4bi).  Write code to create a list called `cards` representing a 52-card deck above this line.\n",
    "\n",
    "cards"
   ]
  },
  {
   "cell_type": "code",
   "execution_count": 22,
   "id": "cbc297d2",
   "metadata": {
    "deletable": false,
    "editable": false
   },
   "outputs": [
    {
     "data": {
      "text/html": [
       "<p><strong><pre style='display: inline;'>q4i</pre></strong> passed! 🎉</p>"
      ],
      "text/plain": [
       "q4i results: All test cases passed!"
      ]
     },
     "execution_count": 22,
     "metadata": {},
     "output_type": "execute_result"
    }
   ],
   "source": [
    "grader.check(\"q4i\")"
   ]
  },
  {
   "cell_type": "markdown",
   "id": "2e721039-2f1e-4f47-bd2d-00e630b3db63",
   "metadata": {
    "deletable": false,
    "editable": false
   },
   "source": [
    "**4bii)(4 pts)**.  Define a function named `three_kind` to take a Python `list` of 5 cards as input (where the cards are given as strings such as `H3`) and check if the cards are Three of a Kind.  Your function should return `True` if the input is 3 of a kind and `False` otherwise. \n",
    "\n",
    "HINT: The function `np.unique` (https://numpy.org/doc/stable/reference/generated/numpy.unique.html) can make checking hands easier. \n"
   ]
  },
  {
   "cell_type": "code",
   "execution_count": 23,
   "id": "f5bddc33",
   "metadata": {
    "tags": []
   },
   "outputs": [
    {
     "data": {
      "text/plain": [
       "True"
      ]
     },
     "execution_count": 23,
     "metadata": {},
     "output_type": "execute_result"
    }
   ],
   "source": [
    "def three_kind (five_cards):\n",
    "    ranks = []\n",
    "    for card in five_cards:\n",
    "        if(len(card) == 3):\n",
    "           ranks.append(card[1:]) \n",
    "        else:\n",
    "            ranks.append(card[1])\n",
    "\n",
    "    unique_indices = np.unique(ranks, return_counts=True)\n",
    "    unique_indices = np.sort(unique_indices[1])\n",
    "   \n",
    "    if len(unique_indices) == 3:\n",
    "        if unique_indices[0] == 1 and unique_indices[1] == 1 and unique_indices[2] == 3:\n",
    "            return True\n",
    "        return False\n",
    "    else: \n",
    "        return False\n",
    "\n",
    "three_kind(['H3', 'S3', 'D3', 'H4', 'C5'])\n",
    "# 4bii).Write a function (above this line) 'three_kind' to check a list of 5 cards to see if it is 3 of a kind "
   ]
  },
  {
   "cell_type": "code",
   "execution_count": 24,
   "id": "e49ae0de",
   "metadata": {
    "deletable": false,
    "editable": false
   },
   "outputs": [
    {
     "data": {
      "text/html": [
       "<p><strong><pre style='display: inline;'>q4ii</pre></strong> passed! 🙌</p>"
      ],
      "text/plain": [
       "q4ii results: All test cases passed!"
      ]
     },
     "execution_count": 24,
     "metadata": {},
     "output_type": "execute_result"
    }
   ],
   "source": [
    "grader.check(\"q4ii\")"
   ]
  },
  {
   "cell_type": "markdown",
   "id": "5a82bca1-a6bc-49e5-9c35-5d54a45b9a1b",
   "metadata": {
    "deletable": false,
    "editable": false
   },
   "source": [
    "<!-- BEGIN QUESTION -->\n",
    "\n",
    "**4biii)(4 pts)**. \n",
    "\n",
    "Write code in the space below that completes the following steps:\n",
    "\n",
    "Step 1:  Write a function to simulate 10,000 random draws from `cards` of 5 cards each, and check if each draw is Three of a Kind. The function should return the overall proportion of random hands (out of the 10,000) in which Three of a Kind was observed. If you have coded your simulation correctly, your answer to this part should be very close to your theoretical answer from Part 4A.  \n",
    "\n",
    "Step 2:  Let's visualize how this simulation converges to the theoretical probability.   In class, we plotted a running estimate of the probability of an event as a function of the number of trials in our simulation.  Write code that completes 10,000 random draws of 5 cards each, but this time outputs a plot of a running estimate of the proportion of hands that are Three of a Kind as a function of the number of trials (from 1 to 10,000) in your simulation.  **Include a red horizontal line on your plot with the theoretical probability that you calculated in part 4A.**  Be sure to include a title on your plot and be sure to label both your axes on the plot.\n",
    "\n",
    "\n",
    "\n",
    "\n"
   ]
  },
  {
   "cell_type": "code",
   "execution_count": 25,
   "id": "88cd2f2c",
   "metadata": {
    "tags": []
   },
   "outputs": [],
   "source": [
    "filtered_cards = [str_s[1:] if len(str_s) == 3 else str_s[1] for str_s in cards]\n",
    "\n",
    "def another_stimulation (stimulate):\n",
    "    draws = [np.random.choice(filtered_cards, size=5, replace=False) for _ in range(0, stimulate)]\n",
    "  \n",
    "    draws = [ii  for ii in draws if len(set(ii)) == 3]\n",
    "   \n",
    "    draws = [np.sort(np.unique(ii, return_counts=True)[1])  for ii in draws if len(set(ii)) == 3]\n",
    "    \n",
    "    draws = [True if (np.array_equal(ii, [1, 1, 3])) else False for ii in draws]\n",
    "    \n",
    "\n",
    "    return  sum(draws)/stimulate\n",
    "\n",
    "\n",
    "#4biii).Write your code for Step 1 above this line"
   ]
  },
  {
   "cell_type": "code",
   "execution_count": 26,
   "id": "cfe48feb",
   "metadata": {
    "tags": []
   },
   "outputs": [
    {
     "data": {
      "text/plain": [
       "array(['C5', 'H3', 'H4', 'DJ', 'D10'], dtype='<U3')"
      ]
     },
     "execution_count": 26,
     "metadata": {},
     "output_type": "execute_result"
    }
   ],
   "source": [
    "hand=np.random.choice(cards, replace=False, size=5)\n",
    "\n",
    "hand"
   ]
  },
  {
   "cell_type": "code",
   "execution_count": 27,
   "id": "8be0968b-f024-4e32-8970-37c2d8d86297",
   "metadata": {
    "tags": []
   },
   "outputs": [
    {
     "data": {
      "text/plain": [
       "Text(0, 0.5, 'Draw Stimulation')"
      ]
     },
     "execution_count": 27,
     "metadata": {},
     "output_type": "execute_result"
    },
    {
     "data": {
      "image/png": "[encoded data removed]",
      "text/plain": [
       "<Figure size 640x480 with 1 Axes>"
      ]
     },
     "metadata": {},
     "output_type": "display_data"
    }
   ],
   "source": [
    "proportions = [another_stimulation(i) for i in range(1, 10000)]\n",
    "numbers = list(range(1, 10000))\n",
    "plt.plot(numbers, proportions)\n",
    "plt.axhline(y= ((13 *4)/2598960) * ( ((13 * 4 * 66 * 4 * 4)/2598960)/a) , color='r', linestyle='--', label='Horizontal Line')\n",
    "plt.title(\"Function of Trials\")\n",
    "plt.xlabel('Number of Trials')\n",
    "plt.ylabel('Draw Stimulation')\n",
    "# 4biii) Write your code for Step 2 above this line"
   ]
  },
  {
   "cell_type": "markdown",
   "id": "656bc114",
   "metadata": {
    "deletable": false,
    "editable": false
   },
   "source": [
    "<!-- END QUESTION -->\n",
    "\n",
    "<!-- BEGIN QUESTION -->\n",
    "\n",
    "***\n",
    "[Back to top](#top)\n",
    "\n",
    "<a id='p5'></a>\n",
    "\n",
    "### Problem 5\n",
    "\n",
    "To play a game, you have a bag containing 28 fair [four-sided dice](https://en.wikipedia.org/wiki/Four-sided_die), with faces `{1,2,3,4}`.  This bag also contains 9 fair six-sided dice (faces `{1,2,3,4,5,6}`) and 3 fair twenty-sided dice (faces `{1,2,3,4,...,19,20}`).  Call these 3 classes of die \"Four\", \"Six\" and \"Twenty\" (or $D_4$, $D_6$, and $D_{20}$, for short).  You grab one die at random from the box.  \n",
    "\n",
    "Work the following problems by hand and write up your full solution using LaTeX unless otherwise stated (but don't be afraid to simulate to check your result!). "
   ]
  },
  {
   "cell_type": "markdown",
   "id": "fc16aa75",
   "metadata": {
    "deletable": false,
    "editable": false
   },
   "source": [
    "**Part 5A (3 pts)**: You grab one die at random from the box and roll it one time.  What is the probability of the event $R_5$, that you roll a 5? Explain your reasoning mathematically (using LaTeX).   "
   ]
  },
  {
   "cell_type": "markdown",
   "id": "f9a9661c",
   "metadata": {},
   "source": [
    "### A)\n",
    "\n",
    "This problem can be broken down into three parts:\n",
    "\n",
    "$$P(R_5) = P(R_5, D_4) + P(R_5, D_6) + P(R_5, D_{20})$$\n",
    "\n",
    "However, since the four-sided dice does not have a 5, then the probability for that becomes zero. Now, for the other two probabilities, we can use conditional probability to simplify this expression: $$P(R_5) = P(R_5 | D_6) \\cdot P(D_6) + P(R_5 | D_{20}) \\cdot P(D_{20})$$\n",
    "\n",
    "Now, calculating $P(R_5 | D_6)$ is pretty straightforward since it becomes $1/6$. For $P(D_6)$, it is also straightforward because all you need to do is add the number of dices together and the number of six-sided dices and divide it by the total number of dices. Thus, $P(D_6) = 9/40$. Same for the other expression, $P(R_5 | D_{20})$ becomes $1/20$ and $P(D_{20})$ becomes $3/20$. Therefore:\n",
    "\n",
    "$$P(R_5) = P(R_5 | D_6) \\cdot P(D_6) + P(R_5 | D_{20}) \\cdot P(D_{20}) = \\frac{1}{6} \\cdot \\frac{9}{40} + \\frac{1}{20} \\cdot \\frac{3}{40} = \\frac{9}{240} + \\frac{3}{800} = \\frac{33}{800}$$"
   ]
  },
  {
   "cell_type": "markdown",
   "id": "295114bf",
   "metadata": {
    "deletable": false,
    "editable": false
   },
   "source": [
    "<!-- END QUESTION -->\n",
    "\n",
    "To check your answer for 5a, enter the answer you came up with (just the probability) in the cell below. Note that this is just a public test. Full credit requires that you show all your work written in LaTeX and fully justifying your answer in part 5a above."
   ]
  },
  {
   "cell_type": "code",
   "execution_count": 28,
   "id": "74b46d0f",
   "metadata": {
    "tags": []
   },
   "outputs": [
    {
     "data": {
      "text/plain": [
       "0.04125"
      ]
     },
     "execution_count": 28,
     "metadata": {},
     "output_type": "execute_result"
    }
   ],
   "source": [
    "\n",
    "q5a_answer = 33/800# #p(probability you roll 5 | given that it is D_6) + p(you roll 5 | given that it is D_20)\n",
    "q5a_answer"
   ]
  },
  {
   "cell_type": "code",
   "execution_count": 29,
   "id": "94ce112c",
   "metadata": {
    "deletable": false,
    "editable": false
   },
   "outputs": [
    {
     "data": {
      "text/html": [
       "<p><strong><pre style='display: inline;'>q5acheck</pre></strong> passed! ✨</p>"
      ],
      "text/plain": [
       "q5acheck results: All test cases passed!"
      ]
     },
     "execution_count": 29,
     "metadata": {},
     "output_type": "execute_result"
    }
   ],
   "source": [
    "grader.check(\"q5acheck\")"
   ]
  },
  {
   "cell_type": "markdown",
   "id": "b1bef844",
   "metadata": {
    "deletable": false,
    "editable": false
   },
   "source": [
    "<!-- BEGIN QUESTION -->\n",
    "\n",
    "**Part 5B (3 pts)**: Suppose you roll a 5.  Given this information, what is the probability that the die you chose from the box is a Six-sided die? Write up your full solution using LaTeX. Show all steps.  "
   ]
  },
  {
   "cell_type": "markdown",
   "id": "721336a2",
   "metadata": {},
   "source": [
    "### B)\n",
    "\n",
    "Let's translate this into mathematical terms:\n",
    "\n",
    "$$P(D_6 | R_5) = \\frac{P(D_6 , R_5)}{P(R_5)}$$\n",
    "\n",
    "Notice here that we already calculated $P(R_5)$ and it is $\\frac{33}{800}$.\n",
    "\n",
    "However, we still do not know what $P(D_6 , R_5)$, so we can expand this using conditional probability to find its true value:\n",
    "\n",
    "$$P(D_6 , R_5) = P(D_6 | R_5) \\cdot P(R_5) = P(R_5 | D_6) \\cdot P(D_6)$$\n",
    "\n",
    "However, we cannot choose the first option to do this since that is what we are trying to solve for, but we can use the second formula since it is straigtforward and since we already solved this in the previous problem:\n",
    "\n",
    "$$P(D_6 , R_5) = P(R_5 | D_6) \\cdot P(D_6) = \\frac{9}{240}$$\n",
    "\n",
    "Therefore:\n",
    "\n",
    "$$P(D_6 | R_5) = \\frac{P(D_6 , R_5)}{P(R_5)} = \\frac{\\frac{9}{240}}{\\frac{33}{800}} = 0.90909090 ...$$"
   ]
  },
  {
   "cell_type": "markdown",
   "id": "f0dcffd4",
   "metadata": {
    "deletable": false,
    "editable": false
   },
   "source": [
    "<!-- END QUESTION -->\n",
    "\n",
    "To check your answer for 5b, enter the answer you came up with (just the probability) in the cell below. Note that this is just a public test. Full credit requires that you show all your work written in LaTeX and fully justifying your answer in part 5b above."
   ]
  },
  {
   "cell_type": "code",
   "execution_count": 30,
   "id": "4347169f",
   "metadata": {
    "tags": []
   },
   "outputs": [
    {
     "data": {
      "text/plain": [
       "0.9090909090909091"
      ]
     },
     "execution_count": 30,
     "metadata": {},
     "output_type": "execute_result"
    }
   ],
   "source": [
    "q5b_answer = ((1/6) * (9/40)/(33/800)) #p(six-sided die | you roll a 5) = p(six-sided roll and you roll a 5)/(you roll a 5) = (you roll a 5 | 6-sided die) * (p(6-sided roll))/p(you roll a 5)\n",
    "q5b_answer"
   ]
  },
  {
   "cell_type": "code",
   "execution_count": 31,
   "id": "c11b9002",
   "metadata": {
    "deletable": false,
    "editable": false
   },
   "outputs": [
    {
     "data": {
      "text/html": [
       "<p><strong><pre style='display: inline;'>q5bcheck</pre></strong> passed! 🚀</p>"
      ],
      "text/plain": [
       "q5bcheck results: All test cases passed!"
      ]
     },
     "execution_count": 31,
     "metadata": {},
     "output_type": "execute_result"
    }
   ],
   "source": [
    "grader.check(\"q5bcheck\")"
   ]
  },
  {
   "cell_type": "markdown",
   "id": "58bcab0a",
   "metadata": {
    "deletable": false,
    "editable": false
   },
   "source": [
    "<!-- BEGIN QUESTION -->\n",
    "\n",
    "**Part 5C (3 pts):**  Are the events $R_5$ and $D_6$ independent?  Write up your full solution using LaTeX. Show all steps. Justify your answer **using the mathematical definition of independence**."
   ]
  },
  {
   "cell_type": "markdown",
   "id": "169699cf",
   "metadata": {},
   "source": [
    "### C)\n",
    "\n",
    "Two check if two events are independent to each other, the probability of one event does not affect the occurrence of the other. This, mathematically, can be expressed by the following: $$P(R_5 , D_6) = P(R_5) \\cdot P(D_6)$$\n",
    "\n",
    "However, we know, from the problem above, that: $$P(D_6 , R_5) = P(R_5 | D_6) \\cdot P(D_6) = \\frac{9}{240}$$\n",
    "\n",
    "But, we still need to see if $P(R_5 , D_6) = P(R_5) \\cdot P(D_6)$ holds true:\n",
    "\n",
    "$$P(R_5 , D_6) = P(R_5) \\cdot P(D_6) = \\frac{33}{800} \\cdot \\frac{9}{40} = \\frac{297}{32000} \\neq \\frac{9}{240}$$\n",
    "\n",
    "Thus, because $P(R_5 , D_6) \\neq P(R_5) \\cdot P(D_6)$, the events are dependent on each other."
   ]
  },
  {
   "cell_type": "markdown",
   "id": "24638e4a",
   "metadata": {
    "deletable": false,
    "editable": false
   },
   "source": [
    "<!-- END QUESTION -->\n",
    "\n",
    "To check your answer for 5c, enter the answer you came up with as a string (e.g., `'in/dependent'`) in the cell below. Note that this is just a public test. Full credit requires that you show all your work written in LaTeX and fully justifying your answer in part 5c above."
   ]
  },
  {
   "cell_type": "code",
   "execution_count": 32,
   "id": "c2fb3f78",
   "metadata": {
    "tags": []
   },
   "outputs": [],
   "source": [
    "q5c_answer = 'dependent'"
   ]
  },
  {
   "cell_type": "code",
   "execution_count": 33,
   "id": "d56fcf9e",
   "metadata": {
    "deletable": false,
    "editable": false
   },
   "outputs": [
    {
     "data": {
      "text/html": [
       "<p><strong><pre style='display: inline;'>q5ccheck</pre></strong> passed! 🌈</p>"
      ],
      "text/plain": [
       "q5ccheck results: All test cases passed!"
      ]
     },
     "execution_count": 33,
     "metadata": {},
     "output_type": "execute_result"
    }
   ],
   "source": [
    "grader.check(\"q5ccheck\")"
   ]
  },
  {
   "cell_type": "markdown",
   "id": "11fbdb39",
   "metadata": {
    "deletable": false,
    "editable": false
   },
   "source": [
    "<!-- BEGIN QUESTION -->\n",
    "\n",
    "***\n",
    "[Back to top](#top)\n",
    "\n",
    "<a id='p6'></a>\n",
    "\n",
    "### Problem 6\n",
    "\n",
    "Suppose you roll two fair six-sided dice.  Let $C$ be the event that the two rolls are _close_ to one another in value, in the sense that they're either equal or differ by only 1.  \n",
    "\n",
    "**Part 6A (4 pts)**: Compute $P(C)$ by hand.  Show all steps using LaTeX.\n"
   ]
  },
  {
   "cell_type": "markdown",
   "id": "23bb3197",
   "metadata": {},
   "source": [
    "### A)\n",
    "\n",
    "Let's translate this mathematically:\n",
    "\n",
    "$$P(\\text{Two rolls are close to one another}) = P(\\text{Two rolls have the same value}) + P(\\text{Two rolls differ by one})$$\n",
    "\n",
    "For $P(\\text{Two rolls have the same value})$, notice that for each number from 1-6, there is only one way for each number in each dice to equal each other ((1,1) , (2,2), (3,3) ... (6,6)). Thus, out of the $36$ different possibilities that we could have from rolling two dices, we have the following:\n",
    "\n",
    "$$P(\\text{Two rolls have the same value}) = \\frac{6}{36}$$\n",
    "\n",
    "For $P(\\text{Two rolls differ by one})$, you need to know that for each number between 2-5, there is two ways for each number in that range that you can combine so that they can be differed by one. This is except 1 because it can only differ once since 1 is the least number (1,2) and the number 6 because it is the max and it can differ only once (6,5). Thus, we have $4 \\cdot 2 + 2 \\cdot 1 = 10$.\n",
    "\n",
    "Therefore, we have:\n",
    "\n",
    "$$P(\\text{Two rolls are close to one another}) = P(\\text{Two rolls have the same value}) + P(\\text{Two rolls differ by one}) = \\frac{6}{36} + \\frac{10}{36} = 0.44444 ...$$"
   ]
  },
  {
   "cell_type": "markdown",
   "id": "e914779b",
   "metadata": {
    "deletable": false,
    "editable": false
   },
   "source": [
    "<!-- END QUESTION -->\n",
    "\n",
    "To check your answer for 6a, enter the answer you came up with (just the probability) in the cell below. Note that this is just a public test. Full credit requires that you show all your work written in LaTeX and fully justifying your answer in part 6a above."
   ]
  },
  {
   "cell_type": "code",
   "execution_count": 34,
   "id": "95ffa14f",
   "metadata": {
    "tags": []
   },
   "outputs": [
    {
     "data": {
      "text/plain": [
       "0.4444444444444444"
      ]
     },
     "execution_count": 34,
     "metadata": {},
     "output_type": "execute_result"
    }
   ],
   "source": [
    "q6a_answer = (6/36) + (10/36) #p(the event that the two rolls are close to one another either they differ by one or equal) = p(you roll and both are equal) + 2 * p(you roll and one is bigger than the other) \n",
    "q6a_answer"
   ]
  },
  {
   "cell_type": "code",
   "execution_count": 35,
   "id": "101a105e",
   "metadata": {
    "deletable": false,
    "editable": false
   },
   "outputs": [
    {
     "data": {
      "text/html": [
       "<p><strong><pre style='display: inline;'>q6acheck</pre></strong> passed! 🌈</p>"
      ],
      "text/plain": [
       "q6acheck results: All test cases passed!"
      ]
     },
     "execution_count": 35,
     "metadata": {},
     "output_type": "execute_result"
    }
   ],
   "source": [
    "grader.check(\"q6acheck\")"
   ]
  },
  {
   "cell_type": "markdown",
   "id": "74cc8948",
   "metadata": {
    "deletable": false,
    "editable": false
   },
   "source": [
    "<!-- BEGIN QUESTION -->\n",
    "\n",
    "**Part 6B (3 pts)**: \n",
    "Write a simulation to run 10,000 trials of rolling a pair of dice and estimate the value of $P(C)$ you calculated in **Part A**.  Your estimate should agree with the exact calculation you did in **Part A**.  If it doesn't, try increasing the number of trials in your simulation. "
   ]
  },
  {
   "cell_type": "code",
   "execution_count": 36,
   "id": "a22a53f9",
   "metadata": {
    "tags": []
   },
   "outputs": [
    {
     "data": {
      "text/plain": [
       "0.4495"
      ]
     },
     "execution_count": 36,
     "metadata": {},
     "output_type": "execute_result"
    }
   ],
   "source": [
    "\n",
    "\n",
    "dice_one = np.array([1, 2, 3, 4, 5, 6])\n",
    "\n",
    "def two_six_dices_stimulation(trial_number):\n",
    "    random_sample = np.random.choice(dice_one, size=(trial_number, 2))\n",
    "    absolute_difference = np.abs(random_sample[:, 0] - random_sample[:, 1])\n",
    "    filtered_count = np.count_nonzero((absolute_difference == 1) | (absolute_difference == 0))\n",
    "\n",
    "    return filtered_count / trial_number\n",
    "\n",
    "result = two_six_dices_stimulation(10000)\n",
    "result\n",
    "\n",
    "#Your code above this line"
   ]
  },
  {
   "cell_type": "markdown",
   "id": "051be3a3",
   "metadata": {
    "deletable": false,
    "editable": false
   },
   "source": [
    "<!-- END QUESTION -->\n",
    "\n",
    "<!-- BEGIN QUESTION -->\n",
    "\n",
    "##### **Part 6C (3 pts)**:  \n",
    "In class we plotted a running estimate of the probability of an event as a function of the number of trials in our simulation.  Write code to run 5 independent simulations of 50,000 trials each to estimate $P(C)$ and plot their running estimate curves on the same set of axes. **Hint**: This is a lot of computation, so try to leverage Numpy and **list comprehensions** as much as possible so that your code doesn't run forever. \n",
    "\n",
    "**Include a red horizontal line on your plot with the theoretical probability that you calculated in part 6A.**  Be sure to include a title on your plot and be sure to label both your axes on the plot."
   ]
  },
  {
   "cell_type": "code",
   "execution_count": 37,
   "id": "f9032ffe",
   "metadata": {
    "tags": []
   },
   "outputs": [
    {
     "data": {
      "image/png": "[encoded data removed]",
      "text/plain": [
       "<Figure size 640x480 with 1 Axes>"
      ]
     },
     "metadata": {},
     "output_type": "display_data"
    }
   ],
   "source": [
    "numbers = list(range(1, 10001))\n",
    "stimulation_one = []\n",
    "stimulation_two = []\n",
    "stimulation_three = []\n",
    "stimulation_four = []\n",
    "stimulation_five = []\n",
    "for i in range(1, 10001, 2):\n",
    "    stimulation_one.append(two_six_dices_stimulation(i))\n",
    "    stimulation_one.append(two_six_dices_stimulation(i + 1))\n",
    "\n",
    "    stimulation_two.append(two_six_dices_stimulation(i))\n",
    "    stimulation_two.append(two_six_dices_stimulation(i + 1))\n",
    "\n",
    "    stimulation_three.append(two_six_dices_stimulation(i))\n",
    "    stimulation_three.append(two_six_dices_stimulation(i + 1))\n",
    "\n",
    "    stimulation_four.append(two_six_dices_stimulation(i))\n",
    "    stimulation_four.append(two_six_dices_stimulation(i + 1))\n",
    "\n",
    "    stimulation_five.append(two_six_dices_stimulation(i))\n",
    "    stimulation_five.append(two_six_dices_stimulation(i + 1))\n",
    "\n",
    "plt.plot(numbers, stimulation_one, label='first')\n",
    "plt.plot(numbers, stimulation_two, label='second')\n",
    "plt.plot(numbers, stimulation_three, label='third')\n",
    "plt.plot(numbers, stimulation_four, label='fourth')\n",
    "plt.plot(numbers, stimulation_five, label='fifth')\n",
    "plt.axhline(y= (6/36) + (10/36), color='r', linestyle='--', label='Horizontal Line')\n",
    "\n",
    "\n",
    "plt.title(\"5 Independent Simulations\")\n",
    "plt.xlabel('Number of Trials')\n",
    "plt.ylabel('Simulation')\n",
    "plt.legend()\n",
    "\n",
    "\n",
    "plt.show()\n",
    "# Your code above this line"
   ]
  },
  {
   "cell_type": "markdown",
   "id": "c1c71570",
   "metadata": {
    "deletable": false,
    "editable": false
   },
   "source": [
    "<!-- END QUESTION -->\n",
    "\n",
    "<!-- BEGIN QUESTION -->\n",
    "\n",
    "**Part 6D (1 pt)**: Describe the behavior of the running estimates as the number of trials increases.\n",
    "\n",
    "i).  What value(s) are they converging to?  \n",
    "ii).  How many trials does it take until they appear to converge?"
   ]
  },
  {
   "cell_type": "markdown",
   "id": "86223e98",
   "metadata": {},
   "source": [
    "_Type your answer here, replacing this text._"
   ]
  },
  {
   "cell_type": "markdown",
   "id": "169d7663",
   "metadata": {
    "deletable": false,
    "editable": false
   },
   "source": [
    "<!-- END QUESTION -->\n",
    "\n",
    "<br/><br/>\n",
    "<hr style=\"border: 5px solid #003262;\" />\n",
    "<hr style=\"border: 1px solid #fdb515;\" />\n",
    "\n",
    "## Congratulations! You have finished Homework 4!"
   ]
  },
  {
   "cell_type": "markdown",
   "id": "cc31acf9",
   "metadata": {},
   "source": [
    "If you discussed this assignment with any other students in the class (in a manner that is acceptable as described by the Collaboration policy above) please **include their names** here:\n",
    "\n",
    "**Collaborators**: *list collaborators here*"
   ]
  },
  {
   "cell_type": "markdown",
   "id": "46739932",
   "metadata": {},
   "source": [
    "### Submission Instructions\n",
    "\n",
    "Before proceeding any further, **save this notebook.**\n",
    "\n",
    "After running the `grader.export()` cell provided below, **2 files will be created**: a zip file and pdf file.  You can download them using the links provided below OR by finding them in the same folder where this juptyer notebook resides in your JuptyerHub.\n",
    "\n",
    "To receive credit on this assignment, **you must submit BOTH of these files\n",
    "to their respective Gradescope portals:** \n",
    "\n",
    "* **Homework 4 Autograded**: Submit the zip file that is output by the `grader.export()` cell below to the HW4 Autograded assignment in Gradescope.\n",
    "\n",
    "* **Homework 4 Manually Graded**: Submit your hw04.PDF to the HW4 Manually Graded assignment in Gradescope.  **YOU MUST SELECT THE PAGES CORRESPONDING TO EACH QUESTION WHEN YOU UPLOAD TO GRADESCOPE.  IF NOT, YOU WILL LOSE POINTS**   Also, **check** that all of your plots **and** all lines of your code are showing up in your PDF before submitting.  If not, you will not receive credit for your plots/code.  \n",
    "\n",
    "\n",
    "**You are responsible for ensuring your submission follows our requirements. We will not be granting regrade requests nor extensions to submissions that don't follow instructions.** If you encounter any difficulties with submission, please don't hesitate to reach out to staff prior to the deadline."
   ]
  },
  {
   "cell_type": "markdown",
   "id": "59dd5d8c",
   "metadata": {
    "deletable": false,
    "editable": false
   },
   "source": [
    "## Submission\n",
    "\n",
    "Make sure you have run all cells in your notebook in order before running the cell below, so that all images/graphs appear in the output. The cell below will generate a zip file for you to submit. **Please save before exporting!**\n",
    "\n",
    "AFTER running the cell below, click on <a href='hw04.pdf' download>this link to download the PDF </a> to upload to Gradescope.  There will be a separate link that appears after running the cell below with a link to download the zip file to upload to Gradescope."
   ]
  },
  {
   "cell_type": "code",
   "execution_count": null,
   "id": "576455e1",
   "metadata": {
    "deletable": false,
    "editable": false
   },
   "outputs": [],
   "source": [
    "# Save your notebook first, then run this cell to export your submission.\n",
    "grader.export(run_tests=True)"
   ]
  },
  {
   "cell_type": "markdown",
   "id": "da398052",
   "metadata": {},
   "source": [
    " "
   ]
  }
 ],
 "metadata": {
  "kernelspec": {
   "display_name": "Python 3 (ipykernel)",
   "language": "python",
   "name": "python3"
  },
  "language_info": {
   "codemirror_mode": {
    "name": "ipython",
    "version": 3
   },
   "file_extension": ".py",
   "mimetype": "text/x-python",
   "name": "python",
   "nbconvert_exporter": "python",
   "pygments_lexer": "ipython3",
   "version": "3.9.6"
  },
  "otter": {
   "OK_FORMAT": true,
   "tests": {
    "q14": {
     "name": "q14",
     "points": 2,
     "suites": [
      {
       "cases": [
        {
         "code": ">>> assert get_hash(lone_winners) == '89c273b522bd98f03a71fb168b4bd51b'\n",
         "hidden": false,
         "locked": false
        }
       ],
       "scored": true,
       "setup": "",
       "teardown": "",
       "type": "doctest"
      }
     ]
    },
    "q1a": {
     "name": "q1a",
     "points": 1,
     "suites": [
      {
       "cases": [
        {
         "code": ">>> assert get_hash(first_three_black) == '51759fb527f916a54c86da4268f79f43'\n",
         "hidden": false,
         "locked": false
        }
       ],
       "scored": true,
       "setup": "",
       "teardown": "",
       "type": "doctest"
      }
     ]
    },
    "q1b": {
     "name": "q1b",
     "points": 1,
     "suites": [
      {
       "cases": [
        {
         "code": ">>> assert get_hash(no_green) == '537adeee371f1fa62c79f0788ebe1098'\n",
         "hidden": false,
         "locked": false
        }
       ],
       "scored": true,
       "setup": "",
       "teardown": "",
       "type": "doctest"
      }
     ]
    },
    "q1c": {
     "name": "q1c",
     "points": 1,
     "suites": [
      {
       "cases": [
        {
         "code": ">>> assert get_hash(at_least_one_green) == 'd0f2552c478594fecdb33230685f6e01'\n",
         "hidden": false,
         "locked": false
        }
       ],
       "scored": true,
       "setup": "",
       "teardown": "",
       "type": "doctest"
      }
     ]
    },
    "q2acheck": {
     "name": "q2acheck",
     "points": 0,
     "suites": [
      {
       "cases": [
        {
         "code": ">>> assert get_hash(q2a_answer) == 'cb5ae17636e975f9bf71ddf5bc542075'\n",
         "hidden": false,
         "locked": false
        }
       ],
       "scored": true,
       "setup": "",
       "teardown": "",
       "type": "doctest"
      }
     ]
    },
    "q2bcheck": {
     "name": "q2bcheck",
     "points": 0,
     "suites": [
      {
       "cases": [
        {
         "code": ">>> assert get_hash(q2b_answer) == '3bd2a01cf8d7f2c39060b76f286628c8'\n",
         "hidden": false,
         "locked": false
        }
       ],
       "scored": true,
       "setup": "",
       "teardown": "",
       "type": "doctest"
      }
     ]
    },
    "q3check": {
     "name": "q3check",
     "points": 0,
     "suites": [
      {
       "cases": [
        {
         "code": ">>> assert get_hash(q3a_answer) == '782390db9c4a228e21ed5dc8a61d652e'\n",
         "hidden": false,
         "locked": false
        }
       ],
       "scored": true,
       "setup": "",
       "teardown": "",
       "type": "doctest"
      }
     ]
    },
    "q4acheck": {
     "name": "q4acheck",
     "points": 0,
     "suites": [
      {
       "cases": [
        {
         "code": ">>> assert get_hash(q4a_answer) == '0b99b9ebc73711aeb08047a09e3e65bb'\n",
         "hidden": false,
         "locked": false
        }
       ],
       "scored": true,
       "setup": "",
       "teardown": "",
       "type": "doctest"
      }
     ]
    },
    "q4i": {
     "name": "q4i",
     "points": 2,
     "suites": [
      {
       "cases": [
        {
         "code": ">>> assert get_hash(len(cards)) == '9a1158154dfa42caddbd0694a4e9bdc8'\n",
         "hidden": false,
         "locked": false
        },
        {
         "code": ">>> assert get_hash(sorted(set(cards))) == '83dfc5b12f2790365c2b2ba676e90de0'\n",
         "hidden": false,
         "locked": false
        }
       ],
       "scored": true,
       "setup": "",
       "teardown": "",
       "type": "doctest"
      }
     ]
    },
    "q4ii": {
     "name": "q4ii",
     "points": 4,
     "suites": [
      {
       "cases": [
        {
         "code": ">>> assert (three_kind(['H3', 'S3', 'D3', 'H4', 'C5']) == True)\n",
         "hidden": false,
         "locked": false
        },
        {
         "code": ">>> assert (three_kind(['C4', 'D4', 'S4', 'H4', 'H2']) == False)\n",
         "hidden": false,
         "locked": false
        },
        {
         "code": ">>> assert (three_kind(['SA', 'S4', 'S4', 'H5', 'H10']) == False)\n",
         "hidden": false,
         "locked": false
        },
        {
         "code": ">>> assert (three_kind(['SA', 'DA', 'HA', 'C5', 'H5']) == False)\n",
         "hidden": false,
         "locked": false
        },
        {
         "code": ">>> assert (three_kind(['S3', 'D3', 'H4', 'C4', 'H5']) == False)\n",
         "hidden": false,
         "locked": false
        },
        {
         "code": ">>> assert (three_kind(['S10', 'D10', 'H10', 'CQ', 'HA']) == True)\n",
         "hidden": false,
         "locked": false
        }
       ],
       "scored": true,
       "setup": "",
       "teardown": "",
       "type": "doctest"
      }
     ]
    },
    "q5acheck": {
     "name": "q5acheck",
     "points": 0,
     "suites": [
      {
       "cases": [
        {
         "code": ">>> assert get_hash(q5a_answer) == '4e1856a66b8646915fecd9a23cb85c23'\n",
         "hidden": false,
         "locked": false
        }
       ],
       "scored": true,
       "setup": "",
       "teardown": "",
       "type": "doctest"
      }
     ]
    },
    "q5bcheck": {
     "name": "q5bcheck",
     "points": 0,
     "suites": [
      {
       "cases": [
        {
         "code": ">>> assert get_hash(q5b_answer) == '90c55616ca660fd74557bad8cead21c3'\n",
         "hidden": false,
         "locked": false
        }
       ],
       "scored": true,
       "setup": "",
       "teardown": "",
       "type": "doctest"
      }
     ]
    },
    "q5ccheck": {
     "name": "q5ccheck",
     "points": 0,
     "suites": [
      {
       "cases": [
        {
         "code": ">>> assert get_hash(q5c_answer.lower()) == '0aeb87dfc59607ef95459d79b98264f0'\n",
         "hidden": false,
         "locked": false
        }
       ],
       "scored": true,
       "setup": "",
       "teardown": "",
       "type": "doctest"
      }
     ]
    },
    "q6acheck": {
     "name": "q6acheck",
     "points": 0,
     "suites": [
      {
       "cases": [
        {
         "code": ">>> assert get_hash(q6a_answer) == '53f811b7284849904a1028d47c2ec903'\n",
         "hidden": false,
         "locked": false
        }
       ],
       "scored": true,
       "setup": "",
       "teardown": "",
       "type": "doctest"
      }
     ]
    }
   }
  }
 },
 "nbformat": 4,
 "nbformat_minor": 5
}
