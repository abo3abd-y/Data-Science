{
 "cells": [
  {
   "cell_type": "code",
   "execution_count": 1,
   "id": "a035cdeb",
   "metadata": {
    "deletable": false,
    "editable": false
   },
   "outputs": [],
   "source": [
    "# Initialize Otter\n",
    "import otter\n",
    "grader = otter.Notebook(\"hw08.ipynb\")"
   ]
  },
  {
   "cell_type": "markdown",
   "id": "bbbf1431",
   "metadata": {},
   "source": [
    "# Homework 8:  Hypothesis Tests"
   ]
  },
  {
   "cell_type": "markdown",
   "id": "1eeace48",
   "metadata": {},
   "source": [
    "**Assigned Readings On These Topics from Class Schedule**: \n",
    "\n",
    "* [Testing Hypotheses](https://www.inferentialthinking.com/chapters/11/Testing_Hypotheses.html)\n",
    "\n",
    "* [Comparing Two Samples](https://inferentialthinking.com/chapters/12/Comparing_Two_Samples.html)\n"
   ]
  },
  {
   "cell_type": "markdown",
   "id": "2b1fa56f",
   "metadata": {},
   "source": [
    "\n",
    "\n",
    "## Due Date: Thursday Mar 14th by 11:59 PM MT on Gradescope\n",
    "\n",
    "\n",
    "## Collaboration Policy\n",
    "\n",
    "Data science is a collaborative activity.  However a key step in learning and retention is **creating solutions on your own.**  \n",
    "\n",
    "Below are examples of acceptable vs unacceptable use of resources and collaboration when doing HW assignments in CSCI 3022.\n",
    "\n",
    "\n",
    "The following would be some **examples of cheating** when working on HW assignments in CSCI 3022.  Any of these constitute a **violation of the course's collaboration policy and will result in an F in the course and a trip to the honor council**.   \n",
    "\n",
    "\n",
    " - Consulting web pages that may have a solution to a given homework problem or one similar is cheating.  However, consulting the class notes, and web pages that explain the material taught in class but do NOT show a solution to the homework problem in question are permissible to view.  Clearly, there's a fuzzy line here between a valid use of resources and cheating. To avoid this line, one should merely consult the course notes, the course textbook, and references that contain syntax and/or formulas.\n",
    " - Copying a segment of code or math solution of three lines or more from another student from a printout, handwritten copy, or by looking at their computer screen \n",
    " - Allowing another student to copy a segment of your code or math solution of three lines or more\n",
    " - Taking a copy of another student's work (or a solution found online) and then editing that copy\n",
    " - Reading someone else’s solution to a problem on the HW before writing your own.\n",
    " - Asking someone to write all or part of a program or solution for you.\n",
    " - Asking someone else for the code necessary to fix the error for you, other than for simple syntactical errors\n",
    " \n",
    "\n",
    "\n",
    "On the other hand, the following are some **examples of things which would NOT usually be\n",
    "considered to be cheating**:\n",
    " - Working on a HW problem on your own first and then discussing with a classmate a particular part in the problem solution where you are stuck.  After clarifying any questions you should then continue to write your solution independently.\n",
    " - Asking someone (or searching online) how a particular construct in the language works.\n",
    " - Asking someone (or searching online) how to formulate a particular construct in the language.\n",
    " - Asking someone for help in finding an error in your program.  \n",
    " - Asking someone why a particular construct does not work as you expected in a given program.\n",
    "   \n",
    "\n",
    "To test whether you are truly doing your own work and retaining what you've learned you should be able to easily reproduce from scratch and explain a HW solution that was your own when asked in office hours by a TA/Instructor or on a quiz/exam.   \n",
    "\n",
    "\n",
    "If you have difficulty in formulating the general solution to a problem on your own, or\n",
    "you have difficulty in translating that general solution into a program, it is advisable to see\n",
    "your instructor or teaching assistant rather than another student as this situation can easily\n",
    "lead to a, possibly inadvertent, cheating situation.\n",
    "\n",
    "We are here to help!  Visit HW Hours and/or post questions on Piazza!\n"
   ]
  },
  {
   "cell_type": "markdown",
   "id": "b040a7c3-e466-403d-9884-5b8969f8aec3",
   "metadata": {},
   "source": [
    "If while completing this assignment you reference any websites other than those linked in this assignment or provided on Canvas please list those references here:\n",
    "\n",
    "**External references**:  *list any websites you referenced"
   ]
  },
  {
   "cell_type": "code",
   "execution_count": null,
   "id": "11e82fd7",
   "metadata": {},
   "outputs": [],
   "source": []
  },
  {
   "cell_type": "markdown",
   "id": "1ee34b34-778f-48d8-87a7-173cd97a049c",
   "metadata": {},
   "source": [
    "#### Grading\n",
    "Grading is broken down into autograded answers and manually graded answers. \n",
    "\n",
    "For autograded answers, the results of your code are compared to provided and/or hidden tests.\n",
    "\n",
    "For manually graded answers you must show and explain all steps.  Graders will evaluate how well you answered the question and/or fulfilled the requirements of the question.\n",
    "\n",
    "\n",
    "### Score breakdown\n",
    "\n",
    "\n",
    "\n",
    "Question | Points | Grading Type\n",
    "--- | --- | ---\n",
    "Question 1 | 4 | manual\n",
    "Question 2.1, 2.3, 2.5 | 9 | manual\n",
    "Question 2.2, 2.4| 6 | autograded\n",
    "Question 3 | 5 | manual\n",
    "Question 4.1-4.7, 4.9 | 17 | autograded\n",
    "Question 4.8, 4.10 | 9 | manual\n",
    "|Total | 50"
   ]
  },
  {
   "cell_type": "code",
   "execution_count": 2,
   "id": "20af1960",
   "metadata": {},
   "outputs": [],
   "source": [
    "import hashlib\n",
    "import pandas as pd\n",
    "# These lines import the Numpy and Datascience modules.\n",
    "import numpy as np\n",
    "from matplotlib.ticker import PercentFormatter\n",
    "# These lines do some fancy plotting magic.\n",
    "import matplotlib\n",
    "%matplotlib inline\n",
    "import matplotlib.pyplot as plt\n",
    "plt.style.use('fivethirtyeight')\n",
    "import warnings\n",
    "warnings.simplefilter('ignore', FutureWarning)\n",
    "\n",
    "from matplotlib import patches\n",
    "from ipywidgets import interact, interactive, fixed\n",
    "import ipywidgets as widgets\n",
    "\n",
    "\n",
    "def get_hash(num):\n",
    "    \"\"\"Helper function for assessing correctness\"\"\"\n",
    "    return hashlib.md5(str(num).encode()).hexdigest()"
   ]
  },
  {
   "cell_type": "markdown",
   "id": "cd1556fc",
   "metadata": {
    "deletable": false,
    "editable": false
   },
   "source": [
    "<!-- BEGIN QUESTION -->\n",
    "\n",
    "<br>\n",
    "\n",
    "---\n",
    "\n",
    "\n",
    "## QUESTION 1  - Scientists vs. P-Values \n",
    "***\n",
    "\n",
    "Read the following article AND watch the following video.  Then answer the following questions below.\n",
    "\n",
    "\n",
    " Step 1).  Read the following article from **FiveThirtyEight**:\n",
    "     [Statisticians Found One Thing They Can Agree On: It's Time to Stop Misusing P-Values](http://fivethirtyeight.com/features/statisticians-found-one-thing-they-can-agree-on-its-time-to-stop-misusing-p-values/)\n",
    " \n",
    " Step 2).  Watch this video (11 min):  [P-Hacking](https://www.youtube.com/watch?v=Gx0fAjNHb1M)\n",
    "\n",
    "\n",
    "\n",
    "**Based on the article:**\n",
    "\n",
    "**Question 1.1.**  In what ways are scientists misusing p-values?   For full credit list **at least 3 ways**  mentioned in the article. \n",
    "\n",
    "\n",
    "**Question 1.2.**  What suggestions are made in the article to use them properly? \n",
    "\n",
    "**Based on the video:**\n",
    "\n",
    "**Question 1.3.**  Suppose the null hypothesis is true.  If you're conducting multiple hypothesis tests at the 5% significance level, what's the minimum number of tests you need to do before it's more than 50% likely that at least one of the tests will incorrectly reject the null hypothesis?  Show work justifying your answer.   \n",
    "\n",
    "**Question 1.4.**  What is the Bonferroni correction as described in the video?  Give an example from the video as to how it could be used. \n",
    "\n",
    "Answer all 4 parts in the same Markdown cell below:"
   ]
  },
  {
   "cell_type": "markdown",
   "id": "b37d791c",
   "metadata": {},
   "source": [
    "### 1.1 Answer:\n",
    "\n",
    "One way that scientists can misuse the p-value is that they would stimulate their data under different statistic each time until they find something with the right p-value.\n",
    "\n",
    "Another way that is it is commonly misused is that the p-value is sometimes used for indicating the probability of a result occurring by chance when the p-value is used for indicating the probability of observing the results given a particular hypothesis.\n",
    "\n",
    "Lastly, p-value is also used as a substitute for scientific reasoning and a way to replace it which might lead researchers to prioritize obtaining p-values below an arbitrary threshold (such as 0.05) rather than focusing on scientific merit.\n",
    "\n",
    "### 1.2 Answer:\n",
    "\n",
    "Based on the article, p-value must be used as a tool to embrace uncertainty and variation rather than replacing the p-value with an alternative statistical measure. Another suggestion from other experts mention that the p-value can be replaced with other statistical measures such confidence intervals or Bayesian analyses.\n",
    "\n",
    "\n",
    "### 1.3 Answer:\n",
    "\n",
    "14 tests. This is because if you do 14 tests and you had a $95$% of the time where none of the tests come up significant, then you will have at least one test where there are more than $50$% likely that at least one of the tests will incorrectly reject the null hypothesis. Thus is because of the following:\n",
    "\n",
    "$$1 - (0.95)^x > 0.5$$\n",
    "\n",
    "where $x$ is the minimum number of tests needed to get more than $50$% that least one test that will incorrectly reject the null hypothesis. When we solve for $x$, we get $x > 13.5134$ or when rounded to the nearest integer, we get $x \\ge 14$ or $14$ tests.\n",
    "\n",
    "### 1.4 Answer:\n",
    "\n",
    "The Bonferroni correction is used so that even if you do multiple tests, the probability that at least one test will incorrectly reject the null hypothesis will still stay at $5$% more or less. To do this, the p-value must be adjusted such that if you are doing $x$ tests and you have an initial p-value of $0.05$, then your new p-value is $0.05/x$ so that the probability of that at least one test will incorrectly reject the null hypothesis stays at $5$% more or less. For example, if we wanted to test the effect of 5 different health measures on the risk of stroke, we would need a p value of $0.05/5 = 0.01$ so that the probability of correctly rejecting the null is $0.99$ and this work only if you do the test 5 times. The cutoff will change if you change the number of tests you are doing. So, with 5 tests, your cutoff is $1$% and the probability of incorrectly rejecting the null stays at $5$%."
   ]
  },
  {
   "cell_type": "markdown",
   "id": "6963e98d",
   "metadata": {
    "deletable": false,
    "editable": false
   },
   "source": [
    "<!-- END QUESTION -->\n",
    "\n",
    "<br>\n",
    "\n",
    "---\n",
    "\n",
    "## Question 2: Using TVD as a Test Statistic\n",
    "\n",
    "Before beginning this section, please read [this section](https://inferentialthinking.com/chapters/11/2/Multiple_Categories.html#a-new-statistic-the-distance-between-two-distributions) of the textbook on TVD!"
   ]
  },
  {
   "cell_type": "markdown",
   "id": "276b1a13",
   "metadata": {},
   "source": [
    "**Total variation distance (TVD)** is a special type of test statistic that we use when we want to compare two distributions of *categorical data*. It is often used when we observe that a set of observed proportions/probabilities is different than what we expect under the null model. \n",
    "\n",
    "Consider a six-sided die that we roll 6,000 times. If the die is fair, we would expect that each face comes up $\\frac{1}{6}$ of the time. By random chance, a fair die won't always result in equal proportions (that is, we won't get exactly 1,000 of each face). However, if we suspect that the die might be unfair based on the data, we can conduct a hypothesis test using TVD to compare the expected [$\\frac{1}{6}$, $\\frac{1}{6}$, $\\frac{1}{6}$, $\\frac{1}{6}$, $\\frac{1}{6}$, $\\frac{1}{6}$] distribution to what is actually observed.\n",
    "\n",
    "In this part of the homework, we'll look at how we can use TVD to determine the effect that different factors have on happiness. \n",
    "\n",
    "We will be working with data from the [Gallup World Poll](https://www.gallup.com/analytics/349487/gallup-global-happiness-center.aspx#:~:text=World%20Happiness%20Report&text=Using%20the%20Gallup%20World%20Poll,about%20the%20World%20Happiness%20Report.) that is presented in the World Happiness Report, a survey of the state of global happiness. The survey ranked 155 countries by overall happiness and estimated the influence that economic production, social support, life expectancy, freedom, absence of corruption, and generosity had on population happiness. The study has been repeated for several years, but we'll be looking at data from the 2016 survey.\n",
    "\n",
    "Run the cell below to load in the `happiness_scores` table."
   ]
  },
  {
   "cell_type": "code",
   "execution_count": 3,
   "id": "d52dd217",
   "metadata": {},
   "outputs": [
    {
     "data": {
      "text/html": [
       "<div>\n",
       "<style scoped>\n",
       "    .dataframe tbody tr th:only-of-type {\n",
       "        vertical-align: middle;\n",
       "    }\n",
       "\n",
       "    .dataframe tbody tr th {\n",
       "        vertical-align: top;\n",
       "    }\n",
       "\n",
       "    .dataframe thead th {\n",
       "        text-align: right;\n",
       "    }\n",
       "</style>\n",
       "<table border=\"1\" class=\"dataframe\">\n",
       "  <thead>\n",
       "    <tr style=\"text-align: right;\">\n",
       "      <th></th>\n",
       "      <th>Country</th>\n",
       "      <th>Region</th>\n",
       "      <th>Happiness Rank</th>\n",
       "      <th>Happiness Score</th>\n",
       "      <th>Lower Confidence Interval</th>\n",
       "      <th>Upper Confidence Interval</th>\n",
       "      <th>Economy (GDP per Capita)</th>\n",
       "      <th>Family</th>\n",
       "      <th>Health (Life Expectancy)</th>\n",
       "      <th>Freedom</th>\n",
       "      <th>Trust (Government Corruption)</th>\n",
       "      <th>Generosity</th>\n",
       "    </tr>\n",
       "  </thead>\n",
       "  <tbody>\n",
       "    <tr>\n",
       "      <th>0</th>\n",
       "      <td>Denmark</td>\n",
       "      <td>Western Europe</td>\n",
       "      <td>1</td>\n",
       "      <td>7.526</td>\n",
       "      <td>7.460</td>\n",
       "      <td>7.592</td>\n",
       "      <td>1.44178</td>\n",
       "      <td>1.16374</td>\n",
       "      <td>0.79504</td>\n",
       "      <td>0.57941</td>\n",
       "      <td>0.44453</td>\n",
       "      <td>0.36171</td>\n",
       "    </tr>\n",
       "    <tr>\n",
       "      <th>1</th>\n",
       "      <td>Switzerland</td>\n",
       "      <td>Western Europe</td>\n",
       "      <td>2</td>\n",
       "      <td>7.509</td>\n",
       "      <td>7.428</td>\n",
       "      <td>7.590</td>\n",
       "      <td>1.52733</td>\n",
       "      <td>1.14524</td>\n",
       "      <td>0.86303</td>\n",
       "      <td>0.58557</td>\n",
       "      <td>0.41203</td>\n",
       "      <td>0.28083</td>\n",
       "    </tr>\n",
       "    <tr>\n",
       "      <th>2</th>\n",
       "      <td>Iceland</td>\n",
       "      <td>Western Europe</td>\n",
       "      <td>3</td>\n",
       "      <td>7.501</td>\n",
       "      <td>7.333</td>\n",
       "      <td>7.669</td>\n",
       "      <td>1.42666</td>\n",
       "      <td>1.18326</td>\n",
       "      <td>0.86733</td>\n",
       "      <td>0.56624</td>\n",
       "      <td>0.14975</td>\n",
       "      <td>0.47678</td>\n",
       "    </tr>\n",
       "    <tr>\n",
       "      <th>3</th>\n",
       "      <td>Norway</td>\n",
       "      <td>Western Europe</td>\n",
       "      <td>4</td>\n",
       "      <td>7.498</td>\n",
       "      <td>7.421</td>\n",
       "      <td>7.575</td>\n",
       "      <td>1.57744</td>\n",
       "      <td>1.12690</td>\n",
       "      <td>0.79579</td>\n",
       "      <td>0.59609</td>\n",
       "      <td>0.35776</td>\n",
       "      <td>0.37895</td>\n",
       "    </tr>\n",
       "    <tr>\n",
       "      <th>4</th>\n",
       "      <td>Finland</td>\n",
       "      <td>Western Europe</td>\n",
       "      <td>5</td>\n",
       "      <td>7.413</td>\n",
       "      <td>7.351</td>\n",
       "      <td>7.475</td>\n",
       "      <td>1.40598</td>\n",
       "      <td>1.13464</td>\n",
       "      <td>0.81091</td>\n",
       "      <td>0.57104</td>\n",
       "      <td>0.41004</td>\n",
       "      <td>0.25492</td>\n",
       "    </tr>\n",
       "  </tbody>\n",
       "</table>\n",
       "</div>"
      ],
      "text/plain": [
       "       Country          Region  Happiness Rank  Happiness Score  \\\n",
       "0      Denmark  Western Europe               1            7.526   \n",
       "1  Switzerland  Western Europe               2            7.509   \n",
       "2      Iceland  Western Europe               3            7.501   \n",
       "3       Norway  Western Europe               4            7.498   \n",
       "4      Finland  Western Europe               5            7.413   \n",
       "\n",
       "   Lower Confidence Interval  Upper Confidence Interval  \\\n",
       "0                      7.460                      7.592   \n",
       "1                      7.428                      7.590   \n",
       "2                      7.333                      7.669   \n",
       "3                      7.421                      7.575   \n",
       "4                      7.351                      7.475   \n",
       "\n",
       "   Economy (GDP per Capita)   Family  Health (Life Expectancy)  Freedom  \\\n",
       "0                   1.44178  1.16374                   0.79504  0.57941   \n",
       "1                   1.52733  1.14524                   0.86303  0.58557   \n",
       "2                   1.42666  1.18326                   0.86733  0.56624   \n",
       "3                   1.57744  1.12690                   0.79579  0.59609   \n",
       "4                   1.40598  1.13464                   0.81091  0.57104   \n",
       "\n",
       "   Trust (Government Corruption)  Generosity  \n",
       "0                        0.44453     0.36171  \n",
       "1                        0.41203     0.28083  \n",
       "2                        0.14975     0.47678  \n",
       "3                        0.35776     0.37895  \n",
       "4                        0.41004     0.25492  "
      ]
     },
     "execution_count": 3,
     "metadata": {},
     "output_type": "execute_result"
    }
   ],
   "source": [
    "happiness_scores = pd.read_csv(\"happiness_scores.csv\")\n",
    "happiness_scores.head(5)"
   ]
  },
  {
   "cell_type": "markdown",
   "id": "3ef66cc4",
   "metadata": {},
   "source": [
    "Participants in the study were asked to evaluate their life satisfaction from a scale of 0 (worst possible life) to 10 (best possible life). The responses for each country were averaged to create the `Happiness Score`.\n",
    "\n",
    "The columns `Economy (GDP per Capita)`, `Family`, `Health (Life Expectancy)`, `Freedom`, `Trust (Government Corruption)`, and `Generosity` estimate the extent to which each factor influences happiness, both for better or for worse. The happiness score is the sum of these factors; the larger a factor is, the more it contributes to overall happiness. [In other words, if you add up all the factors (in addition to a \"Difference from Dystopia\" value we excluded in the dataset), you get the happiness score.]\n",
    "\n",
    "Let's look at the different factors that affect happiness in the United States. Run the cell below to view the row in `us_happiness` that contains data for the United States."
   ]
  },
  {
   "cell_type": "code",
   "execution_count": 4,
   "id": "22678b6b",
   "metadata": {},
   "outputs": [
    {
     "data": {
      "text/html": [
       "<div>\n",
       "<style scoped>\n",
       "    .dataframe tbody tr th:only-of-type {\n",
       "        vertical-align: middle;\n",
       "    }\n",
       "\n",
       "    .dataframe tbody tr th {\n",
       "        vertical-align: top;\n",
       "    }\n",
       "\n",
       "    .dataframe thead th {\n",
       "        text-align: right;\n",
       "    }\n",
       "</style>\n",
       "<table border=\"1\" class=\"dataframe\">\n",
       "  <thead>\n",
       "    <tr style=\"text-align: right;\">\n",
       "      <th></th>\n",
       "      <th>Country</th>\n",
       "      <th>Region</th>\n",
       "      <th>Happiness Rank</th>\n",
       "      <th>Happiness Score</th>\n",
       "      <th>Lower Confidence Interval</th>\n",
       "      <th>Upper Confidence Interval</th>\n",
       "      <th>Economy (GDP per Capita)</th>\n",
       "      <th>Family</th>\n",
       "      <th>Health (Life Expectancy)</th>\n",
       "      <th>Freedom</th>\n",
       "      <th>Trust (Government Corruption)</th>\n",
       "      <th>Generosity</th>\n",
       "    </tr>\n",
       "  </thead>\n",
       "  <tbody>\n",
       "    <tr>\n",
       "      <th>12</th>\n",
       "      <td>United States</td>\n",
       "      <td>North America</td>\n",
       "      <td>13</td>\n",
       "      <td>7.104</td>\n",
       "      <td>7.02</td>\n",
       "      <td>7.188</td>\n",
       "      <td>1.50796</td>\n",
       "      <td>1.04782</td>\n",
       "      <td>0.779</td>\n",
       "      <td>0.48163</td>\n",
       "      <td>0.14868</td>\n",
       "      <td>0.41077</td>\n",
       "    </tr>\n",
       "  </tbody>\n",
       "</table>\n",
       "</div>"
      ],
      "text/plain": [
       "          Country         Region  Happiness Rank  Happiness Score  \\\n",
       "12  United States  North America              13            7.104   \n",
       "\n",
       "    Lower Confidence Interval  Upper Confidence Interval  \\\n",
       "12                       7.02                      7.188   \n",
       "\n",
       "    Economy (GDP per Capita)   Family  Health (Life Expectancy)  Freedom  \\\n",
       "12                   1.50796  1.04782                     0.779  0.48163   \n",
       "\n",
       "    Trust (Government Corruption)  Generosity  \n",
       "12                        0.14868     0.41077  "
      ]
     },
     "execution_count": 4,
     "metadata": {},
     "output_type": "execute_result"
    }
   ],
   "source": [
    "us_happiness = happiness_scores.loc[happiness_scores[\"Country\"] == \"United States\"]\n",
    "us_happiness"
   ]
  },
  {
   "cell_type": "markdown",
   "id": "e9abd31c",
   "metadata": {},
   "source": [
    "**To compare the different factors, we'll look at the proportion of the happiness score that is attributed to each variable. \n",
    "You can find these proportions in the table `us_happiness_factors` after running the cell below.**\n",
    "\n",
    "*Note:* The factors shown in `us_happiness` don't add up exactly to the happiness score, so we adjusted the proportions to  only account for the data we have access to. The proportions were found by dividing each Happiness Factor value by the sum of all Happiness Factor values in `us_happiness`."
   ]
  },
  {
   "cell_type": "code",
   "execution_count": 5,
   "id": "d553946d",
   "metadata": {},
   "outputs": [
    {
     "data": {
      "text/html": [
       "<div>\n",
       "<style scoped>\n",
       "    .dataframe tbody tr th:only-of-type {\n",
       "        vertical-align: middle;\n",
       "    }\n",
       "\n",
       "    .dataframe tbody tr th {\n",
       "        vertical-align: top;\n",
       "    }\n",
       "\n",
       "    .dataframe thead th {\n",
       "        text-align: right;\n",
       "    }\n",
       "</style>\n",
       "<table border=\"1\" class=\"dataframe\">\n",
       "  <thead>\n",
       "    <tr style=\"text-align: right;\">\n",
       "      <th></th>\n",
       "      <th>Happiness Factor</th>\n",
       "      <th>Proportion of Happiness Score</th>\n",
       "    </tr>\n",
       "  </thead>\n",
       "  <tbody>\n",
       "    <tr>\n",
       "      <th>0</th>\n",
       "      <td>Economy (GDP per Capita)</td>\n",
       "      <td>0.344609</td>\n",
       "    </tr>\n",
       "    <tr>\n",
       "      <th>1</th>\n",
       "      <td>Family</td>\n",
       "      <td>0.239455</td>\n",
       "    </tr>\n",
       "    <tr>\n",
       "      <th>2</th>\n",
       "      <td>Health (Life Expectancy)</td>\n",
       "      <td>0.178022</td>\n",
       "    </tr>\n",
       "    <tr>\n",
       "      <th>3</th>\n",
       "      <td>Freedom</td>\n",
       "      <td>0.110065</td>\n",
       "    </tr>\n",
       "    <tr>\n",
       "      <th>4</th>\n",
       "      <td>Trust (Government Corruption)</td>\n",
       "      <td>0.033977</td>\n",
       "    </tr>\n",
       "    <tr>\n",
       "      <th>5</th>\n",
       "      <td>Generosity</td>\n",
       "      <td>0.093872</td>\n",
       "    </tr>\n",
       "  </tbody>\n",
       "</table>\n",
       "</div>"
      ],
      "text/plain": [
       "                Happiness Factor  Proportion of Happiness Score\n",
       "0       Economy (GDP per Capita)                       0.344609\n",
       "1                         Family                       0.239455\n",
       "2       Health (Life Expectancy)                       0.178022\n",
       "3                        Freedom                       0.110065\n",
       "4  Trust (Government Corruption)                       0.033977\n",
       "5                     Generosity                       0.093872"
      ]
     },
     "execution_count": 5,
     "metadata": {},
     "output_type": "execute_result"
    }
   ],
   "source": [
    "us_happiness_factors = pd.read_csv(\"us_happiness_factors.csv\")\n",
    "us_happiness_factors\n"
   ]
  },
  {
   "cell_type": "markdown",
   "id": "dc757f1a",
   "metadata": {
    "deletable": false,
    "editable": false
   },
   "source": [
    "<!-- BEGIN QUESTION -->\n",
    "\n",
    "**Question 2.1.** Suppose we want to test whether or not each factor contributes the same amount to the overall Happiness Score. Define the null hypothesis, alternative hypothesis, and test statistic in the cell below. \n",
    "\n",
    "*Note:* Please format your answer as follows:\n",
    "- Null Hypothesis: ...  \n",
    "- Alternative Hypothesis: ...  \n",
    "- Test Statistic: ...  \n"
   ]
  },
  {
   "cell_type": "markdown",
   "id": "47939ac1",
   "metadata": {},
   "source": [
    "Null Hypothesis: Each factor contributes the same amount to the overall Happiness Score.\n",
    "\n",
    "Alternative Hypothesis: Each factor does not contribute the same amount to the overall Happiness Score.\n",
    "\n",
    "Test Statistic: The total variation distance (TVD)."
   ]
  },
  {
   "cell_type": "markdown",
   "id": "8c46dde0",
   "metadata": {
    "deletable": false,
    "editable": false
   },
   "source": [
    "<!-- END QUESTION -->\n",
    "\n",
    "**Question 2.2.** Write a function `calculate_tvd` that takes in the observed distribution (`obs_dist`) and expected distribution under the null hypothesis (`null_dist`) and calculates the total variation distance. Use this function to set `observed_tvd` to be equal to the observed test statistic. \n"
   ]
  },
  {
   "cell_type": "code",
   "execution_count": 6,
   "id": "dc795b98",
   "metadata": {
    "tags": []
   },
   "outputs": [
    {
     "data": {
      "text/plain": [
       "0.26208562431156396"
      ]
     },
     "execution_count": 6,
     "metadata": {},
     "output_type": "execute_result"
    }
   ],
   "source": [
    "null_distribution = np.ones(6) * (1/6)\n",
    "\n",
    "def calculate_tvd(obs_dist, null_dist):\n",
    "    return sum(abs(obs_dist - null_dist))/2\n",
    "    \n",
    "observed_tvd = calculate_tvd(np.array(us_happiness_factors[\"Proportion of Happiness Score\"]), null_distribution)\n",
    "observed_tvd"
   ]
  },
  {
   "cell_type": "code",
   "execution_count": 7,
   "id": "11eb1f7d",
   "metadata": {
    "deletable": false,
    "editable": false
   },
   "outputs": [
    {
     "data": {
      "text/html": [
       "<p><strong><pre style='display: inline;'>q2_2</pre></strong> passed! 💯</p>"
      ],
      "text/plain": [
       "q2_2 results: All test cases passed!"
      ]
     },
     "execution_count": 7,
     "metadata": {},
     "output_type": "execute_result"
    }
   ],
   "source": [
    "grader.check(\"q2_2\")"
   ]
  },
  {
   "cell_type": "markdown",
   "id": "c148f2b0",
   "metadata": {
    "deletable": false,
    "editable": false
   },
   "source": [
    "<!-- BEGIN QUESTION -->\n",
    "\n",
    "**Question 2.3.** Create an array called `simulated_tvds` that contains 10,000 simulated values under the null hypothesis. Assume that the original sample consisted of 1,000 individuals. \n",
    "\n",
    "Then plot a density histogram of your simulated test statistics, as well as a red dot representing the observed value of the test statistic.  Include a title and label your x and y axes.\n"
   ]
  },
  {
   "cell_type": "code",
   "execution_count": 8,
   "id": "52de6cb9",
   "metadata": {
    "tags": []
   },
   "outputs": [
    {
     "data": {
      "image/png": "[encoded data removed]",
      "text/plain": [
       "<Figure size 640x480 with 1 Axes>"
      ]
     },
     "metadata": {},
     "output_type": "display_data"
    }
   ],
   "source": [
    "\n",
    "simulated_tvds = []\n",
    "for _ in range(10000):\n",
    "    \n",
    "    simulated_data = np.random.multinomial(1000, null_distribution)/1000\n",
    "    simulated_tvd = calculate_tvd(simulated_data, null_distribution)\n",
    "    simulated_tvds.append(simulated_tvd)\n",
    "\n",
    "\n",
    "simulated_tvds = np.array(simulated_tvds)\n",
    "\n",
    "\n",
    "np.mean(simulated_tvds)\n",
    "plt.hist(simulated_tvds, bins=30, density=True, alpha=0.5, color='blue', label='Simulated')\n",
    "plt.scatter(observed_tvd, 1, color='red', label='Observed', zorder=1)\n",
    "plt.xlabel('Total Variation Distance')\n",
    "plt.ylabel('Density')\n",
    "plt.title('Density Histogram of Simulated Test Statistics')\n",
    "plt.legend()\n",
    "plt.show()\n",
    "# your code above this line"
   ]
  },
  {
   "cell_type": "code",
   "execution_count": 9,
   "id": "3d164167",
   "metadata": {
    "deletable": false,
    "editable": false
   },
   "outputs": [
    {
     "data": {
      "text/html": [
       "<p><strong><pre style='display: inline;'>q2_3</pre></strong> passed! 🌈</p>"
      ],
      "text/plain": [
       "q2_3 results: All test cases passed!"
      ]
     },
     "execution_count": 9,
     "metadata": {},
     "output_type": "execute_result"
    }
   ],
   "source": [
    "grader.check(\"q2_3\")"
   ]
  },
  {
   "cell_type": "markdown",
   "id": "5cd7d082",
   "metadata": {
    "deletable": false,
    "editable": false
   },
   "source": [
    "<!-- END QUESTION -->\n",
    "\n",
    "**Question 2.4** Use your simulated statistics to calculate the empirical p-value of your test. Make sure that this number is consistent with what you observed in the histogram above.\n"
   ]
  },
  {
   "cell_type": "code",
   "execution_count": 10,
   "id": "f29356e7",
   "metadata": {
    "tags": []
   },
   "outputs": [
    {
     "data": {
      "text/plain": [
       "0.0"
      ]
     },
     "execution_count": 10,
     "metadata": {},
     "output_type": "execute_result"
    }
   ],
   "source": [
    "p_value_tvd = np.mean(simulated_tvds >= observed_tvd)\n",
    "p_value_tvd"
   ]
  },
  {
   "cell_type": "code",
   "execution_count": 11,
   "id": "8086f2e3",
   "metadata": {
    "deletable": false,
    "editable": false
   },
   "outputs": [
    {
     "data": {
      "text/html": [
       "<p><strong><pre style='display: inline;'>q2_4</pre></strong> passed! 🙌</p>"
      ],
      "text/plain": [
       "q2_4 results: All test cases passed!"
      ]
     },
     "execution_count": 11,
     "metadata": {},
     "output_type": "execute_result"
    }
   ],
   "source": [
    "grader.check(\"q2_4\")"
   ]
  },
  {
   "cell_type": "markdown",
   "id": "4c8baaae",
   "metadata": {
    "deletable": false,
    "editable": false
   },
   "source": [
    "<!-- BEGIN QUESTION -->\n",
    "\n",
    "**Question 2.5.** What can you conclude about how each factor contributes to the overall happiness score in the US? Explain your answer using the results of your hypothesis test. Assume a significance level (i.e. p-value cutoff) of 5%. \n"
   ]
  },
  {
   "cell_type": "markdown",
   "id": "c5ed650f",
   "metadata": {},
   "source": [
    "Since the p-value is less than 5 percent, we reject the null hypothesis and accept the alternative, which is that each factor does not contribute the same amount to the overall Happiness Score."
   ]
  },
  {
   "cell_type": "markdown",
   "id": "fbe2fdb7",
   "metadata": {
    "deletable": false,
    "editable": false
   },
   "source": [
    "<!-- END QUESTION -->\n",
    "\n",
    "<!-- BEGIN QUESTION -->\n",
    "\n",
    "<br>\n",
    "\n",
    "---\n",
    "\n",
    "## QUESTION 3:  A/B Tests\n",
    "\n",
    "Answer all 4 parts to this question in the same Markdown cell below.  \n",
    "\n",
    "\n",
    "**Question 3.1.**   When should you use an A/B test versus another kind of hypothesis test?\n",
    "\n",
    "**Question 3.2.**   Kevin, a museum curator, has recently been given specimens of caddisflies collected\n",
    "from various parts of Colorado. The scientists who collected the caddisflies\n",
    "think that caddisflies collected at higher altitudes tend to be bigger. They tell him that\n",
    "the average length of the 560 caddisflies collected at high elevation is 14mm, while the\n",
    "average length of the 450 caddisflies collected from a slightly lower elevation is 12mm.\n",
    "He’s not sure that this difference really matters, and thinks that this could just be the\n",
    "result of chance in sampling.\n",
    "\n",
    " - **Question 3.2.a**  What’s an appropriate null hypothesis that Kevin can simulate under?\n",
    "\n",
    "\n",
    " - **Question 3.2.b**  How could you test the null hypothesis in the A/B test from above? What assumption would you make to test the hypothesis, and how would you simulate under that assumption?\n",
    " \n",
    "\n",
    " - **Question 3.2.c**  What would be a useful test statistic for the A/B test? Remember that the direction of your test statistic should come from the initial setting."
   ]
  },
  {
   "cell_type": "markdown",
   "id": "5f9acc1e",
   "metadata": {},
   "source": [
    "## 3.1:\n",
    "\n",
    "Usually, we use A/B testing when we want to test the effectiveness of two or more variants on two groups. We seperate these two groups and test the different variants on both of them to see their effectiveness.\n",
    "\n",
    "## 3.2:\n",
    "\n",
    "### a:\n",
    "\n",
    "Here, we could use A/B testing and the null hypothesis could be that the distribution of the length of the caddisflies are the same regardless of the elevation and any difference between the lengths of the caddisflies are just due to chance.\n",
    "\n",
    "### b:\n",
    "\n",
    "We could test the null hypothesis by shuffling the label of those caddisflies (whether they are from higher elevation vs lower elevation) and comparing it with the original distributions using a statistic such as the difference of the mean between the two. We made the assumption that the difference between the lengths of the caddisflies are just due to chance and we can stimulate under that assumption by shuffling the labels between the two groups and calculating the difference of the length mean between the two groups and see if there was a difference between the two. If the p value using that statistic is less then a certain predefined value such as 0.5, we reject the null and accept the alternative. Otherwise, we fail to reject the null.\n",
    "\n",
    "### c:\n",
    "\n",
    "A useful test statistic as mentioned in the previous answer could be taking the average lengths of the two groups and then taking the difference (B - A) where B is the higher elevation and A is the lower elevation. If there was bias, the difference would be positive and the higher elevation would have bigger lengths. If it was negative, lower elevation would have greater lengths. Otherwise, if it was closer to zero, then there is no bias."
   ]
  },
  {
   "cell_type": "markdown",
   "id": "2251b535",
   "metadata": {
    "deletable": false,
    "editable": false
   },
   "source": [
    "<!-- END QUESTION -->\n",
    "\n",
    "<br>\n",
    "\n",
    "---\n",
    "\n",
    "## Question 4: Deflategate\n",
    "\n",
    "On January 18, 2015, the Indianapolis Colts and the New England Patriots played the American Football Conference (AFC) championship game to determine which of those teams would play in the Super Bowl. After the game, there were allegations that the Patriots' footballs had not been inflated as much as the regulations required; they were softer. This could be an advantage, as softer balls might be easier to catch.\n",
    "\n",
    "For several weeks, the world of American football was consumed by accusations, denials, theories, and suspicions: the press labeled the topic Deflategate, after the Watergate political scandal of the 1970's. The National Football League (NFL) commissioned an independent analysis. In this example, we will perform our own analysis of the data.\n",
    "\n",
    "Pressure is often measured in pounds per square inch (psi). NFL rules stipulate that game balls must be inflated to have pressures in the range 12.5 psi and 13.5 psi. Each team plays with 12 balls. Teams have the responsibility of maintaining the pressure in their own footballs, but game officials inspect the balls. Before the start of the AFC game, all the Patriots' balls were at about 12.5 psi. Most of the Colts' balls were at about 13.0 psi. However, these pre-game data were not recorded.\n",
    "\n",
    "During the second quarter, the Colts intercepted a Patriots ball. On the sidelines, they measured the pressure of the ball and determined that it was below the 12.5 psi threshold. Promptly, they informed officials. \n",
    "\n",
    "At half-time, all the game balls were collected for inspection. Two officials, Clete Blakeman and Dyrol Prioleau, measured the pressure in each of the balls. \n",
    "\n",
    "Here are the data. Each row corresponds to one football. Pressure is measured in psi. The Patriots ball that had been intercepted by the Colts was not inspected at half-time. Nor were most of the Colts' balls – the officials simply ran out of time and had to relinquish the balls for the start of second half play."
   ]
  },
  {
   "cell_type": "code",
   "execution_count": 12,
   "id": "e91886c3",
   "metadata": {},
   "outputs": [
    {
     "data": {
      "text/html": [
       "<div>\n",
       "<style scoped>\n",
       "    .dataframe tbody tr th:only-of-type {\n",
       "        vertical-align: middle;\n",
       "    }\n",
       "\n",
       "    .dataframe tbody tr th {\n",
       "        vertical-align: top;\n",
       "    }\n",
       "\n",
       "    .dataframe thead th {\n",
       "        text-align: right;\n",
       "    }\n",
       "</style>\n",
       "<table border=\"1\" class=\"dataframe\">\n",
       "  <thead>\n",
       "    <tr style=\"text-align: right;\">\n",
       "      <th></th>\n",
       "      <th>Team</th>\n",
       "      <th>Blakeman</th>\n",
       "      <th>Prioleau</th>\n",
       "    </tr>\n",
       "  </thead>\n",
       "  <tbody>\n",
       "    <tr>\n",
       "      <th>0</th>\n",
       "      <td>Patriots</td>\n",
       "      <td>11.50</td>\n",
       "      <td>11.80</td>\n",
       "    </tr>\n",
       "    <tr>\n",
       "      <th>1</th>\n",
       "      <td>Patriots</td>\n",
       "      <td>10.85</td>\n",
       "      <td>11.20</td>\n",
       "    </tr>\n",
       "    <tr>\n",
       "      <th>2</th>\n",
       "      <td>Patriots</td>\n",
       "      <td>11.15</td>\n",
       "      <td>11.50</td>\n",
       "    </tr>\n",
       "    <tr>\n",
       "      <th>3</th>\n",
       "      <td>Patriots</td>\n",
       "      <td>10.70</td>\n",
       "      <td>11.00</td>\n",
       "    </tr>\n",
       "    <tr>\n",
       "      <th>4</th>\n",
       "      <td>Patriots</td>\n",
       "      <td>11.10</td>\n",
       "      <td>11.45</td>\n",
       "    </tr>\n",
       "    <tr>\n",
       "      <th>5</th>\n",
       "      <td>Patriots</td>\n",
       "      <td>11.60</td>\n",
       "      <td>11.95</td>\n",
       "    </tr>\n",
       "    <tr>\n",
       "      <th>6</th>\n",
       "      <td>Patriots</td>\n",
       "      <td>11.85</td>\n",
       "      <td>12.30</td>\n",
       "    </tr>\n",
       "    <tr>\n",
       "      <th>7</th>\n",
       "      <td>Patriots</td>\n",
       "      <td>11.10</td>\n",
       "      <td>11.55</td>\n",
       "    </tr>\n",
       "    <tr>\n",
       "      <th>8</th>\n",
       "      <td>Patriots</td>\n",
       "      <td>10.95</td>\n",
       "      <td>11.35</td>\n",
       "    </tr>\n",
       "    <tr>\n",
       "      <th>9</th>\n",
       "      <td>Patriots</td>\n",
       "      <td>10.50</td>\n",
       "      <td>10.90</td>\n",
       "    </tr>\n",
       "    <tr>\n",
       "      <th>10</th>\n",
       "      <td>Patriots</td>\n",
       "      <td>10.90</td>\n",
       "      <td>11.35</td>\n",
       "    </tr>\n",
       "    <tr>\n",
       "      <th>11</th>\n",
       "      <td>Colts</td>\n",
       "      <td>12.70</td>\n",
       "      <td>12.35</td>\n",
       "    </tr>\n",
       "    <tr>\n",
       "      <th>12</th>\n",
       "      <td>Colts</td>\n",
       "      <td>12.75</td>\n",
       "      <td>12.30</td>\n",
       "    </tr>\n",
       "    <tr>\n",
       "      <th>13</th>\n",
       "      <td>Colts</td>\n",
       "      <td>12.50</td>\n",
       "      <td>12.95</td>\n",
       "    </tr>\n",
       "    <tr>\n",
       "      <th>14</th>\n",
       "      <td>Colts</td>\n",
       "      <td>12.55</td>\n",
       "      <td>12.15</td>\n",
       "    </tr>\n",
       "  </tbody>\n",
       "</table>\n",
       "</div>"
      ],
      "text/plain": [
       "        Team  Blakeman  Prioleau\n",
       "0   Patriots     11.50     11.80\n",
       "1   Patriots     10.85     11.20\n",
       "2   Patriots     11.15     11.50\n",
       "3   Patriots     10.70     11.00\n",
       "4   Patriots     11.10     11.45\n",
       "5   Patriots     11.60     11.95\n",
       "6   Patriots     11.85     12.30\n",
       "7   Patriots     11.10     11.55\n",
       "8   Patriots     10.95     11.35\n",
       "9   Patriots     10.50     10.90\n",
       "10  Patriots     10.90     11.35\n",
       "11     Colts     12.70     12.35\n",
       "12     Colts     12.75     12.30\n",
       "13     Colts     12.50     12.95\n",
       "14     Colts     12.55     12.15"
      ]
     },
     "execution_count": 12,
     "metadata": {},
     "output_type": "execute_result"
    }
   ],
   "source": [
    "football = pd.read_csv('deflategate.csv')\n",
    "football"
   ]
  },
  {
   "cell_type": "markdown",
   "id": "56f29258",
   "metadata": {
    "deletable": false,
    "editable": false
   },
   "source": [
    "**Question 4.1.** For each of the 15 balls that were inspected, the two officials got different results. It is not uncommon that repeated measurements on the same object yield different results, especially when the measurements are performed by different people.\n",
    "\n",
    "Add a new column to the  `football` dataframe called `Combined` where the entries are the average of the two measurements made for each ball.   Then drop the columns `Blakeman` and `Prioleau` from the `football` table.   \n"
   ]
  },
  {
   "cell_type": "code",
   "execution_count": 16,
   "id": "999ebc12",
   "metadata": {
    "tags": []
   },
   "outputs": [
    {
     "data": {
      "text/html": [
       "<div>\n",
       "<style scoped>\n",
       "    .dataframe tbody tr th:only-of-type {\n",
       "        vertical-align: middle;\n",
       "    }\n",
       "\n",
       "    .dataframe tbody tr th {\n",
       "        vertical-align: top;\n",
       "    }\n",
       "\n",
       "    .dataframe thead th {\n",
       "        text-align: right;\n",
       "    }\n",
       "</style>\n",
       "<table border=\"1\" class=\"dataframe\">\n",
       "  <thead>\n",
       "    <tr style=\"text-align: right;\">\n",
       "      <th></th>\n",
       "      <th>Team</th>\n",
       "      <th>Combined</th>\n",
       "    </tr>\n",
       "  </thead>\n",
       "  <tbody>\n",
       "    <tr>\n",
       "      <th>0</th>\n",
       "      <td>Patriots</td>\n",
       "      <td>11.650</td>\n",
       "    </tr>\n",
       "    <tr>\n",
       "      <th>1</th>\n",
       "      <td>Patriots</td>\n",
       "      <td>11.025</td>\n",
       "    </tr>\n",
       "    <tr>\n",
       "      <th>2</th>\n",
       "      <td>Patriots</td>\n",
       "      <td>11.325</td>\n",
       "    </tr>\n",
       "    <tr>\n",
       "      <th>3</th>\n",
       "      <td>Patriots</td>\n",
       "      <td>10.850</td>\n",
       "    </tr>\n",
       "    <tr>\n",
       "      <th>4</th>\n",
       "      <td>Patriots</td>\n",
       "      <td>11.275</td>\n",
       "    </tr>\n",
       "    <tr>\n",
       "      <th>5</th>\n",
       "      <td>Patriots</td>\n",
       "      <td>11.775</td>\n",
       "    </tr>\n",
       "    <tr>\n",
       "      <th>6</th>\n",
       "      <td>Patriots</td>\n",
       "      <td>12.075</td>\n",
       "    </tr>\n",
       "    <tr>\n",
       "      <th>7</th>\n",
       "      <td>Patriots</td>\n",
       "      <td>11.325</td>\n",
       "    </tr>\n",
       "    <tr>\n",
       "      <th>8</th>\n",
       "      <td>Patriots</td>\n",
       "      <td>11.150</td>\n",
       "    </tr>\n",
       "    <tr>\n",
       "      <th>9</th>\n",
       "      <td>Patriots</td>\n",
       "      <td>10.700</td>\n",
       "    </tr>\n",
       "    <tr>\n",
       "      <th>10</th>\n",
       "      <td>Patriots</td>\n",
       "      <td>11.125</td>\n",
       "    </tr>\n",
       "    <tr>\n",
       "      <th>11</th>\n",
       "      <td>Colts</td>\n",
       "      <td>12.525</td>\n",
       "    </tr>\n",
       "    <tr>\n",
       "      <th>12</th>\n",
       "      <td>Colts</td>\n",
       "      <td>12.525</td>\n",
       "    </tr>\n",
       "    <tr>\n",
       "      <th>13</th>\n",
       "      <td>Colts</td>\n",
       "      <td>12.725</td>\n",
       "    </tr>\n",
       "    <tr>\n",
       "      <th>14</th>\n",
       "      <td>Colts</td>\n",
       "      <td>12.350</td>\n",
       "    </tr>\n",
       "  </tbody>\n",
       "</table>\n",
       "</div>"
      ],
      "text/plain": [
       "        Team  Combined\n",
       "0   Patriots    11.650\n",
       "1   Patriots    11.025\n",
       "2   Patriots    11.325\n",
       "3   Patriots    10.850\n",
       "4   Patriots    11.275\n",
       "5   Patriots    11.775\n",
       "6   Patriots    12.075\n",
       "7   Patriots    11.325\n",
       "8   Patriots    11.150\n",
       "9   Patriots    10.700\n",
       "10  Patriots    11.125\n",
       "11     Colts    12.525\n",
       "12     Colts    12.525\n",
       "13     Colts    12.725\n",
       "14     Colts    12.350"
      ]
     },
     "execution_count": 16,
     "metadata": {},
     "output_type": "execute_result"
    }
   ],
   "source": [
    "football = football.assign(Combined = (football[\"Blakeman\"] + football[\"Prioleau\"]) / 2)\n",
    "football = football.drop(columns=['Blakeman', 'Prioleau'])\n",
    "# your code above this line\n",
    "\n",
    "football"
   ]
  },
  {
   "cell_type": "code",
   "execution_count": 17,
   "id": "f218625c",
   "metadata": {
    "deletable": false,
    "editable": false
   },
   "outputs": [
    {
     "data": {
      "text/html": [
       "<p><strong><pre style='display: inline;'>q4_1</pre></strong> passed! 🙌</p>"
      ],
      "text/plain": [
       "q4_1 results: All test cases passed!"
      ]
     },
     "execution_count": 17,
     "metadata": {},
     "output_type": "execute_result"
    }
   ],
   "source": [
    "grader.check(\"q4_1\")"
   ]
  },
  {
   "cell_type": "markdown",
   "id": "9fb4f0ce",
   "metadata": {
    "deletable": false,
    "editable": false
   },
   "source": [
    "**Question 4.2.** At a glance, it seems apparent that the Patriots' footballs were at a lower pressure than the Colts' balls. Because some deflation is normal during the course of a game, the independent analysts decided to calculate the **drop in pressure** from the start of the game. Recall that the Patriots' balls had all started out at about 12.5 psi, and the Colts' balls at about 13.0 psi. \n",
    "\n",
    "Complete the cell below so that `avg_drop_for_colts` and `avg_drop_for_patriots` evaluates to average drops in pressure for the Colts and Patriots respectively.\n",
    "\n",
    "Hint: Start by creating a new column **PressureDrop** and assign it the drop in pressure for each ball compared to the pressure at the start of the game. "
   ]
  },
  {
   "cell_type": "code",
   "execution_count": 72,
   "id": "790825a3",
   "metadata": {
    "tags": []
   },
   "outputs": [],
   "source": [
    "football =  football.assign(PressureDrop = football.apply(lambda x: x[\"Combined\"] - 12.5 if x[\"Team\"] == \"Patriots\" else x[\"Combined\"] - 13, axis=1))\n",
    "# Your code above this line\n",
    "\n",
    "avg_drop_for_colts = football[football[\"Team\"] == \"Colts\"][\"PressureDrop\"].mean() * -1\n",
    "avg_drop_for_patriots = football.groupby(\"Team\")[\"PressureDrop\"].mean()[\"Patriots\"] * -1"
   ]
  },
  {
   "cell_type": "code",
   "execution_count": 73,
   "id": "450c14e5",
   "metadata": {
    "deletable": false,
    "editable": false
   },
   "outputs": [
    {
     "data": {
      "text/html": [
       "<p><strong><pre style='display: inline;'>q4_2</pre></strong> passed! 🌈</p>"
      ],
      "text/plain": [
       "q4_2 results: All test cases passed!"
      ]
     },
     "execution_count": 73,
     "metadata": {},
     "output_type": "execute_result"
    }
   ],
   "source": [
    "grader.check(\"q4_2\")"
   ]
  },
  {
   "cell_type": "markdown",
   "id": "ee190dcf",
   "metadata": {
    "deletable": false,
    "editable": false
   },
   "source": [
    "**Question 4.3.** \n",
    "The question now is why the Patriots' footballs had a larger drop in pressure, on average, than the Colts footballs. Could it be due to chance? \n",
    "\n",
    "How does chance come in here? Nothing was being selected at random. But we can make a chance model by hypothesizing that the 11 Patriots’ drops look like a random sample of 11 out of all the 15 drops, with the Colts’ drops being the remaining four.\n",
    "That’s a completely specified chance model under which we can simulate data. So that's our null hypothesis.\n",
    "\n",
    "\n",
    "Assign `alternative_statement_number` to the **number** next to the statement below that correctly describes the alternative hypothesis.  (For example, if you believe statement 1 is the correct alternative hypothesis, set `alternative_statement_number` = 1 in the code cell below).  Note that the check below just checks that your answer is in the correct form, it doesn't check if you have the correct answer (that will be done when you submit to Gradescope).\n",
    "\n",
    "\n",
    " 1. There is no difference in the population distributions of pressure drops between all of the Patriots' balls and the Colts' balls.  Any difference observed in the random sample of balls measured at halftime was due to random chance.    \n",
    "\n",
    " 2. The Patriots' pressure drops are too large, on average, to resemble a random sample drawn from all the drops. \n",
    " \n",
    " 3. The Patriots' pressure drops are too small, on average, to resemble a random sample drawn from all the drops.\n"
   ]
  },
  {
   "cell_type": "code",
   "execution_count": 51,
   "id": "c67347df",
   "metadata": {
    "tags": []
   },
   "outputs": [],
   "source": [
    "alternative_statement_number = 2"
   ]
  },
  {
   "cell_type": "code",
   "execution_count": 52,
   "id": "3c0e3287",
   "metadata": {
    "deletable": false,
    "editable": false
   },
   "outputs": [
    {
     "data": {
      "text/html": [
       "<p><strong><pre style='display: inline;'>q4_3</pre></strong> passed! ✨</p>"
      ],
      "text/plain": [
       "q4_3 results: All test cases passed!"
      ]
     },
     "execution_count": 52,
     "metadata": {},
     "output_type": "execute_result"
    }
   ],
   "source": [
    "grader.check(\"q4_3\")"
   ]
  },
  {
   "cell_type": "markdown",
   "id": "08423ab9",
   "metadata": {
    "deletable": false,
    "editable": false
   },
   "source": [
    "**Question 4.4.** To test this hypothesis, let's follow our textbook's advice and choose a test statistic where the following statement is true: Large values of the test statistic favor the alternative hypothesis.\n",
    "\n",
    "The correct test statistic for these hypotheses is one of the three options below. Which one is it? Assign the appropriate number to the variable `correct_test_stat`. \n",
    "\n",
    "1. \"average pressure drop for Patriots - average pressure drop for Colts\" \n",
    "2. \"average pressure drop for Colts - average pressure drop for Patriots\" \n",
    "3. \"|average pressure drop for Patriots - average pressure drop for Colts|\" \n"
   ]
  },
  {
   "cell_type": "code",
   "execution_count": 53,
   "id": "d1a8e34f",
   "metadata": {
    "tags": []
   },
   "outputs": [
    {
     "data": {
      "text/plain": [
       "1"
      ]
     },
     "execution_count": 53,
     "metadata": {},
     "output_type": "execute_result"
    }
   ],
   "source": [
    "correct_test_stat = 1\n",
    "correct_test_stat"
   ]
  },
  {
   "cell_type": "code",
   "execution_count": 54,
   "id": "b2948f35",
   "metadata": {
    "deletable": false,
    "editable": false
   },
   "outputs": [
    {
     "data": {
      "text/html": [
       "<p><strong><pre style='display: inline;'>q4_4</pre></strong> passed! 🚀</p>"
      ],
      "text/plain": [
       "q4_4 results: All test cases passed!"
      ]
     },
     "execution_count": 54,
     "metadata": {},
     "output_type": "execute_result"
    }
   ],
   "source": [
    "grader.check(\"q4_4\")"
   ]
  },
  {
   "cell_type": "markdown",
   "id": "10f79736",
   "metadata": {
    "deletable": false,
    "editable": false
   },
   "source": [
    "**Question 4.5.** Complete the cell below so that `observed_statistic_ab` evaluates to the observed value of the test statistic.  (The check below just checks that you have the correct format, not the correct actual value)."
   ]
  },
  {
   "cell_type": "code",
   "execution_count": 55,
   "id": "f83f1bb0",
   "metadata": {
    "tags": []
   },
   "outputs": [
    {
     "data": {
      "text/plain": [
       "0.733522727272728"
      ]
     },
     "execution_count": 55,
     "metadata": {},
     "output_type": "execute_result"
    }
   ],
   "source": [
    "observed_statistic_ab = avg_drop_for_patriots - avg_drop_for_colts\n",
    "\n",
    "observed_statistic_ab"
   ]
  },
  {
   "cell_type": "code",
   "execution_count": 56,
   "id": "c8fbe4c4",
   "metadata": {
    "deletable": false,
    "editable": false
   },
   "outputs": [
    {
     "data": {
      "text/html": [
       "<p><strong><pre style='display: inline;'>q3_5</pre></strong> passed! 🎉</p>"
      ],
      "text/plain": [
       "q3_5 results: All test cases passed!"
      ]
     },
     "execution_count": 56,
     "metadata": {},
     "output_type": "execute_result"
    }
   ],
   "source": [
    "grader.check(\"q3_5\")"
   ]
  },
  {
   "cell_type": "markdown",
   "id": "4fc2dd69",
   "metadata": {
    "deletable": false,
    "editable": false
   },
   "source": [
    "**Question 4.6.**  To simulate our null hypothesis we will use a permutation test. Assign `permutation_test_reason` to the number corresponding to the reason why we use a permutation test in this situation.  Again, the built-in tests in this notebook only check if your answer is in the correct format.\n",
    "\n",
    "\n",
    "1. You can always use a permutation test, regardless of your null hypothesis. \n",
    "\n",
    "\n",
    "2. Under the null hypothesis then it shouldn't matter which footballs are labeled Patriots and which are labeled Colts. The distributions of the two sets of pressure drops would be the same. We can simulate this by randomly shuffling the team **labels** in the `football` table.\n",
    "\n",
    "\n",
    "3. Under the null hypothesis then it shouldn't matter which footballs are labeled Patriots and which are labeled Colts. The distributions of the two sets of pressure drops would be the same. We can simulate this by randomly shuffling the **rows** in the `football` table.\n",
    "\n"
   ]
  },
  {
   "cell_type": "code",
   "execution_count": 57,
   "id": "6fb386fb",
   "metadata": {
    "tags": []
   },
   "outputs": [],
   "source": [
    "permutation_test_reason = 2\n"
   ]
  },
  {
   "cell_type": "code",
   "execution_count": 58,
   "id": "cefdd321",
   "metadata": {
    "deletable": false,
    "editable": false
   },
   "outputs": [
    {
     "data": {
      "text/html": [
       "<p><strong><pre style='display: inline;'>q4_6</pre></strong> passed! 🌟</p>"
      ],
      "text/plain": [
       "q4_6 results: All test cases passed!"
      ]
     },
     "execution_count": 58,
     "metadata": {},
     "output_type": "execute_result"
    }
   ],
   "source": [
    "grader.check(\"q4_6\")"
   ]
  },
  {
   "cell_type": "markdown",
   "id": "c090fabf",
   "metadata": {
    "deletable": false,
    "editable": false
   },
   "source": [
    "**Question 4.7.** \n",
    "\n",
    "Create a new DataFrame `original_and_shuffled` that is a copy of the original `football` DataFrame, but that has an additional column **ShuffledLabel**  with shuffled Colts/Patriots labels.  \n",
    "\n",
    "*Note:* Check out [12.1](https://inferentialthinking.com/chapters/12/1/AB_Testing.html#predicting-the-statistic-under-the-null-hypothesis) for a refresher on random permutations.\n"
   ]
  },
  {
   "cell_type": "code",
   "execution_count": 78,
   "id": "bee15649",
   "metadata": {
    "tags": []
   },
   "outputs": [
    {
     "data": {
      "text/html": [
       "<div>\n",
       "<style scoped>\n",
       "    .dataframe tbody tr th:only-of-type {\n",
       "        vertical-align: middle;\n",
       "    }\n",
       "\n",
       "    .dataframe tbody tr th {\n",
       "        vertical-align: top;\n",
       "    }\n",
       "\n",
       "    .dataframe thead th {\n",
       "        text-align: right;\n",
       "    }\n",
       "</style>\n",
       "<table border=\"1\" class=\"dataframe\">\n",
       "  <thead>\n",
       "    <tr style=\"text-align: right;\">\n",
       "      <th></th>\n",
       "      <th>Team</th>\n",
       "      <th>Combined</th>\n",
       "      <th>PressureDrop</th>\n",
       "      <th>ShuffledLabel</th>\n",
       "    </tr>\n",
       "  </thead>\n",
       "  <tbody>\n",
       "    <tr>\n",
       "      <th>0</th>\n",
       "      <td>Patriots</td>\n",
       "      <td>11.650</td>\n",
       "      <td>-0.850</td>\n",
       "      <td>Patriots</td>\n",
       "    </tr>\n",
       "    <tr>\n",
       "      <th>1</th>\n",
       "      <td>Patriots</td>\n",
       "      <td>11.025</td>\n",
       "      <td>-1.475</td>\n",
       "      <td>Colts</td>\n",
       "    </tr>\n",
       "    <tr>\n",
       "      <th>2</th>\n",
       "      <td>Patriots</td>\n",
       "      <td>11.325</td>\n",
       "      <td>-1.175</td>\n",
       "      <td>Colts</td>\n",
       "    </tr>\n",
       "    <tr>\n",
       "      <th>3</th>\n",
       "      <td>Patriots</td>\n",
       "      <td>10.850</td>\n",
       "      <td>-1.650</td>\n",
       "      <td>Patriots</td>\n",
       "    </tr>\n",
       "    <tr>\n",
       "      <th>4</th>\n",
       "      <td>Patriots</td>\n",
       "      <td>11.275</td>\n",
       "      <td>-1.225</td>\n",
       "      <td>Patriots</td>\n",
       "    </tr>\n",
       "    <tr>\n",
       "      <th>5</th>\n",
       "      <td>Patriots</td>\n",
       "      <td>11.775</td>\n",
       "      <td>-0.725</td>\n",
       "      <td>Patriots</td>\n",
       "    </tr>\n",
       "    <tr>\n",
       "      <th>6</th>\n",
       "      <td>Patriots</td>\n",
       "      <td>12.075</td>\n",
       "      <td>-0.425</td>\n",
       "      <td>Colts</td>\n",
       "    </tr>\n",
       "    <tr>\n",
       "      <th>7</th>\n",
       "      <td>Patriots</td>\n",
       "      <td>11.325</td>\n",
       "      <td>-1.175</td>\n",
       "      <td>Patriots</td>\n",
       "    </tr>\n",
       "    <tr>\n",
       "      <th>8</th>\n",
       "      <td>Patriots</td>\n",
       "      <td>11.150</td>\n",
       "      <td>-1.350</td>\n",
       "      <td>Patriots</td>\n",
       "    </tr>\n",
       "    <tr>\n",
       "      <th>9</th>\n",
       "      <td>Patriots</td>\n",
       "      <td>10.700</td>\n",
       "      <td>-1.800</td>\n",
       "      <td>Colts</td>\n",
       "    </tr>\n",
       "    <tr>\n",
       "      <th>10</th>\n",
       "      <td>Patriots</td>\n",
       "      <td>11.125</td>\n",
       "      <td>-1.375</td>\n",
       "      <td>Patriots</td>\n",
       "    </tr>\n",
       "    <tr>\n",
       "      <th>11</th>\n",
       "      <td>Colts</td>\n",
       "      <td>12.525</td>\n",
       "      <td>-0.475</td>\n",
       "      <td>Patriots</td>\n",
       "    </tr>\n",
       "    <tr>\n",
       "      <th>12</th>\n",
       "      <td>Colts</td>\n",
       "      <td>12.525</td>\n",
       "      <td>-0.475</td>\n",
       "      <td>Patriots</td>\n",
       "    </tr>\n",
       "    <tr>\n",
       "      <th>13</th>\n",
       "      <td>Colts</td>\n",
       "      <td>12.725</td>\n",
       "      <td>-0.275</td>\n",
       "      <td>Patriots</td>\n",
       "    </tr>\n",
       "    <tr>\n",
       "      <th>14</th>\n",
       "      <td>Colts</td>\n",
       "      <td>12.350</td>\n",
       "      <td>-0.650</td>\n",
       "      <td>Patriots</td>\n",
       "    </tr>\n",
       "  </tbody>\n",
       "</table>\n",
       "</div>"
      ],
      "text/plain": [
       "        Team  Combined  PressureDrop ShuffledLabel\n",
       "0   Patriots    11.650        -0.850      Patriots\n",
       "1   Patriots    11.025        -1.475         Colts\n",
       "2   Patriots    11.325        -1.175         Colts\n",
       "3   Patriots    10.850        -1.650      Patriots\n",
       "4   Patriots    11.275        -1.225      Patriots\n",
       "5   Patriots    11.775        -0.725      Patriots\n",
       "6   Patriots    12.075        -0.425         Colts\n",
       "7   Patriots    11.325        -1.175      Patriots\n",
       "8   Patriots    11.150        -1.350      Patriots\n",
       "9   Patriots    10.700        -1.800         Colts\n",
       "10  Patriots    11.125        -1.375      Patriots\n",
       "11     Colts    12.525        -0.475      Patriots\n",
       "12     Colts    12.525        -0.475      Patriots\n",
       "13     Colts    12.725        -0.275      Patriots\n",
       "14     Colts    12.350        -0.650      Patriots"
      ]
     },
     "execution_count": 78,
     "metadata": {},
     "output_type": "execute_result"
    }
   ],
   "source": [
    "original_and_shuffled = football.copy()\n",
    "\n",
    "original_and_shuffled = football.assign(ShuffledLabel = football.sample(frac=1)[[\"Team\"]].reset_index(drop=True))\n",
    "# Your code above this line\n",
    "\n",
    "original_and_shuffled"
   ]
  },
  {
   "cell_type": "code",
   "execution_count": 79,
   "id": "4481d23c",
   "metadata": {
    "deletable": false,
    "editable": false
   },
   "outputs": [
    {
     "data": {
      "text/html": [
       "<p><strong><pre style='display: inline;'>q4_7</pre></strong> passed! 🎉</p>"
      ],
      "text/plain": [
       "q4_7 results: All test cases passed!"
      ]
     },
     "execution_count": 79,
     "metadata": {},
     "output_type": "execute_result"
    }
   ],
   "source": [
    "grader.check(\"q4_7\")"
   ]
  },
  {
   "cell_type": "markdown",
   "id": "f3e316ef",
   "metadata": {
    "deletable": false,
    "editable": false
   },
   "source": [
    "<!-- BEGIN QUESTION -->\n",
    "\n",
    "**Question 4.8.** \n",
    "\n",
    "In the first cell below:\n",
    "\n",
    " - Define a function `simulate_one_statistic` that takes no arguments and returns one simulated value of the test statistic.  Refer to the code you have previously written in this problem, as you might be able to re-use some of it. \n",
    "\n",
    "In the 2nd cell below:\n",
    "\n",
    " - Complete the code to simulate 10,000 values of the statistic and store it in the array `simulated_statistics_ab`.\n",
    "\n",
    " - Then draw a density histogram with the empirical distribution of the statistic \n",
    " \n",
    " - Include a red dot on your histogram at the value of `observed_statistic_ab`. \n",
    "\n",
    " - Include a title for your histogram and label the x and y-axes.\n",
    "\n"
   ]
  },
  {
   "cell_type": "code",
   "execution_count": 80,
   "id": "46e26fbe",
   "metadata": {
    "tags": []
   },
   "outputs": [
    {
     "data": {
      "text/plain": [
       "-0.02499999999999969"
      ]
     },
     "execution_count": 80,
     "metadata": {},
     "output_type": "execute_result"
    }
   ],
   "source": [
    "def simulate_one_statistic():\n",
    "    original_and_shuffled = football.copy()\n",
    "\n",
    "    original_and_shuffled = football.assign(ShuffledLabel = football.sample(frac=1)[[\"Team\"]].reset_index(drop=True))\n",
    "    \n",
    "    return (original_and_shuffled[original_and_shuffled[\"ShuffledLabel\"] == \"Patriots\"][\"PressureDrop\"].mean() * -1) - (original_and_shuffled[original_and_shuffled[\"ShuffledLabel\"] == \"Colts\"][\"PressureDrop\"].mean() * -1)\n",
    "\n",
    "# Your code above this line\n",
    "\n",
    "\n",
    "simulate_one_statistic()\n",
    "\n"
   ]
  },
  {
   "cell_type": "code",
   "execution_count": 94,
   "id": "273dc91b-b95f-4a11-aca5-f8d40819df5c",
   "metadata": {
    "tags": []
   },
   "outputs": [
    {
     "data": {
      "image/png": "[encoded data removed]",
      "text/plain": [
       "<Figure size 640x480 with 1 Axes>"
      ]
     },
     "metadata": {},
     "output_type": "display_data"
    }
   ],
   "source": [
    "repetitions = 10000\n",
    "\n",
    "simulated_statistics_ab = np.array([simulate_one_statistic() for _ in range(repetitions)])\n",
    "\n",
    "plt.hist(simulated_statistics_ab, bins=30, density=True, alpha=0.5)\n",
    "plt.scatter(observed_statistic_ab, 0.02, color='red', label='Observed', zorder=0)\n",
    "plt.xlabel('Avg Difference Between Shuffled Patriots and Colts')\n",
    "plt.ylabel('Density')\n",
    "plt.title('Density Histogram of Simulated Test Statistics')\n",
    "plt.legend()\n",
    "plt.show()\n",
    "# your code for histogram and observed statistic above this line\n"
   ]
  },
  {
   "cell_type": "markdown",
   "id": "5f4a08f8",
   "metadata": {
    "deletable": false,
    "editable": false
   },
   "source": [
    "<!-- END QUESTION -->\n",
    "\n",
    "**Question 4.9.** Use the simulation to find an empirical approximation to the p-value. Assign `p_val` to the appropriate p-value from this simulation. \n",
    "\n",
    "*Note:* Assume that we use the 5% significance cutoff for the p-value.\n"
   ]
  },
  {
   "cell_type": "code",
   "execution_count": 104,
   "id": "1f16f651",
   "metadata": {
    "tags": []
   },
   "outputs": [
    {
     "data": {
      "text/plain": [
       "0.0028"
      ]
     },
     "execution_count": 104,
     "metadata": {},
     "output_type": "execute_result"
    }
   ],
   "source": [
    "p_val = np.mean(simulated_statistics_ab >= observed_statistic_ab)\n",
    "\n",
    "p_val"
   ]
  },
  {
   "cell_type": "code",
   "execution_count": 105,
   "id": "2751f7f4",
   "metadata": {
    "deletable": false,
    "editable": false
   },
   "outputs": [
    {
     "data": {
      "text/html": [
       "<p><strong><pre style='display: inline;'>q4_9</pre></strong> passed! 🎉</p>"
      ],
      "text/plain": [
       "q4_9 results: All test cases passed!"
      ]
     },
     "execution_count": 105,
     "metadata": {},
     "output_type": "execute_result"
    }
   ],
   "source": [
    "grader.check(\"q4_9\")"
   ]
  },
  {
   "cell_type": "markdown",
   "id": "48ba08a1",
   "metadata": {
    "deletable": false,
    "editable": false
   },
   "source": [
    "<!-- BEGIN QUESTION -->\n",
    "\n",
    "**Question 4.10.**  What is the conclusion of your test? Explain what this means in the context of this particular problem.    Can we make any casual conclusions from this test?  Why or why not?"
   ]
  },
  {
   "cell_type": "markdown",
   "id": "4c51f16f",
   "metadata": {},
   "source": [
    "Since the p-value is less than 5 percent, we reject the null hypothesis and accept the alternative which is that the Patriots' pressure drops are too large, on average, to resemble a random sample drawn from all the drops. We can conclude that the pressure drops' difference is not due to chance but we cannot conclude why it is not due to chance because the p-value usually determines only whether something is biased or not biased, and it does not explain why something is not biased if it is not biased."
   ]
  },
  {
   "cell_type": "markdown",
   "id": "0e2ca334",
   "metadata": {
    "deletable": false,
    "editable": false
   },
   "source": [
    "<!-- END QUESTION -->\n",
    "\n",
    "In the actual case, the independent investigative team analyzed the data in several different ways, taking into account the laws of physics. The final report said,\n",
    "\n",
    "“The average pressure drop of the Patriots game balls exceeded the average pressure drop of the Colts balls by 0.45 to 1.02 psi, depending on various possible assumptions regarding the gauges used, and assuming an initial pressure of 12.5 psi for the Patriots balls and 13.0 for the Colts balls.”  (Investigative report commissioned by the NFL regarding the AFC Championship game on January 18, 2015)\n",
    "\n",
    "Our analysis shows an average pressure drop of about 0.73 psi, which is close to the center of the interval “0.45 to 1.02 psi” and therefore consistent with the official analysis.\n",
    "\n",
    "But the all-important question in the football world was about causation: the question was whether the excess drop of pressure in the Patriots’ footballs was deliberate. If you are curious about the answer given by the investigators, here is the full report:\n",
    "(https://www.wsj.com/public/resources/documents/Deflategate.pdf)\n"
   ]
  },
  {
   "cell_type": "markdown",
   "id": "169d7663",
   "metadata": {},
   "source": [
    "<br/><br/>\n",
    "<hr style=\"border: 5px solid #003262;\" />\n",
    "<hr style=\"border: 1px solid #fdb515;\" />\n",
    "\n",
    "## Congratulations! You have finished Homework 8!"
   ]
  },
  {
   "cell_type": "markdown",
   "id": "cc31acf9",
   "metadata": {},
   "source": [
    "If you discussed this assignment with any other students in the class (in a manner that is acceptable as described by the Collaboration policy above) please **include their names** here:\n",
    "\n",
    "**Collaborators**: *list collaborators here*"
   ]
  },
  {
   "cell_type": "markdown",
   "id": "46739932",
   "metadata": {},
   "source": [
    "### Submission Instructions\n",
    "\n",
    "Before proceeding any further, **save this notebook.**\n",
    "\n",
    "After running the `grader.export()` cell provided below, **2 files will be created**: a zip file and pdf file.  You can download them using the links provided below OR by finding them in the same folder where this juptyer notebook resides in your JuptyerHub.\n",
    "\n",
    "To receive credit on this assignment, **you must submit BOTH of these files\n",
    "to their respective Gradescope portals:** \n",
    "\n",
    "* **Homework 8 Autograded**: Submit the zip file that is output by the `grader.export()` cell below to the HW8 Autograded assignment in Gradescope.\n",
    "\n",
    "* **Homework 8 Manually Graded**: Submit your hw08.PDF to the HW8 Manually Graded assignment in Gradescope.  **YOU MUST SELECT THE PAGES CORRESPONDING TO EACH QUESTION WHEN YOU UPLOAD TO GRADESCOPE.  IF NOT, YOU WILL LOSE POINTS**   Also, **check** that all of your plots **and** all lines of your code are showing up in your PDF before submitting.  If not, you will not receive credit for your plots/code.  \n",
    "\n",
    "\n",
    "**You are responsible for ensuring your submission follows our requirements. We will not be granting regrade requests nor extensions to submissions that don't follow instructions.** If you encounter any difficulties with submission, please don't hesitate to reach out to staff prior to the deadline."
   ]
  },
  {
   "cell_type": "code",
   "execution_count": null,
   "id": "66c137be",
   "metadata": {},
   "outputs": [],
   "source": []
  },
  {
   "cell_type": "markdown",
   "id": "a1ce306c",
   "metadata": {
    "deletable": false,
    "editable": false
   },
   "source": [
    "## Submission\n",
    "\n",
    "Make sure you have run all cells in your notebook in order before running the cell below, so that all images/graphs appear in the output. The cell below will generate a zip file for you to submit. **Please save before exporting!**\n",
    "\n",
    "AFTER running the cell below, click on <a href='hw08.pdf' download>this link to download the PDF </a> to upload to Gradescope.  There will be a separate link that appears after running the cell below with a link to download the zip file to upload to Gradescope."
   ]
  },
  {
   "cell_type": "code",
   "execution_count": null,
   "id": "46689b48",
   "metadata": {
    "deletable": false,
    "editable": false
   },
   "outputs": [],
   "source": [
    "# Save your notebook first, then run this cell to export your submission.\n",
    "grader.export(run_tests=True)"
   ]
  },
  {
   "cell_type": "markdown",
   "id": "85e30299",
   "metadata": {},
   "source": [
    " "
   ]
  }
 ],
 "metadata": {
  "kernelspec": {
   "display_name": "Python 3 (ipykernel)",
   "language": "python",
   "name": "python3"
  },
  "language_info": {
   "codemirror_mode": {
    "name": "ipython",
    "version": 3
   },
   "file_extension": ".py",
   "mimetype": "text/x-python",
   "name": "python",
   "nbconvert_exporter": "python",
   "pygments_lexer": "ipython3",
   "version": "3.9.6"
  },
  "otter": {
   "OK_FORMAT": true,
   "tests": {
    "q2_2": {
     "name": "q2_2",
     "points": [
      2,
      2
     ],
     "suites": [
      {
       "cases": [
        {
         "code": ">>> # TEST\n>>> assert (type(observed_tvd) in set([float, np.float32, np.float64]))\n",
         "hidden": false,
         "locked": false
        },
        {
         "code": ">>> # TEST\n>>> assert get_hash(round(observed_tvd, 4)) == '5b9a8f5cf4912f44a3b12f1f0ce981cd'\n",
         "hidden": false,
         "locked": false
        }
       ],
       "scored": true,
       "setup": "",
       "teardown": "",
       "type": "doctest"
      }
     ]
    },
    "q2_3": {
     "name": "q2_3",
     "points": 0,
     "suites": [
      {
       "cases": [
        {
         "code": ">>> # TEST\n>>> assert (len(simulated_tvds) == 10000)\n",
         "hidden": false,
         "locked": false
        },
        {
         "code": ">>> # TEST\n>>> assert (all(simulated_tvds >= 0))\n",
         "hidden": false,
         "locked": false
        },
        {
         "code": ">>> # TEST\n>>> # Make sure that your test statistic is not always the same value \n>>> assert (len(np.unique(simulated_tvds)) != 1)\n",
         "hidden": false,
         "locked": false
        },
        {
         "code": ">>> # TEST\n>>> # Make sure you're simulating under the null hypothesis\n>>> assert (np.mean(simulated_tvds) < 0.1)\n",
         "hidden": false,
         "locked": false
        }
       ],
       "scored": true,
       "setup": "",
       "teardown": "",
       "type": "doctest"
      }
     ]
    },
    "q2_4": {
     "name": "q2_4",
     "points": [
      0
     ],
     "suites": [
      {
       "cases": [
        {
         "code": ">>> # TEST\n>>> assert 0 <= p_value_tvd <= 1\n",
         "hidden": false,
         "locked": false
        }
       ],
       "scored": true,
       "setup": "",
       "teardown": "",
       "type": "doctest"
      }
     ]
    },
    "q3_5": {
     "name": "q3_5",
     "points": [
      0
     ],
     "suites": [
      {
       "cases": [
        {
         "code": ">>> # TEST\n>>> assert (observed_statistic_ab >= 0)\n",
         "hidden": false,
         "locked": false
        }
       ],
       "scored": true,
       "setup": "",
       "teardown": "",
       "type": "doctest"
      }
     ]
    },
    "q4_1": {
     "name": "q4_1",
     "points": [
      1,
      1
     ],
     "suites": [
      {
       "cases": [
        {
         "code": ">>> # TEST\n>>> assert get_hash(football.size) == '34173cb38f07f89ddbebc2ac9128303f'\n",
         "hidden": false,
         "locked": false
        },
        {
         "code": ">>> # TEST\n>>> assert get_hash(round(football[\"Combined\"].mean(), 4)) == '3febcf8143e39bae52a9af09bb435c66'\n",
         "hidden": false,
         "locked": false
        }
       ],
       "scored": true,
       "setup": "",
       "teardown": "",
       "type": "doctest"
      }
     ]
    },
    "q4_2": {
     "name": "q4_2",
     "points": [
      0,
      2
     ],
     "suites": [
      {
       "cases": [
        {
         "code": ">>> # TEST\n>>> assert get_hash(round(avg_drop_for_colts, 4)) == '72e740c49ca1bcf70fc5e89e012a09e8'\n",
         "hidden": false,
         "locked": false
        },
        {
         "code": ">>> # TEST\n>>> assert get_hash(round(avg_drop_for_patriots, 4)) == '49883c406681181ba6024b49ecd0cc3b'\n",
         "hidden": false,
         "locked": false
        }
       ],
       "scored": true,
       "setup": "",
       "teardown": "",
       "type": "doctest"
      }
     ]
    },
    "q4_3": {
     "name": "q4_3",
     "points": [
      0
     ],
     "suites": [
      {
       "cases": [
        {
         "code": ">>> # TEST\n>>> assert any(alternative_statement_number == x for x in np.arange(1,5))\n",
         "hidden": false,
         "locked": false
        }
       ],
       "scored": true,
       "setup": "",
       "teardown": "",
       "type": "doctest"
      }
     ]
    },
    "q4_4": {
     "name": "q4_4",
     "points": [
      0,
      0
     ],
     "suites": [
      {
       "cases": [
        {
         "code": ">>> # TEST\n>>> assert (type(correct_test_stat) == int)\n",
         "hidden": false,
         "locked": false
        },
        {
         "code": ">>> # TEST\n>>> assert (any(correct_test_stat == x for x in np.arange(1,4)))\n",
         "hidden": false,
         "locked": false
        }
       ],
       "scored": true,
       "setup": "",
       "teardown": "",
       "type": "doctest"
      }
     ]
    },
    "q4_6": {
     "name": "q4_6",
     "points": [
      0,
      0
     ],
     "suites": [
      {
       "cases": [
        {
         "code": ">>> # TEST\n>>> assert type(permutation_test_reason) == int\n",
         "hidden": false,
         "locked": false
        },
        {
         "code": ">>> # TEST\n>>> assert any(permutation_test_reason == x for x in np.arange(1,4))\n",
         "hidden": false,
         "locked": false
        }
       ],
       "scored": true,
       "setup": "",
       "teardown": "",
       "type": "doctest"
      }
     ]
    },
    "q4_7": {
     "name": "q4_7",
     "points": [
      0,
      0,
      0
     ],
     "suites": [
      {
       "cases": [
        {
         "code": ">>> # TEST\n>>> assert (all(label in original_and_shuffled.columns for label in [\"Team\", \"PressureDrop\", \"ShuffledLabel\"]))\n",
         "hidden": false,
         "locked": false
        },
        {
         "code": ">>> # TEST\n>>> assert (len(original_and_shuffled) == 15)\n",
         "hidden": false,
         "locked": false
        },
        {
         "code": ">>> # TEST\n>>> assert (all(football[\"Team\"] == original_and_shuffled[\"Team\"]))\n",
         "hidden": false,
         "locked": false
        }
       ],
       "scored": true,
       "setup": "",
       "teardown": "",
       "type": "doctest"
      }
     ]
    },
    "q4_9": {
     "name": "q4_9",
     "points": [
      0,
      0
     ],
     "suites": [
      {
       "cases": [
        {
         "code": ">>> # TEST\n>>> assert (type(p_val) in set([float, np.float32, np.float64]))\n",
         "hidden": false,
         "locked": false
        },
        {
         "code": ">>> # TEST\n>>> assert (0 <= p_val <= 1)\n",
         "hidden": false,
         "locked": false
        }
       ],
       "scored": true,
       "setup": "",
       "teardown": "",
       "type": "doctest"
      }
     ]
    }
   }
  }
 },
 "nbformat": 4,
 "nbformat_minor": 5
}
