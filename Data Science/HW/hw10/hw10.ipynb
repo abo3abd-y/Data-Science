{
 "cells": [
  {
   "cell_type": "code",
   "execution_count": 1,
   "id": "c0ff9b94",
   "metadata": {
    "deletable": false,
    "editable": false
   },
   "outputs": [],
   "source": [
    "# Initialize Otter\n",
    "import otter\n",
    "grader = otter.Notebook(\"hw10.ipynb\")"
   ]
  },
  {
   "cell_type": "markdown",
   "id": "bbbf1431",
   "metadata": {},
   "source": [
    "# Homework 10:  Simple Linear Regression "
   ]
  },
  {
   "cell_type": "markdown",
   "id": "1eeace48",
   "metadata": {},
   "source": [
    "**Assigned Readings On These Topics from Class Schedule**: \n",
    "\n",
    "* [Using Confidence Intervals](https://inferentialthinking.com/chapters/13/4/Using_Confidence_Intervals.html)\n",
    "* [The Regression Line](https://inferentialthinking.com/chapters/15/2/Regression_Line.html#the-regression-line-in-standard-units)\n",
    "* [Inference for Regression](https://www.inferentialthinking.com/chapters/16/Inference_for_Regression.html)\n",
    "\n",
    "* [Transformations](https://learningds.org/ch/11/viz_scale.html)\n",
    "\n",
    "* [Transformations to fit Linear Models](https://ds100.org/course-notes/constant_model_loss_transformations/loss_transformations.html#transformations-to-fit-linear-models)"
   ]
  },
  {
   "cell_type": "markdown",
   "id": "2b1fa56f",
   "metadata": {},
   "source": [
    "\n",
    "\n",
    "## Due Date: Thursday Apr 11th by 11:59 PM MT on Gradescope\n",
    "\n",
    "\n",
    "## Collaboration Policy\n",
    "\n",
    "Data science is a collaborative activity.  However a key step in learning and retention is **creating solutions on your own.**  \n",
    "\n",
    "Below are examples of acceptable vs unacceptable use of resources and collaboration when doing HW assignments in CSCI 3022.\n",
    "\n",
    "\n",
    "The following would be some **examples of cheating** when working on HW assignments in CSCI 3022.  Any of these constitute a **violation of the course's collaboration policy and will result in an F in the course and a trip to the honor council**.   \n",
    "\n",
    "\n",
    " - Consulting web pages that may have a solution to a given homework problem or one similar is cheating.  However, consulting the class notes, and web pages that explain the material taught in class but do NOT show a solution to the homework problem in question are permissible to view.  Clearly, there's a fuzzy line here between a valid use of resources and cheating. To avoid this line, one should merely consult the course notes, the course textbook, and references that contain syntax and/or formulas.\n",
    " - Copying a segment of code or math solution of three lines or more from another student from a printout, handwritten copy, or by looking at their computer screen \n",
    " - Allowing another student to copy a segment of your code or math solution of three lines or more\n",
    " - Taking a copy of another student's work (or a solution found online) and then editing that copy\n",
    " - Reading someone else’s solution to a problem on the HW before writing your own.\n",
    " - Asking someone to write all or part of a program or solution for you.\n",
    " - Asking someone else for the code necessary to fix the error for you, other than for simple syntactical errors\n",
    " \n",
    "\n",
    "\n",
    "On the other hand, the following are some **examples of things which would NOT usually be\n",
    "considered to be cheating**:\n",
    " - Working on a HW problem on your own first and then discussing with a classmate a particular part in the problem solution where you are stuck.  After clarifying any questions you should then continue to write your solution independently.\n",
    " - Asking someone (or searching online) how a particular construct in the language works.\n",
    " - Asking someone (or searching online) how to formulate a particular construct in the language.\n",
    " - Asking someone for help in finding an error in your program.  \n",
    " - Asking someone why a particular construct does not work as you expected in a given program.\n",
    "   \n",
    "\n",
    "To test whether you are truly doing your own work and retaining what you've learned you should be able to easily reproduce from scratch and explain a HW solution that was your own when asked in office hours by a TA/Instructor or on a quiz/exam.   \n",
    "\n",
    "\n",
    "If you have difficulty in formulating the general solution to a problem on your own, or\n",
    "you have difficulty in translating that general solution into a program, it is advisable to see\n",
    "your instructor or teaching assistant rather than another student as this situation can easily\n",
    "lead to a, possibly inadvertent, cheating situation.\n",
    "\n",
    "We are here to help!  Visit HW Hours and/or post questions on Piazza!\n"
   ]
  },
  {
   "cell_type": "markdown",
   "id": "b040a7c3-e466-403d-9884-5b8969f8aec3",
   "metadata": {},
   "source": [
    "If while completing this assignment you reference any websites other than those linked in this assignment or provided on Canvas please list those references here:\n",
    "\n",
    "**External references**:  *list any websites you referenced"
   ]
  },
  {
   "cell_type": "code",
   "execution_count": null,
   "id": "93140281",
   "metadata": {},
   "outputs": [],
   "source": []
  },
  {
   "cell_type": "markdown",
   "id": "1ee34b34-778f-48d8-87a7-173cd97a049c",
   "metadata": {},
   "source": [
    "#### Grading\n",
    "Grading is broken down into autograded answers and manually graded answers. \n",
    "\n",
    "For autograded answers, the results of your code are compared to provided and/or hidden tests.\n",
    "\n",
    "For manually graded answers you must show and explain all steps.  Graders will evaluate how well you answered the question and/or fulfilled the requirements of the question.\n",
    "\n",
    "\n",
    "### Score breakdown\n",
    "\n",
    "\n",
    "\n",
    "Question | Points | Grading Type\n",
    "--- | --- | ---\n",
    "Question 1.1, 1.4 | 6 | manual\n",
    "Question 1.2, 1.3 | 4 | auto\n",
    "Question 2.1, 2.2, 2.4-2.6, 2.8-2.9 | 9 | auto\n",
    "Question 2.3, 2.7, 2.8| 9 | manual\n",
    "Question 3.1, 3.4 | 4 | manual\n",
    "Question 3.2, 3.3 | 2 | auto\n",
    "Question 4.1, 4.4, 4.7 |3 | auto\n",
    "Question 4.2, 4.3, 4.4-4.8 | 13 | manual\n",
    "|Total | 50"
   ]
  },
  {
   "cell_type": "code",
   "execution_count": 2,
   "id": "20af1960",
   "metadata": {},
   "outputs": [],
   "source": [
    "import hashlib\n",
    "import numpy as np\n",
    "import seaborn as sns\n",
    "import pandas as pd\n",
    "\n",
    "# These lines do some fancy plotting magic\n",
    "import matplotlib\n",
    "%matplotlib inline\n",
    "import matplotlib.pyplot as plt\n",
    "plt.style.use('fivethirtyeight')\n",
    "import warnings\n",
    "warnings.simplefilter('ignore')\n",
    "from datetime import datetime\n",
    "\n",
    "def get_hash(num):\n",
    "    return hashlib.md5(str(num).encode()).hexdigest()"
   ]
  },
  {
   "cell_type": "markdown",
   "id": "f218ceb6",
   "metadata": {},
   "source": [
    "## Question 1\n",
    "The [Snowy Plover](https://www.audubon.org/field-guide/bird/snowy-plover) is a tiny bird that lives on the coast in parts of California and elsewhere. It is so small that it is vulnerable to many predators, including people and dogs that don't look where they are stepping when they go to the beach. It is considered endangered in many parts of the U.S.\n",
    "\n",
    "The data are about the eggs and newly-hatched chicks of the Snowy Plover. Here's a picture of [a parent bird incubating its eggs](http://cescos.fau.edu/jay/eps/articles/snowyplover.html).\n",
    "\n",
    "<img src=\"plover_and_eggs.jpeg\" alt=\"Plover and Eggs\" width=\"300\">\n",
    "\n",
    "The data were collected at the [Point Reyes National Seashore](https://openlibrary.org/books/OL2038693M/BLSS_the_Berkeley_interactive_statistical_system). The goal was to see how the size of an egg could be used to predict the weight of the resulting chick. The bigger the newly-hatched chick, the more likely it is to survive.\n",
    "\n",
    "\n",
    "Each row of the table below corresponds to one Snowy Plover egg and the resulting chick. Note how tiny the bird is:\n",
    "\n",
    "- `Egg Length` and `Egg Breadth` (widest diameter) are measured in millimeters\n",
    "- `Egg Weight` and `Bird Weight` are measured in grams; for comparison, a standard paper clip weighs about one gram"
   ]
  },
  {
   "cell_type": "code",
   "execution_count": 3,
   "id": "88b578da",
   "metadata": {
    "tags": []
   },
   "outputs": [
    {
     "data": {
      "text/html": [
       "<div>\n",
       "<style scoped>\n",
       "    .dataframe tbody tr th:only-of-type {\n",
       "        vertical-align: middle;\n",
       "    }\n",
       "\n",
       "    .dataframe tbody tr th {\n",
       "        vertical-align: top;\n",
       "    }\n",
       "\n",
       "    .dataframe thead th {\n",
       "        text-align: right;\n",
       "    }\n",
       "</style>\n",
       "<table border=\"1\" class=\"dataframe\">\n",
       "  <thead>\n",
       "    <tr style=\"text-align: right;\">\n",
       "      <th></th>\n",
       "      <th>Egg Length</th>\n",
       "      <th>Egg Breadth</th>\n",
       "      <th>Egg Weight</th>\n",
       "      <th>Bird Weight</th>\n",
       "    </tr>\n",
       "  </thead>\n",
       "  <tbody>\n",
       "    <tr>\n",
       "      <th>0</th>\n",
       "      <td>28.80</td>\n",
       "      <td>21.84</td>\n",
       "      <td>7.4</td>\n",
       "      <td>5.2</td>\n",
       "    </tr>\n",
       "    <tr>\n",
       "      <th>1</th>\n",
       "      <td>29.04</td>\n",
       "      <td>22.45</td>\n",
       "      <td>7.7</td>\n",
       "      <td>5.4</td>\n",
       "    </tr>\n",
       "    <tr>\n",
       "      <th>2</th>\n",
       "      <td>29.36</td>\n",
       "      <td>22.48</td>\n",
       "      <td>7.9</td>\n",
       "      <td>5.6</td>\n",
       "    </tr>\n",
       "    <tr>\n",
       "      <th>3</th>\n",
       "      <td>30.10</td>\n",
       "      <td>21.71</td>\n",
       "      <td>7.5</td>\n",
       "      <td>5.3</td>\n",
       "    </tr>\n",
       "    <tr>\n",
       "      <th>4</th>\n",
       "      <td>30.17</td>\n",
       "      <td>22.75</td>\n",
       "      <td>8.3</td>\n",
       "      <td>5.9</td>\n",
       "    </tr>\n",
       "  </tbody>\n",
       "</table>\n",
       "</div>"
      ],
      "text/plain": [
       "   Egg Length  Egg Breadth  Egg Weight  Bird Weight\n",
       "0       28.80        21.84         7.4          5.2\n",
       "1       29.04        22.45         7.7          5.4\n",
       "2       29.36        22.48         7.9          5.6\n",
       "3       30.10        21.71         7.5          5.3\n",
       "4       30.17        22.75         8.3          5.9"
      ]
     },
     "execution_count": 3,
     "metadata": {},
     "output_type": "execute_result"
    }
   ],
   "source": [
    "birds = pd.read_csv('snowy_plover.csv')\n",
    "birds.head()"
   ]
  },
  {
   "cell_type": "markdown",
   "id": "76aa0fde",
   "metadata": {
    "deletable": false,
    "editable": false
   },
   "source": [
    "<!-- BEGIN QUESTION -->\n",
    "\n",
    "**Question 1.1.**   \n",
    "\n",
    "a).  Create a scatter plot of the egg weights (on the x-axis) vs the bird weights (on the y-axis).  Label your axes and give your plot a title.\n",
    "\n",
    "\n",
    "b).  Based only on your plot, make a guess as to what the correlation is between these two variables and assign it to the variable `corr_guess` (don't do any actual calculations yet, just guess based on your visual inspection of the plot).  "
   ]
  },
  {
   "cell_type": "code",
   "execution_count": 4,
   "id": "d78d97d9",
   "metadata": {
    "tags": []
   },
   "outputs": [
    {
     "data": {
      "image/png": "[encoded data removed]",
      "text/plain": [
       "<Figure size 640x480 with 1 Axes>"
      ]
     },
     "metadata": {},
     "output_type": "display_data"
    }
   ],
   "source": [
    "plt.scatter(birds[\"Egg Weight\"], birds[\"Bird Weight\"])\n",
    "plt.show()\n",
    "# Your code for part (a) above this line"
   ]
  },
  {
   "cell_type": "code",
   "execution_count": 5,
   "id": "2df964cd",
   "metadata": {
    "tags": []
   },
   "outputs": [],
   "source": [
    "corr_guess = 0.75"
   ]
  },
  {
   "cell_type": "markdown",
   "id": "84b43d58",
   "metadata": {
    "deletable": false,
    "editable": false
   },
   "source": [
    "<!-- END QUESTION -->\n",
    "\n",
    "**Question 1.2.**   \n",
    "\n",
    "Define the following two functions:\n",
    "\n",
    "1. `standard_units`: This function takes in an array of numbers and returns an array containing those numbers converted to standard units.\n",
    "2. `correlation`: This function takes in a dataframe and two column names (one for *x* and one for *y*) and returns the correlation between these columns. \n",
    "\n",
    "Then calculate the correlation of the egg weight and bird weight data and assign it to the variable `correlation_bird`.\n",
    "\n"
   ]
  },
  {
   "cell_type": "code",
   "execution_count": 6,
   "id": "bb882d48",
   "metadata": {
    "ExecuteTime": {
     "end_time": "2018-04-11T12:05:50.894154Z",
     "start_time": "2018-04-11T12:05:50.889145Z"
    },
    "deletable": false,
    "tags": []
   },
   "outputs": [
    {
     "data": {
      "text/plain": [
       "0.8472275295101371"
      ]
     },
     "execution_count": 6,
     "metadata": {},
     "output_type": "execute_result"
    }
   ],
   "source": [
    "def standard_units(arr):\n",
    "    standard_dev = np.std(arr)\n",
    "    mean_ls = np.mean(arr)\n",
    "    return [(x - mean_ls)/standard_dev for x in arr]\n",
    "\n",
    "def correlation(df, x_col, y_col):\n",
    "    x_su = standard_units(df[x_col])\n",
    "    y_su = standard_units(df[y_col])\n",
    "    data_length = len(df[x_col])\n",
    "    return np.sum([x_su[i] * y_su[i] for i in range(data_length)])/data_length\n",
    "\n",
    "correlation_bird = correlation(birds, \"Egg Weight\", \"Bird Weight\")\n",
    "\n",
    "correlation_bird"
   ]
  },
  {
   "cell_type": "code",
   "execution_count": 7,
   "id": "6b6b369b",
   "metadata": {
    "deletable": false,
    "editable": false
   },
   "outputs": [
    {
     "data": {
      "text/html": [
       "<p><strong><pre style='display: inline;'>q1_2</pre></strong> passed! 🚀</p>"
      ],
      "text/plain": [
       "q1_2 results: All test cases passed!"
      ]
     },
     "execution_count": 7,
     "metadata": {},
     "output_type": "execute_result"
    }
   ],
   "source": [
    "grader.check(\"q1_2\")"
   ]
  },
  {
   "cell_type": "markdown",
   "id": "bf74fc32",
   "metadata": {
    "deletable": false,
    "editable": false
   },
   "source": [
    "**Question 1.3.** Using the functions you just implemented, create a function called `fit_line`.  It should take a dataframe like `birds` and the column names associated to *x* and *y* as its arguments and return a *numpy array* containing the slope and intercept of (in that order) the least squares regression line  for the data. (You can use the formulas for the slope and intercepts that we derived in class).\n"
   ]
  },
  {
   "cell_type": "code",
   "execution_count": 8,
   "id": "98706bfb",
   "metadata": {
    "ExecuteTime": {
     "end_time": "2018-04-11T12:05:51.483516Z",
     "start_time": "2018-04-11T12:05:51.472484Z"
    },
    "for_assignment_type": "solution",
    "tags": []
   },
   "outputs": [],
   "source": [
    "def fit_line(df, x_col, y_col):\n",
    "    correlation_xy = correlation(df, x_col, y_col)\n",
    "    slope = correlation_xy * (np.std(df[y_col])/np.std(df[x_col]))\n",
    "    intercept = np.mean(df[y_col]) - slope * np.mean(df[x_col])\n",
    "    return np.array([slope, intercept])\n",
    "\n"
   ]
  },
  {
   "cell_type": "code",
   "execution_count": 9,
   "id": "4ed2fd3c",
   "metadata": {
    "deletable": false,
    "editable": false
   },
   "outputs": [
    {
     "data": {
      "text/html": [
       "<p><strong><pre style='display: inline;'>q1_3</pre></strong> passed! 💯</p>"
      ],
      "text/plain": [
       "q1_3 results: All test cases passed!"
      ]
     },
     "execution_count": 9,
     "metadata": {},
     "output_type": "execute_result"
    }
   ],
   "source": [
    "grader.check(\"q1_3\")"
   ]
  },
  {
   "cell_type": "markdown",
   "id": "5240ee1c",
   "metadata": {
    "deletable": false,
    "editable": false
   },
   "source": [
    "<!-- BEGIN QUESTION -->\n",
    "\n",
    "**Question 1.4**\n",
    "\n",
    "**Part a).**  \n",
    "\n",
    " - Run `fit_line` on the `birds` table.\n",
    "\n",
    " - Then create a scatterplot of the birds data with an overlaid plot of the least squares linear regression line (using the output of your `fit_line` function).  \n",
    "\n",
    " - For credit on this problem you must use the output of your `fit_line` function to create the line yourself, to demonstrate you understand how this line is created.\n",
    "\n",
    " - Label your axes and create a label for the line on the plot that gives the equation of the line. \n",
    " Tip: including the following code in your plt.plot function will add a label with the equation of the best fit line:  `label =r'$Bird = {0:.2f}Egg{1:.2f}$'.format(slope, intercept)`\n",
    "\n",
    "\n",
    "**Part b).**  Based on the slope from your least squares regression line model, we see there is a positive linear association in this sample of data between Snowy Plover egg weight and bird weight.  Can we conclude from this that there is also a positive linear association between egg weight and bird weight in the population of Snowy Plover birds?  Why or why not?  Explain your reasoning.  \n"
   ]
  },
  {
   "cell_type": "markdown",
   "id": "0159b35c",
   "metadata": {},
   "source": [
    "## Part b Answer:\n",
    "Assuming that the slope is $m$, we cannot say that an increase in $1$ gram weight of the egg will increase in $m$ grams in bird weight. We can say that if the difference between the egg weights between two Snow Plover birds was 1 gram, then their weight difference is going to be $m$ grams. Also, the data that we have is a sample, thus we cannot make any conclusion about the population unless we do something like a bootsrap where we might have a confidence level to establish our final reasoning. Thus, we cannot conclude that there is a positive linear association in the population until we have that confidence interval. "
   ]
  },
  {
   "cell_type": "code",
   "execution_count": 21,
   "id": "344c5b72",
   "metadata": {
    "ExecuteTime": {
     "end_time": "2018-04-11T12:05:51.754766Z",
     "start_time": "2018-04-11T12:05:51.624390Z"
    },
    "tags": []
   },
   "outputs": [
    {
     "data": {
      "image/png": "[encoded data removed]",
      "text/plain": [
       "<Figure size 640x480 with 1 Axes>"
      ]
     },
     "metadata": {},
     "output_type": "display_data"
    }
   ],
   "source": [
    "slope = fit_line(birds, \"Egg Weight\", \"Bird Weight\")[0]\n",
    "intercept = fit_line(birds, \"Egg Weight\", \"Bird Weight\")[1]\n",
    "fit_line_xy = np.array(birds[\"Egg Weight\"]) * slope + intercept\n",
    "plt.scatter(birds[\"Egg Weight\"], birds[\"Bird Weight\"])\n",
    "plt.plot(birds[\"Egg Weight\"], fit_line_xy)\n",
    "label =r'$Bird = {0:.2f}Egg{1:.2f}$'.format(slope, intercept)\n",
    "plt.text(max(birds[\"Egg Weight\"]) * 1.12, max(birds[\"Bird Weight\"]) * 1, label, fontsize=12, bbox=dict(facecolor='white', alpha=0.5), horizontalalignment='right')\n",
    "plt.xlabel(\"Egg Weight\")\n",
    "plt.ylabel(\"Bird Weight\")\n",
    "plt.title(\"Scatter Plot with model\")\n",
    "plt.show()\n",
    "# Your code for part a above this line"
   ]
  },
  {
   "cell_type": "markdown",
   "id": "8a03ef63",
   "metadata": {
    "deletable": false,
    "editable": false
   },
   "source": [
    "<!-- END QUESTION -->\n",
    "\n",
    "\n",
    "## Regression Inference\n",
    "\n",
    "Previously in this class, we've used confidence intervals to quantify uncertainty about estimates. We can also run hypothesis tests using a confidence interval under the following procedure:\n",
    "\n",
    "1. Define a null and alternative hypothesis (they must be of the form \"The parameter is X\" and \"The parameter is not X\").\n",
    "2. Choose a p-value cutoff, and call it $q$.\n",
    "3. Construct a $(100-q)\\%$ interval using bootstrap sampling (for example, if your p-value cutoff is 0.01, or 1%, then construct a 99% confidence interval).\n",
    "4. Using the confidence interval, determine if your data are more consistent with your null or alternative hypothesis:\n",
    "   * If the null hypothesis parameter X is in your confidence interval, the data are more consistent with the null hypothesis.\n",
    "   * If the null hypothesis parameter X is *not* in your confidence interval, the data are more consistent with the alternative hypothesis.\n",
    "\n",
    "More recently, we've discussed the use of linear regression to make predictions based on correlated variables. For example, we can predict the height of children based on the heights of their parents.\n",
    "\n",
    "We can combine these two topics to make powerful statements about our population by using the following techniques:\n",
    "\n",
    "- Bootstrapped interval for the true slope\n",
    "- Bootstrapped prediction interval for y (given a particular value of x)\n",
    "\n",
    "Questions 2 explores these two methods.\n",
    "\n",
    "\n",
    "\n",
    "## Question 2:  Finding the Bootstrap Confidence Interval for the True Slope\n",
    "\n",
    "Looking at the scatter plot of our sample from Question 1, we observe a linear relationship between egg weight and bird weight. However, relationships that appear in a sample might not exist in the population from which the sample was taken.\n",
    "\n",
    "We want to know if there truly exists a linear relationship between egg weight and bird weight in the population of Snowy Plovers. If there is no linear relationship between the two variables, then we'd expect a correlation of 0. Consequently, the slope of the regression line would also be 0. "
   ]
  },
  {
   "cell_type": "markdown",
   "id": "ee190dcf",
   "metadata": {
    "deletable": false,
    "editable": false
   },
   "source": [
    "**Question 2.1.** Let's run a hypothesis test using confidence intervals to see if there is a linear relationship between egg weight and bird weight.   Which of the following statements below are the correct null and alternative hypotheses to conduct this test?  \n",
    "\n",
    "Assign `null_hypothesis_number` to the **number** next to the statement below that correctly describes the null hypothesis. \n",
    "\n",
    "Similarly, assign `alternative_hypothesis_number` to the **number** next to the statement below that correctly describes the alternative hypothesis. \n",
    "\n",
    "(For example, if you believe statement 1 is the correct null hypothesis, set `null_hypothesis_number` = 1 in the code cell below).  Note that the check below just checks that your answer is in the correct form, it doesn't check if you have the correct answer (that will be done when you submit to Gradescope).\n",
    "\n",
    "\n",
    " 1. The true slope of the regression line that predicts bird weight from egg weight, computed using the **population** of all Snowy Plovers, is 0.72.   Any difference in the slope of the regression line computed from our sample is just a result of chance.\n",
    " \n",
    " 2. The slope of the regression line that predicts bird weight from egg weight, computed using our **sample** of Snowy Plovers is 0.   \n",
    " \n",
    " 3. The slope of the regression line that predicts bird weight from egg weight, computed using our **sample** of Snowy Plovers is 0.72. \n",
    "\n",
    " 4. The true slope of the regression line that predicts bird weight from egg weight, computed using the **population** of all Snowy Plovers, is 0.   Any difference in the slope of the regression line computed from our sample is just a result of chance.\n",
    "\n",
    " 5. The slope of the regression line that predicts bird weight from egg weight, computed using our **sample** from Snowy Plovers, is not equal to zero.  \n",
    "\n",
    " 6. The true slope of the regression line that predicts bird weight from egg weight, computed using the **population** of all Snowy Plovers, is not equal to zero.  \n",
    " \n",
    " 7. The true slope of the regression line that predicts bird weight from egg weight, computed using the **population** of all Snowy Plovers, is not equal to 0.71.  \n",
    " \n",
    " "
   ]
  },
  {
   "cell_type": "code",
   "execution_count": 11,
   "id": "c67347df",
   "metadata": {
    "tags": []
   },
   "outputs": [],
   "source": [
    "null_hypothesis_number = 2\n",
    "\n",
    "alternative_hypothesis_number = 3"
   ]
  },
  {
   "cell_type": "code",
   "execution_count": 12,
   "id": "b95f5a83",
   "metadata": {
    "deletable": false,
    "editable": false
   },
   "outputs": [
    {
     "data": {
      "text/html": [
       "<p><strong><pre style='display: inline;'>q2_1</pre></strong> passed! ✨</p>"
      ],
      "text/plain": [
       "q2_1 results: All test cases passed!"
      ]
     },
     "execution_count": 12,
     "metadata": {},
     "output_type": "execute_result"
    }
   ],
   "source": [
    "grader.check(\"q2_1\")"
   ]
  },
  {
   "cell_type": "markdown",
   "id": "3b7093b6",
   "metadata": {},
   "source": [
    "Now we have all the tools we need to create a confidence interval that quantifies our uncertainty about the true relationship between egg weight and bird weight."
   ]
  },
  {
   "cell_type": "markdown",
   "id": "e7c86e62",
   "metadata": {
    "deletable": false,
    "editable": false
   },
   "source": [
    "<!-- BEGIN QUESTION -->\n",
    "\n",
    "**Question 2.2.** \n",
    "\n",
    "a).  Create a *numpy array* called `resampled_slopes` that contains the slope of the best fit line for 10,000 bootstrap resamples of `birds`.   (Hint, use your function `fit_line` from question 1). \n",
    "\n",
    "b).  Then create a $95\\%$ Confidence Interval for the true value of the slopes and assign the lower and upper values to the variables `CI_lower` and `CI_upper` respectively.  \n",
    "\n",
    "c).  Create a plot with a histogram of the density distribution of these slopes AND the confidence interval overlaid on the bottom of the distribution (similar to histograms you made in HW 10).   \n",
    "\n",
    "\n"
   ]
  },
  {
   "cell_type": "code",
   "execution_count": 23,
   "id": "4a0c19fd",
   "metadata": {
    "for_assignment_type": "solution",
    "tags": []
   },
   "outputs": [
    {
     "name": "stdout",
     "output_type": "stream",
     "text": [
      "95% confidence interval for slope: [0.60535, 0.821752]\n"
     ]
    },
    {
     "data": {
      "image/png": "[encoded data removed]",
      "text/plain": [
       "<Figure size 640x480 with 1 Axes>"
      ]
     },
     "metadata": {},
     "output_type": "display_data"
    }
   ],
   "source": [
    "def bootstrapping (df):\n",
    "    sample = df.sample(frac = 1, replace=True)\n",
    "    return sample\n",
    "resampled_slopes = np.array([fit_line(bootstrapping(birds), \"Egg Weight\", \"Bird Weight\")[0] for _ in range(10000)])\n",
    "# your code for part (a) above\n",
    "\n",
    "CI_lower = np.percentile(resampled_slopes, [2.5, 97.5])[0]\n",
    "CI_upper = np.percentile(resampled_slopes, [2.5, 97.5])[1]\n",
    "\n",
    "print(\"95% confidence interval for slope: [{:g}, {:g}]\".format(CI_lower, CI_upper)) \n",
    "\n",
    "\n",
    "plt.hist(resampled_slopes, density=True, bins=30, edgecolor = \"white\")\n",
    "plt.plot(np.array([CI_lower, CI_upper]), np.array([0, 0]), c='m', lw=10)\n",
    "plt.show()\n",
    "# your code for part (c) above"
   ]
  },
  {
   "cell_type": "code",
   "execution_count": 24,
   "id": "2f7acd12",
   "metadata": {
    "deletable": false,
    "editable": false
   },
   "outputs": [
    {
     "data": {
      "text/html": [
       "<p><strong><pre style='display: inline;'>q2_2</pre></strong> passed! 🚀</p>"
      ],
      "text/plain": [
       "q2_2 results: All test cases passed!"
      ]
     },
     "execution_count": 24,
     "metadata": {},
     "output_type": "execute_result"
    }
   ],
   "source": [
    "grader.check(\"q2_2\")"
   ]
  },
  {
   "cell_type": "markdown",
   "id": "785b2f40",
   "metadata": {
    "deletable": false,
    "editable": false
   },
   "source": [
    "<!-- END QUESTION -->\n",
    "\n",
    "<!-- BEGIN QUESTION -->\n",
    "\n",
    "**Question 2.3.** Based on your confidence interval, would you accept or reject the null hypothesis that the true slope is 0?  Explain your reasoning.  What p-value cutoff are you using? "
   ]
  },
  {
   "cell_type": "markdown",
   "id": "133ced9d",
   "metadata": {},
   "source": [
    "Reject the null hypothesis and accept the alternative because the confidence interval is [0.60535, 0.821752] with 95% confidence. The p-value I'm using is 5% percent. "
   ]
  },
  {
   "cell_type": "markdown",
   "id": "e8f1edc8",
   "metadata": {
    "deletable": false,
    "editable": false
   },
   "source": [
    "<!-- END QUESTION -->\n",
    "\n",
    "## Finding the Bootstrap Prediction Interval"
   ]
  },
  {
   "cell_type": "markdown",
   "id": "b6520396",
   "metadata": {},
   "source": [
    "Suppose we're visiting Point Reyes and stumble upon some Snowy Plover eggs; we'd like to know how heavy they'll be once they hatch. In other words, we want to use our regression line to make predictions about a bird's weight based on the weight of the corresponding egg.\n",
    "\n",
    "However, just as we're uncertain about the slope of the true regression line, we're also uncertain about the predictions made based on the true regression line."
   ]
  },
  {
   "cell_type": "markdown",
   "id": "b660a530",
   "metadata": {
    "deletable": false,
    "editable": false
   },
   "source": [
    "**Question 2.4.** Define the function `fitted_value`.  It should take in four arguments:\n",
    "\n",
    "1. `df`: a dataframe like `birds`.  We'll be predicting the values in the second column using the first.\n",
    "2. `x_col`: the name of our x-column within the input `table`\n",
    "3. `y_col`: the name of our y-column within the input `table`\n",
    "2. `given_x`: a number, the value of the predictor variable for which we'd like to make a prediction.\n",
    "  \n",
    "The function should return the line’s prediction for the given x. \n",
    "\n",
    "*Hint:* Make sure to use the `fit_line` function you defined in Question 1.\n"
   ]
  },
  {
   "cell_type": "code",
   "execution_count": 25,
   "id": "03d10b7c",
   "metadata": {
    "ExecuteTime": {
     "end_time": "2018-04-11T12:05:53.935846Z",
     "start_time": "2018-04-11T12:05:53.927826Z"
    },
    "for_assignment_type": "solution",
    "tags": []
   },
   "outputs": [
    {
     "data": {
      "text/plain": [
       "4.252819807427787"
      ]
     },
     "execution_count": 25,
     "metadata": {},
     "output_type": "execute_result"
    }
   ],
   "source": [
    "def fitted_value(df, x_col, y_col, given_x):\n",
    "    line = fit_line(df, x_col, y_col)\n",
    "    slope = line[0]\n",
    "    intercept = line[1]\n",
    "    return (slope * given_x) + intercept\n",
    "\n",
    "# Here's an example of how fitted_value is used. The code below\n",
    "# computes the prediction for the bird weight, in grams, based on\n",
    "# an egg weight of 6 grams.\n",
    "egg_weight_six = fitted_value(birds, \"Egg Weight\", \"Bird Weight\", 6)\n",
    "egg_weight_six"
   ]
  },
  {
   "cell_type": "code",
   "execution_count": 26,
   "id": "b1258ec7",
   "metadata": {
    "deletable": false,
    "editable": false
   },
   "outputs": [
    {
     "data": {
      "text/html": [
       "<p><strong><pre style='display: inline;'>q2_4</pre></strong> passed! 🚀</p>"
      ],
      "text/plain": [
       "q2_4 results: All test cases passed!"
      ]
     },
     "execution_count": 26,
     "metadata": {},
     "output_type": "execute_result"
    }
   ],
   "source": [
    "grader.check(\"q2_4\")"
   ]
  },
  {
   "cell_type": "markdown",
   "id": "c34d66b2",
   "metadata": {
    "deletable": false,
    "editable": false
   },
   "source": [
    "**Question 2.5.** Raymond, the resident Snowy Plover expert at Point Reyes, tells us that the egg he has been carefully observing has a weight of 8 grams. Using `fitted_value` above, assign the variable `experts_egg` to the predicted bird weight for Raymond's egg. \n"
   ]
  },
  {
   "cell_type": "code",
   "execution_count": 27,
   "id": "25884ed9",
   "metadata": {
    "ExecuteTime": {
     "end_time": "2018-04-11T12:05:54.430725Z",
     "start_time": "2018-04-11T12:05:54.424720Z"
    },
    "deletable": false,
    "tags": []
   },
   "outputs": [
    {
     "data": {
      "text/plain": [
       "5.689850497215146"
      ]
     },
     "execution_count": 27,
     "metadata": {},
     "output_type": "execute_result"
    }
   ],
   "source": [
    "experts_egg = fitted_value(birds, \"Egg Weight\", \"Bird Weight\", 8)\n",
    "experts_egg"
   ]
  },
  {
   "cell_type": "code",
   "execution_count": 28,
   "id": "afbb04cd",
   "metadata": {
    "deletable": false,
    "editable": false
   },
   "outputs": [
    {
     "data": {
      "text/html": [
       "<p><strong><pre style='display: inline;'>q2_5</pre></strong> passed! ✨</p>"
      ],
      "text/plain": [
       "q2_5 results: All test cases passed!"
      ]
     },
     "execution_count": 28,
     "metadata": {},
     "output_type": "execute_result"
    }
   ],
   "source": [
    "grader.check(\"q2_5\")"
   ]
  },
  {
   "cell_type": "code",
   "execution_count": 29,
   "id": "eb232597",
   "metadata": {
    "scrolled": true,
    "tags": []
   },
   "outputs": [
    {
     "data": {
      "text/plain": [
       "44"
      ]
     },
     "execution_count": 29,
     "metadata": {},
     "output_type": "execute_result"
    }
   ],
   "source": [
    "# Let's look at the number of rows in the birds table.\n",
    "len(birds)"
   ]
  },
  {
   "cell_type": "markdown",
   "id": "7ab18ffe",
   "metadata": {},
   "source": [
    "A fellow parkgoer raises the following objection to your prediction:\n",
    "\n",
    "> \"Your prediction depends on your sample of 44 birds.  Wouldn't your prediction change if you had a different sample of 44 birds?\"\n",
    "\n",
    "Having read section [16.3](https://inferentialthinking.com/chapters/16/3/Prediction_Intervals.html) of the textbook, you know just the response! Had the sample been different, the regression line would have been different too. This would ultimately result in a different prediction. To see how good our prediction is, we must get a sense of how variable the prediction can be."
   ]
  },
  {
   "cell_type": "markdown",
   "id": "9aa59b72",
   "metadata": {
    "deletable": false,
    "editable": false
   },
   "source": [
    "**Question 2.6.** Define a function `compute_resampled_line` that takes in a dataframe `df`and two column names, `x_col` and `y_col`, and returns an array containing the parameters of the best fit line (slope and intercept) for one bootstrapped resample of the table.\n"
   ]
  },
  {
   "cell_type": "code",
   "execution_count": 30,
   "id": "2c58fd13",
   "metadata": {
    "tags": []
   },
   "outputs": [],
   "source": [
    "def compute_resampled_line(df, x_col, y_col):\n",
    "    resample = bootstrapping(df)\n",
    "    resampled_line = fit_line(resample, x_col, y_col)\n",
    "    return resampled_line"
   ]
  },
  {
   "cell_type": "code",
   "execution_count": 31,
   "id": "bb1680ed",
   "metadata": {
    "deletable": false,
    "editable": false
   },
   "outputs": [
    {
     "data": {
      "text/html": [
       "<p><strong><pre style='display: inline;'>q2_6</pre></strong> passed! 💯</p>"
      ],
      "text/plain": [
       "q2_6 results: All test cases passed!"
      ]
     },
     "execution_count": 31,
     "metadata": {},
     "output_type": "execute_result"
    }
   ],
   "source": [
    "grader.check(\"q2_6\")"
   ]
  },
  {
   "cell_type": "markdown",
   "id": "ea499e36",
   "metadata": {
    "deletable": false,
    "editable": false
   },
   "source": [
    "<!-- BEGIN QUESTION -->\n",
    "\n",
    "**Question 2.7**\n",
    "Define the function `bootstrap_lines`.  It takes in four arguments:\n",
    "1. `df`: a dataframe like `birds`\n",
    "2. `x_col`: the name of our x-column within the input `tbl`\n",
    "3. `y_col`: the name of our y-column within the input `tbl`\n",
    "4. `num_bootstraps`: an integer, a number of bootstraps to run.\n",
    "\n",
    "It returns a *dataframe* with one row for each bootstrap resample and the following two columns:\n",
    "1. `Slope`: the bootstrapped slopes \n",
    "2. `Intercept`: the corresponding bootstrapped intercepts \n",
    "\n",
    "(Hint, use your function from the previous part of this question)\n",
    "\n",
    "Then call this function 10,000 times using the bird data.\n"
   ]
  },
  {
   "cell_type": "code",
   "execution_count": 39,
   "id": "adf345e3",
   "metadata": {
    "ExecuteTime": {
     "end_time": "2018-04-11T12:05:55.698074Z",
     "start_time": "2018-04-11T12:05:55.243866Z"
    },
    "for_assignment_type": "solution",
    "tags": []
   },
   "outputs": [
    {
     "data": {
      "text/html": [
       "<div>\n",
       "<style scoped>\n",
       "    .dataframe tbody tr th:only-of-type {\n",
       "        vertical-align: middle;\n",
       "    }\n",
       "\n",
       "    .dataframe tbody tr th {\n",
       "        vertical-align: top;\n",
       "    }\n",
       "\n",
       "    .dataframe thead th {\n",
       "        text-align: right;\n",
       "    }\n",
       "</style>\n",
       "<table border=\"1\" class=\"dataframe\">\n",
       "  <thead>\n",
       "    <tr style=\"text-align: right;\">\n",
       "      <th></th>\n",
       "      <th>Slope</th>\n",
       "      <th>Intercept</th>\n",
       "    </tr>\n",
       "  </thead>\n",
       "  <tbody>\n",
       "    <tr>\n",
       "      <th>0</th>\n",
       "      <td>0.858134</td>\n",
       "      <td>-1.199750</td>\n",
       "    </tr>\n",
       "    <tr>\n",
       "      <th>1</th>\n",
       "      <td>0.748587</td>\n",
       "      <td>-0.347965</td>\n",
       "    </tr>\n",
       "    <tr>\n",
       "      <th>2</th>\n",
       "      <td>0.617035</td>\n",
       "      <td>0.741660</td>\n",
       "    </tr>\n",
       "    <tr>\n",
       "      <th>3</th>\n",
       "      <td>0.668574</td>\n",
       "      <td>0.327527</td>\n",
       "    </tr>\n",
       "    <tr>\n",
       "      <th>4</th>\n",
       "      <td>0.713632</td>\n",
       "      <td>-0.025466</td>\n",
       "    </tr>\n",
       "  </tbody>\n",
       "</table>\n",
       "</div>"
      ],
      "text/plain": [
       "      Slope  Intercept\n",
       "0  0.858134  -1.199750\n",
       "1  0.748587  -0.347965\n",
       "2  0.617035   0.741660\n",
       "3  0.668574   0.327527\n",
       "4  0.713632  -0.025466"
      ]
     },
     "execution_count": 39,
     "metadata": {},
     "output_type": "execute_result"
    }
   ],
   "source": [
    "def bootstrap_lines(df, x_col, y_col, num_bootstraps):\n",
    "    bootstrapped_df = pd.DataFrame({'Slope': [], 'Intercept': []})\n",
    "    for _ in range(num_bootstraps):\n",
    "        line = compute_resampled_line(df, x_col, y_col)\n",
    "        bootstrapped_df.loc[len(bootstrapped_df.index)] = line\n",
    "    return bootstrapped_df\n",
    "\n",
    "regression_lines = bootstrap_lines(birds, \"Egg Weight\", \"Bird Weight\", 10000)\n",
    "regression_lines.head()"
   ]
  },
  {
   "cell_type": "code",
   "execution_count": 42,
   "id": "d1c4704f",
   "metadata": {},
   "outputs": [
    {
     "data": {
      "text/plain": [
       "0.8581343969343262"
      ]
     },
     "execution_count": 42,
     "metadata": {},
     "output_type": "execute_result"
    }
   ],
   "source": [
    "regression_lines[\"Slope\"][0]"
   ]
  },
  {
   "cell_type": "markdown",
   "id": "f58f3f61",
   "metadata": {
    "deletable": false,
    "editable": false
   },
   "source": [
    "<!-- END QUESTION -->\n",
    "\n",
    "<!-- BEGIN QUESTION -->\n",
    "\n",
    "**Question 2.8.** \n",
    "\n",
    "a).  Create a *numpy array* called `predictions_for_eight` that contains the predicted bird weights based on an egg of weight 8 grams for each regression line in `regression_lines` (from Question 2.7). \n",
    "\n",
    "b).  Then create a $95\\%$ Confidence Interval for the true value of the prediction for a weight of 8 grams and assign the lower and upper values to the variables `CI_lower_pred` and `CI_upper_pred` respectively.  \n",
    "\n",
    "c).  Create a plot with a histogram of the density distribution of these predictions AND the confidence interval overlaid on the bottom of the distribution.   Label your axes on the plot.\n",
    "\n",
    "\n"
   ]
  },
  {
   "cell_type": "code",
   "execution_count": 46,
   "id": "8eeb68d4",
   "metadata": {
    "ExecuteTime": {
     "end_time": "2018-04-11T12:05:55.991855Z",
     "start_time": "2018-04-11T12:05:55.759236Z"
    },
    "deletable": false,
    "scrolled": true,
    "tags": []
   },
   "outputs": [
    {
     "name": "stdout",
     "output_type": "stream",
     "text": [
      "95% confidence interval for slope: [5.62737, 5.76968]\n"
     ]
    },
    {
     "data": {
      "image/png": "[encoded data removed]",
      "text/plain": [
       "<Figure size 640x480 with 1 Axes>"
      ]
     },
     "metadata": {},
     "output_type": "display_data"
    }
   ],
   "source": [
    "predictions_for_eight = np.array([(regression_lines[\"Slope\"][i] * 8 + regression_lines[\"Intercept\"][i]) for i in range(10000)])\n",
    "# your code for part (a) above\n",
    "\n",
    "CI_lower_pred = np.percentile(predictions_for_eight, [2.5,97.5])[0]\n",
    "CI_upper_pred = np.percentile(predictions_for_eight, [2.5,97.5])[1]\n",
    "\n",
    "print(\"95% confidence interval for slope: [{:g}, {:g}]\".format(CI_lower_pred, CI_upper_pred)) \n",
    "\n",
    "\n",
    "plt.hist(predictions_for_eight, density=True, bins=30, edgecolor = \"white\")\n",
    "plt.plot(np.array([CI_lower_pred, CI_upper_pred]), np.array([0, 0]), c='m', lw=10)\n",
    "plt.show()\n",
    "# your code for part (c) above\n",
    "\n"
   ]
  },
  {
   "cell_type": "code",
   "execution_count": 47,
   "id": "e3be0de4",
   "metadata": {
    "deletable": false,
    "editable": false
   },
   "outputs": [
    {
     "data": {
      "text/html": [
       "<p><strong><pre style='display: inline;'>q2_8</pre></strong> passed! 🎉</p>"
      ],
      "text/plain": [
       "q2_8 results: All test cases passed!"
      ]
     },
     "execution_count": 47,
     "metadata": {},
     "output_type": "execute_result"
    }
   ],
   "source": [
    "grader.check(\"q2_8\")"
   ]
  },
  {
   "cell_type": "markdown",
   "id": "492d1ad7",
   "metadata": {
    "deletable": false,
    "editable": false
   },
   "source": [
    "<!-- END QUESTION -->\n",
    "\n",
    "**Question 2.9.** Set `plover_statements` to a list of integer(s) that correspond to all the statement(s) that are true.\n",
    "\n",
    "1. The 95% confidence interval we found in the previous part covers 95% of the bird weights for eggs that had a weight of eight grams in `birds`.\n",
    "\n",
    "2. The 95% confidence interval we found in the previous part gives a sense of how much actual weights differ from your prediction.\n",
    "\n",
    "3. The 95% confidence interval we found in the previous part quantifies the uncertainty in our estimate of what the true line would predict.\n"
   ]
  },
  {
   "cell_type": "code",
   "execution_count": 48,
   "id": "2ff8cb5f",
   "metadata": {
    "ExecuteTime": {
     "end_time": "2018-04-11T12:05:56.479878Z",
     "start_time": "2018-04-11T12:05:56.476869Z"
    },
    "deletable": false,
    "tags": []
   },
   "outputs": [],
   "source": [
    "plover_statements = [2,3]"
   ]
  },
  {
   "cell_type": "code",
   "execution_count": 49,
   "id": "2c54205a",
   "metadata": {
    "deletable": false,
    "editable": false
   },
   "outputs": [
    {
     "data": {
      "text/html": [
       "<p><strong><pre style='display: inline;'>q2_9</pre></strong> passed! ✨</p>"
      ],
      "text/plain": [
       "q2_9 results: All test cases passed!"
      ]
     },
     "execution_count": 49,
     "metadata": {},
     "output_type": "execute_result"
    }
   ],
   "source": [
    "grader.check(\"q2_9\")"
   ]
  },
  {
   "cell_type": "markdown",
   "id": "f5a4d925",
   "metadata": {},
   "source": [
    "**Seaborn For Visualizing Least Squares Regression Models and Prediction Intervals:**\n",
    "\n",
    "In the last question we calculated the prediction interval for one input value (x=8).  We could repeat the process for every x value, and get a \"prediction band\".  \n",
    "\n",
    "\n",
    "`seaborn` has a built-in function `lmplot` that allows us to visualize this prediction band as well as the linear regression model for a given dataset using one line of code:  https://seaborn.pydata.org/generated/seaborn.lmplot.html"
   ]
  },
  {
   "cell_type": "code",
   "execution_count": 50,
   "id": "f6edf4e6",
   "metadata": {},
   "outputs": [
    {
     "data": {
      "text/plain": [
       "<seaborn.axisgrid.FacetGrid at 0x3580ff610>"
      ]
     },
     "execution_count": 50,
     "metadata": {},
     "output_type": "execute_result"
    },
    {
     "data": {
      "image/png": "[encoded data removed]",
      "text/plain": [
       "<Figure size 500x500 with 1 Axes>"
      ]
     },
     "metadata": {},
     "output_type": "display_data"
    }
   ],
   "source": [
    "# Run this code.  \n",
    "sns.lmplot(data=birds,x=\"Egg Weight\",y= \"Bird Weight\")"
   ]
  },
  {
   "cell_type": "markdown",
   "id": "54178597",
   "metadata": {},
   "source": [
    "<br/><br/>\n",
    "<hr style=\"border: 5px solid #003262;\" />\n",
    "<hr style=\"border: 1px solid #fdb515;\" />\n",
    "\n",
    "## Question 3:\n",
    "\n",
    "In this question, you will predict fuel efficiency (`mpg`) of several models of automobiles using a **single feature**: engine power (`horsepower`). \n",
    "\n",
    "First, let's load in the data."
   ]
  },
  {
   "cell_type": "code",
   "execution_count": 51,
   "id": "8ea9d56a",
   "metadata": {},
   "outputs": [
    {
     "data": {
      "text/html": [
       "<div>\n",
       "<style scoped>\n",
       "    .dataframe tbody tr th:only-of-type {\n",
       "        vertical-align: middle;\n",
       "    }\n",
       "\n",
       "    .dataframe tbody tr th {\n",
       "        vertical-align: top;\n",
       "    }\n",
       "\n",
       "    .dataframe thead th {\n",
       "        text-align: right;\n",
       "    }\n",
       "</style>\n",
       "<table border=\"1\" class=\"dataframe\">\n",
       "  <thead>\n",
       "    <tr style=\"text-align: right;\">\n",
       "      <th></th>\n",
       "      <th>mpg</th>\n",
       "      <th>cylinders</th>\n",
       "      <th>displacement</th>\n",
       "      <th>horsepower</th>\n",
       "      <th>weight</th>\n",
       "      <th>acceleration</th>\n",
       "      <th>model_year</th>\n",
       "      <th>origin</th>\n",
       "      <th>name</th>\n",
       "    </tr>\n",
       "  </thead>\n",
       "  <tbody>\n",
       "    <tr>\n",
       "      <th>292</th>\n",
       "      <td>18.5</td>\n",
       "      <td>8</td>\n",
       "      <td>360.0</td>\n",
       "      <td>150.0</td>\n",
       "      <td>3940</td>\n",
       "      <td>13.0</td>\n",
       "      <td>79</td>\n",
       "      <td>usa</td>\n",
       "      <td>chrysler lebaron town @ country (sw)</td>\n",
       "    </tr>\n",
       "    <tr>\n",
       "      <th>93</th>\n",
       "      <td>14.0</td>\n",
       "      <td>8</td>\n",
       "      <td>318.0</td>\n",
       "      <td>150.0</td>\n",
       "      <td>4237</td>\n",
       "      <td>14.5</td>\n",
       "      <td>73</td>\n",
       "      <td>usa</td>\n",
       "      <td>plymouth fury gran sedan</td>\n",
       "    </tr>\n",
       "    <tr>\n",
       "      <th>12</th>\n",
       "      <td>15.0</td>\n",
       "      <td>8</td>\n",
       "      <td>400.0</td>\n",
       "      <td>150.0</td>\n",
       "      <td>3761</td>\n",
       "      <td>9.5</td>\n",
       "      <td>70</td>\n",
       "      <td>usa</td>\n",
       "      <td>chevrolet monte carlo</td>\n",
       "    </tr>\n",
       "    <tr>\n",
       "      <th>89</th>\n",
       "      <td>15.0</td>\n",
       "      <td>8</td>\n",
       "      <td>318.0</td>\n",
       "      <td>150.0</td>\n",
       "      <td>3777</td>\n",
       "      <td>12.5</td>\n",
       "      <td>73</td>\n",
       "      <td>usa</td>\n",
       "      <td>dodge coronet custom</td>\n",
       "    </tr>\n",
       "    <tr>\n",
       "      <th>64</th>\n",
       "      <td>15.0</td>\n",
       "      <td>8</td>\n",
       "      <td>318.0</td>\n",
       "      <td>150.0</td>\n",
       "      <td>4135</td>\n",
       "      <td>13.5</td>\n",
       "      <td>72</td>\n",
       "      <td>usa</td>\n",
       "      <td>plymouth fury iii</td>\n",
       "    </tr>\n",
       "    <tr>\n",
       "      <th>215</th>\n",
       "      <td>13.0</td>\n",
       "      <td>8</td>\n",
       "      <td>318.0</td>\n",
       "      <td>150.0</td>\n",
       "      <td>3755</td>\n",
       "      <td>14.0</td>\n",
       "      <td>76</td>\n",
       "      <td>usa</td>\n",
       "      <td>dodge d100</td>\n",
       "    </tr>\n",
       "    <tr>\n",
       "      <th>208</th>\n",
       "      <td>13.0</td>\n",
       "      <td>8</td>\n",
       "      <td>318.0</td>\n",
       "      <td>150.0</td>\n",
       "      <td>3940</td>\n",
       "      <td>13.2</td>\n",
       "      <td>76</td>\n",
       "      <td>usa</td>\n",
       "      <td>plymouth volare premier v8</td>\n",
       "    </tr>\n",
       "    <tr>\n",
       "      <th>86</th>\n",
       "      <td>14.0</td>\n",
       "      <td>8</td>\n",
       "      <td>304.0</td>\n",
       "      <td>150.0</td>\n",
       "      <td>3672</td>\n",
       "      <td>11.5</td>\n",
       "      <td>73</td>\n",
       "      <td>usa</td>\n",
       "      <td>amc matador</td>\n",
       "    </tr>\n",
       "    <tr>\n",
       "      <th>91</th>\n",
       "      <td>13.0</td>\n",
       "      <td>8</td>\n",
       "      <td>400.0</td>\n",
       "      <td>150.0</td>\n",
       "      <td>4464</td>\n",
       "      <td>12.0</td>\n",
       "      <td>73</td>\n",
       "      <td>usa</td>\n",
       "      <td>chevrolet caprice classic</td>\n",
       "    </tr>\n",
       "    <tr>\n",
       "      <th>66</th>\n",
       "      <td>17.0</td>\n",
       "      <td>8</td>\n",
       "      <td>304.0</td>\n",
       "      <td>150.0</td>\n",
       "      <td>3672</td>\n",
       "      <td>11.5</td>\n",
       "      <td>72</td>\n",
       "      <td>usa</td>\n",
       "      <td>amc ambassador sst</td>\n",
       "    </tr>\n",
       "    <tr>\n",
       "      <th>188</th>\n",
       "      <td>16.0</td>\n",
       "      <td>8</td>\n",
       "      <td>318.0</td>\n",
       "      <td>150.0</td>\n",
       "      <td>4190</td>\n",
       "      <td>13.0</td>\n",
       "      <td>76</td>\n",
       "      <td>usa</td>\n",
       "      <td>dodge coronet brougham</td>\n",
       "    </tr>\n",
       "    <tr>\n",
       "      <th>103</th>\n",
       "      <td>11.0</td>\n",
       "      <td>8</td>\n",
       "      <td>400.0</td>\n",
       "      <td>150.0</td>\n",
       "      <td>4997</td>\n",
       "      <td>14.0</td>\n",
       "      <td>73</td>\n",
       "      <td>usa</td>\n",
       "      <td>chevrolet impala</td>\n",
       "    </tr>\n",
       "    <tr>\n",
       "      <th>138</th>\n",
       "      <td>14.0</td>\n",
       "      <td>8</td>\n",
       "      <td>318.0</td>\n",
       "      <td>150.0</td>\n",
       "      <td>4457</td>\n",
       "      <td>13.5</td>\n",
       "      <td>74</td>\n",
       "      <td>usa</td>\n",
       "      <td>dodge coronet custom (sw)</td>\n",
       "    </tr>\n",
       "    <tr>\n",
       "      <th>72</th>\n",
       "      <td>15.0</td>\n",
       "      <td>8</td>\n",
       "      <td>304.0</td>\n",
       "      <td>150.0</td>\n",
       "      <td>3892</td>\n",
       "      <td>12.5</td>\n",
       "      <td>72</td>\n",
       "      <td>usa</td>\n",
       "      <td>amc matador (sw)</td>\n",
       "    </tr>\n",
       "    <tr>\n",
       "      <th>137</th>\n",
       "      <td>13.0</td>\n",
       "      <td>8</td>\n",
       "      <td>350.0</td>\n",
       "      <td>150.0</td>\n",
       "      <td>4699</td>\n",
       "      <td>14.5</td>\n",
       "      <td>74</td>\n",
       "      <td>usa</td>\n",
       "      <td>buick century luxus (sw)</td>\n",
       "    </tr>\n",
       "    <tr>\n",
       "      <th>158</th>\n",
       "      <td>16.0</td>\n",
       "      <td>8</td>\n",
       "      <td>318.0</td>\n",
       "      <td>150.0</td>\n",
       "      <td>4498</td>\n",
       "      <td>14.5</td>\n",
       "      <td>75</td>\n",
       "      <td>usa</td>\n",
       "      <td>plymouth grand fury</td>\n",
       "    </tr>\n",
       "    <tr>\n",
       "      <th>41</th>\n",
       "      <td>14.0</td>\n",
       "      <td>8</td>\n",
       "      <td>318.0</td>\n",
       "      <td>150.0</td>\n",
       "      <td>4096</td>\n",
       "      <td>13.0</td>\n",
       "      <td>71</td>\n",
       "      <td>usa</td>\n",
       "      <td>plymouth fury iii</td>\n",
       "    </tr>\n",
       "    <tr>\n",
       "      <th>3</th>\n",
       "      <td>16.0</td>\n",
       "      <td>8</td>\n",
       "      <td>304.0</td>\n",
       "      <td>150.0</td>\n",
       "      <td>3433</td>\n",
       "      <td>12.0</td>\n",
       "      <td>70</td>\n",
       "      <td>usa</td>\n",
       "      <td>amc rebel sst</td>\n",
       "    </tr>\n",
       "    <tr>\n",
       "      <th>2</th>\n",
       "      <td>18.0</td>\n",
       "      <td>8</td>\n",
       "      <td>318.0</td>\n",
       "      <td>150.0</td>\n",
       "      <td>3436</td>\n",
       "      <td>11.0</td>\n",
       "      <td>70</td>\n",
       "      <td>usa</td>\n",
       "      <td>plymouth satellite</td>\n",
       "    </tr>\n",
       "    <tr>\n",
       "      <th>140</th>\n",
       "      <td>14.0</td>\n",
       "      <td>8</td>\n",
       "      <td>304.0</td>\n",
       "      <td>150.0</td>\n",
       "      <td>4257</td>\n",
       "      <td>15.5</td>\n",
       "      <td>74</td>\n",
       "      <td>usa</td>\n",
       "      <td>amc matador (sw)</td>\n",
       "    </tr>\n",
       "    <tr>\n",
       "      <th>121</th>\n",
       "      <td>15.0</td>\n",
       "      <td>8</td>\n",
       "      <td>318.0</td>\n",
       "      <td>150.0</td>\n",
       "      <td>3399</td>\n",
       "      <td>11.0</td>\n",
       "      <td>73</td>\n",
       "      <td>usa</td>\n",
       "      <td>dodge dart custom</td>\n",
       "    </tr>\n",
       "    <tr>\n",
       "      <th>75</th>\n",
       "      <td>14.0</td>\n",
       "      <td>8</td>\n",
       "      <td>318.0</td>\n",
       "      <td>150.0</td>\n",
       "      <td>4077</td>\n",
       "      <td>14.0</td>\n",
       "      <td>72</td>\n",
       "      <td>usa</td>\n",
       "      <td>plymouth satellite custom (sw)</td>\n",
       "    </tr>\n",
       "  </tbody>\n",
       "</table>\n",
       "</div>"
      ],
      "text/plain": [
       "      mpg  cylinders  displacement  horsepower  weight  acceleration  \\\n",
       "292  18.5          8         360.0       150.0    3940          13.0   \n",
       "93   14.0          8         318.0       150.0    4237          14.5   \n",
       "12   15.0          8         400.0       150.0    3761           9.5   \n",
       "89   15.0          8         318.0       150.0    3777          12.5   \n",
       "64   15.0          8         318.0       150.0    4135          13.5   \n",
       "215  13.0          8         318.0       150.0    3755          14.0   \n",
       "208  13.0          8         318.0       150.0    3940          13.2   \n",
       "86   14.0          8         304.0       150.0    3672          11.5   \n",
       "91   13.0          8         400.0       150.0    4464          12.0   \n",
       "66   17.0          8         304.0       150.0    3672          11.5   \n",
       "188  16.0          8         318.0       150.0    4190          13.0   \n",
       "103  11.0          8         400.0       150.0    4997          14.0   \n",
       "138  14.0          8         318.0       150.0    4457          13.5   \n",
       "72   15.0          8         304.0       150.0    3892          12.5   \n",
       "137  13.0          8         350.0       150.0    4699          14.5   \n",
       "158  16.0          8         318.0       150.0    4498          14.5   \n",
       "41   14.0          8         318.0       150.0    4096          13.0   \n",
       "3    16.0          8         304.0       150.0    3433          12.0   \n",
       "2    18.0          8         318.0       150.0    3436          11.0   \n",
       "140  14.0          8         304.0       150.0    4257          15.5   \n",
       "121  15.0          8         318.0       150.0    3399          11.0   \n",
       "75   14.0          8         318.0       150.0    4077          14.0   \n",
       "\n",
       "     model_year origin                                  name  \n",
       "292          79    usa  chrysler lebaron town @ country (sw)  \n",
       "93           73    usa              plymouth fury gran sedan  \n",
       "12           70    usa                 chevrolet monte carlo  \n",
       "89           73    usa                  dodge coronet custom  \n",
       "64           72    usa                     plymouth fury iii  \n",
       "215          76    usa                            dodge d100  \n",
       "208          76    usa            plymouth volare premier v8  \n",
       "86           73    usa                           amc matador  \n",
       "91           73    usa             chevrolet caprice classic  \n",
       "66           72    usa                    amc ambassador sst  \n",
       "188          76    usa                dodge coronet brougham  \n",
       "103          73    usa                      chevrolet impala  \n",
       "138          74    usa             dodge coronet custom (sw)  \n",
       "72           72    usa                      amc matador (sw)  \n",
       "137          74    usa              buick century luxus (sw)  \n",
       "158          75    usa                   plymouth grand fury  \n",
       "41           71    usa                     plymouth fury iii  \n",
       "3            70    usa                         amc rebel sst  \n",
       "2            70    usa                    plymouth satellite  \n",
       "140          74    usa                      amc matador (sw)  \n",
       "121          73    usa                     dodge dart custom  \n",
       "75           72    usa        plymouth satellite custom (sw)  "
      ]
     },
     "execution_count": 51,
     "metadata": {},
     "output_type": "execute_result"
    }
   ],
   "source": [
    "# Here, we load the fuel dataset, and drop any rows that have missing data.\n",
    "vehicle_data = sns.load_dataset('mpg').dropna()\n",
    "vehicle_data = vehicle_data.sort_values('horsepower', ascending=True)\n",
    "vehicle_data[vehicle_data[\"horsepower\"]==150]"
   ]
  },
  {
   "cell_type": "code",
   "execution_count": 52,
   "id": "349946c7",
   "metadata": {},
   "outputs": [
    {
     "data": {
      "text/plain": [
       "(392, 9)"
      ]
     },
     "execution_count": 52,
     "metadata": {},
     "output_type": "execute_result"
    }
   ],
   "source": [
    "vehicle_data.shape"
   ]
  },
  {
   "cell_type": "markdown",
   "id": "394ab9d5",
   "metadata": {},
   "source": [
    "We have 392 datapoints and 8 potential features (plus our observed $y$ values, `mpg`)."
   ]
  },
  {
   "cell_type": "markdown",
   "id": "4ac0c23a",
   "metadata": {
    "deletable": false,
    "editable": false
   },
   "source": [
    "<!-- BEGIN QUESTION -->\n",
    "\n",
    "**Question 3.1.** \n",
    "We'll start by building a simple linear regression model to try and predict `mpg` using `horsepower`.  \n",
    "\n",
    "a).  Use your function `fit_line` from question to fit this linear model (i.e. find the slope and intercept for the least squares regression line).  \n",
    "\n",
    "\n",
    "b).  Then use seaborn `lmplot` to plot a scatterplot of horsepower (on the x-axis) vs mpg (on the y-axis) with the least squares linear regression line and prediction intervals included on the plot."
   ]
  },
  {
   "cell_type": "code",
   "execution_count": 55,
   "id": "bbceafe8",
   "metadata": {
    "tags": []
   },
   "outputs": [
    {
     "name": "stdout",
     "output_type": "stream",
     "text": [
      "Our model slope is  -0.15784473335365362 and the intercept is 39.93586102117047\n"
     ]
    },
    {
     "data": {
      "text/plain": [
       "<seaborn.axisgrid.FacetGrid at 0x348150b20>"
      ]
     },
     "execution_count": 55,
     "metadata": {},
     "output_type": "execute_result"
    },
    {
     "data": {
      "image/png": "[encoded data removed]",
      "text/plain": [
       "<Figure size 500x500 with 1 Axes>"
      ]
     },
     "metadata": {},
     "output_type": "display_data"
    }
   ],
   "source": [
    "\n",
    "slope, intercept = fit_line(vehicle_data, \"horsepower\", \"mpg\")\n",
    "\n",
    "print(\"Our model slope is \", slope, \"and the intercept is\", intercept)\n",
    "\n",
    "\n",
    "sns.lmplot(data=vehicle_data, x=\"horsepower\", y=\"mpg\")\n",
    "# Your code for part b above this line"
   ]
  },
  {
   "cell_type": "markdown",
   "id": "91d9f612-dab1-4494-a100-eb200f6c91c9",
   "metadata": {
    "deletable": false,
    "editable": false
   },
   "source": [
    "<!-- END QUESTION -->\n",
    "\n",
    "## `sklearn`\n",
    "\n",
    "While writing code to fit simple linear regression models by hand (like you did in Questions 1 and 2) is not complicated, this process will become much more complex as we increase the number of features in our models.  We now introduce a built-in library in Python that we will use to build and fit more complex models.\n",
    "\n",
    "`sklearn` is a popular Python library for building and fitting models. Below we walk through the general workflow for writing code for `sklearn`. We'll start by using it to get the best fit regression model for horsepower vs mpg (i.e. the line you plotted above), so you can see how it works with an example you've already coded by hand.  \n",
    "\n",
    "Note that while our examples will be focused on linear models, `sklearn` is highly adaptable for use on other (more complex) kinds of models. "
   ]
  },
  {
   "cell_type": "markdown",
   "id": "1787a703-ad56-4ec7-ae1f-01b2989d4355",
   "metadata": {},
   "source": [
    "There are three steps to creating and using a model in `sklearn`. \n",
    "\n",
    "**(1) Initialize an instance of the model class**\n",
    "\n",
    "`sklearn` stores \"templates\" of useful models for machine learning. We begin the modeling process by making a \"copy\" of one of these templates for our own use. Model initialization looks like `ModelClass()`, where `ModelClass` is the type of model we wish to create.\n",
    "\n",
    "For now, let's create a linear regression model using `LinearRegression()`. "
   ]
  },
  {
   "cell_type": "code",
   "execution_count": 59,
   "id": "e14ebdf4-c362-4e8f-9ace-7c58959b1437",
   "metadata": {},
   "outputs": [
    {
     "data": {
      "text/html": [
       "<style>#sk-container-id-1 {\n",
       "  /* Definition of color scheme common for light and dark mode */\n",
       "  --sklearn-color-text: black;\n",
       "  --sklearn-color-line: gray;\n",
       "  /* Definition of color scheme for unfitted estimators */\n",
       "  --sklearn-color-unfitted-level-0: #fff5e6;\n",
       "  --sklearn-color-unfitted-level-1: #f6e4d2;\n",
       "  --sklearn-color-unfitted-level-2: #ffe0b3;\n",
       "  --sklearn-color-unfitted-level-3: chocolate;\n",
       "  /* Definition of color scheme for fitted estimators */\n",
       "  --sklearn-color-fitted-level-0: #f0f8ff;\n",
       "  --sklearn-color-fitted-level-1: #d4ebff;\n",
       "  --sklearn-color-fitted-level-2: #b3dbfd;\n",
       "  --sklearn-color-fitted-level-3: cornflowerblue;\n",
       "\n",
       "  /* Specific color for light theme */\n",
       "  --sklearn-color-text-on-default-background: var(--sg-text-color, var(--theme-code-foreground, var(--jp-content-font-color1, black)));\n",
       "  --sklearn-color-background: var(--sg-background-color, var(--theme-background, var(--jp-layout-color0, white)));\n",
       "  --sklearn-color-border-box: var(--sg-text-color, var(--theme-code-foreground, var(--jp-content-font-color1, black)));\n",
       "  --sklearn-color-icon: #696969;\n",
       "\n",
       "  @media (prefers-color-scheme: dark) {\n",
       "    /* Redefinition of color scheme for dark theme */\n",
       "    --sklearn-color-text-on-default-background: var(--sg-text-color, var(--theme-code-foreground, var(--jp-content-font-color1, white)));\n",
       "    --sklearn-color-background: var(--sg-background-color, var(--theme-background, var(--jp-layout-color0, #111)));\n",
       "    --sklearn-color-border-box: var(--sg-text-color, var(--theme-code-foreground, var(--jp-content-font-color1, white)));\n",
       "    --sklearn-color-icon: #878787;\n",
       "  }\n",
       "}\n",
       "\n",
       "#sk-container-id-1 {\n",
       "  color: var(--sklearn-color-text);\n",
       "}\n",
       "\n",
       "#sk-container-id-1 pre {\n",
       "  padding: 0;\n",
       "}\n",
       "\n",
       "#sk-container-id-1 input.sk-hidden--visually {\n",
       "  border: 0;\n",
       "  clip: rect(1px 1px 1px 1px);\n",
       "  clip: rect(1px, 1px, 1px, 1px);\n",
       "  height: 1px;\n",
       "  margin: -1px;\n",
       "  overflow: hidden;\n",
       "  padding: 0;\n",
       "  position: absolute;\n",
       "  width: 1px;\n",
       "}\n",
       "\n",
       "#sk-container-id-1 div.sk-dashed-wrapped {\n",
       "  border: 1px dashed var(--sklearn-color-line);\n",
       "  margin: 0 0.4em 0.5em 0.4em;\n",
       "  box-sizing: border-box;\n",
       "  padding-bottom: 0.4em;\n",
       "  background-color: var(--sklearn-color-background);\n",
       "}\n",
       "\n",
       "#sk-container-id-1 div.sk-container {\n",
       "  /* jupyter's `normalize.less` sets `[hidden] { display: none; }`\n",
       "     but bootstrap.min.css set `[hidden] { display: none !important; }`\n",
       "     so we also need the `!important` here to be able to override the\n",
       "     default hidden behavior on the sphinx rendered scikit-learn.org.\n",
       "     See: https://github.com/scikit-learn/scikit-learn/issues/21755 */\n",
       "  display: inline-block !important;\n",
       "  position: relative;\n",
       "}\n",
       "\n",
       "#sk-container-id-1 div.sk-text-repr-fallback {\n",
       "  display: none;\n",
       "}\n",
       "\n",
       "div.sk-parallel-item,\n",
       "div.sk-serial,\n",
       "div.sk-item {\n",
       "  /* draw centered vertical line to link estimators */\n",
       "  background-image: linear-gradient(var(--sklearn-color-text-on-default-background), var(--sklearn-color-text-on-default-background));\n",
       "  background-size: 2px 100%;\n",
       "  background-repeat: no-repeat;\n",
       "  background-position: center center;\n",
       "}\n",
       "\n",
       "/* Parallel-specific style estimator block */\n",
       "\n",
       "#sk-container-id-1 div.sk-parallel-item::after {\n",
       "  content: \"\";\n",
       "  width: 100%;\n",
       "  border-bottom: 2px solid var(--sklearn-color-text-on-default-background);\n",
       "  flex-grow: 1;\n",
       "}\n",
       "\n",
       "#sk-container-id-1 div.sk-parallel {\n",
       "  display: flex;\n",
       "  align-items: stretch;\n",
       "  justify-content: center;\n",
       "  background-color: var(--sklearn-color-background);\n",
       "  position: relative;\n",
       "}\n",
       "\n",
       "#sk-container-id-1 div.sk-parallel-item {\n",
       "  display: flex;\n",
       "  flex-direction: column;\n",
       "}\n",
       "\n",
       "#sk-container-id-1 div.sk-parallel-item:first-child::after {\n",
       "  align-self: flex-end;\n",
       "  width: 50%;\n",
       "}\n",
       "\n",
       "#sk-container-id-1 div.sk-parallel-item:last-child::after {\n",
       "  align-self: flex-start;\n",
       "  width: 50%;\n",
       "}\n",
       "\n",
       "#sk-container-id-1 div.sk-parallel-item:only-child::after {\n",
       "  width: 0;\n",
       "}\n",
       "\n",
       "/* Serial-specific style estimator block */\n",
       "\n",
       "#sk-container-id-1 div.sk-serial {\n",
       "  display: flex;\n",
       "  flex-direction: column;\n",
       "  align-items: center;\n",
       "  background-color: var(--sklearn-color-background);\n",
       "  padding-right: 1em;\n",
       "  padding-left: 1em;\n",
       "}\n",
       "\n",
       "\n",
       "/* Toggleable style: style used for estimator/Pipeline/ColumnTransformer box that is\n",
       "clickable and can be expanded/collapsed.\n",
       "- Pipeline and ColumnTransformer use this feature and define the default style\n",
       "- Estimators will overwrite some part of the style using the `sk-estimator` class\n",
       "*/\n",
       "\n",
       "/* Pipeline and ColumnTransformer style (default) */\n",
       "\n",
       "#sk-container-id-1 div.sk-toggleable {\n",
       "  /* Default theme specific background. It is overwritten whether we have a\n",
       "  specific estimator or a Pipeline/ColumnTransformer */\n",
       "  background-color: var(--sklearn-color-background);\n",
       "}\n",
       "\n",
       "/* Toggleable label */\n",
       "#sk-container-id-1 label.sk-toggleable__label {\n",
       "  cursor: pointer;\n",
       "  display: block;\n",
       "  width: 100%;\n",
       "  margin-bottom: 0;\n",
       "  padding: 0.5em;\n",
       "  box-sizing: border-box;\n",
       "  text-align: center;\n",
       "}\n",
       "\n",
       "#sk-container-id-1 label.sk-toggleable__label-arrow:before {\n",
       "  /* Arrow on the left of the label */\n",
       "  content: \"▸\";\n",
       "  float: left;\n",
       "  margin-right: 0.25em;\n",
       "  color: var(--sklearn-color-icon);\n",
       "}\n",
       "\n",
       "#sk-container-id-1 label.sk-toggleable__label-arrow:hover:before {\n",
       "  color: var(--sklearn-color-text);\n",
       "}\n",
       "\n",
       "/* Toggleable content - dropdown */\n",
       "\n",
       "#sk-container-id-1 div.sk-toggleable__content {\n",
       "  max-height: 0;\n",
       "  max-width: 0;\n",
       "  overflow: hidden;\n",
       "  text-align: left;\n",
       "  /* unfitted */\n",
       "  background-color: var(--sklearn-color-unfitted-level-0);\n",
       "}\n",
       "\n",
       "#sk-container-id-1 div.sk-toggleable__content.fitted {\n",
       "  /* fitted */\n",
       "  background-color: var(--sklearn-color-fitted-level-0);\n",
       "}\n",
       "\n",
       "#sk-container-id-1 div.sk-toggleable__content pre {\n",
       "  margin: 0.2em;\n",
       "  border-radius: 0.25em;\n",
       "  color: var(--sklearn-color-text);\n",
       "  /* unfitted */\n",
       "  background-color: var(--sklearn-color-unfitted-level-0);\n",
       "}\n",
       "\n",
       "#sk-container-id-1 div.sk-toggleable__content.fitted pre {\n",
       "  /* unfitted */\n",
       "  background-color: var(--sklearn-color-fitted-level-0);\n",
       "}\n",
       "\n",
       "#sk-container-id-1 input.sk-toggleable__control:checked~div.sk-toggleable__content {\n",
       "  /* Expand drop-down */\n",
       "  max-height: 200px;\n",
       "  max-width: 100%;\n",
       "  overflow: auto;\n",
       "}\n",
       "\n",
       "#sk-container-id-1 input.sk-toggleable__control:checked~label.sk-toggleable__label-arrow:before {\n",
       "  content: \"▾\";\n",
       "}\n",
       "\n",
       "/* Pipeline/ColumnTransformer-specific style */\n",
       "\n",
       "#sk-container-id-1 div.sk-label input.sk-toggleable__control:checked~label.sk-toggleable__label {\n",
       "  color: var(--sklearn-color-text);\n",
       "  background-color: var(--sklearn-color-unfitted-level-2);\n",
       "}\n",
       "\n",
       "#sk-container-id-1 div.sk-label.fitted input.sk-toggleable__control:checked~label.sk-toggleable__label {\n",
       "  background-color: var(--sklearn-color-fitted-level-2);\n",
       "}\n",
       "\n",
       "/* Estimator-specific style */\n",
       "\n",
       "/* Colorize estimator box */\n",
       "#sk-container-id-1 div.sk-estimator input.sk-toggleable__control:checked~label.sk-toggleable__label {\n",
       "  /* unfitted */\n",
       "  background-color: var(--sklearn-color-unfitted-level-2);\n",
       "}\n",
       "\n",
       "#sk-container-id-1 div.sk-estimator.fitted input.sk-toggleable__control:checked~label.sk-toggleable__label {\n",
       "  /* fitted */\n",
       "  background-color: var(--sklearn-color-fitted-level-2);\n",
       "}\n",
       "\n",
       "#sk-container-id-1 div.sk-label label.sk-toggleable__label,\n",
       "#sk-container-id-1 div.sk-label label {\n",
       "  /* The background is the default theme color */\n",
       "  color: var(--sklearn-color-text-on-default-background);\n",
       "}\n",
       "\n",
       "/* On hover, darken the color of the background */\n",
       "#sk-container-id-1 div.sk-label:hover label.sk-toggleable__label {\n",
       "  color: var(--sklearn-color-text);\n",
       "  background-color: var(--sklearn-color-unfitted-level-2);\n",
       "}\n",
       "\n",
       "/* Label box, darken color on hover, fitted */\n",
       "#sk-container-id-1 div.sk-label.fitted:hover label.sk-toggleable__label.fitted {\n",
       "  color: var(--sklearn-color-text);\n",
       "  background-color: var(--sklearn-color-fitted-level-2);\n",
       "}\n",
       "\n",
       "/* Estimator label */\n",
       "\n",
       "#sk-container-id-1 div.sk-label label {\n",
       "  font-family: monospace;\n",
       "  font-weight: bold;\n",
       "  display: inline-block;\n",
       "  line-height: 1.2em;\n",
       "}\n",
       "\n",
       "#sk-container-id-1 div.sk-label-container {\n",
       "  text-align: center;\n",
       "}\n",
       "\n",
       "/* Estimator-specific */\n",
       "#sk-container-id-1 div.sk-estimator {\n",
       "  font-family: monospace;\n",
       "  border: 1px dotted var(--sklearn-color-border-box);\n",
       "  border-radius: 0.25em;\n",
       "  box-sizing: border-box;\n",
       "  margin-bottom: 0.5em;\n",
       "  /* unfitted */\n",
       "  background-color: var(--sklearn-color-unfitted-level-0);\n",
       "}\n",
       "\n",
       "#sk-container-id-1 div.sk-estimator.fitted {\n",
       "  /* fitted */\n",
       "  background-color: var(--sklearn-color-fitted-level-0);\n",
       "}\n",
       "\n",
       "/* on hover */\n",
       "#sk-container-id-1 div.sk-estimator:hover {\n",
       "  /* unfitted */\n",
       "  background-color: var(--sklearn-color-unfitted-level-2);\n",
       "}\n",
       "\n",
       "#sk-container-id-1 div.sk-estimator.fitted:hover {\n",
       "  /* fitted */\n",
       "  background-color: var(--sklearn-color-fitted-level-2);\n",
       "}\n",
       "\n",
       "/* Specification for estimator info (e.g. \"i\" and \"?\") */\n",
       "\n",
       "/* Common style for \"i\" and \"?\" */\n",
       "\n",
       ".sk-estimator-doc-link,\n",
       "a:link.sk-estimator-doc-link,\n",
       "a:visited.sk-estimator-doc-link {\n",
       "  float: right;\n",
       "  font-size: smaller;\n",
       "  line-height: 1em;\n",
       "  font-family: monospace;\n",
       "  background-color: var(--sklearn-color-background);\n",
       "  border-radius: 1em;\n",
       "  height: 1em;\n",
       "  width: 1em;\n",
       "  text-decoration: none !important;\n",
       "  margin-left: 1ex;\n",
       "  /* unfitted */\n",
       "  border: var(--sklearn-color-unfitted-level-1) 1pt solid;\n",
       "  color: var(--sklearn-color-unfitted-level-1);\n",
       "}\n",
       "\n",
       ".sk-estimator-doc-link.fitted,\n",
       "a:link.sk-estimator-doc-link.fitted,\n",
       "a:visited.sk-estimator-doc-link.fitted {\n",
       "  /* fitted */\n",
       "  border: var(--sklearn-color-fitted-level-1) 1pt solid;\n",
       "  color: var(--sklearn-color-fitted-level-1);\n",
       "}\n",
       "\n",
       "/* On hover */\n",
       "div.sk-estimator:hover .sk-estimator-doc-link:hover,\n",
       ".sk-estimator-doc-link:hover,\n",
       "div.sk-label-container:hover .sk-estimator-doc-link:hover,\n",
       ".sk-estimator-doc-link:hover {\n",
       "  /* unfitted */\n",
       "  background-color: var(--sklearn-color-unfitted-level-3);\n",
       "  color: var(--sklearn-color-background);\n",
       "  text-decoration: none;\n",
       "}\n",
       "\n",
       "div.sk-estimator.fitted:hover .sk-estimator-doc-link.fitted:hover,\n",
       ".sk-estimator-doc-link.fitted:hover,\n",
       "div.sk-label-container:hover .sk-estimator-doc-link.fitted:hover,\n",
       ".sk-estimator-doc-link.fitted:hover {\n",
       "  /* fitted */\n",
       "  background-color: var(--sklearn-color-fitted-level-3);\n",
       "  color: var(--sklearn-color-background);\n",
       "  text-decoration: none;\n",
       "}\n",
       "\n",
       "/* Span, style for the box shown on hovering the info icon */\n",
       ".sk-estimator-doc-link span {\n",
       "  display: none;\n",
       "  z-index: 9999;\n",
       "  position: relative;\n",
       "  font-weight: normal;\n",
       "  right: .2ex;\n",
       "  padding: .5ex;\n",
       "  margin: .5ex;\n",
       "  width: min-content;\n",
       "  min-width: 20ex;\n",
       "  max-width: 50ex;\n",
       "  color: var(--sklearn-color-text);\n",
       "  box-shadow: 2pt 2pt 4pt #999;\n",
       "  /* unfitted */\n",
       "  background: var(--sklearn-color-unfitted-level-0);\n",
       "  border: .5pt solid var(--sklearn-color-unfitted-level-3);\n",
       "}\n",
       "\n",
       ".sk-estimator-doc-link.fitted span {\n",
       "  /* fitted */\n",
       "  background: var(--sklearn-color-fitted-level-0);\n",
       "  border: var(--sklearn-color-fitted-level-3);\n",
       "}\n",
       "\n",
       ".sk-estimator-doc-link:hover span {\n",
       "  display: block;\n",
       "}\n",
       "\n",
       "/* \"?\"-specific style due to the `<a>` HTML tag */\n",
       "\n",
       "#sk-container-id-1 a.estimator_doc_link {\n",
       "  float: right;\n",
       "  font-size: 1rem;\n",
       "  line-height: 1em;\n",
       "  font-family: monospace;\n",
       "  background-color: var(--sklearn-color-background);\n",
       "  border-radius: 1rem;\n",
       "  height: 1rem;\n",
       "  width: 1rem;\n",
       "  text-decoration: none;\n",
       "  /* unfitted */\n",
       "  color: var(--sklearn-color-unfitted-level-1);\n",
       "  border: var(--sklearn-color-unfitted-level-1) 1pt solid;\n",
       "}\n",
       "\n",
       "#sk-container-id-1 a.estimator_doc_link.fitted {\n",
       "  /* fitted */\n",
       "  border: var(--sklearn-color-fitted-level-1) 1pt solid;\n",
       "  color: var(--sklearn-color-fitted-level-1);\n",
       "}\n",
       "\n",
       "/* On hover */\n",
       "#sk-container-id-1 a.estimator_doc_link:hover {\n",
       "  /* unfitted */\n",
       "  background-color: var(--sklearn-color-unfitted-level-3);\n",
       "  color: var(--sklearn-color-background);\n",
       "  text-decoration: none;\n",
       "}\n",
       "\n",
       "#sk-container-id-1 a.estimator_doc_link.fitted:hover {\n",
       "  /* fitted */\n",
       "  background-color: var(--sklearn-color-fitted-level-3);\n",
       "}\n",
       "</style><div id=\"sk-container-id-1\" class=\"sk-top-container\"><div class=\"sk-text-repr-fallback\"><pre>LinearRegression()</pre><b>In a Jupyter environment, please rerun this cell to show the HTML representation or trust the notebook. <br />On GitHub, the HTML representation is unable to render, please try loading this page with nbviewer.org.</b></div><div class=\"sk-container\" hidden><div class=\"sk-item\"><div class=\"sk-estimator  sk-toggleable\"><input class=\"sk-toggleable__control sk-hidden--visually\" id=\"sk-estimator-id-1\" type=\"checkbox\" checked><label for=\"sk-estimator-id-1\" class=\"sk-toggleable__label  sk-toggleable__label-arrow \">&nbsp;&nbsp;LinearRegression<a class=\"sk-estimator-doc-link \" rel=\"noreferrer\" target=\"_blank\" href=\"https://scikit-learn.org/1.4/modules/generated/sklearn.linear_model.LinearRegression.html\">?<span>Documentation for LinearRegression</span></a><span class=\"sk-estimator-doc-link \">i<span>Not fitted</span></span></label><div class=\"sk-toggleable__content \"><pre>LinearRegression()</pre></div> </div></div></div></div>"
      ],
      "text/plain": [
       "LinearRegression()"
      ]
     },
     "execution_count": 59,
     "metadata": {},
     "output_type": "execute_result"
    }
   ],
   "source": [
    "# Run the cell below\n",
    "import sklearn.linear_model as lm\n",
    "\n",
    "my_model = lm.LinearRegression()\n",
    "\n",
    "my_model"
   ]
  },
  {
   "cell_type": "markdown",
   "id": "e4e28647-a19a-46e2-9704-64a89b4c53e9",
   "metadata": {},
   "source": [
    "`my_model` is now an instance of the `LinearRegression` class. You can think of it as the \"idea\" of a linear regression model. We haven't trained it yet, so it doesn't know any model parameters and cannot be used to make predictions. In fact, we haven't even told it what data to use for modeling! It simply waits for further instructions.\n",
    "\n",
    "**(2) Train the model using `.fit`**\n",
    "\n",
    "Before the model can make predictions, we will need to fit it to our training data. When we fit the model, `sklearn` will do the math behind the scenes minimize the MSE and determine the optimal model parameters. It will then save these model parameters to our model instance for future use. \n",
    "\n",
    "All `sklearn` model classes include a `.fit` method. This function is used to fit the model. It takes in two inputs: the design matrix, `X`, and the target variable, `y`. \n",
    "\n",
    "Let's start by fitting a model with just one feature: the `horsepower`. \n",
    "\n",
    "We create a design matrix `X` by pulling out the `\"horsepower\"` column from the DataFrame. \n",
    "\n",
    "Notice that we use **double brackets** to extract this column. Why double brackets instead of just single brackets? The `.fit` method, by default, expects to receive **2-dimensional** data – some kind of data that includes both rows and columns. Writing `vehicle_data[\"horsepower\"]` would return a 1D `Series`, causing `sklearn` to error. We avoid this by writing `vehicle_data[[\"horsepower\"]]` to produce a 2D DataFrame. "
   ]
  },
  {
   "cell_type": "code",
   "execution_count": 60,
   "id": "c51bbfd8-08c1-400d-8be7-d1024f7164f6",
   "metadata": {},
   "outputs": [
    {
     "data": {
      "text/html": [
       "<style>#sk-container-id-2 {\n",
       "  /* Definition of color scheme common for light and dark mode */\n",
       "  --sklearn-color-text: black;\n",
       "  --sklearn-color-line: gray;\n",
       "  /* Definition of color scheme for unfitted estimators */\n",
       "  --sklearn-color-unfitted-level-0: #fff5e6;\n",
       "  --sklearn-color-unfitted-level-1: #f6e4d2;\n",
       "  --sklearn-color-unfitted-level-2: #ffe0b3;\n",
       "  --sklearn-color-unfitted-level-3: chocolate;\n",
       "  /* Definition of color scheme for fitted estimators */\n",
       "  --sklearn-color-fitted-level-0: #f0f8ff;\n",
       "  --sklearn-color-fitted-level-1: #d4ebff;\n",
       "  --sklearn-color-fitted-level-2: #b3dbfd;\n",
       "  --sklearn-color-fitted-level-3: cornflowerblue;\n",
       "\n",
       "  /* Specific color for light theme */\n",
       "  --sklearn-color-text-on-default-background: var(--sg-text-color, var(--theme-code-foreground, var(--jp-content-font-color1, black)));\n",
       "  --sklearn-color-background: var(--sg-background-color, var(--theme-background, var(--jp-layout-color0, white)));\n",
       "  --sklearn-color-border-box: var(--sg-text-color, var(--theme-code-foreground, var(--jp-content-font-color1, black)));\n",
       "  --sklearn-color-icon: #696969;\n",
       "\n",
       "  @media (prefers-color-scheme: dark) {\n",
       "    /* Redefinition of color scheme for dark theme */\n",
       "    --sklearn-color-text-on-default-background: var(--sg-text-color, var(--theme-code-foreground, var(--jp-content-font-color1, white)));\n",
       "    --sklearn-color-background: var(--sg-background-color, var(--theme-background, var(--jp-layout-color0, #111)));\n",
       "    --sklearn-color-border-box: var(--sg-text-color, var(--theme-code-foreground, var(--jp-content-font-color1, white)));\n",
       "    --sklearn-color-icon: #878787;\n",
       "  }\n",
       "}\n",
       "\n",
       "#sk-container-id-2 {\n",
       "  color: var(--sklearn-color-text);\n",
       "}\n",
       "\n",
       "#sk-container-id-2 pre {\n",
       "  padding: 0;\n",
       "}\n",
       "\n",
       "#sk-container-id-2 input.sk-hidden--visually {\n",
       "  border: 0;\n",
       "  clip: rect(1px 1px 1px 1px);\n",
       "  clip: rect(1px, 1px, 1px, 1px);\n",
       "  height: 1px;\n",
       "  margin: -1px;\n",
       "  overflow: hidden;\n",
       "  padding: 0;\n",
       "  position: absolute;\n",
       "  width: 1px;\n",
       "}\n",
       "\n",
       "#sk-container-id-2 div.sk-dashed-wrapped {\n",
       "  border: 1px dashed var(--sklearn-color-line);\n",
       "  margin: 0 0.4em 0.5em 0.4em;\n",
       "  box-sizing: border-box;\n",
       "  padding-bottom: 0.4em;\n",
       "  background-color: var(--sklearn-color-background);\n",
       "}\n",
       "\n",
       "#sk-container-id-2 div.sk-container {\n",
       "  /* jupyter's `normalize.less` sets `[hidden] { display: none; }`\n",
       "     but bootstrap.min.css set `[hidden] { display: none !important; }`\n",
       "     so we also need the `!important` here to be able to override the\n",
       "     default hidden behavior on the sphinx rendered scikit-learn.org.\n",
       "     See: https://github.com/scikit-learn/scikit-learn/issues/21755 */\n",
       "  display: inline-block !important;\n",
       "  position: relative;\n",
       "}\n",
       "\n",
       "#sk-container-id-2 div.sk-text-repr-fallback {\n",
       "  display: none;\n",
       "}\n",
       "\n",
       "div.sk-parallel-item,\n",
       "div.sk-serial,\n",
       "div.sk-item {\n",
       "  /* draw centered vertical line to link estimators */\n",
       "  background-image: linear-gradient(var(--sklearn-color-text-on-default-background), var(--sklearn-color-text-on-default-background));\n",
       "  background-size: 2px 100%;\n",
       "  background-repeat: no-repeat;\n",
       "  background-position: center center;\n",
       "}\n",
       "\n",
       "/* Parallel-specific style estimator block */\n",
       "\n",
       "#sk-container-id-2 div.sk-parallel-item::after {\n",
       "  content: \"\";\n",
       "  width: 100%;\n",
       "  border-bottom: 2px solid var(--sklearn-color-text-on-default-background);\n",
       "  flex-grow: 1;\n",
       "}\n",
       "\n",
       "#sk-container-id-2 div.sk-parallel {\n",
       "  display: flex;\n",
       "  align-items: stretch;\n",
       "  justify-content: center;\n",
       "  background-color: var(--sklearn-color-background);\n",
       "  position: relative;\n",
       "}\n",
       "\n",
       "#sk-container-id-2 div.sk-parallel-item {\n",
       "  display: flex;\n",
       "  flex-direction: column;\n",
       "}\n",
       "\n",
       "#sk-container-id-2 div.sk-parallel-item:first-child::after {\n",
       "  align-self: flex-end;\n",
       "  width: 50%;\n",
       "}\n",
       "\n",
       "#sk-container-id-2 div.sk-parallel-item:last-child::after {\n",
       "  align-self: flex-start;\n",
       "  width: 50%;\n",
       "}\n",
       "\n",
       "#sk-container-id-2 div.sk-parallel-item:only-child::after {\n",
       "  width: 0;\n",
       "}\n",
       "\n",
       "/* Serial-specific style estimator block */\n",
       "\n",
       "#sk-container-id-2 div.sk-serial {\n",
       "  display: flex;\n",
       "  flex-direction: column;\n",
       "  align-items: center;\n",
       "  background-color: var(--sklearn-color-background);\n",
       "  padding-right: 1em;\n",
       "  padding-left: 1em;\n",
       "}\n",
       "\n",
       "\n",
       "/* Toggleable style: style used for estimator/Pipeline/ColumnTransformer box that is\n",
       "clickable and can be expanded/collapsed.\n",
       "- Pipeline and ColumnTransformer use this feature and define the default style\n",
       "- Estimators will overwrite some part of the style using the `sk-estimator` class\n",
       "*/\n",
       "\n",
       "/* Pipeline and ColumnTransformer style (default) */\n",
       "\n",
       "#sk-container-id-2 div.sk-toggleable {\n",
       "  /* Default theme specific background. It is overwritten whether we have a\n",
       "  specific estimator or a Pipeline/ColumnTransformer */\n",
       "  background-color: var(--sklearn-color-background);\n",
       "}\n",
       "\n",
       "/* Toggleable label */\n",
       "#sk-container-id-2 label.sk-toggleable__label {\n",
       "  cursor: pointer;\n",
       "  display: block;\n",
       "  width: 100%;\n",
       "  margin-bottom: 0;\n",
       "  padding: 0.5em;\n",
       "  box-sizing: border-box;\n",
       "  text-align: center;\n",
       "}\n",
       "\n",
       "#sk-container-id-2 label.sk-toggleable__label-arrow:before {\n",
       "  /* Arrow on the left of the label */\n",
       "  content: \"▸\";\n",
       "  float: left;\n",
       "  margin-right: 0.25em;\n",
       "  color: var(--sklearn-color-icon);\n",
       "}\n",
       "\n",
       "#sk-container-id-2 label.sk-toggleable__label-arrow:hover:before {\n",
       "  color: var(--sklearn-color-text);\n",
       "}\n",
       "\n",
       "/* Toggleable content - dropdown */\n",
       "\n",
       "#sk-container-id-2 div.sk-toggleable__content {\n",
       "  max-height: 0;\n",
       "  max-width: 0;\n",
       "  overflow: hidden;\n",
       "  text-align: left;\n",
       "  /* unfitted */\n",
       "  background-color: var(--sklearn-color-unfitted-level-0);\n",
       "}\n",
       "\n",
       "#sk-container-id-2 div.sk-toggleable__content.fitted {\n",
       "  /* fitted */\n",
       "  background-color: var(--sklearn-color-fitted-level-0);\n",
       "}\n",
       "\n",
       "#sk-container-id-2 div.sk-toggleable__content pre {\n",
       "  margin: 0.2em;\n",
       "  border-radius: 0.25em;\n",
       "  color: var(--sklearn-color-text);\n",
       "  /* unfitted */\n",
       "  background-color: var(--sklearn-color-unfitted-level-0);\n",
       "}\n",
       "\n",
       "#sk-container-id-2 div.sk-toggleable__content.fitted pre {\n",
       "  /* unfitted */\n",
       "  background-color: var(--sklearn-color-fitted-level-0);\n",
       "}\n",
       "\n",
       "#sk-container-id-2 input.sk-toggleable__control:checked~div.sk-toggleable__content {\n",
       "  /* Expand drop-down */\n",
       "  max-height: 200px;\n",
       "  max-width: 100%;\n",
       "  overflow: auto;\n",
       "}\n",
       "\n",
       "#sk-container-id-2 input.sk-toggleable__control:checked~label.sk-toggleable__label-arrow:before {\n",
       "  content: \"▾\";\n",
       "}\n",
       "\n",
       "/* Pipeline/ColumnTransformer-specific style */\n",
       "\n",
       "#sk-container-id-2 div.sk-label input.sk-toggleable__control:checked~label.sk-toggleable__label {\n",
       "  color: var(--sklearn-color-text);\n",
       "  background-color: var(--sklearn-color-unfitted-level-2);\n",
       "}\n",
       "\n",
       "#sk-container-id-2 div.sk-label.fitted input.sk-toggleable__control:checked~label.sk-toggleable__label {\n",
       "  background-color: var(--sklearn-color-fitted-level-2);\n",
       "}\n",
       "\n",
       "/* Estimator-specific style */\n",
       "\n",
       "/* Colorize estimator box */\n",
       "#sk-container-id-2 div.sk-estimator input.sk-toggleable__control:checked~label.sk-toggleable__label {\n",
       "  /* unfitted */\n",
       "  background-color: var(--sklearn-color-unfitted-level-2);\n",
       "}\n",
       "\n",
       "#sk-container-id-2 div.sk-estimator.fitted input.sk-toggleable__control:checked~label.sk-toggleable__label {\n",
       "  /* fitted */\n",
       "  background-color: var(--sklearn-color-fitted-level-2);\n",
       "}\n",
       "\n",
       "#sk-container-id-2 div.sk-label label.sk-toggleable__label,\n",
       "#sk-container-id-2 div.sk-label label {\n",
       "  /* The background is the default theme color */\n",
       "  color: var(--sklearn-color-text-on-default-background);\n",
       "}\n",
       "\n",
       "/* On hover, darken the color of the background */\n",
       "#sk-container-id-2 div.sk-label:hover label.sk-toggleable__label {\n",
       "  color: var(--sklearn-color-text);\n",
       "  background-color: var(--sklearn-color-unfitted-level-2);\n",
       "}\n",
       "\n",
       "/* Label box, darken color on hover, fitted */\n",
       "#sk-container-id-2 div.sk-label.fitted:hover label.sk-toggleable__label.fitted {\n",
       "  color: var(--sklearn-color-text);\n",
       "  background-color: var(--sklearn-color-fitted-level-2);\n",
       "}\n",
       "\n",
       "/* Estimator label */\n",
       "\n",
       "#sk-container-id-2 div.sk-label label {\n",
       "  font-family: monospace;\n",
       "  font-weight: bold;\n",
       "  display: inline-block;\n",
       "  line-height: 1.2em;\n",
       "}\n",
       "\n",
       "#sk-container-id-2 div.sk-label-container {\n",
       "  text-align: center;\n",
       "}\n",
       "\n",
       "/* Estimator-specific */\n",
       "#sk-container-id-2 div.sk-estimator {\n",
       "  font-family: monospace;\n",
       "  border: 1px dotted var(--sklearn-color-border-box);\n",
       "  border-radius: 0.25em;\n",
       "  box-sizing: border-box;\n",
       "  margin-bottom: 0.5em;\n",
       "  /* unfitted */\n",
       "  background-color: var(--sklearn-color-unfitted-level-0);\n",
       "}\n",
       "\n",
       "#sk-container-id-2 div.sk-estimator.fitted {\n",
       "  /* fitted */\n",
       "  background-color: var(--sklearn-color-fitted-level-0);\n",
       "}\n",
       "\n",
       "/* on hover */\n",
       "#sk-container-id-2 div.sk-estimator:hover {\n",
       "  /* unfitted */\n",
       "  background-color: var(--sklearn-color-unfitted-level-2);\n",
       "}\n",
       "\n",
       "#sk-container-id-2 div.sk-estimator.fitted:hover {\n",
       "  /* fitted */\n",
       "  background-color: var(--sklearn-color-fitted-level-2);\n",
       "}\n",
       "\n",
       "/* Specification for estimator info (e.g. \"i\" and \"?\") */\n",
       "\n",
       "/* Common style for \"i\" and \"?\" */\n",
       "\n",
       ".sk-estimator-doc-link,\n",
       "a:link.sk-estimator-doc-link,\n",
       "a:visited.sk-estimator-doc-link {\n",
       "  float: right;\n",
       "  font-size: smaller;\n",
       "  line-height: 1em;\n",
       "  font-family: monospace;\n",
       "  background-color: var(--sklearn-color-background);\n",
       "  border-radius: 1em;\n",
       "  height: 1em;\n",
       "  width: 1em;\n",
       "  text-decoration: none !important;\n",
       "  margin-left: 1ex;\n",
       "  /* unfitted */\n",
       "  border: var(--sklearn-color-unfitted-level-1) 1pt solid;\n",
       "  color: var(--sklearn-color-unfitted-level-1);\n",
       "}\n",
       "\n",
       ".sk-estimator-doc-link.fitted,\n",
       "a:link.sk-estimator-doc-link.fitted,\n",
       "a:visited.sk-estimator-doc-link.fitted {\n",
       "  /* fitted */\n",
       "  border: var(--sklearn-color-fitted-level-1) 1pt solid;\n",
       "  color: var(--sklearn-color-fitted-level-1);\n",
       "}\n",
       "\n",
       "/* On hover */\n",
       "div.sk-estimator:hover .sk-estimator-doc-link:hover,\n",
       ".sk-estimator-doc-link:hover,\n",
       "div.sk-label-container:hover .sk-estimator-doc-link:hover,\n",
       ".sk-estimator-doc-link:hover {\n",
       "  /* unfitted */\n",
       "  background-color: var(--sklearn-color-unfitted-level-3);\n",
       "  color: var(--sklearn-color-background);\n",
       "  text-decoration: none;\n",
       "}\n",
       "\n",
       "div.sk-estimator.fitted:hover .sk-estimator-doc-link.fitted:hover,\n",
       ".sk-estimator-doc-link.fitted:hover,\n",
       "div.sk-label-container:hover .sk-estimator-doc-link.fitted:hover,\n",
       ".sk-estimator-doc-link.fitted:hover {\n",
       "  /* fitted */\n",
       "  background-color: var(--sklearn-color-fitted-level-3);\n",
       "  color: var(--sklearn-color-background);\n",
       "  text-decoration: none;\n",
       "}\n",
       "\n",
       "/* Span, style for the box shown on hovering the info icon */\n",
       ".sk-estimator-doc-link span {\n",
       "  display: none;\n",
       "  z-index: 9999;\n",
       "  position: relative;\n",
       "  font-weight: normal;\n",
       "  right: .2ex;\n",
       "  padding: .5ex;\n",
       "  margin: .5ex;\n",
       "  width: min-content;\n",
       "  min-width: 20ex;\n",
       "  max-width: 50ex;\n",
       "  color: var(--sklearn-color-text);\n",
       "  box-shadow: 2pt 2pt 4pt #999;\n",
       "  /* unfitted */\n",
       "  background: var(--sklearn-color-unfitted-level-0);\n",
       "  border: .5pt solid var(--sklearn-color-unfitted-level-3);\n",
       "}\n",
       "\n",
       ".sk-estimator-doc-link.fitted span {\n",
       "  /* fitted */\n",
       "  background: var(--sklearn-color-fitted-level-0);\n",
       "  border: var(--sklearn-color-fitted-level-3);\n",
       "}\n",
       "\n",
       ".sk-estimator-doc-link:hover span {\n",
       "  display: block;\n",
       "}\n",
       "\n",
       "/* \"?\"-specific style due to the `<a>` HTML tag */\n",
       "\n",
       "#sk-container-id-2 a.estimator_doc_link {\n",
       "  float: right;\n",
       "  font-size: 1rem;\n",
       "  line-height: 1em;\n",
       "  font-family: monospace;\n",
       "  background-color: var(--sklearn-color-background);\n",
       "  border-radius: 1rem;\n",
       "  height: 1rem;\n",
       "  width: 1rem;\n",
       "  text-decoration: none;\n",
       "  /* unfitted */\n",
       "  color: var(--sklearn-color-unfitted-level-1);\n",
       "  border: var(--sklearn-color-unfitted-level-1) 1pt solid;\n",
       "}\n",
       "\n",
       "#sk-container-id-2 a.estimator_doc_link.fitted {\n",
       "  /* fitted */\n",
       "  border: var(--sklearn-color-fitted-level-1) 1pt solid;\n",
       "  color: var(--sklearn-color-fitted-level-1);\n",
       "}\n",
       "\n",
       "/* On hover */\n",
       "#sk-container-id-2 a.estimator_doc_link:hover {\n",
       "  /* unfitted */\n",
       "  background-color: var(--sklearn-color-unfitted-level-3);\n",
       "  color: var(--sklearn-color-background);\n",
       "  text-decoration: none;\n",
       "}\n",
       "\n",
       "#sk-container-id-2 a.estimator_doc_link.fitted:hover {\n",
       "  /* fitted */\n",
       "  background-color: var(--sklearn-color-fitted-level-3);\n",
       "}\n",
       "</style><div id=\"sk-container-id-2\" class=\"sk-top-container\"><div class=\"sk-text-repr-fallback\"><pre>LinearRegression()</pre><b>In a Jupyter environment, please rerun this cell to show the HTML representation or trust the notebook. <br />On GitHub, the HTML representation is unable to render, please try loading this page with nbviewer.org.</b></div><div class=\"sk-container\" hidden><div class=\"sk-item\"><div class=\"sk-estimator fitted sk-toggleable\"><input class=\"sk-toggleable__control sk-hidden--visually\" id=\"sk-estimator-id-2\" type=\"checkbox\" checked><label for=\"sk-estimator-id-2\" class=\"sk-toggleable__label fitted sk-toggleable__label-arrow fitted\">&nbsp;&nbsp;LinearRegression<a class=\"sk-estimator-doc-link fitted\" rel=\"noreferrer\" target=\"_blank\" href=\"https://scikit-learn.org/1.4/modules/generated/sklearn.linear_model.LinearRegression.html\">?<span>Documentation for LinearRegression</span></a><span class=\"sk-estimator-doc-link fitted\">i<span>Fitted</span></span></label><div class=\"sk-toggleable__content fitted\"><pre>LinearRegression()</pre></div> </div></div></div></div>"
      ],
      "text/plain": [
       "LinearRegression()"
      ]
     },
     "execution_count": 60,
     "metadata": {},
     "output_type": "execute_result"
    }
   ],
   "source": [
    "# .fit expects a 2D data design matrix, so we use double brackets to extract a DataFrame\n",
    "X = vehicle_data[[\"horsepower\"]]\n",
    "y = vehicle_data[\"mpg\"]\n",
    "\n",
    "my_model.fit(X, y)"
   ]
  },
  {
   "cell_type": "markdown",
   "id": "2510bea9-15ba-49a8-adb0-fcca38c2f648",
   "metadata": {},
   "source": [
    "And in just three lines of code, our model has determined the optimal model parameters! Our single-feature model takes the form:\n",
    "\n",
    "$$\\text{mpg} = \\theta_0 + \\theta_1 \\text{horsepower}$$\n",
    "\n",
    "Note that `LinearRegression` will automatically include an intercept term. \n",
    "\n",
    "The fitted model parameters are stored as attributes of the model instance. `my_model.intercept_` will return the value of $\\hat{\\theta}_0$ as a scalar. `my_model.coef_` will return all values $\\hat{\\theta}_1, \n",
    "\\hat{\\theta}_1, ...$ in an array. Because our model only contains one feature, we see just the value of $\\hat{\\theta}_1$ in the cell below.\n",
    "\n",
    "**Notice how these exactly match the slope and intercept you found in 3.1 using your own fit_line function!**"
   ]
  },
  {
   "cell_type": "code",
   "execution_count": 61,
   "id": "63252e1e-02ef-40de-ae52-c373c98e7fd7",
   "metadata": {},
   "outputs": [
    {
     "data": {
      "text/plain": [
       "39.93586102117049"
      ]
     },
     "execution_count": 61,
     "metadata": {},
     "output_type": "execute_result"
    }
   ],
   "source": [
    "# The intercept term, theta_0\n",
    "intercept_model1=my_model.intercept_\n",
    "intercept_model1"
   ]
  },
  {
   "cell_type": "code",
   "execution_count": 62,
   "id": "f66bba83-0da2-4db7-9f1d-9664bff520d1",
   "metadata": {},
   "outputs": [
    {
     "data": {
      "text/plain": [
       "-0.15784473335365382"
      ]
     },
     "execution_count": 62,
     "metadata": {},
     "output_type": "execute_result"
    }
   ],
   "source": [
    "# All parameters theta_1, ..., theta_p.  \n",
    "#If we want to pick out the slope, we need to select the first entry in this list\n",
    "slope_model1=my_model.coef_[0]\n",
    "slope_model1"
   ]
  },
  {
   "cell_type": "markdown",
   "id": "734a2c68-4bc5-42e3-b1ca-529323b79014",
   "metadata": {},
   "source": [
    "**(3) Use the fitted model to make predictions**\n",
    "\n",
    "Now that the model has been trained, we can use it to make predictions! To do so, we use the `.predict` method. `.predict` takes in one argument, the design matrix that should be used to generate predictions. To understand how the model performs on the training set, we would pass in the training data. Alternatively, to make predictions on unseen data, we would pass in a new dataset that wasn't used to train the model.\n",
    "\n",
    "Below, we call `.predict` to generate model predictions on the original training data. As before, we use double brackets to ensure that we extract 2-dimensional data."
   ]
  },
  {
   "cell_type": "code",
   "execution_count": 63,
   "id": "701f8b82-de61-485e-b374-8a8ccfbfa0ef",
   "metadata": {},
   "outputs": [],
   "source": [
    "predicted_mpg = my_model.predict(vehicle_data[[\"horsepower\"]])\n"
   ]
  },
  {
   "cell_type": "markdown",
   "id": "c3711240",
   "metadata": {
    "deletable": false,
    "editable": false
   },
   "source": [
    "**Question 3.2.**\n",
    "\n",
    "Now we analyze the fit of our model.  \n",
    "\n",
    "Start by calculating the Root Mean Squared Error (RMSE) for this model.    (Hint: this can be done in one line using predicted_mpg and the appropriate information from the original dataset). \n"
   ]
  },
  {
   "cell_type": "code",
   "execution_count": 86,
   "id": "406a31cf",
   "metadata": {
    "tags": []
   },
   "outputs": [
    {
     "name": "stdout",
     "output_type": "stream",
     "text": [
      "The RMSE of this model is  4.893226230065713\n"
     ]
    }
   ],
   "source": [
    "temp = vehicle_data.reset_index()\n",
    "RMSE = np.sqrt(np.sum([(temp[\"mpg\"][i] - predicted_mpg[i])**2 for i in range(len(temp[\"mpg\"]))])/len(temp[\"mpg\"]))\n",
    "\n",
    "print(\"The RMSE of this model is \", RMSE)"
   ]
  },
  {
   "cell_type": "code",
   "execution_count": 87,
   "id": "cb880582",
   "metadata": {
    "deletable": false,
    "editable": false
   },
   "outputs": [
    {
     "data": {
      "text/html": [
       "<p><strong><pre style='display: inline;'>q3_2</pre></strong> passed! 🙌</p>"
      ],
      "text/plain": [
       "q3_2 results: All test cases passed!"
      ]
     },
     "execution_count": 87,
     "metadata": {},
     "output_type": "execute_result"
    }
   ],
   "source": [
    "grader.check(\"q3_2\")"
   ]
  },
  {
   "cell_type": "markdown",
   "id": "c65c5673",
   "metadata": {
    "deletable": false,
    "editable": false
   },
   "source": [
    "<!-- BEGIN QUESTION -->\n",
    "\n",
    "**Question 3.3.** \n",
    " One way we check model goodness of fit is to analyze the residuals.\n",
    "\n",
    "For each of the (horsepower, mpg) data points given below, calculate the residual.  Give your answer as a **float value**.\n",
    "\n",
    "Hint: You can use `my_model.predict()`   https://scikit-learn.org/stable/modules/generated/sklearn.linear_model.LinearRegression.html#sklearn.linear_model.LinearRegression.predict \n",
    "\n",
    "Note that the input and the output of this method are numpy arrays, and the test below requires a single float as your answer.  \n",
    "\n",
    "\n",
    "Data point A: (52, 44)\n",
    "\n",
    "Data point B: (150, 11)\n"
   ]
  },
  {
   "cell_type": "code",
   "execution_count": 93,
   "id": "30412946",
   "metadata": {},
   "outputs": [
    {
     "data": {
      "text/plain": [
       "Index([394], dtype='int64')"
      ]
     },
     "execution_count": 93,
     "metadata": {},
     "output_type": "execute_result"
    }
   ],
   "source": [
    "vehicle_data[(vehicle_data[\"horsepower\"] == 52) & (vehicle_data[\"mpg\"] == 44)].index"
   ]
  },
  {
   "cell_type": "code",
   "execution_count": 95,
   "id": "ffa32655",
   "metadata": {
    "tags": []
   },
   "outputs": [
    {
     "name": "stdout",
     "output_type": "stream",
     "text": [
      "12.272065113219512\n",
      "-5.259151018122417\n"
     ]
    }
   ],
   "source": [
    "\n",
    "res_A = 44 - predicted_mpg[temp[(temp[\"horsepower\"] == 52) & (temp[\"mpg\"] == 44)].index[0]] \n",
    "\n",
    "res_B = 11 - predicted_mpg[temp[(temp[\"horsepower\"] == 150) & (temp[\"mpg\"] == 11)].index[0]] \n",
    "\n",
    "print(res_A)\n",
    "print(res_B)"
   ]
  },
  {
   "cell_type": "code",
   "execution_count": 96,
   "id": "1d484c06",
   "metadata": {
    "deletable": false,
    "editable": false
   },
   "outputs": [
    {
     "data": {
      "text/html": [
       "<p><strong><pre style='display: inline;'>q3_3</pre></strong> passed! ✨</p>"
      ],
      "text/plain": [
       "q3_3 results: All test cases passed!"
      ]
     },
     "execution_count": 96,
     "metadata": {},
     "output_type": "execute_result"
    }
   ],
   "source": [
    "grader.check(\"q3_3\")"
   ]
  },
  {
   "cell_type": "markdown",
   "id": "ab733d3f",
   "metadata": {
    "deletable": false,
    "editable": false
   },
   "source": [
    "<!-- END QUESTION -->\n",
    "\n",
    "Next, we **plot the residuals.** \n",
    "\n",
    "When we make a residual plot, we'll put the residuals on the y-axis.  But we have an option of what to use for the x-axis:  either the single input feature (in this case `horsepower` OR the fitted y-values (i.e. the predicted y output of the model).  When we have more than one feature i.e. in Multiple Linear Regression, we usually just plot the residuals vs the fitted y-values.  \n",
    "\n",
    "\n",
    "For reference we'll provide both residual plots below.  We also replot the original dataset and our SLR model.\n",
    "\n"
   ]
  },
  {
   "cell_type": "code",
   "execution_count": 97,
   "id": "994e7e25",
   "metadata": {},
   "outputs": [
    {
     "data": {
      "text/plain": [
       "Text(0.5, 1.0, 'Residuals vs. predicted mpg')"
      ]
     },
     "execution_count": 97,
     "metadata": {},
     "output_type": "execute_result"
    },
    {
     "data": {
      "image/png": "[encoded data removed]",
      "text/plain": [
       "<Figure size 1500x500 with 3 Axes>"
      ]
     },
     "metadata": {},
     "output_type": "display_data"
    }
   ],
   "source": [
    "fig, ax = plt.subplots(1,3, figsize=(15, 5))\n",
    "\n",
    "ax[0].scatter(vehicle_data['horsepower'], vehicle_data['mpg'])\n",
    "ax[0].plot(vehicle_data['horsepower'], predicted_mpg, 'r--', label =r'$mpg = {0:.2f}hp+{1:.2f}$'.format(my_model.coef_[0],my_model.intercept_))\n",
    "ax[0].set_xlabel('horsepower')\n",
    "ax[0].set_ylabel('mpg')\n",
    "ax[0].set_title('SLR')\n",
    "ax[0].legend()\n",
    "\n",
    "\n",
    "ax[1].scatter(vehicle_data['horsepower'], vehicle_data['mpg'] - predicted_mpg)\n",
    "ax[1].axhline(0, c='black', linewidth=1)\n",
    "ax[1].set_xlabel(r'horsepower')\n",
    "ax[1].set_ylabel(r'Residuals: $y - \\hat{y}$');\n",
    "ax[1].set_title(\"Residuals vs. mpg\")\n",
    "\n",
    "ax[2].scatter(predicted_mpg, vehicle_data['mpg'] - predicted_mpg)\n",
    "ax[2].axhline(0, c='black', linewidth=1)\n",
    "ax[2].set_xlabel(r'Fitted Values $\\hat{y}$')\n",
    "ax[2].set_ylabel(r'Residuals: $y - \\hat{y}$');\n",
    "ax[2].set_title(\"Residuals vs. predicted mpg\")\n",
    "\n"
   ]
  },
  {
   "cell_type": "markdown",
   "id": "bc219784",
   "metadata": {
    "deletable": false,
    "editable": false
   },
   "source": [
    "<!-- BEGIN QUESTION -->\n",
    "\n",
    "**Question 3.4.**  Do these residual plots indicate that our linear model is a good model for the data? Why or why not?\n"
   ]
  },
  {
   "cell_type": "markdown",
   "id": "70003409",
   "metadata": {},
   "source": [
    "These residual plots indicate that our linear model is not a good model because the residual plot has a pattern and is not scattered which indicates that the actual correct model is supposed to follow a specific pattern that our current model is not following."
   ]
  },
  {
   "cell_type": "markdown",
   "id": "4bf9ec3a",
   "metadata": {
    "deletable": false,
    "editable": false
   },
   "source": [
    "<!-- END QUESTION -->\n",
    "\n",
    "\n",
    "\n",
    "## Question 4: Transform a Single Feature\n",
    "\n",
    "Based on the residual plot in Question 3, our first attempt at the model is not the best fit for our data.  \n",
    "\n",
    "Recall from lecture, the Tukey-Mosteller Bulge Diagram is a useful tool for summarizing what transformations can linearize the relationship between two variables. To determine what transformations might be appropriate, trace the shape of the “bulge” made by your data. Find the quadrant of the diagram that matches this bulge. The transformations shown on the vertical and horizontal axes of this quadrant can help improve the fit between the variables.\n",
    "\n",
    "Note that:\n",
    "\n",
    " - There are multiple solutions. Some will fit better than others.\n",
    " - sqrt and log make a value “smaller.”\n",
    " - Raising to a power makes a value “bigger.”\n",
    " - Each of these transformations equates to increasing or decreasing the scale of an axis.\n",
    "\n",
    "<img src=\"Tukey.jpeg\" alt=\"Tukey-Mosteller\" width=\"500\">\n",
    "\n"
   ]
  },
  {
   "cell_type": "markdown",
   "id": "43813ca0",
   "metadata": {
    "deletable": false,
    "editable": false
   },
   "source": [
    "**Question 4.1**\n",
    "\n",
    "Based on the scatterplot of the `horsepower` vs `mpg` data, which of the following are possible data transformations we could try?  Set `tukey` to $\\textit{a list of integer(s)}$ that correspond to all the possible applicable transformations.\n",
    "\n",
    "1. Use $\\sqrt{horsepower}$\n",
    "\n",
    "2. Use $\\log({horsepower})$\n",
    "\n",
    "3. Use $(horsepower)^2$\n",
    "\n",
    "4. Use $(horsepower)^3$\n",
    "\n",
    "5. Use $\\sqrt{mpg}$\n",
    "\n",
    "6. Use $\\log({mpg})$\n",
    "\n",
    "7. Use $(mpg)^2$\n",
    "\n",
    "8. Use $(mpg)^3$\n"
   ]
  },
  {
   "cell_type": "code",
   "execution_count": null,
   "id": "8da5c746",
   "metadata": {
    "ExecuteTime": {
     "end_time": "2018-04-11T12:05:56.479878Z",
     "start_time": "2018-04-11T12:05:56.476869Z"
    },
    "deletable": false,
    "tags": []
   },
   "outputs": [],
   "source": [
    "tukey = ..."
   ]
  },
  {
   "cell_type": "code",
   "execution_count": null,
   "id": "380269e7",
   "metadata": {
    "deletable": false,
    "editable": false
   },
   "outputs": [],
   "source": [
    "grader.check(\"q4_1\")"
   ]
  },
  {
   "cell_type": "markdown",
   "id": "962ab7d7",
   "metadata": {
    "deletable": false,
    "editable": false
   },
   "source": [
    "<!-- BEGIN QUESTION -->\n",
    "\n",
    "**Question 4.2**\n",
    "\n",
    "Let's start by trying Option 1 in the list above.  \n",
    "\n",
    "a).  Add a new column to vehicle_data called `sqrt(hp)` that contains the square root of the horsepower data.  \n",
    "\n",
    "\n",
    "b).  Then plot a scatterplot of `mpg` vs `sqrt(hp)` to visually inspect if this transformation makes the data appear more linear than our first model.  Label your axes.\n",
    "\n"
   ]
  },
  {
   "cell_type": "code",
   "execution_count": null,
   "id": "539f5722",
   "metadata": {
    "tags": []
   },
   "outputs": [],
   "source": [
    "...\n",
    "# your code for part(a) above\n",
    "\n",
    "\n",
    "vehicle_data.head()"
   ]
  },
  {
   "cell_type": "code",
   "execution_count": null,
   "id": "85dcb902",
   "metadata": {
    "tags": []
   },
   "outputs": [],
   "source": [
    "...\n",
    "# your code for part(b) above\n"
   ]
  },
  {
   "cell_type": "code",
   "execution_count": null,
   "id": "6ca54252",
   "metadata": {
    "deletable": false,
    "editable": false
   },
   "outputs": [],
   "source": [
    "grader.check(\"q4_2\")"
   ]
  },
  {
   "cell_type": "markdown",
   "id": "02d48c2c",
   "metadata": {
    "deletable": false,
    "editable": false
   },
   "source": [
    "<!-- END QUESTION -->\n",
    "\n",
    "**Question 4.3.** \n",
    "\n",
    "Let's try fitting this adjusted model:\n",
    "\n",
    "\n",
    "$$\\text{predicted_mpg_hp_sqrt} = \\theta_0 + \\theta_1 \\sqrt{\\text{horsepower}}$$\n",
    "\n"
   ]
  },
  {
   "cell_type": "markdown",
   "id": "ae3e3a33-706f-472f-a570-311a97bf34a2",
   "metadata": {
    "deletable": false,
    "editable": false
   },
   "source": [
    "<!-- BEGIN QUESTION -->\n",
    "\n",
    "In the cell below, explain why we use the term \"linear\" to describe the model above, even though it incorporates a square root function as a feature."
   ]
  },
  {
   "cell_type": "markdown",
   "id": "50fac093",
   "metadata": {},
   "source": [
    "_Type your answer here, replacing this text._"
   ]
  },
  {
   "cell_type": "markdown",
   "id": "423a66c9",
   "metadata": {
    "deletable": false,
    "editable": false
   },
   "source": [
    "<!-- END QUESTION -->\n",
    "\n",
    "<!-- BEGIN QUESTION -->\n",
    "\n",
    "**Question 4.4.**  \n",
    "\n",
    "a).  Use `sklearn` to create and fit this new model.  \n",
    "\n",
    "b.   Once you've created the new model, set `predicted_mpg_hp_sqrt` to the predicted mpg for the data.\n",
    "\n",
    "c).  Make 2 side-by-side plots:  \n",
    " - A plot of this new model overlaid with a scatterplot of the original data.  Include the equation for the new model as a label on your plot (see the plots in question 3 for reference on how to code this).\n",
    " - A plot of the residuals vs the **predicted values of mpg**\n",
    "\n",
    "d).  Calculate the RMSE for this model"
   ]
  },
  {
   "cell_type": "code",
   "execution_count": null,
   "id": "1411cc74",
   "metadata": {
    "tags": []
   },
   "outputs": [],
   "source": [
    "...\n",
    "# Your code for parts a) and b) above this line"
   ]
  },
  {
   "cell_type": "code",
   "execution_count": null,
   "id": "a1caf6b4",
   "metadata": {
    "tags": []
   },
   "outputs": [],
   "source": [
    "...\n",
    "# Your code for part c  above this line\n"
   ]
  },
  {
   "cell_type": "code",
   "execution_count": null,
   "id": "30e3ae90",
   "metadata": {
    "tags": []
   },
   "outputs": [],
   "source": [
    "RMSE_hp_sqrt = ...\n",
    "\n",
    "print(\"The RMSE of this model is \", RMSE_hp_sqrt)"
   ]
  },
  {
   "cell_type": "code",
   "execution_count": null,
   "id": "e2860096",
   "metadata": {
    "deletable": false,
    "editable": false
   },
   "outputs": [],
   "source": [
    "grader.check(\"q4_4\")"
   ]
  },
  {
   "cell_type": "markdown",
   "id": "ce18fce6",
   "metadata": {
    "deletable": false,
    "editable": false
   },
   "source": [
    "<!-- END QUESTION -->\n",
    "\n",
    "<!-- BEGIN QUESTION -->\n",
    "\n",
    "**Question 4.5.** \n",
    "Analyze the new model compared to the original one.  Which RMSE is smaller?  Does the residual plot of this new model indicate this model is a good choice?  Why or why not?"
   ]
  },
  {
   "cell_type": "markdown",
   "id": "cb7ee546",
   "metadata": {},
   "source": [
    "_Type your answer here, replacing this text._"
   ]
  },
  {
   "cell_type": "markdown",
   "id": "cfddb26a",
   "metadata": {
    "deletable": false,
    "editable": false
   },
   "source": [
    "<!-- END QUESTION -->\n",
    "\n",
    "**Question 4.6.**   \n",
    "\n",
    "Based on the Tukey-Mosteller Bulge Diagram and since there are still some patterns in our residuals, we could try to further linearize the data by taking the log of the y-values.\n",
    "\n",
    "\n",
    "Let's try fitting this adjusted model:\n",
    "\n",
    "\n",
    "$$\\text{log(mpg)} = \\theta_0 + \\theta_1 \\sqrt{\\text{horsepower}}$$\n"
   ]
  },
  {
   "cell_type": "markdown",
   "id": "a9490893-c10e-4f84-8f6d-e3d3261f7d0c",
   "metadata": {
    "deletable": false,
    "editable": false
   },
   "source": [
    "<!-- BEGIN QUESTION -->\n",
    "\n",
    "a).  Add a new column to vehicle_data called `log(mpg)` that contains the log of the **mpg** data.  \n",
    "\n",
    "\n",
    "b).  Then plot a scatterplot of `log(mpg)` vs `sqrt(hp)` to visually inspect if this transformation makes the data appear more linear than our first and second models.  Label your axes.\n",
    "\n",
    "\n"
   ]
  },
  {
   "cell_type": "code",
   "execution_count": null,
   "id": "97e595a1",
   "metadata": {
    "tags": []
   },
   "outputs": [],
   "source": [
    "..."
   ]
  },
  {
   "cell_type": "markdown",
   "id": "dc64055f",
   "metadata": {
    "deletable": false,
    "editable": false
   },
   "source": [
    "<!-- END QUESTION -->\n",
    "\n",
    "**Question 4.7.**  \n",
    "\n",
    "a).  Use `sklearn` to create and fit this new model.  \n",
    "\n",
    "b).  Since the model will output predicted values in units of log(mp), you will need to transform it back to compare to our original data.\n",
    "\n",
    "Notice:\n",
    "\n",
    "$$\\text{log(mpg)} = \\theta_0 + \\theta_1 \\sqrt{\\text{horsepower}}$$\n",
    "\n",
    "$$ \\implies mpg = e^{\\theta_0 + \\theta_1 \\sqrt{\\text{horsepower}}}$$\n",
    "\n",
    "\n",
    "Let `predicted_mpg_model3` equal the output from the transformed equation: $ mpg = e^{\\theta_0 + \\theta_1 \\sqrt{\\text{horsepower}}}$\n",
    "\n",
    "\n",
    "c).  Make 2 side-by-side plots:  \n",
    " - A plot of this new model overlaid with a scatterplot of the original data.  Include the equation for the new model as a label on your plot (see the plots in question 3 for reference on how to code this).\n",
    " - A plot of the residuals vs the **predicted values of mpg** (`predicted_mpg_model3`)\n",
    " \n",
    "`\n",
    "d).  Calculate the RMSE for this model"
   ]
  },
  {
   "cell_type": "markdown",
   "id": "db7d070c-d6b7-4af0-a445-c540e8cff152",
   "metadata": {
    "deletable": false,
    "editable": false
   },
   "source": [
    "<!-- BEGIN QUESTION -->\n",
    "\n",
    "Question 4.7:"
   ]
  },
  {
   "cell_type": "code",
   "execution_count": null,
   "id": "60e0e06b",
   "metadata": {
    "tags": []
   },
   "outputs": [],
   "source": [
    "...\n",
    "# Your code for parts a) and b) above this line"
   ]
  },
  {
   "cell_type": "code",
   "execution_count": null,
   "id": "18a17271",
   "metadata": {
    "tags": []
   },
   "outputs": [],
   "source": [
    "...\n",
    "\n",
    "# Your code for part c  above this line\n"
   ]
  },
  {
   "cell_type": "code",
   "execution_count": null,
   "id": "94d45771",
   "metadata": {
    "tags": []
   },
   "outputs": [],
   "source": [
    "RMSE_model3 = ...\n",
    "\n",
    "print(\"The RMSE of this model is \", RMSE_model3)"
   ]
  },
  {
   "cell_type": "code",
   "execution_count": null,
   "id": "fb16f48b",
   "metadata": {
    "deletable": false,
    "editable": false
   },
   "outputs": [],
   "source": [
    "grader.check(\"q4_7\")"
   ]
  },
  {
   "cell_type": "markdown",
   "id": "87c5b993",
   "metadata": {
    "deletable": false,
    "editable": false
   },
   "source": [
    "<!-- END QUESTION -->\n",
    "\n",
    "<!-- BEGIN QUESTION -->\n",
    "\n",
    "**Question 4.8.** \n",
    "Analyze this new model compared to the first 2 ones.  Which RMSE is smaller?  Does the residual plot of this new model indicate this model is a better choice than the first two?  Why or why not?"
   ]
  },
  {
   "cell_type": "markdown",
   "id": "9ac3158a",
   "metadata": {},
   "source": [
    "_Type your answer here, replacing this text._"
   ]
  },
  {
   "cell_type": "markdown",
   "id": "169d7663",
   "metadata": {
    "deletable": false,
    "editable": false
   },
   "source": [
    "<!-- END QUESTION -->\n",
    "\n",
    "<br/><br/>\n",
    "<hr style=\"border: 5px solid #003262;\" />\n",
    "<hr style=\"border: 1px solid #fdb515;\" />\n",
    "\n",
    "## Congratulations! You have finished Homework 10!"
   ]
  },
  {
   "cell_type": "markdown",
   "id": "cc31acf9",
   "metadata": {},
   "source": [
    "If you discussed this assignment with any other students in the class (in a manner that is acceptable as described by the Collaboration policy above) please **include their names** here:\n",
    "\n",
    "**Collaborators**: *list collaborators here*"
   ]
  },
  {
   "cell_type": "markdown",
   "id": "46739932",
   "metadata": {},
   "source": [
    "### Submission Instructions\n",
    "\n",
    "Before proceeding any further, **save this notebook.**\n",
    "\n",
    "After running the `grader.export()` cell provided below, **2 files will be created**: a zip file and pdf file.  You can download them using the links provided below OR by finding them in the same folder where this juptyer notebook resides in your JuptyerHub.\n",
    "\n",
    "To receive credit on this assignment, **you must submit BOTH of these files\n",
    "to their respective Gradescope portals:** \n",
    "\n",
    "* **Homework 10 Autograded**: Submit the zip file that is output by the `grader.export()` cell below to the HW10 Autograded assignment in Gradescope.\n",
    "\n",
    "* **Homework 10 Manually Graded**: Submit your hw10.PDF to the HW10 Manually Graded assignment in Gradescope.  **YOU MUST SELECT THE PAGES CORRESPONDING TO EACH QUESTION WHEN YOU UPLOAD TO GRADESCOPE.  IF NOT, YOU WILL LOSE POINTS**   Also, **check** that all of your plots **and** all lines of your code are showing up in your PDF before submitting.  If not, you will not receive credit for your plots/code.  \n",
    "\n",
    "\n",
    "**You are responsible for ensuring your submission follows our requirements. We will not be granting regrade requests nor extensions to submissions that don't follow instructions.** If you encounter any difficulties with submission, please don't hesitate to reach out to staff prior to the deadline."
   ]
  },
  {
   "cell_type": "code",
   "execution_count": null,
   "id": "fff6c92c",
   "metadata": {},
   "outputs": [],
   "source": []
  },
  {
   "cell_type": "markdown",
   "id": "5809846a",
   "metadata": {
    "deletable": false,
    "editable": false
   },
   "source": [
    "## Submission\n",
    "\n",
    "Make sure you have run all cells in your notebook in order before running the cell below, so that all images/graphs appear in the output. The cell below will generate a zip file for you to submit. **Please save before exporting!**\n",
    "\n",
    "AFTER running the cell below, click on <a href='hw10.pdf' download>this link to download the PDF </a> to upload to Gradescope.  There will be a separate link that appears after running the cell below with a link to download the zip file to upload to Gradescope."
   ]
  },
  {
   "cell_type": "code",
   "execution_count": null,
   "id": "8daf1a19",
   "metadata": {
    "deletable": false,
    "editable": false
   },
   "outputs": [],
   "source": [
    "# Save your notebook first, then run this cell to export your submission.\n",
    "grader.export(run_tests=True)"
   ]
  },
  {
   "cell_type": "markdown",
   "id": "5b406289",
   "metadata": {},
   "source": [
    " "
   ]
  }
 ],
 "metadata": {
  "kernelspec": {
   "display_name": "Python 3 (ipykernel)",
   "language": "python",
   "name": "python3"
  },
  "language_info": {
   "codemirror_mode": {
    "name": "ipython",
    "version": 3
   },
   "file_extension": ".py",
   "mimetype": "text/x-python",
   "name": "python",
   "nbconvert_exporter": "python",
   "pygments_lexer": "ipython3",
   "version": "3.9.6"
  },
  "otter": {
   "OK_FORMAT": true,
   "tests": {
    "q1_2": {
     "name": "q1_2",
     "points": [
      1,
      1
     ],
     "suites": [
      {
       "cases": [
        {
         "code": ">>> \n>>> assert np.allclose(standard_units(np.arange(5)), np.sqrt(2)/2 * np.arange(-2, 3))\n",
         "hidden": false,
         "locked": false
        },
        {
         "code": ">>> \n>>> assert get_hash(round(correlation_bird, 4)) == 'af1b6c5bd2f4007b4f6edeb6ad049e0a'\n",
         "hidden": false,
         "locked": false
        }
       ],
       "scored": true,
       "setup": "",
       "teardown": "",
       "type": "doctest"
      }
     ]
    },
    "q1_3": {
     "name": "q1_3",
     "points": [
      1,
      0.5,
      0.5
     ],
     "suites": [
      {
       "cases": [
        {
         "code": ">>> assert get_hash(np.round(fit_line(pd.DataFrame(data={'x': [0, 1], 'y': [1, 3]}), \"x\", \"y\"), 5)) == '60f9a050fc615a71600a1156af69937d'\n",
         "hidden": false,
         "locked": false
        },
        {
         "code": ">>> assert get_hash(np.round(fit_line(birds, \"Egg Weight\", \"Bird Weight\")[0], 4)) == '6c0d1d42b876036fe67846c1b300ce76'\n",
         "hidden": false,
         "locked": false
        },
        {
         "code": ">>> assert get_hash(np.round(fit_line(birds, \"Egg Weight\", \"Bird Weight\")[1], 4)) == '89145ae4c5cb3c4d3850c097519dc53b'\n",
         "hidden": false,
         "locked": false
        }
       ],
       "scored": true,
       "setup": "",
       "teardown": "",
       "type": "doctest"
      }
     ]
    },
    "q2_1": {
     "name": "q2_1",
     "points": [
      0,
      0
     ],
     "suites": [
      {
       "cases": [
        {
         "code": ">>> assert any(alternative_hypothesis_number == x for x in np.arange(175))\n",
         "hidden": false,
         "locked": false
        },
        {
         "code": ">>> assert any(null_hypothesis_number == x for x in np.arange(1,8))\n",
         "hidden": false,
         "locked": false
        }
       ],
       "scored": true,
       "setup": "",
       "teardown": "",
       "type": "doctest"
      }
     ]
    },
    "q2_2": {
     "name": "q2_2",
     "points": [
      0
     ],
     "suites": [
      {
       "cases": [
        {
         "code": ">>> assert len(resampled_slopes) == 10000\n",
         "hidden": false,
         "locked": false
        }
       ],
       "scored": true,
       "setup": "",
       "teardown": "",
       "type": "doctest"
      }
     ]
    },
    "q2_4": {
     "name": "q2_4",
     "points": [
      0,
      1
     ],
     "suites": [
      {
       "cases": [
        {
         "code": ">>> assert type(egg_weight_six) in set([float, np.float32, np.float64])\n",
         "hidden": false,
         "locked": false
        },
        {
         "code": ">>> assert get_hash(round(egg_weight_six, 4)) == '6cad3f9bee5e7f4860caf77ff335ef88'\n",
         "hidden": false,
         "locked": false
        }
       ],
       "scored": true,
       "setup": "",
       "teardown": "",
       "type": "doctest"
      }
     ]
    },
    "q2_5": {
     "name": "q2_5",
     "points": [
      1
     ],
     "suites": [
      {
       "cases": [
        {
         "code": ">>> \n>>> assert get_hash(round(experts_egg, 4)) == 'edcb340a6fdd118ae41213286e5646fb'\n",
         "hidden": false,
         "locked": false
        }
       ],
       "scored": true,
       "setup": "",
       "teardown": "",
       "type": "doctest"
      }
     ]
    },
    "q2_6": {
     "name": "q2_6",
     "points": [
      1,
      1
     ],
     "suites": [
      {
       "cases": [
        {
         "code": ">>> np.random.seed(0)\n>>> \n>>> assert get_hash(round(compute_resampled_line(birds, \"Egg Weight\", \"Bird Weight\")[0], 4)) == 'daae21765d56b693c2f34e6e300b020b'\n",
         "hidden": false,
         "locked": false
        },
        {
         "code": ">>> np.random.seed(0)\n>>> \n>>> assert get_hash(round(compute_resampled_line(birds, \"Egg Weight\", \"Bird Weight\")[1], 4)) == 'fca0f4c379430a074e74b3301d642338'\n",
         "hidden": false,
         "locked": false
        }
       ],
       "scored": true,
       "setup": "",
       "teardown": "",
       "type": "doctest"
      }
     ]
    },
    "q2_8": {
     "name": "q2_8",
     "points": [
      0
     ],
     "suites": [
      {
       "cases": [
        {
         "code": ">>> assert len(predictions_for_eight) == len(regression_lines)\n",
         "hidden": false,
         "locked": false
        }
       ],
       "scored": true,
       "setup": "",
       "teardown": "",
       "type": "doctest"
      }
     ]
    },
    "q2_9": {
     "name": "q2_9",
     "points": [
      0
     ],
     "suites": [
      {
       "cases": [
        {
         "code": ">>> assert type(plover_statements) == list\n",
         "hidden": false,
         "locked": false
        }
       ],
       "scored": true,
       "setup": "",
       "teardown": "",
       "type": "doctest"
      }
     ]
    },
    "q3_2": {
     "name": "q3_2",
     "points": 1,
     "suites": [
      {
       "cases": [
        {
         "code": ">>> assert get_hash(round(RMSE, 4)) == '89c75fcbf049d859608737fb447f6a41'\n",
         "hidden": false,
         "locked": false
        }
       ],
       "scored": true,
       "setup": "",
       "teardown": "",
       "type": "doctest"
      }
     ]
    },
    "q3_3": {
     "name": "q3_3",
     "points": [
      0.5,
      0.5
     ],
     "suites": [
      {
       "cases": [
        {
         "code": ">>> assert get_hash(round(res_A, 4)) == 'ba6b4d9960a545069bf916c042f0cc82'\n",
         "hidden": false,
         "locked": false
        },
        {
         "code": ">>> assert get_hash(round(res_B, 4)) == '87b2dc116a480601c8255fb2d8dbf83a'\n",
         "hidden": false,
         "locked": false
        }
       ],
       "scored": true,
       "setup": "",
       "teardown": "",
       "type": "doctest"
      }
     ]
    },
    "q4_1": {
     "name": "q4_1",
     "points": [
      0
     ],
     "suites": [
      {
       "cases": [
        {
         "code": ">>> assert type(tukey) == list\n",
         "hidden": false,
         "locked": false
        }
       ],
       "scored": true,
       "setup": "",
       "teardown": "",
       "type": "doctest"
      }
     ]
    },
    "q4_2": {
     "name": "q4_2",
     "points": null,
     "suites": [
      {
       "cases": [
        {
         "code": ">>> assert len(vehicle_data['sqrt(hp)']) == 392\n",
         "hidden": false,
         "locked": false
        }
       ],
       "scored": true,
       "setup": "",
       "teardown": "",
       "type": "doctest"
      }
     ]
    },
    "q4_4": {
     "name": "q4_4",
     "points": 1,
     "suites": [
      {
       "cases": [
        {
         "code": ">>> assert get_hash(round(RMSE_hp_sqrt, 4)) == '31120ee97c37ed937e705f96a2766e08'\n",
         "hidden": false,
         "locked": false
        }
       ],
       "scored": true,
       "setup": "",
       "teardown": "",
       "type": "doctest"
      }
     ]
    },
    "q4_7": {
     "name": "q4_7",
     "points": 1,
     "suites": [
      {
       "cases": [
        {
         "code": ">>> assert get_hash(round(RMSE_model3, 4)) == '44a37ba206b01bf1c2a2fb550dd450d2'\n",
         "hidden": false,
         "locked": false
        }
       ],
       "scored": true,
       "setup": "",
       "teardown": "",
       "type": "doctest"
      }
     ]
    }
   }
  }
 },
 "nbformat": 4,
 "nbformat_minor": 5
}
